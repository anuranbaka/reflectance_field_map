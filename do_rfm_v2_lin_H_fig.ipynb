{
 "cells": [
  {
   "cell_type": "code",
   "execution_count": 1,
   "metadata": {},
   "outputs": [],
   "source": [
    "import numpy as np\n",
    "%matplotlib widget\n",
    "import matplotlib.pyplot as plt\n",
    "import os\n",
    "from tqdm import tqdm"
   ]
  },
  {
   "cell_type": "code",
   "execution_count": 2,
   "metadata": {},
   "outputs": [],
   "source": [
    "# rayfile = \"/home/anuran/repos/Vulcan/bin/rayDump.rays\"\n",
    "rayfile = \"/bbb3_glass_eval_111716.rays\"\n",
    "# rayfile = \"/bbb3_glass_eval_fast_112016.rays\"\n",
    "raypath = os.getcwd()+rayfile\n"
   ]
  },
  {
   "cell_type": "code",
   "execution_count": 3,
   "metadata": {},
   "outputs": [],
   "source": [
    "# load rays\n",
    "rays_struct = np.dtype(\n",
    "    [\n",
    "        ('sx', np.float32),\n",
    "        ('sy', np.float32),\n",
    "        ('ex', np.float32),\n",
    "        ('ey', np.float32),\n",
    "        ('r' , np.float32),\n",
    "        ('th', np.float32),\n",
    "        ('i',  np.uint16),\n",
    "        ('pad',  np.uint16),\n",
    "        ('idx',  np.int32),\n",
    "        ('ts', np.float64), #remove for old ray file formats\n",
    "      ])\n",
    "\n",
    "# rays = np.memmap(rayfile,rays_struct, 'r',1)\n",
    "rays0 = np.fromfile(raypath, rays_struct)\n",
    "rays0 = rays0[:int(len(rays0)//1081*1081)]"
   ]
  },
  {
   "cell_type": "code",
   "execution_count": 4,
   "metadata": {},
   "outputs": [],
   "source": [
    "# split rays by sensor THIS IS A HACK RIGHT NOW!\n",
    "# .... actually, don't bother"
   ]
  },
  {
   "cell_type": "code",
   "execution_count": 5,
   "metadata": {},
   "outputs": [],
   "source": [
    "# #Debug Cell\n",
    "# %matplotlib widget\n",
    "# # quickly plot the bot path and rays\n",
    "# substart=int(8.0e6)\n",
    "# subend=int(11.0e6)\n",
    "# substart=int(substart//1081)*1081\n",
    "# subend=int(subend//1081)*1081\n",
    "# rayss = rays0[substart:subend]\n",
    "# rayss = rayss[np.abs(rayss['r'])<50]\n",
    "# plt.plot(rayss['ex'][::],rayss['ey'][::1],',')\n",
    "# plt.plot(rayss['sx'][::997],rayss['sy'][::997],',')\n",
    "# del rayss\n",
    "\n",
    "# print(\"Total starting rays:\", len(rays0))"
   ]
  },
  {
   "cell_type": "code",
   "execution_count": 6,
   "metadata": {},
   "outputs": [],
   "source": [
    "# #HACK use only one pass for algo debug\n",
    "# substart=0\n",
    "# subend=int(2.0e6)\n",
    "# rays0 = rays0[substart:subend]\n",
    "# rays0 = rays0[:int(len(rays0)//1081*1081)]\n",
    "\n",
    "# # HACK: pull out the rays for Fig 1\n",
    "# ok=(rays0['ts']>rays0['ts'][0]+208) & (rays0['ts']<rays0['ts'][0]+225)\n",
    "# rays0=rays0[ok]\n",
    "# rays0 = rays0[:int(len(rays0)//1081*1081)]"
   ]
  },
  {
   "cell_type": "markdown",
   "metadata": {
    "tags": []
   },
   "source": [
    "# Hyperparameter Setting Instructions\n",
    "1. CELLS_PER_M should indicate a cell width less than the max displacement of the robot between scans. \n",
    "   1. Otherwise there may be gaps between adjacent rays in the same direction.\n",
    "2. Theta width should be >= laser angular spacing, and <= min peak half-width at worst laser plane tilt\n",
    "   1. If you can't satisfy both, mount your laser better, stiffen your suspension, or get a blurrier (higher divergence) laser!\n",
    "3. Max range should be set so max_turn_rate * max_range < cell_width\n",
    "4. Currently, the max distance is hardcoded at 200 cells\n"
   ]
  },
  {
   "cell_type": "code",
   "execution_count": 7,
   "metadata": {},
   "outputs": [
    {
     "name": "stdout",
     "output_type": "stream",
     "text": [
      "Cell width: 0.05\n",
      "fcorns\n",
      " [[      28.71       12.34]\n",
      " [      70.15       76.33]]\n",
      "pxc_corns\n",
      " [[     574.11     -246.81]\n",
      " [    1402.93    -1526.6 ]]\n",
      "pxc_topleft\n",
      " [     574       -1527   ]\n",
      "pxc_btmright\n",
      " [    1403        -246   ]\n",
      "pxc_extent\n",
      " [     829        1281   ]\n",
      "px_corns\n",
      " [[       0.11     1280.19]\n",
      " [     828.93        0.4 ]]\n",
      "px_topleft\n",
      " [       0           0   ]\n",
      "px_btmright\n",
      " [     829        1281   ]\n",
      "px_extent\n",
      " [     829        1281   ]\n"
     ]
    }
   ],
   "source": [
    "## Find the max extent of the map and transforms\n",
    "\n",
    "keep=(rays0['r']<10000)*(rays0['r']<10000)\n",
    "rays=rays0[keep==1]\n",
    "\n",
    "## Figure out rasterization\n",
    "# Floor of float coords is integer coords\n",
    "# Images are y flipped\n",
    "\n",
    "def homp(T,pts):\n",
    "    tmppts = pts @ T[:-1,:-1].T + T[:-1,-1]\n",
    "    denom = pts @ T[-1:,:-1].T + T[-1,-1]\n",
    "    return tmppts/denom\n",
    "\n",
    "\n",
    "CELLS_PER_M = 20.0\n",
    "print(\"Cell width:\", 1/CELLS_PER_M)\n",
    "\n",
    "formatter = {'float':lambda x:np.format_float_positional(x,precision=2,fractional=True,trim='-',pad_left=8,pad_right=2)}\n",
    "\n",
    "def get_T_px_f_with_extent(rays, debug=False):\n",
    "    # The corners in world space\n",
    "    f_corns = np.array(\n",
    "        [[np.min(rays['ex']),np.min(rays['ey'])],\n",
    "         [np.max(rays['ex']),np.max(rays['ey'])]])\n",
    "    T_pxc_f = np.array(\n",
    "        [[1*CELLS_PER_M, 0             , 0],\n",
    "         [0            , -1*CELLS_PER_M, 0],\n",
    "         [0            , 0             , 1]])\n",
    "    pxc_corns=homp(T_pxc_f,f_corns)\n",
    "    pxc_topleft = np.array([  np.floor(np.min(pxc_corns[:,0])), np.floor(np.min(pxc_corns[:,1]))  ]) #inclusive\n",
    "    pxc_btmright= np.array([  np.floor(np.max(pxc_corns[:,0])), np.floor(np.max(pxc_corns[:,1]))  ]) + 1 #exclusive\n",
    "    pxc_extent = pxc_btmright-pxc_topleft\n",
    "\n",
    "    T_px_f = T_pxc_f.copy()\n",
    "    T_px_f[:-1,-1] = -pxc_topleft\n",
    "\n",
    "    px_corns=homp(T_px_f,f_corns)\n",
    "    px_topleft = np.array([  np.floor(np.min(px_corns[:,0])), np.floor(np.min(px_corns[:,1]))  ]) #inclusive\n",
    "    px_btmright= np.array([  np.floor(np.max(px_corns[:,0])), np.floor(np.max(px_corns[:,1]))  ]) + 1 #exclusive\n",
    "    px_extent = px_btmright-px_topleft\n",
    "\n",
    "    assert (np.all(pxc_extent == px_extent))\n",
    "\n",
    "    if debug:\n",
    "        print(\"fcorns\\n\",f_corns)\n",
    "\n",
    "        for var in ['pxc_corns',\n",
    "                    'pxc_topleft',\n",
    "                    'pxc_btmright',\n",
    "                    'pxc_extent',\n",
    "                    'px_corns',\n",
    "                    'px_topleft',\n",
    "                    'px_btmright',\n",
    "                    'px_extent',\n",
    "                    ]:\n",
    "            print(var+'\\n', eval(var))\n",
    "    return T_px_f, px_extent.astype('int64')\n",
    "\n",
    "keep_for_window=(rays0['r']>0)*(rays0['r']<10)\n",
    "with np.printoptions(formatter=formatter):\n",
    "    T_px_f, px_extent = get_T_px_f_with_extent(rays[keep_for_window], debug=True)"
   ]
  },
  {
   "cell_type": "code",
   "execution_count": 8,
   "metadata": {},
   "outputs": [
    {
     "name": "stdout",
     "output_type": "stream",
     "text": [
      "23674981\n",
      "358266\n"
     ]
    },
    {
     "data": {
      "application/vnd.jupyter.widget-view+json": {
       "model_id": "6b7cd66f0af34579a59916450f97b538",
       "version_major": 2,
       "version_minor": 0
      },
      "text/plain": [
       "Canvas(toolbar=Toolbar(toolitems=[('Home', 'Reset original view', 'home', 'home'), ('Back', 'Back to previous …"
      ]
     },
     "metadata": {},
     "output_type": "display_data"
    },
    {
     "name": "stdout",
     "output_type": "stream",
     "text": [
      "1479396529.0468073 1479396535.304011\n"
     ]
    }
   ],
   "source": [
    "%matplotlib widget\n",
    "# # If you need to edit the rays, but keep extents, do it here\n",
    "# rays0 = rays0[::53]\n",
    "print(len(rays0))\n",
    "rays0 = rays0[rays0['r']<10]\n",
    "# rays0 = rays0[rays0['ex']>50 ]\n",
    "# rays0 = rays0[rays0['ex']<55 ]\n",
    "# rays0 = rays0[rays0['ey']<23 ]\n",
    "# print(len(rays0))\n",
    "\n",
    "# substart=0\n",
    "# subend=int(2.0e6)\n",
    "# rays0 = rays0[substart:subend]\n",
    "# rays0 = rays0[:int(len(rays0)//1081*1081)]\n",
    "rays0 = rays0[rays0['ts']>1479396529.0467925 ]\n",
    "rays0 = rays0[rays0['ts']< 1479396535.3080368]\n",
    "rays = rays0.copy()\n",
    "\n",
    "print(len(rays0))\n",
    "# rays = rays0.copy()\n",
    "plt.plot(rays0['ex'],rays0['ey'],'k,')\n",
    "plt.plot(rays0['sx'],rays0['sy'],'c,')\n",
    "print(np.min(rays0['ts']),np.max(rays0['ts']))\n",
    "\n",
    "# convert to [start_cell_x,start_cell_y, d_cell, th] format\n",
    "f_spt = np.vstack((rays['sx'].ravel(),rays['sy'].ravel())).T.copy()\n",
    "f_ept = np.vstack((rays['ex'].ravel(),rays['ey'].ravel())).T.copy()\n",
    "px_spt = homp(T_px_f, f_spt)\n",
    "px_ept = homp(T_px_f, f_ept)\n",
    "px_d = np.sqrt(np.sum((px_ept-px_spt)**2,axis=1))\n",
    "px_th = np.mod(np.arctan2((px_ept-px_spt)[:,1], (px_ept-px_spt)[:,0]),2*np.pi)\n",
    "def get_raster_coords(rays, T_px_f):\n",
    "    # implicit inputs: T_px_f\n",
    "    f_ept = np.vstack((rays['ex'].ravel(),rays['ey'].ravel())).T.copy()\n",
    "    px_coords = homp(T_px_f, f_ept)\n",
    "    px_coords = px_coords.reshape(rays['ex'].shape+(2,))\n",
    "    return px_coords\n",
    "\n",
    "th_spacing = 2*np.pi/360/4\n",
    "\n",
    "outrays = np.vstack([px_spt.T,px_d,px_th/th_spacing])\n",
    "notref = np.ones_like(outrays[0], dtype=bool)\n",
    "\n",
    "\n",
    "# plt.plot(px_ept[:,0],px_ept[:,1],'b,')\n",
    "# plt.plot(px_ept[10000:101081,0],px_ept[10000:101081,1],'r,')\n",
    "\n",
    "\n"
   ]
  },
  {
   "cell_type": "code",
   "execution_count": 9,
   "metadata": {},
   "outputs": [],
   "source": [
    "import numpy as np\n",
    "th_spacing = 2*np.pi/360/4 # 1/4 degree\n",
    "th_bins = int(np.round(2*np.pi / th_spacing)) \n",
    "W, H = 800,1200\n",
    "\n",
    "w_HIT = 1\n",
    "w_MISS = 4 # Reduce to 1 if known no motion\n",
    "bias = 0\n",
    "wide_threshold = 30*np.pi/180 / th_spacing\n",
    "epsl = 1.\n",
    "\n",
    "# Derived constants\n",
    "# REF_BLOCK_THRESH = w_MISS/(w_MISS+w_HIT) # the theoretical way. Fraction of hits to total that means we have a reflective voxel\n",
    "REF_BLOCK_THRESH = 0.3 # where does 0.3 come from? Don't know. Tested it somehow"
   ]
  },
  {
   "cell_type": "code",
   "execution_count": 10,
   "metadata": {},
   "outputs": [],
   "source": [
    "HIT = np.zeros((W,H,th_bins),'int16')\n",
    "MISS = np.zeros((W,H,th_bins),'int16')\n",
    "RFM = np.zeros((W,H,th_bins),'int8') # -1=TRANSPARENT, 0=UNK, 1=REFLECT\n",
    "RFM_mr = np.zeros((W,H,th_bins),'int8')\n",
    "WIDE = np.zeros((W,H,th_bins),'bool')\n",
    "NARROW = np.zeros((W,H,th_bins),'bool')\n",
    "prerender = np.zeros((W,H),'bool')\n",
    "refl_cache = np.zeros((W,H),'int16')\n",
    "trans_cache = np.zeros((W,H),'int16')\n",
    "OCC = np.zeros((W,H),'int8')\n",
    "\n",
    "vox_refl = np.zeros((W,H,th_bins),'float32')  \n",
    "CLASSIFIED_RFM = np.zeros((W,H,th_bins),'bool')  \n",
    "countvis = np.zeros((W,H),'uint16')\n",
    "counttrans = np.zeros((W,H),'uint16')\n",
    "countratio = np.zeros((W,H),'float32')\n",
    "\n",
    "\n",
    "\n",
    "def RFM_update_cell(x,y,th):\n",
    "    # updates the RFM cell and the cached values \n",
    "    old_val = RFM[x,y,th]\n",
    "    new_val = np.sign(w_HIT*HIT[x,y,th]-w_MISS*MISS[x,y,th])\n",
    "    RFM[x,y,th] = new_val\n",
    "    if old_val == -1:\n",
    "        trans_cache[x,y] -=1\n",
    "    if old_val == 1:\n",
    "        refl_cache[x,y] -=1\n",
    "    if new_val == -1:\n",
    "        trans_cache[x,y] +=1\n",
    "    if new_val == 1:\n",
    "        refl_cache[x,y] +=1\n",
    "\n",
    "def quantize(coords):\n",
    "    return np.floor(coords).astype('int')\n",
    "    \n",
    "def quantize4(coords): # 4 pt xy antialiasing samples\n",
    "    coords = np.array(coords)\n",
    "    coords4 = (coords + (-0.5,-0.5,0.0), coords + (-0.5,0.5,0.0), \n",
    "               coords + (0.5,-0.5,0.0), coords + (0.5,0.5,0.0))\n",
    "    return np.floor(coords4).astype('int')\n",
    "    \n",
    "def accumulate(rays):\n",
    "    # prerender lets us stop rendering a ray that would go through a HIT\n",
    "    prerender[:,:]=0\n",
    "    for ray in rays:\n",
    "        # ray has a starting point, distance before it returned, and direction\n",
    "        [x_start, y_start, d, th] = ray\n",
    "        [slope_x, slope_y] = [cos(th*th_spacing), sin(th*th_spacing)]\n",
    "    \n",
    "        xyth = quantize4((x_start + d*slope_x, y_start + d*slope_y, th))\n",
    "        prerender[xyth[:,0],xyth[:,1]]+=1\n",
    "    \n",
    "    for ray in rays:\n",
    "        # ray has a starting point, distance before it returned, and direction\n",
    "        [x_start, y_start, d, th] = ray\n",
    "        [slope_x, slope_y] = [cos(th*th_spacing), sin(th*th_spacing)]\n",
    "    \n",
    "        for r in range(0,d-epsl):\n",
    "            xyth = quantize((x_start + r*slope_x, y_start + r*slope_y, th))\n",
    "            if not prerender[xyth[0],xyth[1]]:\n",
    "                MISS[xyth[0],xyth[1],xyth[2]]+=1\n",
    "                RFM_update_cell(xyth[0],xyth[1],xyth[2])\n",
    "            else:\n",
    "                break\n",
    "        xyth = quantize4((x_start + d*slope_x, y_start + d*slope_y, th))\n",
    "        HIT[xyth[:,0],xyth[:,1],xyth[:,2]]+=1\n",
    "        for xyth_sample in xyth:\n",
    "            RFM_update_cell(xyth_sample[0], xyth_sample[1], xyth_sample[2])\n",
    "    \n",
    "        \n",
    "def classify_wide_narrow():\n",
    "    WIDE[:,:]= refl_cache > wide_threshold\n",
    "    WIDE &= refl_cache/trans_cache > wide_min_ratio\n",
    "    NARROW[:,:] = (refl_cache>0) & (WIDE==False)\n",
    "\n",
    "def remove_motion():\n",
    "    RFM_mr[NARROW,:] = RFM[NARROW,:]-3 # map [-1,0,1]->[-4,-3,-2]\n",
    "    RFM_mr[WIDE,:] = RFM[WIDE,:]\n",
    "    stack = []\n",
    "    seed_locs=np.argwhere(WIDE)\n",
    "    for x,y in seed_locs:\n",
    "        if (  NARROW[x-1,y-1] or NARROW[x-1,y] or NARROW[x-1,y+1] or\n",
    "              NARROW[x,y-1] or NARROW[x,y+1] or\n",
    "              NARROW[x+1,y-1] or NARROW[x+1,y] or NARROW[x+1,y+1]  ):\n",
    "            thetas = RFM[x,y,:]\n",
    "            for th in thetas:\n",
    "                stack.append((x,y,th))\n",
    "    while(stack):\n",
    "        x,y,th = stack.pop\n",
    "        t2d_neighbors = ((x-1,y-1),(x-1,y),(x-1,y+1),\n",
    "                        (x,y-1),  (x,y)  ,(x,y+1),\n",
    "                        (x+1,y-1),(x+1,y),(x+1,y+1))\n",
    "        for x,y in t2d_neighbors:\n",
    "            if not NARROW(x,y): continue\n",
    "            for th in (th-1, th, th+1):\n",
    "                if RFM_mr[x,y,th] == -2: # Unvisited, NARROW, REFL\n",
    "                    RFM_mr[x,y,th] = 4\n",
    "                    stack.append((x,y,th))\n",
    "    # codes: -4:NAR,TRANS -3:NAR, UNK -2:NAR,DYN \n",
    "    #        -1:WIDE,TRANS 0:WIDE,UNK  1:WIDE,STATIC\n",
    "    #         4:NAR,CON\n",
    "    RFM_mr[NARROW,:] //= 4 # remap -4,-3,-2,4 -> -1,0,0,1; deleting motion\n",
    "    # Classify occupancy: -2=FREE, -1=DYNAMIC, 0=UNK, 1=STATIC\n",
    "    OCC[:,:] = 0 \n",
    "    OCC[trans_cache>0] = -2 # seen through defaults FREE\n",
    "    OCC[NARROW] = -1 # narrow defaults DYNAMIC\n",
    "    OCC[WIDE] = 1\n",
    "    # The following line is an optimization of\n",
    "    # OCC[np.any(RFM_mr==1,axis=1)] = 1\n",
    "    OCC[NARROW] += np.any(RFM_mr[NARROW,:]==1,axis=1)*2\n",
    "    OCC[NARROW & (transcache==0)] = 1 # Default uncontested cells to STATIC\n",
    "\n",
    "def classify_reflections(rays):\n",
    "    is_reflection = []\n",
    "    epsl = 1.999\n",
    "\n",
    "    for ray in rays:\n",
    "        [x_start, y_start, d, th] = ray\n",
    "        [slope_x, slope_y] = [cos(th*th_spacing), sin(th*th_spacing)]\n",
    "    \n",
    "        for r in range(0,d-epsl):\n",
    "            xyth = quantize((x_start + r*slope_x, y_start + r*slope_y, th))\n",
    "            if OCC[xyth[0], xyth[1]]:\n",
    "                is_reflection.append(True)\n",
    "                break\n",
    "        else:\n",
    "            is_reflection.append(False)\n",
    "    return is_reflection\n",
    "\n",
    "def process_scan(rays):\n",
    "    # This is the do-everything main function\n",
    "    accumulate(rays)\n",
    "    classify_wide_narrow()\n",
    "    remove_motion()\n",
    "    # Now the RFM estimate without motion removal is in RFM\n",
    "    # and the version with the motion removed is in RFM_mr.\n",
    "    # OCC holds the estimated occupancy classification\n",
    "    \n",
    "    # classify_rays() can be used to check rays for reflection in\n",
    "    # another thread, and build a new RFM without them"
   ]
  },
  {
   "cell_type": "markdown",
   "metadata": {},
   "source": [
    "# Basic RFM\n",
    "The following calculates the basic RFM, accumulating HITs and MISSes. \\\n",
    "It does not account for reflections, and doesn't link up objects (we do that later)\n",
    "\n",
    "Typically runs ~80 scans/second"
   ]
  },
  {
   "cell_type": "code",
   "execution_count": 11,
   "metadata": {},
   "outputs": [],
   "source": [
    "loclip = np.array([0,0,0]).reshape(3,1)\n",
    "hiclip = (np.array(HIT.shape)-1).reshape(3,1)\n",
    "def quantize(coords):# 3xN\n",
    "    return np.clip(np.floor(coords),loclip,hiclip).astype('int')\n",
    "\n",
    "def quantize4(coords): # 4 pt xy antialiasing samples # 3xN\n",
    "    coords = np.array(coords).T  # Nx3\n",
    "    aa = np.array(((-0.5,-0.5,0.0), (-0.5,0.5,0.0), \n",
    "                  ( 0.5,-0.5,0.0), ( 0.5,0.5,0.0) )) # 4x3\n",
    "    coords4 = aa + coords[:,np.newaxis,:] # N,4,3\n",
    "    coords4= coords4.reshape(-1,3).T\n",
    "    return np.floor(np.clip(coords4,loclip,hiclip)).astype('int')\n",
    "\n",
    "def RFM_update_cell(x,y,th):\n",
    "    #TODO Write me!\n",
    "    pass\n",
    "    \n",
    "# Define the accumulate operator, that renders rays\n",
    "def accumulate(rays, notref):\n",
    "    \n",
    "    # prerender lets us stop rendering a ray that would go through a HIT\n",
    "    prerender[:,:]=0\n",
    "#     for ray in rays:\n",
    "    # ray has a starting point, distance before it returned, and direction\n",
    "    [x_start, y_start, d, th] = rays\n",
    "    [slope_x, slope_y] = [np.cos(th*th_spacing), np.sin(th*th_spacing)]\n",
    "\n",
    "    xyth = quantize4((x_start[notref] + d[notref]*slope_x[notref], y_start[notref] + d[notref]*slope_y[notref], th[notref]))\n",
    "    prerender[xyth[0],xyth[1]]=1\n",
    "    \n",
    "#     for ray in rays:\n",
    "    # ray has a starting point, distance before it returned, and direction\n",
    "    [x_start, y_start, d, th] = rays\n",
    "    [slope_x, slope_y] = [np.cos(th*th_spacing), np.sin(th*th_spacing)]\n",
    "    \n",
    "    \n",
    "    \n",
    "    live=np.ones_like(d)\n",
    "    r=np.full_like(d,0)\n",
    "    for r0 in range(0,200):\n",
    "#         print(r0, end=' ')\n",
    "        r[:]=r0\n",
    "        live[r0>=d-epsl]=0\n",
    "#         print(np.sum(live))\n",
    "        r[live==0]=100000\n",
    "        xyth = quantize((x_start + r*slope_x, y_start + r*slope_y, th))\n",
    "#         if r0>1\n",
    "        live*=(prerender[xyth[0],xyth[1]]==0)\n",
    "        MISS[xyth[0],xyth[1],xyth[2]]+=1\n",
    "        RFM_update_cell(xyth[0],xyth[1],xyth[2])\n",
    "    xyth = quantize((x_start[notref] + d[notref]*slope_x[notref], y_start[notref] + d[notref]*slope_y[notref], th[notref]))\n",
    "    HIT[xyth[0],xyth[1],xyth[2]]+=1\n",
    "    RFM_update_cell(xyth[0], xyth[1], xyth[2])"
   ]
  },
  {
   "cell_type": "code",
   "execution_count": 12,
   "metadata": {},
   "outputs": [],
   "source": [
    "# The basic RFM doer. \n",
    "def doRFM():\n",
    "    print(\"Building RFM\")\n",
    "    MISS[...] = 0\n",
    "    HIT[...] = 0\n",
    "    arays = outrays.copy()\n",
    "\n",
    "    ls=0\n",
    "    keep=(rays0['r']<10)*(rays0['r']>0)\n",
    "    CHUNK_SIZE = 1081\n",
    "    for s in tqdm(range(CHUNK_SIZE,arays.shape[1]+1,CHUNK_SIZE)):\n",
    "            tmprays=arays[:,ls:s][:,keep[ls:s]]\n",
    "            nrtemp=notref[ls:s][keep[ls:s]]\n",
    "            accumulate(tmprays, nrtemp)\n",
    "            ls=s\n",
    "    plt.imshow(np.sum(MISS,axis=2))\n",
    "    assert np.max(MISS)>0\n",
    "    vox_refl[...] = HIT/(np.float32(0.1)+HIT+MISS) # classify \n",
    "    CLASSIFIED_RFM[...] = vox_refl > REF_BLOCK_THRESH\n",
    "    countvis[...] = np.sum(CLASSIFIED_RFM, axis=2).astype(np.uint16)\n",
    "    counttrans[...] = np.sum((CLASSIFIED_RFM==0)&(MISS>0), axis=2).astype(np.uint16)\n",
    "    countratio[...] = np.float32(1.0*countvis/(countvis+counttrans+0.0000000001))\n",
    "    refl_cache[...] = (countratio > 0.5) | (countvis > 12)  # More reflective than not or a suspiciously wide range of sightings"
   ]
  },
  {
   "cell_type": "code",
   "execution_count": 13,
   "metadata": {
    "tags": []
   },
   "outputs": [],
   "source": [
    "# Utility that unions two sets of labelled data. Used to turn normal flood fill into circular floodfill around theta.\n",
    "def unify_labels(rfmcomps, rfmcomps2):\n",
    "    # unify labels is mostly a wrapper around fuse, but with the optimization that we only try to \n",
    "    # fuse nonzero labels, since we know they're the same\n",
    "    def fuse(A,B):\n",
    "        # Assumes A and B are label matricies with different labels and we need to fuse them\n",
    "        # Any repeated label between the two corresponds\n",
    "        # Assumes that the labels go from 0 to max(max(A),max(B))\n",
    "        # Also assumes all labels in A are <= to the ones in B\n",
    "        assert(np.all(A<=B))\n",
    "  \n",
    "        lookup = np.arange(np.maximum(np.max(A),np.max(B))+1, dtype=np.int32)\n",
    "        np.minimum.at(lookup,B,A) # Bs now lookup the lowest A they connect to, As loopback\n",
    "\n",
    "        B=lookup[B] #Now all Bs are <= A\n",
    "\n",
    "        np.minimum.at(lookup,A,B)\n",
    "        #As lookup the smallest B they connect to, Bs lookup the smallest A or better\n",
    "        B=lookup[lookup[B]] \n",
    "\n",
    "        extr=(A!=B) \n",
    "        remA=A[extr]\n",
    "        remB=B[extr]\n",
    "        if len(remA)==0:\n",
    "            \n",
    "            return B\n",
    "        recur = fuse(remB,remA)\n",
    "        B[extr] = recur\n",
    "        return B\n",
    "    \n",
    "    nz=fuse(rfmcomps[rfmcomps!=0].ravel(),rfmcomps2[rfmcomps2!=0].ravel())\n",
    "    rfmcomps[rfmcomps!=0]=nz\n",
    "    return rfmcomps\n",
    "\n",
    "# fuse(np.array([1,2,2,3,3,4,4]),np.array([5,6,7,7,8,8,9]))"
   ]
  },
  {
   "cell_type": "markdown",
   "metadata": {},
   "source": [
    "# Classify Reflection Rays\n",
    "Mark the depths where rays try to go through another object. \n",
    "PEN_DEPTH controls this. We set to 30cm to deal with the stupid 20cm short detections that seem to plague our laser.\n",
    "\n",
    "The basic idea is that all rays render MISSes, but only rays that travel less than PEN_DEPTH from the surface can render HITs"
   ]
  },
  {
   "cell_type": "code",
   "execution_count": 14,
   "metadata": {},
   "outputs": [],
   "source": [
    "# classify reflectionness of a ray and clip to a given penetration depth\n",
    "PEN_DEPTH = np.ceil(0.101*CELLS_PER_M)\n",
    "def classify(rays, pen_depth=None):\n",
    "    rays=rays.copy()\n",
    "    if pen_depth is None:\n",
    "        pen_depth = PEN_DEPTH\n",
    "    HACK_FACTOR = 2 # ensure that detected reflections still count as seen through for this distance\n",
    "#     for ray in rays:\n",
    "    # ray has a starting point, distance before it returned, and direction\n",
    "    [x_start, y_start, d, th] = rays\n",
    "    [slope_x, slope_y] = [np.cos(th*th_spacing), np.sin(th*th_spacing)]\n",
    "    \n",
    "    \n",
    "    notref=np.ones_like(d,dtype=bool)\n",
    "    r=np.full_like(d,0)\n",
    "    for r0 in tqdm(range(0,200)):\n",
    "#         print(r0,end=', ')\n",
    "        r[:]=r0\n",
    "        xyth = quantize((x_start + r*slope_x, y_start + r*slope_y, th))\n",
    "        \n",
    "#         if r0>1\n",
    "        stopped=(refl_cache[xyth[0],xyth[1]]!=0)\n",
    "        notrefish = r0 > d[stopped]-pen_depth\n",
    "        notref[stopped] *= notrefish\n",
    "#         print(r0+pen_depth)\n",
    "       \n",
    "        d[stopped]=np.minimum(d[stopped],r0+pen_depth+HACK_FACTOR) \n",
    "        \n",
    "    rays = np.vstack([x_start, y_start, d, th])\n",
    "    return rays, notref\n",
    "\n",
    "\n",
    "# The returned rays now have distances reflecting how far to render them. \n",
    "# If the distance is less than the original, we want to not render the HIT when we rerender\n",
    "# \"notref\" keeps track of which rays should render their endpoint\n",
    "\n",
    "# This operation is ~1/3 the work of the normal RFM render, but I haven't optimized it, so it \n",
    "# runs much slower when the ray list is too big fo the cache"
   ]
  },
  {
   "cell_type": "code",
   "execution_count": 15,
   "metadata": {},
   "outputs": [
    {
     "name": "stdout",
     "output_type": "stream",
     "text": [
      "Building RFM\n"
     ]
    },
    {
     "name": "stderr",
     "output_type": "stream",
     "text": [
      "100%|██████████| 331/331 [00:04<00:00, 74.36it/s]\n"
     ]
    }
   ],
   "source": [
    "keeprays=(rays0['r']<10)*(rays0['r']>0) # needed in ablations\n",
    "doRFM()"
   ]
  },
  {
   "cell_type": "markdown",
   "metadata": {
    "tags": []
   },
   "source": [
    "## Draw Figures\n",
    "The following calculates the basic RFM in bulk (Faster in Python and good for prototyping).\n",
    "Then we take a slice out though the glass to make the figure.\n",
    "\n",
    "We don't discuss it in the paper, due to lack of space, but this also shows several other visualizations good for exploring the RFM\n"
   ]
  },
  {
   "cell_type": "code",
   "execution_count": 16,
   "metadata": {},
   "outputs": [],
   "source": [
    "# # Specialized debug cell\n",
    "# %matplotlib widget\n",
    "# vox_refl=HIT/(np.float32(0.1)+HIT+MISS)\n",
    "# RFM=HIT*w_HIT-MISS*w_MISS\n",
    "# sud=HIT+MISS\n",
    "# # del vox_refl\n",
    "# del sud\n",
    "# # del vox_refl\n",
    "# plt.figure(1)\n",
    "# ax=plt.subplot(221)\n",
    "# # plt.imshow(np.clip(np.max((HIT),axis=2).T,-3,15))\n",
    "# plt.imshow(np.clip(np.max((HIT),axis=2).T,-10,10))\n",
    "# plt.title('Max HIT [0,10]')\n",
    "# plt.subplot(222,sharex=ax,sharey=ax)\n",
    "# mean_active = (np.sum(MISS,axis=2,dtype=np.float32)\n",
    "#               /\n",
    "#               (np.sum(MISS>0,axis=2)+np.float32(.0001)))[:,:,np.newaxis]\n",
    "# plt.imshow(np.clip(mean_active[:,:,0].T,-1,10))\n",
    "# plt.title(\"Average RFM probes [0,10]\")\n",
    "# plt.subplot(223,sharex=ax,sharey=ax)\n",
    "# plt.imshow(np.clip(np.max(HIT/(mean_active+0.01),axis=2).T,-1,3))\n",
    "# plt.title('Normalized Max HIT')\n",
    "\n",
    "# plt.subplot(224,sharex=ax,sharey=ax)\n",
    "# plt.imshow(np.clip(np.max(HIT/(mean_active+0.01),axis=2).T,-1,3))\n",
    "# plt.title('Example RFM Slice Line')\n",
    "# plt.plot([340,360],[142,142],'r')\n",
    "\n",
    "# del mean_active\n",
    "\n",
    "\n",
    "# plt.figure(4)\n",
    "# plt.title(\"H Shapes Figure, Option 1\")\n",
    "# # Need to take max of neighboring slices due to aliasing\n",
    "# plt.imshow(np.clip(np.sum(HIT[:,845:855,:],axis=1).T,0,2),aspect='auto') \n",
    "# plt.xlim(320,540)\n",
    "# # plt.ylim(0,700)\n",
    "# # plt.imshow(np.clip(np.sum(vox_refl[:,:,:],axis=0).T,0,2))\n",
    "# plt.xlabel('x [1 unit = 5cm]')\n",
    "# plt.ylabel('theta [720 units = 180deg]')\n",
    "\n",
    "# plt.figure(5)\n",
    "# plt.title(\"H Shapes Figure,Option 2\")\n",
    "# plt.imshow(np.clip(np.max(RFM[:,142:143,:],axis=1).T,-2,2),aspect='auto',cmap='bwr_r')\n",
    "# plt.xlabel('x [1 unit = 5cm]')\n",
    "# plt.ylabel('theta [720 units = 180deg]')\n",
    "# plt.xlim(295,425)\n",
    "\n",
    "\n",
    "\n"
   ]
  },
  {
   "cell_type": "markdown",
   "metadata": {},
   "source": [
    "**Figure captions** \\\n",
    "*Option 1:* Glass panes are easily detectable in the Reflectance Field Map by their distinctive H shape. \n",
    "Shown here is a slice through the RFM along a wall made of several panes of glass, producing the repeated H patterns seen here.\n",
    "The arms of the H are formed by the edges of the glass or its frame which scatter light in many angles,\n",
    "and the cross bar is caused by the smooth face of the glass reflecting mostly perpendicularly.\n",
    "Note that despite the wide variation in visibility between different pieces of glass, and the gaps \n",
    "in some of the H arms due to occlusions, this wall is reliably detectable at 91deg = 364 units \\\n",
    "[TODO: figure out how to make Figure scale show degrees] \\\n",
    "Unlike intensity or multiecho methods, our's does not require a bright specular peak, or an object behind to be detected.\n",
    "And unlike Foster et al 2013[Cite], the gaps and secondary detection angles shown here do not confuse our detector.\n",
    "Even an occluder directly blocking the view of the glass only causes the loss of the blocked part.\n",
    "\n",
    "*Option 2:*: Similar text to Option 1, but mention Blue is reflective, Red is transparent, and white is areas of the \n",
    "reflectance field not probed, due to occlusions or the sensor path. \\\n",
    "Option two is made available to demostrate ability to show alternate color scheme, an alternate target with more regular \n",
    "(but less interesting!) pieces of glass, "
   ]
  },
  {
   "cell_type": "code",
   "execution_count": 17,
   "metadata": {
    "tags": []
   },
   "outputs": [],
   "source": [
    "# Classify reflective/transparent per voxel\n",
    "# Dead, but kept for interest. For some reason this was considered better than the ratio thing at some point\n",
    "# Now I rememeber. Its because glass has a low visibility ratio, but a high ratio at a cell level\n",
    "# but it may have few misses, so being > a randomly hit cell s \n",
    "# basically a cell with 1 hit and no misses on an unseen location is better than 1 hit and no miss on a heavily seen locaiton \n",
    "\n",
    "# def classify_cells_bulk():\n",
    "#     # Justification: mean_active is an approximation of how many times we should have seen a cell.\n",
    "#     # It is generated by looking at the mean of HIT+MISS for cells that have ever had either, meaned along the theta axis\n",
    "#     # Note that if there is a huge variation in the HIT+MISS sum, this could be inaccurate(i.e. if we take different paths \n",
    "#     # near the point.)\n",
    "#     # The score is how many times we saw/expected attempts. We take the max score over angles to represent the most opaque\n",
    "#     # direction. Scores significantly above 1.0 indicate a bad condition\n",
    "#     #\n",
    "#     fullcount=MISS+HIT\n",
    "#     mean_active = (np.sum(fullcount,axis=2,dtype=np.float32)\n",
    "#                   /\n",
    "#                   (np.sum(fullcount>0,axis=2)+np.float32(.0001)))[:,:,np.newaxis]\n",
    "#     score = np.max(HIT/(mean_active+np.float32(.0001)),axis=2)\n",
    "#     refl_cache[1:-1,1:-1]=(score>REF_BLOCK_THRESH)[1:-1,1:-1]\n",
    "#     return score\n",
    "# classify_cells_bulk()"
   ]
  },
  {
   "cell_type": "code",
   "execution_count": 18,
   "metadata": {},
   "outputs": [
    {
     "data": {
      "application/vnd.jupyter.widget-view+json": {
       "model_id": "d1396b9b22fc4fb49c00f5e23881ccc7",
       "version_major": 2,
       "version_minor": 0
      },
      "text/plain": [
       "Canvas(toolbar=Toolbar(toolitems=[('Home', 'Reset original view', 'home', 'home'), ('Back', 'Back to previous …"
      ]
     },
     "metadata": {},
     "output_type": "display_data"
    },
    {
     "data": {
      "text/plain": [
       "Text(0.5, 1.0, 'Cells that stop rays for reflectance calculations')"
      ]
     },
     "execution_count": 18,
     "metadata": {},
     "output_type": "execute_result"
    }
   ],
   "source": [
    "%matplotlib widget\n",
    "plt.imshow(refl_cache.T)\n",
    "plt.title('Cells that stop rays for reflectance calculations')"
   ]
  },
  {
   "cell_type": "markdown",
   "metadata": {},
   "source": [
    "# Show Stabiliation of Reflection Removal:"
   ]
  },
  {
   "cell_type": "code",
   "execution_count": 19,
   "metadata": {},
   "outputs": [],
   "source": [
    "# Hstore=[]\n",
    "# Mstore=[]"
   ]
  },
  {
   "cell_type": "code",
   "execution_count": 20,
   "metadata": {},
   "outputs": [],
   "source": [
    "# %matplotlib widget\n",
    "\n",
    "# from tqdm import tqdm\n",
    "# plt.imshow(refl_cache.T)\n",
    "\n",
    "# for refitr in range(2):\n",
    "#     Hstore.append(HIT)\n",
    "#     Mstore.append(MISS)\n",
    "    \n",
    "#     classify_cells_bulk()\n",
    "    \n",
    "#     arays=outrays.copy()\n",
    "#     arays,notref = classify(arays)\n",
    "\n",
    "#     HIT = np.zeros((W,H,th_bins),'int16')\n",
    "#     MISS = np.zeros((W,H,th_bins),'int16')\n",
    "#     ls=0\n",
    "#     keep=(rays0['r']<30)*(rays0['r']>0)\n",
    "#     CHUNK_SIZE = 1081\n",
    "\n",
    "#     for s in tqdm(range(CHUNK_SIZE,arays.shape[1]+1,CHUNK_SIZE)):\n",
    "#         tmprays=arays[:,ls:s][:,keep[ls:s]]\n",
    "#         nrtemp=notref[ls:s][keep[ls:s]]\n",
    "#         accumulate(tmprays, nrtemp)\n",
    "#         ls=s\n",
    "        \n",
    "#     plt.figure()\n",
    "#     plt.imshow(refl_cache.T)"
   ]
  },
  {
   "cell_type": "code",
   "execution_count": 21,
   "metadata": {},
   "outputs": [],
   "source": [
    "# # Visualize the 2d occupancy score\n",
    "# %matplotlib widget\n",
    "# score=classify_cells_bulk()\n",
    "# # plt.imshow(np.clip(score,-5,5).T)\n",
    "# plt.imshow((score>0.0).T)\n",
    "\n",
    "# plt.figure()\n",
    "# plt.imshow(np.clip(np.max(HIT,axis=2),0,10).T)\n",
    "# print(np.sum(HIT>0))"
   ]
  },
  {
   "cell_type": "code",
   "execution_count": 22,
   "metadata": {},
   "outputs": [],
   "source": [
    "# This cell produces a label array rfmcomps, that labels everything that is connected in RFM space, accounting for the wraparound of theta\n",
    "# It works by labelling connected components, rolling Pi around, relabelling, and then merging the resulting label set\n",
    "\n",
    "from scipy.ndimage import label\n",
    "from scipy.ndimage import generate_binary_structure\n",
    "# help(generate_binary_structure)\n",
    "\n",
    "%matplotlib widget\n",
    "vox_refl[...] = HIT/(np.float32(0.1)+HIT+MISS)\n",
    "structure=generate_binary_structure(3,3)\n",
    "rfmcomps, count = label(vox_refl>0.3, structure)\n",
    "\n",
    "roll_vox_refl=np.roll(vox_refl, int(vox_refl.shape[2]//2), axis=2)\n",
    "rfmcomps2, count = label(roll_vox_refl>0.3, structure)\n",
    "del roll_vox_refl\n",
    "offset=np.max(rfmcomps)+1\n",
    "rfmcomps2=np.roll(rfmcomps2, -int(rfmcomps2.shape[2]//2), axis=2)+offset\n",
    "rfmcomps2[rfmcomps2==offset]=0\n",
    "rfmcomps = unify_labels(rfmcomps, rfmcomps2)\n",
    "del rfmcomps2"
   ]
  },
  {
   "cell_type": "code",
   "execution_count": 23,
   "metadata": {
    "tags": []
   },
   "outputs": [],
   "source": [
    "# # Visualize the connected components in RFM space\n",
    "# import numpy as np\n",
    "# # to_show=np.random.rand(3,100)\n",
    "# to_show=np.nonzero(rfmcomps!=rfmcomps[-3,-3,-3])\n",
    "# per=np.random.permutation(int(np.max(rfmcomps))+1)\n",
    "# %gui qt\n",
    "\n",
    "# import mayavi.mlab\n",
    "# mayavi.mlab.close(all=True)\n",
    "\n",
    "# mayavi.mlab.points3d(to_show[0], to_show[1], to_show[2],per[rfmcomps[to_show].astype(int)], colormap='spectral', mode = 'points')"
   ]
  },
  {
   "cell_type": "code",
   "execution_count": 24,
   "metadata": {},
   "outputs": [
    {
     "name": "stdout",
     "output_type": "stream",
     "text": [
      "                      vox_refl:  5.1 GiB\n",
      "                      rfmcomps:  5.1 GiB\n",
      "                           HIT:  2.6 GiB\n",
      "                          MISS:  2.6 GiB\n",
      "                           RFM:  1.3 GiB\n",
      "                        RFM_mr:  1.3 GiB\n",
      "                          WIDE:  1.3 GiB\n",
      "                        NARROW:  1.3 GiB\n",
      "                CLASSIFIED_RFM:  1.3 GiB\n",
      "                          keep: 22.6 MiB\n",
      "               keep_for_window: 22.6 MiB\n",
      "                         rays0: 13.7 MiB\n",
      "                          rays: 13.7 MiB\n",
      "                       outrays: 10.9 MiB\n",
      "                        px_spt:  5.5 MiB\n",
      "                        px_ept:  5.5 MiB\n",
      "                    countratio:  3.7 MiB\n",
      "                         f_spt:  2.7 MiB\n",
      "                         f_ept:  2.7 MiB\n",
      "                          px_d:  2.7 MiB\n"
     ]
    }
   ],
   "source": [
    "import sys\n",
    "def sizeof_fmt(num, suffix='B'):\n",
    "    ''' by Fred Cirera,  https://stackoverflow.com/a/1094933/1870254, modified'''\n",
    "    for unit in ['','Ki','Mi','Gi','Ti','Pi','Ei','Zi']:\n",
    "        if abs(num) < 1024.0:\n",
    "            return \"%3.1f %s%s\" % (num, unit, suffix)\n",
    "        num /= 1024.0\n",
    "    return \"%.1f %s%s\" % (num, 'Yi', suffix)\n",
    "\n",
    "for name, size in sorted(((name, sys.getsizeof(value)) for name, value in locals().items()),\n",
    "                         key= lambda x: -x[1])[:20]:\n",
    "    print(\"{:>30}: {:>8}\".format(name, sizeof_fmt(size)))\n"
   ]
  },
  {
   "cell_type": "code",
   "execution_count": 25,
   "metadata": {},
   "outputs": [
    {
     "data": {
      "application/vnd.jupyter.widget-view+json": {
       "model_id": "cbf17f1fcdbb4330bcf92034933349a8",
       "version_major": 2,
       "version_minor": 0
      },
      "text/plain": [
       "Canvas(toolbar=Toolbar(toolitems=[('Home', 'Reset original view', 'home', 'home'), ('Back', 'Back to previous …"
      ]
     },
     "metadata": {},
     "output_type": "display_data"
    }
   ],
   "source": [
    "# This cell removes motion from RFM, given a label array for connected components\n",
    "HIGHLY_VISIBLE = (countvis>wide_threshold)\n",
    "selection_color = np.max(rfmcomps)+1\n",
    "\n",
    "%matplotlib widget\n",
    "plt.imshow(HIGHLY_VISIBLE.T)\n",
    "\n",
    "# Build an array that has the selection_color on highly visible items, and the old color on everythng else\n",
    "rfmcomps2 = (rfmcomps > 0)*HIGHLY_VISIBLE[:,:,np.newaxis]*selection_color\n",
    "rfmcomps2[rfmcomps2==0]=rfmcomps[rfmcomps2==0]\n",
    "\n",
    "# # Debug: check the selelection array\n",
    "# to_show=np.nonzero(rfmcomps2!=rfmcomps2[-3,-3,-3])\n",
    "# per=np.random.permutation(int(np.max(rfmcomps2))+1)\n",
    "# %gui qt\n",
    "# import mayavi.mlab\n",
    "# mayavi.mlab.points3d(to_show[0], to_show[1], to_show[2],per[rfmcomps2[to_show].astype(int)], colormap='spectral',mode= 'point')\n",
    "\n",
    "# Flood from the seeds\n",
    "rfmcomps = unify_labels(rfmcomps, rfmcomps2)"
   ]
  },
  {
   "cell_type": "code",
   "execution_count": 26,
   "metadata": {},
   "outputs": [
    {
     "name": "stdout",
     "output_type": "stream",
     "text": [
      "(800, 1200, 1440)\n"
     ]
    },
    {
     "data": {
      "application/vnd.jupyter.widget-view+json": {
       "model_id": "17e26080fd0b40edb7c294fd3d5e7ae7",
       "version_major": 2,
       "version_minor": 0
      },
      "text/plain": [
       "Canvas(toolbar=Toolbar(toolitems=[('Home', 'Reset original view', 'home', 'home'), ('Back', 'Back to previous …"
      ]
     },
     "metadata": {},
     "output_type": "display_data"
    },
    {
     "data": {
      "text/plain": [
       "<matplotlib.image.AxesImage at 0x7f8232dfa640>"
      ]
     },
     "execution_count": 26,
     "metadata": {},
     "output_type": "execute_result"
    }
   ],
   "source": [
    "# Visualize after flood fill\n",
    "%matplotlib widget\n",
    "print(rfmcomps.shape)\n",
    "newselcolor=np.max(rfmcomps[HIGHLY_VISIBLE,:])\n",
    "selected = np.sum(rfmcomps==newselcolor,axis=2)\n",
    "\n",
    "nevermissed = ((np.sum(HIT,axis=2)>0)&(np.sum(MISS,axis=2)==0))\n",
    "allkept = 0.5*nevermissed+selected\n",
    "\n",
    "plt.imshow(np.clip(selected.T,0,15))"
   ]
  },
  {
   "cell_type": "code",
   "execution_count": 27,
   "metadata": {},
   "outputs": [],
   "source": [
    "to_show=np.nonzero(rfmcomps!=rfmcomps[-3,-3,-3])\n",
    "# per=np.random.permutation(int(np.max(rfmcomps2))+1)\n",
    "%gui qt\n",
    "\n",
    "newselcolor=np.max(rfmcomps[HIGHLY_VISIBLE,:])\n",
    "\n",
    "# import mayavi.mlab\n",
    "# to_show=np.array(to_show).reshape(3,-1)\n",
    "# print(to_show.shape)\n",
    "# to_show=to_show[:,to_show[1]>=106]\n",
    "# to_show=to_show[:,to_show[1]<=121]\n",
    "# to_show=to_show[:,to_show[0]>=218]\n",
    "# to_show=to_show[:,to_show[0]<=475]\n",
    "# to_show=to_show[:,rfmcomps[tuple(to_show)]==newselcolor]\n",
    "\n",
    "# print(to_show.shape)\n",
    "# # to_show=to_show[:,to_show[1]>106]\n",
    "# color = np.sum(vox_refl>0.3,axis=2)[tuple(to_show[:2])]\n",
    "# # color=score[tuple(to_show[:2])]\n",
    "\n",
    "# # color=per[rfmcomps[tuple(to_show)].astype(int)]\n",
    "# mayavi.mlab.close(all=True)\n",
    "# mayavi.mlab.points3d(to_show[0], to_show[1], to_show[2], color, colormap='spectral', mode= 'point')"
   ]
  },
  {
   "cell_type": "code",
   "execution_count": 28,
   "metadata": {},
   "outputs": [
    {
     "name": "stdout",
     "output_type": "stream",
     "text": [
      "1.090575\n"
     ]
    },
    {
     "data": {
      "application/vnd.jupyter.widget-view+json": {
       "model_id": "0b89362f051c47c58202b1e88f08c556",
       "version_major": 2,
       "version_minor": 0
      },
      "text/plain": [
       "Canvas(toolbar=Toolbar(toolitems=[('Home', 'Reset original view', 'home', 'home'), ('Back', 'Back to previous …"
      ]
     },
     "metadata": {},
     "output_type": "display_data"
    },
    {
     "data": {
      "text/plain": [
       "Text(0.5, 1, 'Cells seen but never missed. Keep by default:')"
      ]
     },
     "execution_count": 28,
     "metadata": {},
     "output_type": "execute_result"
    }
   ],
   "source": [
    "# Show cells that are default kept\n",
    "%matplotlib widget\n",
    "\n",
    "\n",
    "my_dpi=100\n",
    "sc=1.*1.11*.9825\n",
    "print(sc)\n",
    "plt.figure(figsize=(nevermissed.shape[0]/my_dpi*sc, nevermissed.shape[1]/my_dpi*sc), dpi=my_dpi)\n",
    "# nevermissed[:,1::2]=1\n",
    "plt.imshow(nevermissed.T)\n",
    "plt.tight_layout()\n",
    "\n",
    "plt.title(\"Cells seen but never missed. Keep by default:\")"
   ]
  },
  {
   "cell_type": "code",
   "execution_count": 29,
   "metadata": {},
   "outputs": [
    {
     "data": {
      "application/vnd.jupyter.widget-view+json": {
       "model_id": "fc3d5c036f704a85a4a0008bb68ead77",
       "version_major": 2,
       "version_minor": 0
      },
      "text/plain": [
       "Canvas(toolbar=Toolbar(toolitems=[('Home', 'Reset original view', 'home', 'home'), ('Back', 'Back to previous …"
      ]
     },
     "metadata": {},
     "output_type": "display_data"
    },
    {
     "data": {
      "text/plain": [
       "<matplotlib.image.AxesImage at 0x7f8232d98a30>"
      ]
     },
     "execution_count": 29,
     "metadata": {},
     "output_type": "execute_result"
    }
   ],
   "source": [
    "%matplotlib widget\n",
    "\n",
    "\n",
    "plt.imshow(allkept.T>0)\n",
    "# plt.plot(notref,'b,')\n",
    "# plt.imshow(refl_cache.T>0)\n"
   ]
  },
  {
   "cell_type": "markdown",
   "metadata": {},
   "source": [
    "# Now we have a nice view. \n",
    "# Time to remove reflections and do it all over again"
   ]
  },
  {
   "cell_type": "code",
   "execution_count": 30,
   "metadata": {},
   "outputs": [],
   "source": [
    "# Hstore=[HIT]\n",
    "# Mstore=[MISS]\n",
    "refl_cache[...] = (allkept!=0)"
   ]
  },
  {
   "cell_type": "code",
   "execution_count": 31,
   "metadata": {},
   "outputs": [
    {
     "name": "stderr",
     "output_type": "stream",
     "text": [
      "100%|██████████| 200/200 [00:01<00:00, 113.80it/s]\n"
     ]
    },
    {
     "name": "stdout",
     "output_type": "stream",
     "text": [
      "Building RFM\n"
     ]
    },
    {
     "name": "stderr",
     "output_type": "stream",
     "text": [
      "100%|██████████| 331/331 [00:04<00:00, 76.45it/s]\n"
     ]
    }
   ],
   "source": [
    "keeprays=(rays0['r']<10)*(rays0['r']>0)\n",
    "\n",
    "arays,notref = classify(outrays)\n",
    "doRFM()\n",
    "#countvis[...] \n",
    "#counttrans[...] \n",
    "#countratio[...] \n",
    "#refl_cache[...]"
   ]
  },
  {
   "cell_type": "code",
   "execution_count": 32,
   "metadata": {},
   "outputs": [
    {
     "data": {
      "application/vnd.jupyter.widget-view+json": {
       "model_id": "234fc892fe444b1484d4b2db3ee00ea1",
       "version_major": 2,
       "version_minor": 0
      },
      "text/plain": [
       "Canvas(toolbar=Toolbar(toolitems=[('Home', 'Reset original view', 'home', 'home'), ('Back', 'Back to previous …"
      ]
     },
     "metadata": {},
     "output_type": "display_data"
    }
   ],
   "source": [
    "from scipy.ndimage import label\n",
    "from scipy.ndimage import generate_binary_structure\n",
    "\n",
    "vox_refl=HIT/(np.float32(0.1)+HIT+MISS)\n",
    "structure=generate_binary_structure(3,3)\n",
    "rfmcomps, count = label(vox_refl>0.3, structure)\n",
    "\n",
    "roll_vox_refl=np.roll(vox_refl, int(vox_refl.shape[2]//2), axis=2)\n",
    "rfmcomps2, count = label(roll_vox_refl>0.3, structure)\n",
    "del roll_vox_refl\n",
    "offset=np.max(rfmcomps)+1\n",
    "rfmcomps2=np.roll(rfmcomps2, -int(rfmcomps2.shape[2]//2), axis=2)+offset\n",
    "rfmcomps2[rfmcomps2==offset]=0\n",
    "rfmcomps = unify_labels(rfmcomps, rfmcomps2)\n",
    "del rfmcomps2\n",
    "\n",
    "# This cell removes motion from RFM, given a label array for connected components\n",
    "wide_threshold = 1/12 * HIT.shape[2]\n",
    "CLASSIFIED_RFM = vox_refl>REF_BLOCK_THRESH\n",
    "HIGHLY_VISIBLE = (np.sum(CLASSIFIED_RFM, axis=2)>wide_threshold)\n",
    "selection_color = np.max(rfmcomps)+1\n",
    "\n",
    "%matplotlib widget\n",
    "plt.imshow(HIGHLY_VISIBLE.T)\n",
    "plt.title('Highly Visible Locations')\n",
    "\n",
    "# Build an array that has the selection_color on highly visible items, and the old color on everythng else\n",
    "rfmcomps2 = (rfmcomps > 0)*HIGHLY_VISIBLE[:,:,np.newaxis]*selection_color\n",
    "rfmcomps2[rfmcomps2==0]=rfmcomps[rfmcomps2==0]\n",
    "\n",
    "# Flood from the seeds\n",
    "rfmcomps = unify_labels(rfmcomps, rfmcomps2)\n",
    "\n",
    "# # Debug\n",
    "# to_show=np.nonzero(rfmcomps!=rfmcomps[-3,-3,-3])\n",
    "# per=np.random.permutation(int(np.max(rfmcomps2))+1)\n",
    "# %gui qt\n",
    "# import mayavi.mlab\n",
    "# mayavi.mlab.close(all=True)\n",
    "# mayavi.mlab.points3d(to_show[0], to_show[1], to_show[2],per[rfmcomps[to_show].astype(int)], colormap='spectral', mode= 'point')"
   ]
  },
  {
   "cell_type": "code",
   "execution_count": 33,
   "metadata": {
    "tags": []
   },
   "outputs": [
    {
     "name": "stdout",
     "output_type": "stream",
     "text": [
      "1.090575\n"
     ]
    },
    {
     "data": {
      "application/vnd.jupyter.widget-view+json": {
       "model_id": "565939707fe14d7181ec4d1e0d954b00",
       "version_major": 2,
       "version_minor": 0
      },
      "text/plain": [
       "Canvas(toolbar=Toolbar(toolitems=[('Home', 'Reset original view', 'home', 'home'), ('Back', 'Back to previous …"
      ]
     },
     "metadata": {},
     "output_type": "display_data"
    },
    {
     "data": {
      "application/vnd.jupyter.widget-view+json": {
       "model_id": "61bb1aa36595479a84cb52a025066626",
       "version_major": 2,
       "version_minor": 0
      },
      "text/plain": [
       "Canvas(toolbar=Toolbar(toolitems=[('Home', 'Reset original view', 'home', 'home'), ('Back', 'Back to previous …"
      ]
     },
     "metadata": {},
     "output_type": "display_data"
    },
    {
     "data": {
      "application/vnd.jupyter.widget-view+json": {
       "model_id": "edab9e54abe64e65b74e8f9a837d1dd6",
       "version_major": 2,
       "version_minor": 0
      },
      "text/plain": [
       "Canvas(toolbar=Toolbar(toolitems=[('Home', 'Reset original view', 'home', 'home'), ('Back', 'Back to previous …"
      ]
     },
     "metadata": {},
     "output_type": "display_data"
    },
    {
     "data": {
      "text/plain": [
       "<matplotlib.image.AxesImage at 0x7f8232c32550>"
      ]
     },
     "execution_count": 33,
     "metadata": {},
     "output_type": "execute_result"
    }
   ],
   "source": [
    "# Show cells that are default kept\n",
    "%matplotlib widget\n",
    "\n",
    "nevermissed = ((np.sum(HIT,axis=2)>0)&(np.sum(MISS,axis=2)==0))\n",
    "my_dpi=100\n",
    "sc=1.*1.11*.9825\n",
    "print(sc)\n",
    "plt.figure(figsize=(nevermissed.shape[0]/my_dpi*sc, nevermissed.shape[1]/my_dpi*sc), dpi=my_dpi)\n",
    "plt.imshow(nevermissed.T)\n",
    "plt.tight_layout()\n",
    "\n",
    "plt.title(\"Cells seen but never missed. Keep by default:\")\n",
    "\n",
    "# Visualize after flood fill\n",
    "newselcolor=np.max(rfmcomps[HIGHLY_VISIBLE,:])\n",
    "selected = np.sum(rfmcomps==newselcolor,axis=2)\n",
    "\n",
    "plt.figure(figsize=(refl_cache.shape[0]/my_dpi*sc, refl_cache.shape[1]/my_dpi*sc), dpi=my_dpi)\n",
    "plt.imshow(np.clip(selected.T,0,15))\n",
    "\n",
    "# Everything We Keep\n",
    "plt.figure(figsize=(refl_cache.shape[0]/my_dpi*sc, refl_cache.shape[1]/my_dpi*sc), dpi=my_dpi)\n",
    "allkept = 0.5*nevermissed+selected\n",
    "plt.imshow(allkept.T)\n",
    "\n"
   ]
  },
  {
   "cell_type": "code",
   "execution_count": 34,
   "metadata": {},
   "outputs": [],
   "source": [
    "# Build Ratio Metric for Occupancy \n",
    "countvis = np.sum(CLASSIFIED_RFM, axis=2).astype(np.uint16)\n",
    "counttrans = np.sum((CLASSIFIED_RFM==0)&(MISS>0), axis=2).astype(np.uint16)\n",
    "countratio = np.float32(1.0*countvis/(countvis+counttrans+0.0000000001))\n",
    "\n",
    "# markedrfc = (rfmcomps>0)*countratio[:,:,np.newaxis] "
   ]
  },
  {
   "cell_type": "code",
   "execution_count": 35,
   "metadata": {},
   "outputs": [
    {
     "name": "stdout",
     "output_type": "stream",
     "text": [
      "Saving to: 1479396529046807_1479396535304011.info\n",
      "\n",
      "# Transform between map and pixels (opengl flooring convention):\n",
      "T_px_f= [[20.0, 0.0, -574.0], [0.0, -20.0, 1527.0], [0.0, 0.0, 1.0]]\n",
      "# Image info\n",
      "W,H,th_bins= (800, 1200, 1440)\n",
      "# Which rays were used:\n",
      "start_time= 1479396529.0468073\n",
      "end_time= 1479396535.304011\n",
      "# Base dataset:\n",
      "rayfile= /bbb3_glass_eval_111716.rays\n",
      "\n"
     ]
    },
    {
     "ename": "KeyboardInterrupt",
     "evalue": "",
     "output_type": "error",
     "traceback": [
      "\u001b[0;31m---------------------------------------------------------------------------\u001b[0m",
      "\u001b[0;31mKeyboardInterrupt\u001b[0m                         Traceback (most recent call last)",
      "\u001b[0;32m<ipython-input-35-7795d00dc3c7>\u001b[0m in \u001b[0;36m<module>\u001b[0;34m\u001b[0m\n\u001b[1;32m     28\u001b[0m     \u001b[0mcv2\u001b[0m\u001b[0;34m.\u001b[0m\u001b[0mimwrite\u001b[0m\u001b[0;34m(\u001b[0m\u001b[0mname\u001b[0m\u001b[0;34m,\u001b[0m\u001b[0mrearranged\u001b[0m\u001b[0;34m.\u001b[0m\u001b[0mastype\u001b[0m\u001b[0;34m(\u001b[0m\u001b[0mnp\u001b[0m\u001b[0;34m.\u001b[0m\u001b[0muint16\u001b[0m\u001b[0;34m)\u001b[0m\u001b[0;34m)\u001b[0m\u001b[0;34m\u001b[0m\u001b[0;34m\u001b[0m\u001b[0m\n\u001b[1;32m     29\u001b[0m \u001b[0mwriteim\u001b[0m\u001b[0;34m(\u001b[0m\u001b[0;34m\"MISS.png\"\u001b[0m\u001b[0;34m,\u001b[0m \u001b[0mMISS\u001b[0m\u001b[0;34m)\u001b[0m\u001b[0;34m\u001b[0m\u001b[0;34m\u001b[0m\u001b[0m\n\u001b[0;32m---> 30\u001b[0;31m \u001b[0mwriteim\u001b[0m\u001b[0;34m(\u001b[0m\u001b[0;34m\"HIT.png\"\u001b[0m\u001b[0;34m,\u001b[0m \u001b[0mHIT\u001b[0m\u001b[0;34m)\u001b[0m\u001b[0;34m\u001b[0m\u001b[0;34m\u001b[0m\u001b[0m\n\u001b[0m\u001b[1;32m     31\u001b[0m \u001b[0mcv2\u001b[0m\u001b[0;34m.\u001b[0m\u001b[0mimwrite\u001b[0m\u001b[0;34m(\u001b[0m\u001b[0;34m\"refl_cache.png\"\u001b[0m\u001b[0;34m,\u001b[0m\u001b[0mrefl_cache\u001b[0m\u001b[0;34m)\u001b[0m\u001b[0;34m\u001b[0m\u001b[0;34m\u001b[0m\u001b[0m\n\u001b[1;32m     32\u001b[0m \u001b[0mcv2\u001b[0m\u001b[0;34m.\u001b[0m\u001b[0mimwrite\u001b[0m\u001b[0;34m(\u001b[0m\u001b[0;34m\"allkept.png\"\u001b[0m \u001b[0;34m,\u001b[0m \u001b[0;34m(\u001b[0m\u001b[0;34m(\u001b[0m\u001b[0mallkept\u001b[0m\u001b[0;34m>\u001b[0m\u001b[0;36m0\u001b[0m\u001b[0;34m)\u001b[0m\u001b[0;34m*\u001b[0m\u001b[0;36m255\u001b[0m\u001b[0;34m)\u001b[0m\u001b[0;34m.\u001b[0m\u001b[0mastype\u001b[0m\u001b[0;34m(\u001b[0m\u001b[0mnp\u001b[0m\u001b[0;34m.\u001b[0m\u001b[0muint8\u001b[0m\u001b[0;34m)\u001b[0m\u001b[0;34m)\u001b[0m\u001b[0;34m\u001b[0m\u001b[0;34m\u001b[0m\u001b[0m\n",
      "\u001b[0;32m<ipython-input-35-7795d00dc3c7>\u001b[0m in \u001b[0;36mwriteim\u001b[0;34m(name, IM)\u001b[0m\n\u001b[1;32m     24\u001b[0m     \u001b[0;31m# storage format is 16 bit unsigned\u001b[0m\u001b[0;34m\u001b[0m\u001b[0;34m\u001b[0m\u001b[0;34m\u001b[0m\u001b[0m\n\u001b[1;32m     25\u001b[0m     \u001b[0mlayers\u001b[0m\u001b[0;34m=\u001b[0m\u001b[0;34m[\u001b[0m\u001b[0mIM\u001b[0m\u001b[0;34m[\u001b[0m\u001b[0;34m:\u001b[0m\u001b[0;34m,\u001b[0m\u001b[0;34m:\u001b[0m\u001b[0;34m,\u001b[0m\u001b[0mlayer\u001b[0m\u001b[0;34m]\u001b[0m \u001b[0;32mfor\u001b[0m \u001b[0mlayer\u001b[0m \u001b[0;32min\u001b[0m \u001b[0mrange\u001b[0m\u001b[0;34m(\u001b[0m\u001b[0mIM\u001b[0m\u001b[0;34m.\u001b[0m\u001b[0mshape\u001b[0m\u001b[0;34m[\u001b[0m\u001b[0;36m2\u001b[0m\u001b[0;34m]\u001b[0m\u001b[0;34m)\u001b[0m\u001b[0;34m]\u001b[0m\u001b[0;34m\u001b[0m\u001b[0;34m\u001b[0m\u001b[0m\n\u001b[0;32m---> 26\u001b[0;31m     \u001b[0mbatches\u001b[0m\u001b[0;34m=\u001b[0m\u001b[0;34m[\u001b[0m\u001b[0mnp\u001b[0m\u001b[0;34m.\u001b[0m\u001b[0mhstack\u001b[0m\u001b[0;34m(\u001b[0m\u001b[0mlayers\u001b[0m\u001b[0;34m[\u001b[0m\u001b[0moff\u001b[0m\u001b[0;34m:\u001b[0m\u001b[0moff\u001b[0m\u001b[0;34m+\u001b[0m\u001b[0;36m40\u001b[0m\u001b[0;34m]\u001b[0m\u001b[0;34m)\u001b[0m \u001b[0;32mfor\u001b[0m \u001b[0moff\u001b[0m \u001b[0;32min\u001b[0m \u001b[0mrange\u001b[0m\u001b[0;34m(\u001b[0m\u001b[0;36m0\u001b[0m\u001b[0;34m,\u001b[0m\u001b[0mIM\u001b[0m\u001b[0;34m.\u001b[0m\u001b[0mshape\u001b[0m\u001b[0;34m[\u001b[0m\u001b[0;36m2\u001b[0m\u001b[0;34m]\u001b[0m\u001b[0;34m,\u001b[0m\u001b[0;36m40\u001b[0m\u001b[0;34m)\u001b[0m\u001b[0;34m]\u001b[0m\u001b[0;34m\u001b[0m\u001b[0;34m\u001b[0m\u001b[0m\n\u001b[0m\u001b[1;32m     27\u001b[0m     \u001b[0mrearranged\u001b[0m \u001b[0;34m=\u001b[0m \u001b[0mnp\u001b[0m\u001b[0;34m.\u001b[0m\u001b[0mvstack\u001b[0m\u001b[0;34m(\u001b[0m\u001b[0mbatches\u001b[0m\u001b[0;34m)\u001b[0m\u001b[0;34m\u001b[0m\u001b[0;34m\u001b[0m\u001b[0m\n\u001b[1;32m     28\u001b[0m     \u001b[0mcv2\u001b[0m\u001b[0;34m.\u001b[0m\u001b[0mimwrite\u001b[0m\u001b[0;34m(\u001b[0m\u001b[0mname\u001b[0m\u001b[0;34m,\u001b[0m\u001b[0mrearranged\u001b[0m\u001b[0;34m.\u001b[0m\u001b[0mastype\u001b[0m\u001b[0;34m(\u001b[0m\u001b[0mnp\u001b[0m\u001b[0;34m.\u001b[0m\u001b[0muint16\u001b[0m\u001b[0;34m)\u001b[0m\u001b[0;34m)\u001b[0m\u001b[0;34m\u001b[0m\u001b[0;34m\u001b[0m\u001b[0m\n",
      "\u001b[0;32m<ipython-input-35-7795d00dc3c7>\u001b[0m in \u001b[0;36m<listcomp>\u001b[0;34m(.0)\u001b[0m\n\u001b[1;32m     24\u001b[0m     \u001b[0;31m# storage format is 16 bit unsigned\u001b[0m\u001b[0;34m\u001b[0m\u001b[0;34m\u001b[0m\u001b[0;34m\u001b[0m\u001b[0m\n\u001b[1;32m     25\u001b[0m     \u001b[0mlayers\u001b[0m\u001b[0;34m=\u001b[0m\u001b[0;34m[\u001b[0m\u001b[0mIM\u001b[0m\u001b[0;34m[\u001b[0m\u001b[0;34m:\u001b[0m\u001b[0;34m,\u001b[0m\u001b[0;34m:\u001b[0m\u001b[0;34m,\u001b[0m\u001b[0mlayer\u001b[0m\u001b[0;34m]\u001b[0m \u001b[0;32mfor\u001b[0m \u001b[0mlayer\u001b[0m \u001b[0;32min\u001b[0m \u001b[0mrange\u001b[0m\u001b[0;34m(\u001b[0m\u001b[0mIM\u001b[0m\u001b[0;34m.\u001b[0m\u001b[0mshape\u001b[0m\u001b[0;34m[\u001b[0m\u001b[0;36m2\u001b[0m\u001b[0;34m]\u001b[0m\u001b[0;34m)\u001b[0m\u001b[0;34m]\u001b[0m\u001b[0;34m\u001b[0m\u001b[0;34m\u001b[0m\u001b[0m\n\u001b[0;32m---> 26\u001b[0;31m     \u001b[0mbatches\u001b[0m\u001b[0;34m=\u001b[0m\u001b[0;34m[\u001b[0m\u001b[0mnp\u001b[0m\u001b[0;34m.\u001b[0m\u001b[0mhstack\u001b[0m\u001b[0;34m(\u001b[0m\u001b[0mlayers\u001b[0m\u001b[0;34m[\u001b[0m\u001b[0moff\u001b[0m\u001b[0;34m:\u001b[0m\u001b[0moff\u001b[0m\u001b[0;34m+\u001b[0m\u001b[0;36m40\u001b[0m\u001b[0;34m]\u001b[0m\u001b[0;34m)\u001b[0m \u001b[0;32mfor\u001b[0m \u001b[0moff\u001b[0m \u001b[0;32min\u001b[0m \u001b[0mrange\u001b[0m\u001b[0;34m(\u001b[0m\u001b[0;36m0\u001b[0m\u001b[0;34m,\u001b[0m\u001b[0mIM\u001b[0m\u001b[0;34m.\u001b[0m\u001b[0mshape\u001b[0m\u001b[0;34m[\u001b[0m\u001b[0;36m2\u001b[0m\u001b[0;34m]\u001b[0m\u001b[0;34m,\u001b[0m\u001b[0;36m40\u001b[0m\u001b[0;34m)\u001b[0m\u001b[0;34m]\u001b[0m\u001b[0;34m\u001b[0m\u001b[0;34m\u001b[0m\u001b[0m\n\u001b[0m\u001b[1;32m     27\u001b[0m     \u001b[0mrearranged\u001b[0m \u001b[0;34m=\u001b[0m \u001b[0mnp\u001b[0m\u001b[0;34m.\u001b[0m\u001b[0mvstack\u001b[0m\u001b[0;34m(\u001b[0m\u001b[0mbatches\u001b[0m\u001b[0;34m)\u001b[0m\u001b[0;34m\u001b[0m\u001b[0;34m\u001b[0m\u001b[0m\n\u001b[1;32m     28\u001b[0m     \u001b[0mcv2\u001b[0m\u001b[0;34m.\u001b[0m\u001b[0mimwrite\u001b[0m\u001b[0;34m(\u001b[0m\u001b[0mname\u001b[0m\u001b[0;34m,\u001b[0m\u001b[0mrearranged\u001b[0m\u001b[0;34m.\u001b[0m\u001b[0mastype\u001b[0m\u001b[0;34m(\u001b[0m\u001b[0mnp\u001b[0m\u001b[0;34m.\u001b[0m\u001b[0muint16\u001b[0m\u001b[0;34m)\u001b[0m\u001b[0;34m)\u001b[0m\u001b[0;34m\u001b[0m\u001b[0;34m\u001b[0m\u001b[0m\n",
      "\u001b[0;32m~/.local/lib/python3.8/site-packages/numpy/core/overrides.py\u001b[0m in \u001b[0;36mhstack\u001b[0;34m(*args, **kwargs)\u001b[0m\n",
      "\u001b[0;32m~/.local/lib/python3.8/site-packages/numpy/core/shape_base.py\u001b[0m in \u001b[0;36mhstack\u001b[0;34m(tup)\u001b[0m\n\u001b[1;32m    343\u001b[0m         \u001b[0;32mreturn\u001b[0m \u001b[0m_nx\u001b[0m\u001b[0;34m.\u001b[0m\u001b[0mconcatenate\u001b[0m\u001b[0;34m(\u001b[0m\u001b[0marrs\u001b[0m\u001b[0;34m,\u001b[0m \u001b[0;36m0\u001b[0m\u001b[0;34m)\u001b[0m\u001b[0;34m\u001b[0m\u001b[0;34m\u001b[0m\u001b[0m\n\u001b[1;32m    344\u001b[0m     \u001b[0;32melse\u001b[0m\u001b[0;34m:\u001b[0m\u001b[0;34m\u001b[0m\u001b[0;34m\u001b[0m\u001b[0m\n\u001b[0;32m--> 345\u001b[0;31m         \u001b[0;32mreturn\u001b[0m \u001b[0m_nx\u001b[0m\u001b[0;34m.\u001b[0m\u001b[0mconcatenate\u001b[0m\u001b[0;34m(\u001b[0m\u001b[0marrs\u001b[0m\u001b[0;34m,\u001b[0m \u001b[0;36m1\u001b[0m\u001b[0;34m)\u001b[0m\u001b[0;34m\u001b[0m\u001b[0;34m\u001b[0m\u001b[0m\n\u001b[0m\u001b[1;32m    346\u001b[0m \u001b[0;34m\u001b[0m\u001b[0m\n\u001b[1;32m    347\u001b[0m \u001b[0;34m\u001b[0m\u001b[0m\n",
      "\u001b[0;32m~/.local/lib/python3.8/site-packages/numpy/core/overrides.py\u001b[0m in \u001b[0;36mconcatenate\u001b[0;34m(*args, **kwargs)\u001b[0m\n",
      "\u001b[0;31mKeyboardInterrupt\u001b[0m: "
     ]
    }
   ],
   "source": [
    "infofile = str(round(rays0['ts'][0]*1e6))+\"_\"+str(round(rays0['ts'][-1]*1e6))+\".info\"\n",
    "print(\"Saving to:\",infofile)\n",
    "print()\n",
    "\n",
    "original_stdout = sys.stdout # Save a reference to the original standard output\n",
    "\n",
    "with open(infofile, 'w') as f:\n",
    "    sys.stdout = f # Change the standard output to the file we created.\n",
    "    print(\"# Transform between map and pixels (opengl flooring convention):\")\n",
    "    print(\"T_px_f=\",T_px_f.tolist())\n",
    "    print(\"# Image info\")\n",
    "    print(\"W,H,th_bins=\",(W,H,th_bins))\n",
    "    print(\"# Which rays were used:\")\n",
    "    print(\"start_time=\", str(np.min(rays0['ts'])))\n",
    "    print(\"end_time=\", str(np.max(rays0['ts'])))\n",
    "    print(\"# Base dataset:\")\n",
    "    print(\"rayfile=\",str(rayfile))\n",
    "    sys.stdout = original_stdout \n",
    "with open(infofile, 'r') as f:\n",
    "    print(f.read())\n",
    "import cv2\n",
    "\n",
    "def writeim(name, IM):\n",
    "    # storage format is 16 bit unsigned\n",
    "    layers=[IM[:,:,layer] for layer in range(IM.shape[2])]\n",
    "    batches=[np.hstack(layers[off:off+40]) for off in range(0,IM.shape[2],40)]\n",
    "    rearranged = np.vstack(batches)\n",
    "    cv2.imwrite(name,rearranged.astype(np.uint16))\n",
    "writeim(\"MISS.png\", MISS)\n",
    "writeim(\"HIT.png\", HIT)\n",
    "cv2.imwrite(\"refl_cache.png\",refl_cache)\n",
    "cv2.imwrite(\"allkept.png\" , ((allkept>0)*255).astype(np.uint8))\n",
    "countvis = np.sum(CLASSIFIED_RFM, axis=2).astype(np.uint16)\n",
    "counttrans = np.sum((CLASSIFIED_RFM==0)&(MISS>0), axis=2).astype(np.uint16)\n",
    "cv2.imwrite(\"countvis.png\" , countvis)\n",
    "cv2.imwrite(\"counttrans.png\" , counttrans)\n",
    "cv2.imwrite(\"countratio.png\" , (countvis*1.0/(counttrans+countvis)*255).astype('uint8'))"
   ]
  },
  {
   "cell_type": "markdown",
   "metadata": {
    "tags": []
   },
   "source": [
    "# GENERATE FIGURES"
   ]
  },
  {
   "cell_type": "markdown",
   "metadata": {
    "tags": []
   },
   "source": [
    "### H Figure (RUN BEFORE REMOVALS)"
   ]
  },
  {
   "cell_type": "code",
   "execution_count": null,
   "metadata": {
    "tags": []
   },
   "outputs": [],
   "source": [
    "# ## H figure from North Wall, with background removed\n",
    "# # Colors show how widely visible the cell is\n",
    "# # Requires \"/bbb3_glass_eval_111716.rays\" dataset, with\n",
    "# #   substart=0\n",
    "# #   subend=int(2.0e6)\n",
    "# %matplotlib widget\n",
    "# plt.imshow(np.clip(np.sum(vox_refl,axis=2),0,15).T, cmap='gray')\n",
    "# # plt.imshow(allkept.T>0)\n",
    "# plt.ylim(250,0)\n",
    "# plt.xlim(200,500)\n",
    "# # y=[106:121]\n",
    "# # x=[218:475]\n",
    "# plt.plot([218,218,475,475,218],[106,121,121,106,106],'c')\n",
    "\n",
    "# to_show=np.nonzero(rfmcomps!=rfmcomps[-3,-3,-3])\n",
    "# # per=np.random.permutation(int(np.max(rfmcomps2))+1)\n",
    "# %gui qt\n",
    "\n",
    "# newselcolor=np.max(rfmcomps[HIGHLY_VISIBLE,:])\n",
    "\n",
    "# import mayavi.mlab\n",
    "# to_show=np.array(to_show).reshape(3,-1)\n",
    "# print(to_show.shape)\n",
    "# to_show=to_show[:,to_show[1]>=106]\n",
    "# to_show=to_show[:,to_show[1]<=121]\n",
    "# to_show=to_show[:,to_show[0]>=218]\n",
    "# to_show=to_show[:,to_show[0]<=475]\n",
    "# to_show=to_show[:,rfmcomps[tuple(to_show)]==newselcolor]\n",
    "\n",
    "# print(to_show.shape)\n",
    "# # to_show=to_show[:,to_show[1]>106]\n",
    "# # color = np.sum(vox_refl>0.3,axis=2)[tuple(to_show[:2])]\n",
    "# color=(HIT+MISS)[tuple(to_show)]\n",
    "# # color=score[tuple(to_show[:2])]\n",
    "\n",
    "# # color=per[rfmcomps[tuple(to_show)].astype(int)]\n",
    "# mayavi.mlab.close(all=True)\n",
    "# mayavi.mlab.points3d(to_show[0], to_show[1], to_show[2], color, colormap='spectral', mode= 'point')"
   ]
  },
  {
   "cell_type": "code",
   "execution_count": null,
   "metadata": {
    "tags": []
   },
   "outputs": [],
   "source": [
    "# ## H figure from circle region, with background removed ------------------------------\n",
    "# # Colors show how widely visible the cell is\n",
    "# # Requires \"/bbb3_glass_eval_111716.rays\" dataset, with\n",
    "# #   substart=int(8e6)\n",
    "# #   subend=int(11e6)\n",
    "# %matplotlib widget\n",
    "# plt.imshow(np.clip(np.sum(vox_refl,axis=2),0,15).T, cmap='gray_r')\n",
    "# # plt.imshow(allkept.T>0)\n",
    "# plt.ylim(450,150)\n",
    "# plt.xlim(350,500)\n",
    "# # y=[106:121]\n",
    "# # x=[218:475]\n",
    "# plt.plot([218,218,475,475,218],[106,121,121,106,106],'c')\n",
    "# th=np.linspace(0,2*np.pi)\n",
    "# r=58\n",
    "# plt.plot(r*np.cos(th)+407,r*np.sin(th)+291,\"g\")\n",
    "# r=63\n",
    "# plt.plot(r*np.cos(th)+407,r*np.sin(th)+291,\"g\")\n",
    "\n",
    "# plt.plot(px_ept[:,0][notref==0]-0.5,px_ept[:,1][notref==0]-0.5,'b,')\n",
    "\n",
    "# plt.figure()\n",
    "# plt.imshow(counttrans+countvis*10)\n",
    "\n",
    "\n",
    "# ## 3D half --------------------------------------------------------------------------\n",
    "# to_show=np.nonzero(rfmcomps!=rfmcomps[-3,-3,-3])\n",
    "\n",
    "# # per=np.random.permutation(int(np.max(rfmcomps2))+1)\n",
    "# %gui qt\n",
    "\n",
    "# newselcolor=np.max(rfmcomps[HIGHLY_VISIBLE,:])\n",
    "\n",
    "# import mayavi.mlab\n",
    "# to_show=np.array(to_show).reshape(3,-1)\n",
    "# print(to_show.shape)\n",
    "# r=np.sqrt((to_show[0]-407)**2+(to_show[1]-291)**2)\n",
    "# keep = (r>58) & (r<63)\n",
    "# to_show=to_show[:,keep]\n",
    "# to_show=to_show[:,rfmcomps[tuple(to_show)]==newselcolor]\n",
    "\n",
    "# print(to_show.shape)\n",
    "# # to_show=to_show[:,to_show[1]>106]\n",
    "\n",
    "# color = np.clip((np.sum(vox_refl>0.3,axis=2)[tuple(to_show[:2])])/4,0,wide_threshold/4*2)\n",
    "# color = countratio[tuple(to_show[:2])]\n",
    "\n",
    "# # color=(HIT+MISS)[tuple(to_show)]\n",
    "# # color=score[tuple(to_show[:2])]\n",
    "\n",
    "# # color=per[rfmcomps[tuple(to_show)].astype(int)]\n",
    "# mayavi.mlab.close(all=True)\n",
    "\n",
    "# mayavi.mlab.points3d(to_show[0], -to_show[1], to_show[2]/4, color*100, colormap='spectral', mode= 'point')\n",
    "# f = mayavi.mlab.gcf()\n",
    "# camera = f.scene.camera\n",
    "\n",
    "# camera.position=[407,-291,400]\n",
    "# camera.view_up=[0,1,0]\n",
    "# camera.focal_point = [407,-291,180]\n",
    "# camera.view_angle=70\n",
    "\n",
    "# # Need to roll mouse to rerender\n",
    "# # 1. Enable legend\n",
    "# # 2. set ticks to 11\n",
    "# # 3. set legend actor to tick format %-#6.1g\n",
    "# # 4. label %reflective\n",
    "# # 5. set legend actor Vertical Title Separation to 5\n",
    "\n",
    "# # Try:\n",
    "# # Whiter background for color contrast\n",
    "# # Red for walls\n",
    "# # Blue for glass\n",
    "# # "
   ]
  },
  {
   "cell_type": "code",
   "execution_count": null,
   "metadata": {
    "tags": []
   },
   "outputs": [],
   "source": [
    "# ## H figure from circle region, with background removed Fig 1 version ------------------------------\n",
    "# # Colors show how widely visible the cell is\n",
    "# # Requires \"/bbb3_glass_eval_111716.rays\" dataset, with\n",
    "# #   substart=int(8e6)\n",
    "# #   subend=int(11e6)\n",
    "# %matplotlib widget\n",
    "# plt.imshow(np.clip(np.sum(vox_refl,axis=2),0,15).T, cmap='gray_r')\n",
    "# # plt.imshow(allkept.T>0)\n",
    "# xc=234\n",
    "# yc=304\n",
    "# plt.ylim(450-291+yc,150-291+yc)\n",
    "# plt.xlim(350-407+xc,500-407+xc)\n",
    "# # y=[106:121]\n",
    "# # x=[218:475]\n",
    "# plt.plot([218,218,475,475,218],[106,121,121,106,106],'c')\n",
    "\n",
    "# th=np.linspace(0,2*np.pi)\n",
    "# r=58\n",
    "# plt.plot(r*np.cos(th)+xc,r*np.sin(th)+yc,\"g\")\n",
    "# r=63\n",
    "# plt.plot(r*np.cos(th)+xc,r*np.sin(th)+yc,\"g\")\n",
    "\n",
    "# plt.plot(px_ept[:,0][notref==0]-0.5,px_ept[:,1][notref==0]-0.5,'b,')\n",
    "\n",
    "# plt.figure()\n",
    "# plt.imshow(counttrans+countvis*10)\n",
    "\n",
    "# ## 3D half --------------------------------------------------------------------------\n",
    "# to_show=np.nonzero(rfmcomps!=rfmcomps[-3,-3,-3])\n",
    "\n",
    "# # per=np.random.permutation(int(np.max(rfmcomps2))+1)\n",
    "# %gui qt\n",
    "\n",
    "# newselcolor=np.max(rfmcomps[HIGHLY_VISIBLE,:])\n",
    "\n",
    "# import mayavi.mlab\n",
    "# to_show=np.array(to_show).reshape(3,-1)\n",
    "# print(to_show.shape)\n",
    "\n",
    "# r=np.sqrt((to_show[0]-xc)**2+(to_show[1]-yc)**2)\n",
    "# keep = (r>58) & (r<63)\n",
    "# to_show=to_show[:,keep]\n",
    "# to_show=to_show[:,rfmcomps[tuple(to_show)]==newselcolor]\n",
    "\n",
    "# print(to_show.shape)\n",
    "# # to_show=to_show[:,to_show[1]>106]\n",
    "\n",
    "# color = np.clip((np.sum(vox_refl>0.3,axis=2)[tuple(to_show[:2])])/4,0,wide_threshold/4*2)\n",
    "# color = countratio[tuple(to_show[:2])]\n",
    "\n",
    "# # color=(HIT+MISS)[tuple(to_show)]\n",
    "# # color=score[tuple(to_show[:2])]\n",
    "\n",
    "# # color=per[rfmcomps[tuple(to_show)].astype(int)]\n",
    "# mayavi.mlab.close(all=True)\n",
    "\n",
    "# mayavi.mlab.points3d(to_show[0], -to_show[1], to_show[2]/4, color*100, colormap='spectral', mode= 'point')\n",
    "# f = mayavi.mlab.gcf()\n",
    "# camera = f.scene.camera\n",
    "\n",
    "# camera.position=[xc,-yc,400]\n",
    "# camera.view_up=[0,1,0]\n",
    "# camera.focal_point = [xc,-yc,180]\n",
    "# camera.view_angle=70\n",
    "\n",
    "# # Need to roll mouse to rerender\n",
    "# # 1. Enable legend\n",
    "# # 2. set ticks to 11\n",
    "# # 3. set legend actor to tick format %-#6.1g\n",
    "# # 4. label %reflective\n",
    "# # 5. set legend actor Vertical Title Separation to 5\n",
    "\n",
    "# # Try:\n",
    "# # Whiter background for color contrast\n",
    "# # Red for walls\n",
    "# # Blue for glass\n",
    "# # "
   ]
  },
  {
   "cell_type": "markdown",
   "metadata": {},
   "source": [
    "# Do GT work"
   ]
  },
  {
   "cell_type": "markdown",
   "metadata": {},
   "source": [
    "# Stages and Inputs:\n",
    "1. Base RFM\n",
    "      1. Require: rays, Optional: is_ref_rays\n",
    "      2. % visible\n",
    "      3. countref\n",
    "      4. vox_refl\n",
    "      5. [not really done] update flood_cache\n",
    "      6. update high_viz_seeds\n",
    "      7. update refl_cache <- threshhold %visible \n",
    "2. Motion Removal\n",
    "      1. Requires: vox_refl, high_viz_seeds\n",
    "      2. conncomps <- before flood\n",
    "      3. floodcomps <- after flood\n",
    "      4. update refl_cache\n",
    "3. Reflection Removal\n",
    "      1. Requires: rays, refl_cache\n",
    "      2. is_ref_rays\n",
    "4. RFM #2\n",
    "5. Motion Removal #2\n",
    "\n",
    "\n",
    "\n",
    "Strategies\n",
    "[assume all reflection removal immediately followed by RFM]\n",
    "\n",
    "0. OCC GRID\n",
    "\n",
    "1. \n",
    "RFM\n",
    "\n",
    "2. \n",
    "RFM\n",
    "MOT\n",
    "\n",
    "3. \n",
    "RFM\n",
    "MOT\n",
    "REF\n",
    "\n",
    "4. \n",
    "RFM\n",
    "REF\n",
    "REF\n",
    "REF\n",
    "REF\n",
    "\n",
    "5. \n",
    "RFM\n",
    "MOT\n",
    "REF\n",
    "MOT\n",
    "\n",
    "6. \n",
    "RFM\n",
    "REF\n",
    "MOT\n",
    "REF\n",
    "MOT\n",
    "REF\n",
    "MOT\n",
    "REF\n",
    "MOT\n",
    "...\n",
    "\n",
    "\n",
    "      \n",
    "      "
   ]
  },
  {
   "cell_type": "code",
   "execution_count": 36,
   "metadata": {},
   "outputs": [
    {
     "data": {
      "application/vnd.jupyter.widget-view+json": {
       "model_id": "38c61bf557224bb38b79d5648214a282",
       "version_major": 2,
       "version_minor": 0
      },
      "text/plain": [
       "Canvas(toolbar=Toolbar(toolitems=[('Home', 'Reset original view', 'home', 'home'), ('Back', 'Back to previous …"
      ]
     },
     "metadata": {},
     "output_type": "display_data"
    },
    {
     "data": {
      "application/vnd.jupyter.widget-view+json": {
       "model_id": "951df25a41334177b9f6028c795cdcdd",
       "version_major": 2,
       "version_minor": 0
      },
      "text/plain": [
       "Canvas(toolbar=Toolbar(toolitems=[('Home', 'Reset original view', 'home', 'home'), ('Back', 'Back to previous …"
      ]
     },
     "metadata": {},
     "output_type": "display_data"
    },
    {
     "name": "stdout",
     "output_type": "stream",
     "text": [
      "14873277\n"
     ]
    },
    {
     "data": {
      "application/vnd.jupyter.widget-view+json": {
       "model_id": "3d37d9f24e3a4e99b710337a6d0e3977",
       "version_major": 2,
       "version_minor": 0
      },
      "text/plain": [
       "Canvas(toolbar=Toolbar(toolitems=[('Home', 'Reset original view', 'home', 'home'), ('Back', 'Back to previous …"
      ]
     },
     "metadata": {},
     "output_type": "display_data"
    },
    {
     "data": {
      "text/plain": [
       "<matplotlib.image.AxesImage at 0x7f81bae1ea30>"
      ]
     },
     "execution_count": 36,
     "metadata": {},
     "output_type": "execute_result"
    }
   ],
   "source": [
    "%matplotlib widget\n",
    "\n",
    "# load_gt()\n",
    "# convert to points\n",
    "# Kd tree for DNN\n",
    "import cv2\n",
    "gti = cv2.imread(\"bbb3_glass_eval_111716-gt.png\")\n",
    "\n",
    "# Detect ablations and fill in \n",
    "try: allkept\n",
    "except NameError: allkept = refl_cache.copy()\n",
    "try: sc\n",
    "except NameError: sc = 1.090575\n",
    "try: selected\n",
    "except NameError: selected = (refl_cache!=0)\n",
    "\n",
    "\n",
    "# plt.imshow(gti)\n",
    "empty = np.min(gti,axis=2)[2::5,2::5].T\n",
    "plt.imshow((empty + (allkept>0)*500), cmap='gray')\n",
    "\n",
    "bounds=(np.max(gti,axis=2).T==255)&(np.min(gti,axis=2).T==0)\n",
    "gtglass = (gti[:,:,0]==255).T&(np.min(gti,axis=2).T==0)\n",
    "gtmetal = (gti[:,:,2]==255).T&(np.min(gti,axis=2).T==0)\n",
    "gtdiffuse = (gti[:,:,1]==255).T&(np.min(gti,axis=2).T==0)\n",
    "gtwall = np.nonzero(bounds)\n",
    "gtwall[0][:] = gtwall[0]/5\n",
    "gtwall[1][:] = gtwall[1]/5\n",
    "\n",
    "plt.figure()\n",
    "plt.imshow(np.dstack([gtmetal,gtdiffuse,gtglass])*1.0)\n",
    "\n",
    "assert(np.sum(gtmetal&gtdiffuse)==0)\n",
    "assert(np.sum(gtmetal&gtglass)==0)\n",
    "assert(np.sum(gtglass&gtdiffuse)==0)\n",
    "assert(np.all((gtmetal|gtglass|gtdiffuse)==bounds))\n",
    "\n",
    "\n",
    "\n",
    "gtrefbarrier = np.zeros_like(refl_cache, bool)\n",
    "gtrefbarrier[gtwall[0],gtwall[1]] = True\n",
    "\n",
    "wide_bar = cv2.dilate(((gtrefbarrier!=0)*255).astype('uint8'),np.ones((3,3),np.uint8))\n",
    "assert(not np.any((wide_bar==0)&(gtrefbarrier!=0)))\n",
    "print(np.sum(gtwall[0]))\n",
    "plt.figure()\n",
    "plt.imshow(gtrefbarrier.T)"
   ]
  },
  {
   "cell_type": "markdown",
   "metadata": {},
   "source": [
    "Get GT reflection classes"
   ]
  },
  {
   "cell_type": "code",
   "execution_count": 37,
   "metadata": {},
   "outputs": [
    {
     "name": "stderr",
     "output_type": "stream",
     "text": [
      "100%|██████████| 200/200 [00:01<00:00, 114.30it/s]\n",
      "100%|██████████| 200/200 [00:01<00:00, 113.74it/s]\n",
      "100%|██████████| 200/200 [00:01<00:00, 103.49it/s]\n"
     ]
    }
   ],
   "source": [
    "\n",
    "lim=len(keeprays)\n",
    "\n",
    "\n",
    "# VERY EXPENSIVE: touched barrier, got near barrier, went way through barrier\n",
    "refl_cache[...] = gtrefbarrier\n",
    "keptrays, realclass = classify(outrays[:,:lim].copy(),pen_depth=0.3)\n",
    "\n",
    "\n",
    "refl_cache[...] = wide_bar\n",
    "keptrays, closenref = classify(outrays[:,:lim].copy(),pen_depth=0.0)\n",
    "\n",
    "refl_cache[...] = (empty==0)\n",
    "keptrays, inzone = classify(outrays[:,:lim].copy(),pen_depth=0.0)"
   ]
  },
  {
   "cell_type": "code",
   "execution_count": 73,
   "metadata": {},
   "outputs": [
    {
     "data": {
      "application/vnd.jupyter.widget-view+json": {
       "model_id": "338ecceb0c6d44b496581a5cef768284",
       "version_major": 2,
       "version_minor": 0
      },
      "text/plain": [
       "Canvas(toolbar=Toolbar(toolitems=[('Home', 'Reset original view', 'home', 'home'), ('Back', 'Back to previous …"
      ]
     },
     "metadata": {},
     "output_type": "display_data"
    },
    {
     "name": "stdout",
     "output_type": "stream",
     "text": [
      "defnotref: 5954\n"
     ]
    },
    {
     "name": "stderr",
     "output_type": "stream",
     "text": [
      "<ipython-input-73-80c9cf7285c2>:102: UserWarning: The handle <matplotlib.lines.Line2D object at 0x7f7f0c969c70> has a label of '_nolegend_' which cannot be automatically added to the legend.\n",
      "  plt.gca().legend(['Reflections', 'Motion','Glass','_nolegend_','Diffuse',#'Sensor','_nolegend_',\n",
      "<ipython-input-73-80c9cf7285c2>:105: UserWarning: Creating legend with loc=\"best\" can be slow with large amounts of data.\n",
      "  plt.tight_layout()\n",
      "<ipython-input-73-80c9cf7285c2>:110: UserWarning: Creating legend with loc=\"best\" can be slow with large amounts of data.\n",
      "  plt.savefig('GT Linear H Fig-feb.png')\n"
     ]
    },
    {
     "data": {
      "application/vnd.jupyter.widget-view+json": {
       "model_id": "305840c948da4bacb9ab0e84835caf89",
       "version_major": 2,
       "version_minor": 0
      },
      "text/plain": [
       "Canvas(toolbar=Toolbar(toolitems=[('Home', 'Reset original view', 'home', 'home'), ('Back', 'Back to previous …"
      ]
     },
     "metadata": {},
     "output_type": "display_data"
    },
    {
     "name": "stdout",
     "output_type": "stream",
     "text": [
      "0 1\n",
      "0 2\n",
      "0 3\n",
      "0 4\n",
      "1 0\n",
      "1 2\n",
      "1 3\n",
      "1 4\n",
      "2 0\n",
      "2 1\n",
      "2 3\n",
      "2 4\n",
      "3 0\n",
      "3 1\n",
      "3 2\n",
      "3 4\n",
      "4 0\n",
      "4 1\n",
      "4 2\n",
      "4 3\n",
      "Measurable verse: 95369\n",
      "TP refl: 32267\n",
      "Help on function imshow in module matplotlib.pyplot:\n",
      "\n",
      "imshow(X, cmap=None, norm=None, aspect=None, interpolation=None, alpha=None, vmin=None, vmax=None, origin=None, extent=None, shape=<deprecated parameter>, filternorm=1, filterrad=4.0, imlim=<deprecated parameter>, resample=None, url=None, *, data=None, **kwargs)\n",
      "    Display an image, i.e. data on a 2D regular raster.\n",
      "    \n",
      "    Parameters\n",
      "    ----------\n",
      "    X : array-like or PIL image\n",
      "        The image data. Supported array shapes are:\n",
      "    \n",
      "        - (M, N): an image with scalar data. The data is visualized\n",
      "          using a colormap.\n",
      "        - (M, N, 3): an image with RGB values (0-1 float or 0-255 int).\n",
      "        - (M, N, 4): an image with RGBA values (0-1 float or 0-255 int),\n",
      "          i.e. including transparency.\n",
      "    \n",
      "        The first two dimensions (M, N) define the rows and columns of\n",
      "        the image.\n",
      "    \n",
      "        Out-of-range RGB(A) values are clipped.\n",
      "    \n",
      "    cmap : str or `~matplotlib.colors.Colormap`, optional\n",
      "        The Colormap instance or registered colormap name used to map\n",
      "        scalar data to colors. This parameter is ignored for RGB(A) data.\n",
      "        Defaults to :rc:`image.cmap`.\n",
      "    \n",
      "    norm : `~matplotlib.colors.Normalize`, optional\n",
      "        The `Normalize` instance used to scale scalar data to the [0, 1]\n",
      "        range before mapping to colors using *cmap*. By default, a linear\n",
      "        scaling mapping the lowest value to 0 and the highest to 1 is used.\n",
      "        This parameter is ignored for RGB(A) data.\n",
      "    \n",
      "    aspect : {'equal', 'auto'} or float, optional\n",
      "        Controls the aspect ratio of the axes. The aspect is of particular\n",
      "        relevance for images since it may distort the image, i.e. pixel\n",
      "        will not be square.\n",
      "    \n",
      "        This parameter is a shortcut for explicitly calling\n",
      "        `.Axes.set_aspect`. See there for further details.\n",
      "    \n",
      "        - 'equal': Ensures an aspect ratio of 1. Pixels will be square\n",
      "          (unless pixel sizes are explicitly made non-square in data\n",
      "          coordinates using *extent*).\n",
      "        - 'auto': The axes is kept fixed and the aspect is adjusted so\n",
      "          that the data fit in the axes. In general, this will result in\n",
      "          non-square pixels.\n",
      "    \n",
      "        If not given, use :rc:`image.aspect` (default: 'equal').\n",
      "    \n",
      "    interpolation : str, optional\n",
      "        The interpolation method used. If *None*\n",
      "        :rc:`image.interpolation` is used, which defaults to 'nearest'.\n",
      "    \n",
      "        Supported values are 'none', 'nearest', 'bilinear', 'bicubic',\n",
      "        'spline16', 'spline36', 'hanning', 'hamming', 'hermite', 'kaiser',\n",
      "        'quadric', 'catrom', 'gaussian', 'bessel', 'mitchell', 'sinc',\n",
      "        'lanczos'.\n",
      "    \n",
      "        If *interpolation* is 'none', then no interpolation is performed\n",
      "        on the Agg, ps, pdf and svg backends. Other backends will fall back\n",
      "        to 'nearest'. Note that most SVG renders perform interpolation at\n",
      "        rendering and that the default interpolation method they implement\n",
      "        may differ.\n",
      "    \n",
      "        See\n",
      "        :doc:`/gallery/images_contours_and_fields/interpolation_methods`\n",
      "        for an overview of the supported interpolation methods.\n",
      "    \n",
      "        Some interpolation methods require an additional radius parameter,\n",
      "        which can be set by *filterrad*. Additionally, the antigrain image\n",
      "        resize filter is controlled by the parameter *filternorm*.\n",
      "    \n",
      "    alpha : scalar, optional\n",
      "        The alpha blending value, between 0 (transparent) and 1 (opaque).\n",
      "        This parameter is ignored for RGBA input data.\n",
      "    \n",
      "    vmin, vmax : scalar, optional\n",
      "        When using scalar data and no explicit *norm*, *vmin* and *vmax*\n",
      "        define the data range that the colormap covers. By default,\n",
      "        the colormap covers the complete value range of the supplied\n",
      "        data. *vmin*, *vmax* are ignored if the *norm* parameter is used.\n",
      "    \n",
      "    origin : {'upper', 'lower'}, optional\n",
      "        Place the [0,0] index of the array in the upper left or lower left\n",
      "        corner of the axes. The convention 'upper' is typically used for\n",
      "        matrices and images.\n",
      "        If not given, :rc:`image.origin` is used, defaulting to 'upper'.\n",
      "    \n",
      "        Note that the vertical axes points upward for 'lower'\n",
      "        but downward for 'upper'.\n",
      "    \n",
      "        See the :doc:`/tutorials/intermediate/imshow_extent` tutorial for\n",
      "        examples and a more detailed description.\n",
      "    \n",
      "    extent : scalars (left, right, bottom, top), optional\n",
      "        The bounding box in data coordinates that the image will fill.\n",
      "        The image is stretched individually along x and y to fill the box.\n",
      "    \n",
      "        The default extent is determined by the following conditions.\n",
      "        Pixels have unit size in data coordinates. Their centers are on\n",
      "        integer coordinates, and their center coordinates range from 0 to\n",
      "        columns-1 horizontally and from 0 to rows-1 vertically.\n",
      "    \n",
      "        Note that the direction of the vertical axis and thus the default\n",
      "        values for top and bottom depend on *origin*:\n",
      "    \n",
      "        - For ``origin == 'upper'`` the default is\n",
      "          ``(-0.5, numcols-0.5, numrows-0.5, -0.5)``.\n",
      "        - For ``origin == 'lower'`` the default is\n",
      "          ``(-0.5, numcols-0.5, -0.5, numrows-0.5)``.\n",
      "    \n",
      "        See the :doc:`/tutorials/intermediate/imshow_extent` tutorial for\n",
      "        examples and a more detailed description.\n",
      "    \n",
      "    filternorm : bool, optional, default: True\n",
      "        A parameter for the antigrain image resize filter (see the\n",
      "        antigrain documentation).  If *filternorm* is set, the filter\n",
      "        normalizes integer values and corrects the rounding errors. It\n",
      "        doesn't do anything with the source floating point values, it\n",
      "        corrects only integers according to the rule of 1.0 which means\n",
      "        that any sum of pixel weights must be equal to 1.0.  So, the\n",
      "        filter function must produce a graph of the proper shape.\n",
      "    \n",
      "    filterrad : float > 0, optional, default: 4.0\n",
      "        The filter radius for filters that have a radius parameter, i.e.\n",
      "        when interpolation is one of: 'sinc', 'lanczos' or 'blackman'.\n",
      "    \n",
      "    resample : bool, optional\n",
      "        When *True*, use a full resampling method.  When *False*, only\n",
      "        resample when the output image is larger than the input image.\n",
      "    \n",
      "    url : str, optional\n",
      "        Set the url of the created `.AxesImage`. See `.Artist.set_url`.\n",
      "    \n",
      "    Returns\n",
      "    -------\n",
      "    image : `~matplotlib.image.AxesImage`\n",
      "    \n",
      "    Other Parameters\n",
      "    ----------------\n",
      "    **kwargs : `~matplotlib.artist.Artist` properties\n",
      "        These parameters are passed on to the constructor of the\n",
      "        `.AxesImage` artist.\n",
      "    \n",
      "    See also\n",
      "    --------\n",
      "    matshow : Plot a matrix or an array as an image.\n",
      "    \n",
      "    Notes\n",
      "    -----\n",
      "    Unless *extent* is used, pixel centers will be located at integer\n",
      "    coordinates. In other words: the origin will coincide with the center\n",
      "    of pixel (0, 0).\n",
      "    \n",
      "    There are two common representations for RGB images with an alpha\n",
      "    channel:\n",
      "    \n",
      "    -   Straight (unassociated) alpha: R, G, and B channels represent the\n",
      "        color of the pixel, disregarding its opacity.\n",
      "    -   Premultiplied (associated) alpha: R, G, and B channels represent\n",
      "        the color of the pixel, adjusted for its opacity by multiplication.\n",
      "    \n",
      "    `~matplotlib.pyplot.imshow` expects RGB images adopting the straight\n",
      "    (unassociated) alpha representation.\n",
      "    \n",
      "    .. note::\n",
      "        In addition to the above described arguments, this function can take a\n",
      "        **data** keyword argument. If such a **data** argument is given, the\n",
      "        following arguments are replaced by **data[<arg>]**:\n",
      "    \n",
      "        * All positional and all keyword arguments.\n",
      "    \n",
      "        Objects passed as **data** must support item access (``data[<arg>]``) and\n",
      "        membership test (``<arg> in data``).\n",
      "\n"
     ]
    }
   ],
   "source": [
    "%matplotlib widget\n",
    "plt.close('all')\n",
    "my_dpi=100\n",
    "plt.figure(figsize=(W/my_dpi*sc, H/my_dpi*sc), dpi=my_dpi)\n",
    "\n",
    "closeref = (closenref==0)\n",
    "\n",
    "# something is definitely a reflection if it touches a barrier, goes well through it, and ends not near the barrier\n",
    "\n",
    "# Base state\n",
    "# plt.plot(px_ept[:lim][keeprays,0], px_ept[:lim][keeprays,1] , 'w,')\n",
    "\n",
    "# Reflection\n",
    "intept = px_ept.astype(int)\n",
    "inrange = np.clip(px_ept.T, loclip[:2], hiclip[:2]).astype(int)\n",
    "endfar = (wide_bar[inrange[0],inrange[1]]==0)&keeprays\n",
    "outer = endfar[:lim]&(realclass==0)\n",
    "defref = outer&keeprays\n",
    "\n",
    "plt.plot(px_ept[:lim][defref,0], px_ept[:lim][defref,1] , 'c,')\n",
    "\n",
    "# Motion\n",
    "zone=empty\n",
    "defnotref = inzone&(closeref==0)&keeprays[:lim]\n",
    "print(\"defnotref:\",np.sum(defnotref))\n",
    "# plt.imshow(((empty==0).T))\n",
    "# plt.imshow((gtrefbarrier.T))\n",
    "import matplotlib as mpl\n",
    "vimg=np.dstack([gtmetal.T,gtdiffuse.T,gtglass.T])*1.0\n",
    "# import cv\n",
    "for i in range(1):\n",
    "    strel=cv2.getStructuringElement(cv2.MORPH_ELLIPSE, (2 * 5 + 1, 2 * 5 + 1),\n",
    "                                       (5, 5))\n",
    "    vimg=cv2.dilate(vimg.astype(np.float32),strel)\n",
    "imgplot= plt.imshow(vimg*0,extent=(0,W,H,0))\n",
    "\n",
    "def fatten(img):\n",
    "    strel=cv2.getStructuringElement(cv2.MORPH_ELLIPSE, (2 * 5 + 1, 2 * 5 + 1),\n",
    "                                       (5, 5))\n",
    "    vimg=cv2.dilate(img.astype(np.float32),strel)\n",
    "    return vimg.astype(img.dtype)\n",
    "\n",
    "# imgplot= plt.imshow(np.clip(selected.T,0,30)*0,cmap='gray',vmin=-10, vmax=30)\n",
    "transform = mpl.transforms.Affine2D().translate(0.5, 0.5)\n",
    "imgplot.set_transform(transform + plt.gca().transData)\n",
    "\n",
    "plt.plot(px_ept[:lim][defnotref,0], px_ept[:lim][defnotref,1] , 'm,')\n",
    "\n",
    "# Wall core\n",
    "inrange5 = np.clip(px_ept.T*5, loclip[:2]*5, hiclip[:2]*5).astype(int)\n",
    "keepcore = (bounds[inrange5[0],inrange5[1]]!=0)&keeprays\n",
    "# plt.plot(px_ept[:lim][keepcore,0], px_ept[:lim][keepcore,1] , 'y,')\n",
    "\n",
    "def easy_read_fig():\n",
    "    inrange5 = np.clip(px_ept.T*5, loclip[:2]*5, hiclip[:2]*5).astype(int)\n",
    "    glasscore = (fatten(gtglass)[inrange5[0],inrange5[1]]!=0)&keeprays&(defref==0)\n",
    "    plt.plot(px_ept[:lim][glasscore,0], px_ept[:lim][glasscore,1] , 'b,',markersize=1)\n",
    "\n",
    "    inrange5 = np.clip(px_ept.T*5, loclip[:2]*5, hiclip[:2]*5).astype(int)\n",
    "    metalcore = (fatten(gtmetal)[inrange5[0],inrange5[1]]!=0)&keeprays\n",
    "    plt.plot(px_ept[:lim][metalcore,0], px_ept[:lim][metalcore,1] , 'r,')\n",
    "\n",
    "    inrange5 = np.clip(px_ept.T*5, loclip[:2]*5, hiclip[:2]*5).astype(int)\n",
    "    diffusecore = (fatten(gtdiffuse)[inrange5[0],inrange5[1]]!=0)&keeprays\n",
    "    plt.plot(px_ept[:lim][diffusecore,0], px_ept[:lim][diffusecore,1] , 'g,',markersize=1)\n",
    "easy_read_fig()\n",
    "\n",
    "inrange5 = np.clip(px_ept.T*5, loclip[:2]*5, hiclip[:2]*5).astype(int)\n",
    "glasscore = (gtglass[inrange5[0],inrange5[1]]!=0)&keeprays\n",
    "# plt.plot(px_ept[:lim][glasscore,0], px_ept[:lim][glasscore,1] , 'b,',markersize=1)\n",
    "\n",
    "inrange5 = np.clip(px_ept.T*5, loclip[:2]*5, hiclip[:2]*5).astype(int)\n",
    "metalcore = (gtmetal[inrange5[0],inrange5[1]]!=0)&keeprays\n",
    "# plt.plot(px_ept[:lim][metalcore,0], px_ept[:lim][metalcore,1] , 'r,')\n",
    "\n",
    "inrange5 = np.clip(px_ept.T*5, loclip[:2]*5, hiclip[:2]*5).astype(int)\n",
    "diffusecore = (gtdiffuse[inrange5[0],inrange5[1]]!=0)&keeprays\n",
    "# plt.plot(px_ept[:lim][diffusecore,0], px_ept[:lim][diffusecore,1] , 'g,',markersize=1)\n",
    "\n",
    "stp=28100\n",
    "def smooth_line(x_,y_):\n",
    "    from scipy.interpolate import make_interp_spline\n",
    "    y = x_\n",
    "    x = np.arange(len(y))\n",
    "    X_Y_Spline = make_interp_spline(x,y)\n",
    "    X_ = np.linspace(x.min(), x.max(), 500)\n",
    "    X_ = X_Y_Spline(X_)\n",
    "    y = y_\n",
    "    x = np.arange(len(y))\n",
    "    X_Y_Spline = make_interp_spline(x,y)\n",
    "    X_2 = np.linspace(x.min(), x.max(), 500)\n",
    "    Y_ = X_Y_Spline(X_2)\n",
    "    return X_,Y_\n",
    "X_,Y_ = smooth_line(px_spt[:lim][:,0][rays['idx']==1][::stp],px_spt[:lim][:,1][rays['idx']==1][::stp] )\n",
    "# plt.plot(X_, Y_, 'y') \n",
    "X_,Y_ = smooth_line(px_spt[:lim][:,0][rays['idx']==0][1000::stp],px_spt[:lim][:,1][rays['idx']==0][1000::stp] )\n",
    "# plt.plot(X_, Y_, 'y') \n",
    "plt.xlabel('x')\n",
    "\n",
    "plt.plot([395,395,542,542,395],[384,417,417,384,384],'w')\n",
    "\n",
    "plt.gca().legend(['Reflections', 'Motion','Glass','_nolegend_','Diffuse',#'Sensor','_nolegend_',\n",
    "                   'Region of Interest'])\n",
    "\n",
    "plt.tight_layout()\n",
    "plt.ylim(452,342)\n",
    "plt.xlim(330,580)\n",
    "plt.xlabel('x')\n",
    "plt.ylabel('y')\n",
    "plt.savefig('GT Linear H Fig-feb.png')\n",
    "\n",
    "plt.figure(figsize=(refl_cache.shape[0]*0.5*1.37/my_dpi*sc, 200/my_dpi*sc), dpi=my_dpi)\n",
    "imgplot = plt.imshow(vimg*0+0.8,extent=(395,542,-np.pi,np.pi),aspect=\"auto\")\n",
    "# transform = mpl.transforms.Affine2D().translate(0.5, 0.5)\n",
    "# imgplot.set_transform(transform + plt.gca().transData)\n",
    "rnr=rays0[:lim][defnotref]\n",
    "plt.plot(px_ept[:lim][defnotref,0][rnr['r']>0], -rays0['th'][:lim][defnotref][rnr['r']>0]-0.1 , 'm,')\n",
    "plt.xlim(395,542)\n",
    "plt.ylim(-np.pi,np.pi)\n",
    "plt.xlabel('x')\n",
    "plt.ylabel('θ')\n",
    "plt.savefig('GT Linear H Fig-inset feb.png')\n",
    "assert(np.sum(diffusecore&endfar)==0)\n",
    "eval_set = np.zeros_like(keeprays)\n",
    "classes = [defref, defnotref, glasscore, metalcore, diffusecore]\n",
    "for i in range(len(classes)):\n",
    "    eval_set |= classes[i]\n",
    "    for j in range(len(classes)):\n",
    "        if i==j:\n",
    "            continue\n",
    "        print(i,j)\n",
    "        assert(not np.any(classes[i]&classes[j]))\n",
    "assert(np.all((glasscore| metalcore|diffusecore)==(keepcore)))\n",
    "\n",
    "print(\"Measurable verse:\", np.sum(np.vstack(classes)))\n",
    "print(\"TP refl:\", np.sum(defref&(notref==0)))\n"
   ]
  },
  {
   "cell_type": "code",
   "execution_count": null,
   "metadata": {},
   "outputs": [],
   "source": [
    "# 3D\n",
    "\n",
    "%gui qt\n",
    "\n",
    "import mayavi.mlab\n",
    "\n",
    "to_show=np.nonzero(HIT>MISS)\n",
    "to_show=np.array(to_show).reshape(3,-1)\n",
    "\n",
    "to_show=to_show[:,to_show[1]>=386]\n",
    "to_show=to_show[:,to_show[1]<=416]\n",
    "to_show=to_show[:,to_show[0]>=395]\n",
    "to_show=to_show[:,to_show[0]<=542]\n",
    "\n",
    "\n",
    "print(to_show.shape)\n",
    "# to_show=to_show[:,to_show[1]>106]\n",
    "\n",
    "# color = np.clip((np.sum(vox_refl>0.3,axis=2)[tuple(to_show[:2])])/4,0,wide_threshold/4*2)\n",
    "color = countratio[tuple(to_show[:2])]\n",
    "\n",
    "# color=(HIT+MISS)[tuple(to_show)]\n",
    "# color=score[tuple(to_show[:2])]\n",
    "\n",
    "# color=per[rfmcomps[tuple(to_show)].astype(int)]\n",
    "mayavi.mlab.close(all=True)\n",
    "\n",
    "mayavi.mlab.points3d(to_show[0], -to_show[1], to_show[2]/4, color*100, colormap='spectral', mode= 'point')\n",
    "to_show=np.nonzero((HIT<=MISS))\n",
    "to_show=np.array(to_show).reshape(3,-1)\n",
    "\n",
    "to_show=to_show[:,to_show[1]==402]\n",
    "to_show=to_show[:,to_show[0]>=395]\n",
    "to_show=to_show[:,to_show[0]<=542]\n",
    "\n",
    "color = countratio[tuple(to_show[:2])]\n",
    "\n",
    "mayavi.mlab.close(all=True)\n",
    "\n",
    "mayavi.mlab.points3d(to_show[0], -to_show[1], to_show[2]/4, color, colormap='spectral', mode= 'point')\n",
    "f = mayavi.mlab.gcf()\n",
    "camera = f.scene.camera"
   ]
  },
  {
   "cell_type": "code",
   "execution_count": null,
   "metadata": {},
   "outputs": [],
   "source": [
    "camera.position=[390,-470,400]\n",
    "camera.view_up=[1,0,0]\n",
    "camera.focal_point = [390,-470,180]\n",
    "camera.view_angle=70"
   ]
  },
  {
   "cell_type": "code",
   "execution_count": null,
   "metadata": {
    "tags": []
   },
   "outputs": [],
   "source": [
    "# %matplotlib widget\n",
    "\n",
    "\n",
    "# plt.imshow(wide_bar.T,extent=(0,W,H,0))\n",
    "# # # transform = mpl.transforms.Affine2D().translate(0.5, 0.5)\n",
    "# # # imgplot.set_transform(transform + plt.gca().transData)\n",
    "\n",
    "\n",
    "# # overlapped=defref&diffusecore\n",
    "\n",
    "# plt.plot(px_ept[:lim][overlapped,0],px_ept[:lim][overlapped,1],'b.')\n",
    "\n",
    "# wide_bar[700,864]"
   ]
  },
  {
   "cell_type": "code",
   "execution_count": null,
   "metadata": {},
   "outputs": [],
   "source": [
    "%matplotlib widget\n",
    "plt.close('all')\n",
    "plt.figure(figsize=(refl_cache.shape[0]/my_dpi*sc, refl_cache.shape[1]/my_dpi*sc), dpi=my_dpi)\n",
    "\n",
    "imgplot= plt.imshow(np.clip(selected.T,0,30),cmap='gray_r',vmin=-5, vmax=5, extent=(0,W,H,0))\n",
    "plt.ylim(1000,700)\n",
    "plt.xlim(520,710)\n",
    "\n",
    "plt.savefig('Program Output.png')\n",
    "# plt.plot(px_ept[:lim][(notref==0),0], px_ept[:lim][(notref==0),1] , 'w,')"
   ]
  },
  {
   "cell_type": "code",
   "execution_count": null,
   "metadata": {},
   "outputs": [],
   "source": [
    "pred_ref = (notref == False)&eval_set\n",
    "pred_motion = (notref != False)&(allkept[inrange[0],inrange[1]]==0)&eval_set\n",
    "pred_static = (notref != False)&(allkept[inrange[0],inrange[1]]!=0)&eval_set\n",
    "\n",
    "print(\"Real ref:\", np.sum((pred_motion|pred_ref)&defref),\"(Pred Remove), \", np.sum(pred_static&defref), \"(Pred Keep)\")\n",
    "# print(\"total ref:\",np.sum(defref))\n",
    "print(\"Real motion:\", np.sum((pred_ref|pred_motion)&defnotref),\"(Pred Remove), \", np.sum(defnotref&pred_static), \"(Pred Keep)\")\n",
    "# print(\"total real motion:\",np.sum(defnotref))\n",
    "print()\n",
    "\n",
    "\n",
    "\n",
    "kept_solids = (allkept[inrange[0],inrange[1]]!=0)&keeprays&notref&eval_set\n",
    "removed_solids = (allkept[inrange[0],inrange[1]]==0)&keeprays&notref&eval_set\n",
    "removed_refl = (notref==0) & eval_set\n",
    "\n",
    "import inspect, re\n",
    "\n",
    "def varname(p):\n",
    "    for line in inspect.getframeinfo(inspect.currentframe().f_back)[3]:\n",
    "        m = re.search(r'\\bvarname\\s*\\(\\s*([A-Za-z_][A-Za-z0-9_]*)\\s*\\)', line)\n",
    "        if m:\n",
    "            return m.group(1)\n",
    "total=0\n",
    "# actual ['defref', 'defnotref', 'glasscore', 'metalcore', 'diffusecore'] -> \n",
    "for c,cn in zip(classes[2:],['glass', 'metal', 'diffuse']):\n",
    "    print('Actual', cn,'&', \n",
    "          np.sum(c&pred_static),'(Pred Keep) &',\n",
    "          np.sum((c&pred_motion)), '(Pred Remove)',\n",
    "          \"\"\"\\\\ \\hhline{~*\\items{|-}|}\"\"\")\n",
    "    \n",
    "# print(\"total attempted:\" , np.sum(keepcore)) # remainder is unclear reflection or wall\n",
    "\n",
    "assert(False)\n",
    "\n",
    "\n",
    "total_ref = np.sum(defref)\n",
    "print(\"Total Reflection\", total_ref)\n",
    "TP_reflection = np.sum((notref==0)*defref)\n",
    "print(\"TP Reflection\", TP_reflection)\n",
    "print(\"Reflection removed\", TP_reflection/total_ref)\n",
    "\n",
    "# total_not_ref = np.sum(defnotref\n",
    "FP_reflection = np.sum((notref==1)*defnotref)\n",
    "print(\"TP Reflection\", TP_reflection)\n",
    "print(\"Reflection removed\", TP_reflection/total_ref)"
   ]
  },
  {
   "cell_type": "code",
   "execution_count": null,
   "metadata": {},
   "outputs": [],
   "source": []
  }
 ],
 "metadata": {
  "kernelspec": {
   "display_name": "Python 3",
   "language": "python",
   "name": "python3"
  },
  "language_info": {
   "codemirror_mode": {
    "name": "ipython",
    "version": 3
   },
   "file_extension": ".py",
   "mimetype": "text/x-python",
   "name": "python",
   "nbconvert_exporter": "python",
   "pygments_lexer": "ipython3",
   "version": "3.8.10"
  }
 },
 "nbformat": 4,
 "nbformat_minor": 4
}
