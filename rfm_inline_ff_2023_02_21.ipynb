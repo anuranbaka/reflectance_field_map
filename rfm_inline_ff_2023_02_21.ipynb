{
 "cells": [
  {
   "cell_type": "code",
   "execution_count": 1,
   "metadata": {},
   "outputs": [],
   "source": [
    "import numpy as np\n",
    "%matplotlib widget\n",
    "import matplotlib.pyplot as plt\n",
    "import os\n",
    "from tqdm import tqdm"
   ]
  },
  {
   "cell_type": "code",
   "execution_count": 2,
   "metadata": {},
   "outputs": [],
   "source": [
    "# rayfile = \"/home/anuran/repos/Vulcan/bin/rayDump.rays\"\n",
    "rayfile = \"/bbb3_glass_eval_111716.rays\"\n",
    "# rayfile = \"/bbb3_glass_eval_fast_112016.rays\"\n",
    "raypath = os.getcwd()+rayfile\n"
   ]
  },
  {
   "cell_type": "code",
   "execution_count": 3,
   "metadata": {},
   "outputs": [],
   "source": [
    "# load rays\n",
    "rays_struct = np.dtype(\n",
    "    [\n",
    "        ('sx', np.float32),\n",
    "        ('sy', np.float32),\n",
    "        ('ex', np.float32),\n",
    "        ('ey', np.float32),\n",
    "        ('r' , np.float32),\n",
    "        ('th', np.float32),\n",
    "        ('i',  np.uint16),\n",
    "        ('pad',np.uint16),\n",
    "        ('idx',np.int32),\n",
    "        ('ts', np.float64), #remove for old ray file formats\n",
    "      ])\n",
    "\n",
    "# rays = np.memmap(rayfile,rays_struct, 'r',1)\n",
    "rays0 = np.fromfile(raypath, rays_struct)\n",
    "rays0 = rays0[:int(len(rays0)//1081*1081)]"
   ]
  },
  {
   "cell_type": "code",
   "execution_count": 4,
   "metadata": {},
   "outputs": [],
   "source": [
    "# split rays by sensor THIS IS A HACK RIGHT NOW!\n",
    "# .... actually, don't bother"
   ]
  },
  {
   "cell_type": "code",
   "execution_count": 5,
   "metadata": {},
   "outputs": [],
   "source": [
    "# #Debug Cell\n",
    "# %matplotlib widget\n",
    "# # quickly plot the bot path and rays\n",
    "# substart=int(8.0e6)\n",
    "# subend=int(11.0e6)\n",
    "# substart=int(substart//1081)*1081\n",
    "# subend=int(subend//1081)*1081\n",
    "# rayss = rays0[substart:subend]\n",
    "# rayss = rayss[np.abs(rayss['r'])<50]\n",
    "# plt.plot(rayss['ex'][::],rayss['ey'][::1],',')\n",
    "# plt.plot(rayss['sx'][::997],rayss['sy'][::997],',')\n",
    "# del rayss\n",
    "\n",
    "# print(\"Total starting rays:\", len(rays0))"
   ]
  },
  {
   "cell_type": "code",
   "execution_count": 6,
   "metadata": {},
   "outputs": [],
   "source": [
    "# #HACK use only one pass for algo debug\n",
    "# rays0 =  rays0[substart:subend]\n",
    "# rays0 = rays0[:int(len(rays0)//1081*1081)]\n",
    "\n",
    "# # HACK: pull out the rays for Fig 1\n",
    "# ok=(rays0['ts']>rays0['ts'][0]+208) & (rays0['ts']<rays0['ts'][0]+225)\n",
    "# rays0=rays0[ok]\n",
    "# rays0 = rays0[:int(len(rays0)//1081*1081)]"
   ]
  },
  {
   "cell_type": "markdown",
   "metadata": {
    "tags": []
   },
   "source": [
    "# Hyperparameter Setting Instructions\n",
    "1. CELLS_PER_M should indicate a cell width less than the max displacement of the robot between scans. \n",
    "   1. Otherwise there may be gaps between adjacent rays in the same direction.\n",
    "2. Theta width should be >= laser angular spacing, and <= min peak half-width at worst laser plane tilt\n",
    "   1. If you can't satisfy both, mount your laser better, stiffen your suspension, or get a blurrier (higher divergence) laser!\n",
    "3. Max range should be set so max_turn_rate * max_range < cell_width\n",
    "4. Currently, the max distance is hardcoded at 200 cells\n"
   ]
  },
  {
   "cell_type": "code",
   "execution_count": 7,
   "metadata": {},
   "outputs": [
    {
     "name": "stdout",
     "output_type": "stream",
     "text": [
      "Cell width: 0.05\n",
      "fcorns\n",
      " [[      28.71       12.34]\n",
      " [      70.15       76.33]]\n",
      "pxc_corns\n",
      " [[     574.11     -246.81]\n",
      " [    1402.93    -1526.6 ]]\n",
      "pxc_topleft\n",
      " [     574       -1527   ]\n",
      "pxc_btmright\n",
      " [    1403        -246   ]\n",
      "pxc_extent\n",
      " [     829        1281   ]\n",
      "px_corns\n",
      " [[       0.11     1280.19]\n",
      " [     828.93        0.4 ]]\n",
      "px_topleft\n",
      " [       0           0   ]\n",
      "px_btmright\n",
      " [     829        1281   ]\n",
      "px_extent\n",
      " [     829        1281   ]\n"
     ]
    }
   ],
   "source": [
    "## Find the max extent of the map and transforms\n",
    "\n",
    "keep=(rays0['r']<10000)*(rays0['r']<10000)\n",
    "rays=rays0[keep==1]\n",
    "\n",
    "## Figure out rasterization\n",
    "# Floor of float coords is integer coords\n",
    "# Images are y flipped\n",
    "\n",
    "def homp(T,pts):\n",
    "    tmppts = pts @ T[:-1,:-1].T + T[:-1,-1]\n",
    "    denom = pts @ T[-1:,:-1].T + T[-1,-1]\n",
    "    return tmppts/denom\n",
    "\n",
    "\n",
    "CELLS_PER_M = 20.0\n",
    "print(\"Cell width:\", 1/CELLS_PER_M)\n",
    "\n",
    "formatter = {'float':lambda x:np.format_float_positional(x,precision=2,fractional=True,trim='-',pad_left=8,pad_right=2)}\n",
    "\n",
    "def get_T_px_f_with_extent(rays, debug=False):\n",
    "    # The corners in world space\n",
    "    f_corns = np.array(\n",
    "        [[np.min(rays['ex']),np.min(rays['ey'])],\n",
    "         [np.max(rays['ex']),np.max(rays['ey'])]])\n",
    "    T_pxc_f = np.array(\n",
    "        [[1*CELLS_PER_M, 0             , 0],\n",
    "         [0            , -1*CELLS_PER_M, 0],\n",
    "         [0            , 0             , 1]])\n",
    "    pxc_corns=homp(T_pxc_f,f_corns)\n",
    "    pxc_topleft = np.array([  np.floor(np.min(pxc_corns[:,0])), np.floor(np.min(pxc_corns[:,1]))  ]) #inclusive\n",
    "    pxc_btmright= np.array([  np.floor(np.max(pxc_corns[:,0])), np.floor(np.max(pxc_corns[:,1]))  ]) + 1 #exclusive\n",
    "    pxc_extent = pxc_btmright-pxc_topleft\n",
    "\n",
    "    T_px_f = T_pxc_f.copy()\n",
    "    T_px_f[:-1,-1] = -pxc_topleft\n",
    "\n",
    "    px_corns=homp(T_px_f,f_corns)\n",
    "    px_topleft = np.array([  np.floor(np.min(px_corns[:,0])), np.floor(np.min(px_corns[:,1]))  ]) #inclusive\n",
    "    px_btmright= np.array([  np.floor(np.max(px_corns[:,0])), np.floor(np.max(px_corns[:,1]))  ]) + 1 #exclusive\n",
    "    px_extent = px_btmright-px_topleft\n",
    "\n",
    "    assert (np.all(pxc_extent == px_extent))\n",
    "\n",
    "    if debug:\n",
    "        print(\"fcorns\\n\",f_corns)\n",
    "\n",
    "        for var in ['pxc_corns',\n",
    "                    'pxc_topleft',\n",
    "                    'pxc_btmright',\n",
    "                    'pxc_extent',\n",
    "                    'px_corns',\n",
    "                    'px_topleft',\n",
    "                    'px_btmright',\n",
    "                    'px_extent',\n",
    "                    ]:\n",
    "            print(var+'\\n', eval(var))\n",
    "    return T_px_f, px_extent.astype('int64')\n",
    "\n",
    "keep_for_window=(rays0['r']>0)*(rays0['r']<10)\n",
    "with np.printoptions(formatter=formatter):\n",
    "    T_px_f, px_extent = get_T_px_f_with_extent(rays[keep_for_window], debug=True)"
   ]
  },
  {
   "cell_type": "code",
   "execution_count": 8,
   "metadata": {},
   "outputs": [
    {
     "data": {
      "application/vnd.jupyter.widget-view+json": {
       "model_id": "90c567ba180a49b38b0f675c3fb56674",
       "version_major": 2,
       "version_minor": 0
      },
      "text/plain": [
       "Canvas(toolbar=Toolbar(toolitems=[('Home', 'Reset original view', 'home', 'home'), ('Back', 'Back to previous …"
      ]
     },
     "metadata": {},
     "output_type": "display_data"
    },
    {
     "name": "stdout",
     "output_type": "stream",
     "text": [
      "23674981\n",
      "23674981\n",
      "23674981\n",
      "1479396473.584265 1479396811.672591\n"
     ]
    }
   ],
   "source": [
    "%matplotlib widget\n",
    "plt.plot(rays0['ex'],rays0['ey'],'b,')\n",
    "# # # If you need to edit the rays, but keep extents, do it here\n",
    "# # rays0 = rays0[::53]\n",
    "print(len(rays0))\n",
    "# rays0 = rays0[rays0['r']<10]\n",
    "# rays0 = rays0[rays0['ex']>50 ]\n",
    "# rays0 = rays0[rays0['ex']<55 ]\n",
    "# rays0 = rays0[rays0['ey']<23 ]\n",
    "print(len(rays0))\n",
    "\n",
    "# rays0 = rays0[rays0['ts']< 1479396535.3080368]\n",
    "rays = rays0.copy()\n",
    "\n",
    "print(len(rays0))\n",
    "# rays = rays0.copy()\n",
    "plt.plot(rays0['ex'],rays0['ey'],'k,')\n",
    "plt.plot(rays0['sx'],rays0['sy'],'c,')\n",
    "print(np.min(rays0['ts']),np.max(rays0['ts']))\n",
    "\n",
    "# convert to [start_cell_x,start_cell_y, d_cell, th] format\n",
    "f_spt = np.vstack((rays['sx'].ravel(),rays['sy'].ravel())).T.copy()\n",
    "f_ept = np.vstack((rays['ex'].ravel(),rays['ey'].ravel())).T.copy()\n",
    "px_spt = homp(T_px_f, f_spt)\n",
    "px_ept = homp(T_px_f, f_ept)\n",
    "px_d = np.sqrt(np.sum((px_ept-px_spt)**2,axis=1))\n",
    "px_th = np.mod(np.arctan2((px_ept-px_spt)[:,1], (px_ept-px_spt)[:,0]),2*np.pi)\n",
    "def get_raster_coords(rays, T_px_f):\n",
    "    # implicit inputs: T_px_f\n",
    "    f_ept = np.vstack((rays['ex'].ravel(),rays['ey'].ravel())).T.copy()\n",
    "    px_coords = homp(T_px_f, f_ept)\n",
    "    px_coords = px_coords.reshape(rays['ex'].shape+(2,))\n",
    "    return px_coords\n",
    "\n",
    "th_spacing = 2*np.pi/360/4\n",
    "\n",
    "outrays = np.vstack([px_spt.T,px_d,px_th/th_spacing])\n",
    "notref = np.ones_like(outrays[0], dtype=bool)\n",
    "\n",
    "\n",
    "# plt.plot(px_ept[:,0],px_ept[:,1],'b,')\n",
    "# plt.plot(px_ept[10000:101081,0],px_ept[10000:101081,1],'r,')\n",
    "\n",
    "\n"
   ]
  },
  {
   "cell_type": "code",
   "execution_count": 9,
   "metadata": {},
   "outputs": [
    {
     "name": "stdout",
     "output_type": "stream",
     "text": [
      "[[ 205.69459534  205.69459534  205.69459534 ...  211.94543457\n",
      "   211.94543457  211.94543457]\n",
      " [ 150.69857788  150.69857788  150.69857788 ...  144.15454102\n",
      "   144.15454102  144.15454102]\n",
      " [1581.81201997 1581.81201997 1581.81201997 ... 1590.58850416\n",
      "  1590.58850416 1590.58850416]\n",
      " [ 478.12871511  478.12871511  478.12871511 ...  478.44759237\n",
      "   478.44759237  478.44759237]]\n"
     ]
    }
   ],
   "source": [
    "%matplotlib widget\n",
    "import numpy as np\n",
    "th_spacing = 2*np.pi/360/4 # 1/4 degree\n",
    "th_bins = int(np.round(2*np.pi / th_spacing)) \n",
    "W, H = 800,1200\n",
    "\n",
    "w_HIT = 1\n",
    "w_MISS = 4 # Reduce to 1 if known no motion\n",
    "bias = 0\n",
    "wide_threshold = 30*np.pi/180 / th_spacing\n",
    "epsl = 1.\n",
    "\n",
    "# Derived constants\n",
    "# REF_BLOCK_THRESH = w_MISS/(w_MISS+w_HIT) # the theoretical way. Fraction of hits to total that means we have a reflective voxel\n",
    "REF_BLOCK_THRESH = 0.3 # where does 0.3 come from? Don't know. Tested it somehow\n",
    "\n",
    "\n",
    "HIT = np.zeros((W,H,th_bins),'int16')\n",
    "MISS = np.zeros((W,H,th_bins),'int16')\n",
    "RFM = np.zeros((W,H,th_bins),'int8') # -1=TRANSPARENT, 0=UNK, 1=REFLECT # but some code just uses 0=TRANS, 1=REFLECT\n",
    "RFM_mr = np.zeros((W,H,th_bins),'int8')\n",
    "WIDE = np.zeros((W,H),'bool')\n",
    "NARROW = np.zeros((W,H),'bool')\n",
    "prerender = np.zeros((W,H),'bool')\n",
    "refl_cache = np.zeros((W,H),'int16')\n",
    "trans_cache = np.zeros((W,H),'int16')\n",
    "OCC = np.zeros((W,H),'int8')\n",
    "\n",
    "vox_refl = np.zeros((W,H,th_bins),'float32')  \n",
    "CLASSIFIED_RFM = np.zeros((W,H,th_bins),'bool')  \n",
    "countvis = np.zeros((W,H),'uint16')\n",
    "counttrans = np.zeros((W,H),'uint16')\n",
    "countratio = np.zeros((W,H),'float32')\n",
    "\n",
    "FDIST = np.full((W,H,th_bins), 32767, 'int16')\n",
    "\n",
    "flood_frontier = []\n",
    "next_flood_frontier = []\n",
    "\n",
    "def RFM_update_cell(x,y,th):\n",
    "    # updates the RFM cell and the cached values \n",
    "    old_val = RFM[x,y,th]\n",
    "    new_val = np.sign(w_HIT*HIT[x,y,th]-w_MISS*MISS[x,y,th])\n",
    "    RFM[x,y,th] = new_val\n",
    "    if old_val == -1:\n",
    "        trans_cache[x,y] -=1\n",
    "    if old_val == 1:\n",
    "        refl_cache[x,y] -=1\n",
    "    if new_val == -1:\n",
    "        trans_cache[x,y] +=1\n",
    "    if new_val == 1:\n",
    "        refl_cache[x,y] +=1\n",
    "        \n",
    "    if new_val != old_val:\n",
    "        flood_frontier.append((x,y,th))\n",
    "        \n",
    "\n",
    "def quantize(coords):\n",
    "    return np.floor(coords).astype('int')\n",
    "    \n",
    "def quantize4(coords): # 4 pt xy antialiasing samples\n",
    "    coords = np.array(coords)\n",
    "    coords4 = (coords + (-0.5,-0.5,0.0), coords + (-0.5,0.5,0.0), \n",
    "               coords + (0.5,-0.5,0.0), coords + (0.5,0.5,0.0))\n",
    "    return np.floor(coords4).astype('int')\n",
    "\n",
    "tmp=np.hstack((np.arange(27,dtype=np.int32)[0:13],np.arange(27,dtype=np.int32)[14:]))\n",
    "NEIGHBORS = np.array((   tmp//9-1,\n",
    "                         tmp//3%3-1,\n",
    "                         tmp%3-1,)).T\n",
    "\n",
    "cos=np.cos\n",
    "sin=np.sin\n",
    "def accumulate(rays):\n",
    "    # prerender lets us stop rendering a ray that would go through a HIT\n",
    "    prerender[:,:]=0\n",
    "    for ray in rays:\n",
    "        # ray has a starting point, distance before it returned, and direction\n",
    "        [x_start, y_start, d, th] = ray\n",
    "        [slope_x, slope_y] = [cos(th*th_spacing), sin(th*th_spacing)]\n",
    "    \n",
    "        xyth = quantize4((x_start + d*slope_x, y_start + d*slope_y, th))\n",
    "        prerender[xyth[:,0],xyth[:,1]] = True\n",
    "    \n",
    "    for ray in rays:\n",
    "        # ray has a starting point, distance before it returned, and direction\n",
    "        [x_start, y_start, d, th] = ray\n",
    "        [slope_x, slope_y] = [cos(th*th_spacing), sin(th*th_spacing)]\n",
    "    \n",
    "        for r in range(0,int(d-epsl)+1):\n",
    "            xyth = quantize((x_start + r*slope_x, y_start + r*slope_y, th))\n",
    "            if not prerender[xyth[0],xyth[1]]:\n",
    "                MISS[xyth[0],xyth[1],xyth[2]]+=1\n",
    "                RFM_update_cell(xyth[0],xyth[1],xyth[2])\n",
    "            else:\n",
    "                break\n",
    "        xyth = quantize4((x_start + d*slope_x, y_start + d*slope_y, th))\n",
    "        HIT[xyth[:,0],xyth[:,1],xyth[:,2]]+=1\n",
    "        for xyth_sample in xyth:\n",
    "            RFM_update_cell(xyth_sample[0], xyth_sample[1], xyth_sample[2])\n",
    "\n",
    "    # Do a step of floodfill\n",
    "    \n",
    "    # First mark any changed WIDE state to investigate\n",
    "    if 1:\n",
    "#         refl_cache[5,:]=700 #HACKKKKKKK\n",
    "#         RFM[5,:,:]=1\n",
    "        \n",
    "        old_WIDE = WIDE.copy()\n",
    "        classify_wide_narrow()\n",
    "        change_cols = old_WIDE!=WIDE\n",
    "\n",
    "\n",
    "        # get indicies of RFM[change_cols,:]\n",
    "        flattmp = np.ravel_multi_index(np.nonzero(change_cols)+(np.arange(1440,dtype=np.int32)[:,np.newaxis],),\n",
    "                                       RFM.shape).T.ravel()\n",
    "#         flattmp = flattmp[RFM.ravel()[flattmp]==1]\n",
    "        indices = np.unravel_index(flattmp,RFM.shape)\n",
    "        ##Very expensive check of correctness\n",
    "        if 0:\n",
    "            it = np.indices(RFM.shape)\n",
    "            assert (np.all(it[0].ravel()[flattmp]==it[0][change_cols,:].ravel()))\n",
    "            assert(np.all(RFM[indices]==RFM[change_cols,:].ravel()))\n",
    "        indices = np.array(indices).T\n",
    "        print(indices)\n",
    "        print(\"before cols ups:\", len(flood_frontier))\n",
    "        #only need to worry about setting distance properly on things that are occupied\n",
    "        flood_frontier.append(indices)\n",
    "        flood_frontier_a = np.vstack(flood_frontier)\n",
    "        print(\"totaled\",len(flood_frontier_a))\n",
    "        flood_frontier_a = np.unique(flood_frontier_a, axis = 0)\n",
    "        print(\"totaled u\",len(flood_frontier_a))\n",
    "    # Now scuttle \n",
    "    \n",
    "    flood_frontier_a = (NEIGHBORS[:,np.newaxis,:]+flood_frontier_a).reshape(-1,3)\n",
    "    print(\"totaled nabs\",len(flood_frontier_a))\n",
    "#     flood_frontier.update([tuple(idx) for idx in indices])\n",
    "#     print(len(flood_frontier))\n",
    "#     print(flood_frontier)\n",
    "#     print(np.ravel_multi_index([\n",
    "#                                 np.array([1,2,3])[:,np.newaxis],\n",
    "#                                 np.array([0,0,0,])[:,np.newaxis],\n",
    "#                                 np.array([0,0,0])[np.newaxis:]\n",
    "#                                 ], RFM.shape))\n",
    "    plt.imshow(np.sum(RFM>0,axis=2))\n",
    "    \n",
    "#     change_cols = old_WIDE != WIDE # columns where wide visibility changed\n",
    "#     RFM[changecols,:]>0\n",
    "#     # \n",
    "#     FDIST[WIDE[:,:],:] = (RFM[WIDE[:,:],:]<=0)*65535\n",
    "    \n",
    "#     next_flood_frontier.clear()\n",
    "    \n",
    "#     test = []\n",
    "#     for cell in flood_frontier:\n",
    "#         if RFM[cell]!=1:\n",
    "#             FDIST[cell]=65535\n",
    "            \n",
    "#         next\n",
    "#         test.append(NEIGHBORS+cell) \n",
    "#     test=np.vstack(test).T.copy()\n",
    "#     print(cell)\n",
    "#     print(\"to check\")\n",
    "#     print(test)\n",
    "#     FDIST[np.ravel_multi_index(test, RFM.shape, mode='clip')\n",
    "print( outrays[:1000])   \n",
    "# accumulate(outrays.T[:1000])\n",
    "        "
   ]
  },
  {
   "cell_type": "code",
   "execution_count": 10,
   "metadata": {},
   "outputs": [],
   "source": [
    "\n",
    "        \n",
    "def classify_wide_narrow():\n",
    "#     global WIDE\n",
    "    WIDE[:,:] = refl_cache > wide_threshold\n",
    "#     WIDE &= refl_cache/trans_cache > wide_min_ratio # Optional: make sure the ratio is good\n",
    "    NARROW[:,:] = (refl_cache>0) & (WIDE==False)\n",
    "\n",
    "def remove_motion():\n",
    "    RFM_mr[NARROW,:] = RFM[NARROW,:]-3 # map [-1,0,1]->[-4,-3,-2]\n",
    "    RFM_mr[WIDE,:] = RFM[WIDE,:]\n",
    "    stack = []\n",
    "    seed_locs=np.argwhere(WIDE)\n",
    "    for x,y in seed_locs:\n",
    "        if (  NARROW[x-1,y-1] or NARROW[x-1,y] or NARROW[x-1,y+1] or\n",
    "              NARROW[x,y-1] or NARROW[x,y+1] or\n",
    "              NARROW[x+1,y-1] or NARROW[x+1,y] or NARROW[x+1,y+1]  ):\n",
    "            thetas = RFM[x,y,:]\n",
    "            for th in thetas:\n",
    "                stack.append((x,y,th))\n",
    "    while(stack):\n",
    "        x,y,th = stack.pop\n",
    "        t2d_neighbors = ((x-1,y-1),(x-1,y),(x-1,y+1),\n",
    "                        (x,y-1),  (x,y)  ,(x,y+1),\n",
    "                        (x+1,y-1),(x+1,y),(x+1,y+1))\n",
    "        for x,y in t2d_neighbors:\n",
    "            if not NARROW(x,y): continue\n",
    "            for th in (th-1, th, th+1):\n",
    "                if RFM_mr[x,y,th] == -2: # Unvisited, NARROW, REFL\n",
    "                    RFM_mr[x,y,th] = 4\n",
    "                    stack.append((x,y,th))\n",
    "    # codes: -4:NAR,TRANS -3:NAR, UNK -2:NAR,DYN \n",
    "    #        -1:WIDE,TRANS 0:WIDE,UNK  1:WIDE,STATIC\n",
    "    #         4:NAR,CON\n",
    "    RFM_mr[NARROW,:] //= 4 # remap -4,-3,-2,4 -> -1,0,0,1; deleting motion\n",
    "    # Classify occupancy: -2=FREE, -1=DYNAMIC, 0=UNK, 1=STATIC\n",
    "    OCC[:,:] = 0 \n",
    "    OCC[trans_cache>0] = -2 # seen through defaults FREE\n",
    "    OCC[NARROW] = -1 # narrow defaults DYNAMIC\n",
    "    OCC[WIDE] = 1\n",
    "    # The following line is an optimization of\n",
    "    # OCC[np.any(RFM_mr==1,axis=1)] = 1\n",
    "    OCC[NARROW] += np.any(RFM_mr[NARROW,:]==1,axis=1)*2\n",
    "    OCC[NARROW & (transcache==0)] = 1 # Default uncontested cells to STATIC\n",
    "\n",
    "def classify_reflections(rays):\n",
    "    is_reflection = []\n",
    "    epsl = 1.999\n",
    "\n",
    "    for ray in rays:\n",
    "        [x_start, y_start, d, th] = ray\n",
    "        [slope_x, slope_y] = [cos(th*th_spacing), sin(th*th_spacing)]\n",
    "    \n",
    "        for r in range(0,int(d-epsl)+1):\n",
    "            xyth = quantize((x_start + r*slope_x, y_start + r*slope_y, th))\n",
    "            if OCC[xyth[0], xyth[1]]:\n",
    "                is_reflection.append(True)\n",
    "                break\n",
    "        else:\n",
    "            is_reflection.append(False)\n",
    "    return is_reflection\n",
    "\n",
    "def process_scan(rays):\n",
    "    # This is the do-everything main function\n",
    "    accumulate(rays)\n",
    "    classify_wide_narrow()\n",
    "    remove_motion()\n",
    "    # Now the RFM estimate without motion removal is in RFM\n",
    "    # and the version with the motion removed is in RFM_mr.\n",
    "    # OCC holds the estimated occupancy classification\n",
    "    \n",
    "    # classify_rays() can be used to check rays for reflection in\n",
    "    # another thread, and build a new RFM without them"
   ]
  },
  {
   "cell_type": "markdown",
   "metadata": {},
   "source": [
    "# Basic RFM\n",
    "The following calculates the basic RFM, accumulating HITs and MISSes. \\\n",
    "It does not account for reflections, and doesn't link up objects (we do that later)\n",
    "\n",
    "Typically runs ~80 scans/second"
   ]
  },
  {
   "cell_type": "code",
   "execution_count": 11,
   "metadata": {},
   "outputs": [],
   "source": [
    "loclip = np.array([0,0,0]).reshape(3,1)\n",
    "hiclip = (np.array(HIT.shape)-1).reshape(3,1)\n",
    "def quantize(coords):# 3xN\n",
    "    return np.clip(np.floor(coords),loclip,hiclip).astype('int')\n",
    "\n",
    "def quantize4(coords): # 4 pt xy antialiasing samples # 3xN\n",
    "    coords = np.array(coords).T  # Nx3\n",
    "    aa = np.array(((-0.5,-0.5,0.0), (-0.5,0.5,0.0), \n",
    "                  ( 0.5,-0.5,0.0), ( 0.5,0.5,0.0) )) # 4x3\n",
    "    coords4 = aa + coords[:,np.newaxis,:] # N,4,3\n",
    "    coords4= coords4.reshape(-1,3).T\n",
    "    return np.floor(np.clip(coords4,loclip,hiclip)).astype('int')\n",
    "\n",
    "import pandas as pd\n",
    "HMT = 1/(1/REF_BLOCK_THRESH-1)\n",
    "def RFM_update_cell(x,y,th):\n",
    "#     indices = np.ravel_multi_index((x,y,th),RFM.shape)\n",
    "#     x,y,th = np.unravel_index(pd.unique(indices),RFM.shape)\n",
    "    \n",
    "    old_val = RFM[x,y,th]\n",
    "    \n",
    "    new_val = HMT < HIT[x,y,th]/(MISS[x,y,th]+np.float32(0.1))\n",
    "    RFM[x,y,th] = new_val\n",
    "    \n",
    "    rcxy0 = refl_cache[x,y]\n",
    "    wide0 = rcxy0 > wide_threshold\n",
    "    np.add.at(refl_cache, (x,y), new_val-old_val)\n",
    "    \n",
    "    \n",
    "    #anything that went from WIDE to NARROW needs update\n",
    "    rcxy = refl_cache[x,y]\n",
    "    wide = rcxy > wide_threshold\n",
    "    to_wipe = (wide0)&(wide==0)\n",
    "    FDIST[x[to_wipe],y[to_wipe],:] = 32767\n",
    "    #debug wiping\n",
    "    wipe_count = np.sum(to_wipe)\n",
    "    if wipe_count:\n",
    "        print(\"wiped count:\", np.sum(to_wipe))\n",
    "        \n",
    "    #anything that went from NARROW to WIDE needs to be seeded\n",
    "    to_seed = (wide)#&(wide0==0) #why does it break if I uncomment?\n",
    "    FDIST[x[to_seed],y[to_seed],:] *= (RFM[x[to_seed],y[to_seed],:]==0)\n",
    "    \n",
    "    #update wide/narrow\n",
    "    WIDE[x,y] = wide\n",
    "    narrow = (rcxy>0) & (wide==False)\n",
    "    NARROW[x,y] = narrow\n",
    "#     assert HMT < HIT[x,y,th]/(MISS[x,y,th]+np.float32(0.1))\n",
    "    \n",
    "#     frontier = np.nonzero(new_val!=old_val)[0]\n",
    "#     if len(frontier):\n",
    "#         print(\"cells added\",np.sum(new_val>old_val))\n",
    "#         print(\"cells removed\",np.sum(old_val>new_val))\n",
    "# #         print(\"changed in accumulate\", frontier.shape)\n",
    "#     upped = x[frontier],y[frontier],th[frontier]\n",
    "#     flood_frontier.append((x[frontier],y[frontier],th[frontier]))\n",
    "\n",
    "\n",
    "    \n",
    "# Define the accumulate operator, that renders rays\n",
    "def accumulate(rays, notref):\n",
    "    flood_frontier.clear()\n",
    "    \n",
    "    # prerender lets us stop rendering a ray that would go through a HIT\n",
    "    prerender[:,:]=0\n",
    "#     for ray in rays:\n",
    "    # ray has a starting point, distance before it returned, and direction\n",
    "    [x_start, y_start, d, th] = rays\n",
    "    [slope_x, slope_y] = [np.cos(th*th_spacing), np.sin(th*th_spacing)]\n",
    "\n",
    "    xyth = quantize4((x_start[notref] + d[notref]*slope_x[notref], y_start[notref] + d[notref]*slope_y[notref], th[notref]))\n",
    "    prerender[xyth[0],xyth[1]]=1\n",
    "    \n",
    "#     for ray in rays:\n",
    "    # ray has a starting point, distance before it returned, and direction\n",
    "    [x_start, y_start, d, th] = rays\n",
    "    [slope_x, slope_y] = [np.cos(th*th_spacing), np.sin(th*th_spacing)]\n",
    "    \n",
    "    \n",
    "    \n",
    "    live=np.ones_like(d)\n",
    "    r=np.full_like(d,0)\n",
    "    for r0 in range(0,200):\n",
    "#         print(r0, end=' ')\n",
    "        r[:]=r0\n",
    "        live[r0>=d-epsl]=0\n",
    "#         print(np.sum(live))\n",
    "        r[live==0]=100000\n",
    "        xyth = quantize((x_start + r*slope_x, y_start + r*slope_y, th))\n",
    "#         if r0>1\n",
    "        live*=(prerender[xyth[0],xyth[1]]==0)\n",
    "        MISS[xyth[0],xyth[1],xyth[2]]+=1\n",
    "#         RFM_update_cell(xyth[0],xyth[1],xyth[2]) # for speed, only update on hits\n",
    "    xyth = quantize((x_start[notref] + d[notref]*slope_x[notref], y_start[notref] + d[notref]*slope_y[notref], th[notref]))\n",
    "    HIT[xyth[0],xyth[1],xyth[2]]+=1\n",
    "    RFM_update_cell(xyth[0], xyth[1], xyth[2])\n",
    "#     print(np.hstack(flood_frontier).shape)"
   ]
  },
  {
   "cell_type": "code",
   "execution_count": 12,
   "metadata": {},
   "outputs": [],
   "source": [
    "# The basic RFM doer. \n",
    "def doRFM():\n",
    "    print(\"Building RFM\")\n",
    "    MISS[...] = 0\n",
    "    HIT[...] = 0\n",
    "    arays = outrays.copy()\n",
    "\n",
    "    ls=0\n",
    "    keep=(rays0['r']<10)*(rays0['r']>0)\n",
    "    CHUNK_SIZE = 1081\n",
    "    for s in tqdm(range(CHUNK_SIZE,arays.shape[1]+1,CHUNK_SIZE)):\n",
    "            tmprays=arays[:,ls:s][:,keep[ls:s]]\n",
    "            nrtemp=notref[ls:s][keep[ls:s]]\n",
    "            accumulate(tmprays, nrtemp)\n",
    "            ls=s\n",
    "            if (ls//CHUNK_SIZE)%100==0:\n",
    "                floodstep()\n",
    "    plt.imshow(np.sum(MISS,axis=2))\n",
    "    assert np.max(MISS)>0\n",
    "    vox_refl[...] = HIT/(np.float32(0.1)+HIT+MISS) # classify \n",
    "    CLASSIFIED_RFM[...] = vox_refl > REF_BLOCK_THRESH\n",
    "    countvis[...] = np.sum(CLASSIFIED_RFM, axis=2).astype(np.uint16)\n",
    "    counttrans[...] = np.sum((CLASSIFIED_RFM==0)&(MISS>0), axis=2).astype(np.uint16)\n",
    "    countratio[...] = np.float32(1.0*countvis/(countvis+counttrans+0.0000000001))\n",
    "    refl_cache[...] = (countratio > 0.5) | (countvis > 12)  # More reflective than not or a suspiciously wide range of sightings"
   ]
  },
  {
   "cell_type": "code",
   "execution_count": 13,
   "metadata": {
    "tags": []
   },
   "outputs": [],
   "source": [
    "# Utility that unions two sets of labelled data. Used to turn normal flood fill into circular floodfill around theta.\n",
    "def unify_labels(rfmcomps, rfmcomps2):\n",
    "    # unify labels is mostly a wrapper around fuse, but with the optimization that we only try to \n",
    "    # fuse nonzero labels, since we know they're the same\n",
    "    def fuse(A,B):\n",
    "        # Assumes A and B are label matricies with different labels and we need to fuse them\n",
    "        # Any repeated label between the two corresponds\n",
    "        # Assumes that the labels go from 0 to max(max(A),max(B))\n",
    "        # Also assumes all labels in A are <= to the ones in B\n",
    "        assert(np.all(A<=B))\n",
    "  \n",
    "        lookup = np.arange(np.maximum(np.max(A),np.max(B))+1, dtype=np.int32)\n",
    "        np.minimum.at(lookup,B,A) # Bs now lookup the lowest A they connect to, As loopback\n",
    "\n",
    "        B=lookup[B] #Now all Bs are <= A\n",
    "\n",
    "        np.minimum.at(lookup,A,B)\n",
    "        #As lookup the smallest B they connect to, Bs lookup the smallest A or better\n",
    "        B=lookup[lookup[B]] \n",
    "\n",
    "        extr=(A!=B) \n",
    "        remA=A[extr]\n",
    "        remB=B[extr]\n",
    "        if len(remA)==0:\n",
    "            \n",
    "            return B\n",
    "        recur = fuse(remB,remA)\n",
    "        B[extr] = recur\n",
    "        return B\n",
    "    \n",
    "    nz=fuse(rfmcomps[rfmcomps!=0].ravel(),rfmcomps2[rfmcomps2!=0].ravel())\n",
    "    rfmcomps[rfmcomps!=0]=nz\n",
    "    return rfmcomps\n",
    "\n",
    "# fuse(np.array([1,2,2,3,3,4,4]),np.array([5,6,7,7,8,8,9]))"
   ]
  },
  {
   "cell_type": "markdown",
   "metadata": {},
   "source": [
    "# Classify Reflection Rays\n",
    "Mark the depths where rays try to go through another object. \n",
    "PEN_DEPTH controls this. We set to 30cm to deal with the stupid 20cm short detections that seem to plague our laser.\n",
    "\n",
    "The basic idea is that all rays render MISSes, but only rays that travel less than PEN_DEPTH from the surface can render HITs"
   ]
  },
  {
   "cell_type": "code",
   "execution_count": 14,
   "metadata": {},
   "outputs": [],
   "source": [
    "# classify reflectionness of a ray and clip to a given penetration depth\n",
    "PEN_DEPTH = np.ceil(0.101*CELLS_PER_M)\n",
    "def classify(rays, pen_depth=None):\n",
    "    rays=rays.copy()\n",
    "    if pen_depth is None:\n",
    "        pen_depth = PEN_DEPTH\n",
    "    HACK_FACTOR = 2 # ensure that detected reflections still count as seen through for this distance\n",
    "#     for ray in rays:\n",
    "    # ray has a starting point, distance before it returned, and direction\n",
    "    [x_start, y_start, d, th] = rays\n",
    "    [slope_x, slope_y] = [np.cos(th*th_spacing), np.sin(th*th_spacing)]\n",
    "    \n",
    "    \n",
    "    notref=np.ones_like(d,dtype=bool)\n",
    "    r=np.full_like(d,0)\n",
    "    for r0 in tqdm(range(0,200)):\n",
    "#         print(r0,end=', ')\n",
    "        r[:]=r0\n",
    "        xyth = quantize((x_start + r*slope_x, y_start + r*slope_y, th))\n",
    "        \n",
    "#         if r0>1\n",
    "        stopped=(refl_cache[xyth[0],xyth[1]]!=0)\n",
    "        notrefish = r0 > d[stopped]-pen_depth\n",
    "        notref[stopped] *= notrefish\n",
    "#         print(r0+pen_depth)\n",
    "       \n",
    "        d[stopped]=np.minimum(d[stopped],r0+pen_depth+HACK_FACTOR) \n",
    "        \n",
    "    rays = np.vstack([x_start, y_start, d, th])\n",
    "    return rays, notref\n",
    "\n",
    "\n",
    "# The returned rays now have distances reflecting how far to render them. \n",
    "# If the distance is less than the original, we want to not render the HIT when we rerender\n",
    "# \"notref\" keeps track of which rays should render their endpoint\n",
    "\n",
    "# This operation is ~1/3 the work of the normal RFM render, but I haven't optimized it, so it \n",
    "# runs much slower when the ray list is too big for the cache"
   ]
  },
  {
   "cell_type": "code",
   "execution_count": 26,
   "metadata": {},
   "outputs": [
    {
     "name": "stdout",
     "output_type": "stream",
     "text": [
      "classify_wide_narrow time: 0.0021739050062024035\n",
      "seeding time: 0.0309228650003206\n",
      "classify_wide_narrow 0.004104123996512499\n",
      "NARROW FOUND: 65171\n",
      "extract 2d locs 0.3180005140020512\n",
      "flooding 2.2166709209996043\n",
      "change count 462409\n",
      "[[ 153  153  153 ...  738  738  738]\n",
      " [ 822  822  822 ...  825  825  825]\n",
      " [ 565  566  567 ... 1437 1438 1439]\n",
      " [   1    1    1 ...    1    1    1]]\n",
      "writeback 0.05445597200014163\n",
      "floodstep time: 2.5934577980005997\n",
      "# wide locs 8284\n",
      "# wide cells 2765792\n",
      "classify_wide_narrow 0.003010995002114214\n",
      "NARROW FOUND: 65171\n",
      "extract 2d locs 0.301041668994003\n",
      "flooding 2.187928497005487\n",
      "change count 86652\n",
      "[[ 152  152  152 ...  739  739  739]\n",
      " [ 822  822  822 ...  826  826  826]\n",
      " [ 565  567  568 ... 1341 1347 1439]\n",
      " [   2    2    2 ...    2    2    2]]\n",
      "writeback 0.050693846998910885\n",
      "floodstep time: 2.5428919910045806\n",
      "classify_wide_narrow 0.003156166996632237\n",
      "NARROW FOUND: 65171\n",
      "extract 2d locs 0.30221955100569176\n",
      "flooding 2.190034330000344\n",
      "change count 51903\n",
      "[[ 151  151  151 ...  740  740  740]\n",
      " [ 822  822  822 ...  826  827  827]\n",
      " [ 569  570  571 ... 1348 1335 1340]\n",
      " [   3    3    3 ...    3    3    3]]\n",
      "writeback 0.05050393299461575\n",
      "floodstep time: 2.5461341990012443\n",
      "classify_wide_narrow 0.003299112999229692\n",
      "NARROW FOUND: 65171\n",
      "extract 2d locs 0.30120439900201745\n",
      "flooding 2.1726475809991825\n",
      "change count 38579\n",
      "[[ 150  150  150 ...  741  741  741]\n",
      " [ 822  822  822 ...  826  826  827]\n",
      " [ 572  573  574 ... 1339 1341 1341]\n",
      " [   4    4    4 ...    4    4    4]]\n",
      "writeback 0.04968197499692906\n",
      "floodstep time: 2.527047865005443\n",
      "classify_wide_narrow 0.0031347370022558607\n",
      "NARROW FOUND: 65171\n",
      "extract 2d locs 0.30308388100093\n",
      "flooding 2.235234544998093\n",
      "change count 30555\n",
      "[[ 149  149  149 ...  742  742  742]\n",
      " [ 822  822  822 ...  826  826  827]\n",
      " [ 574  575  576 ... 1340 1349 1342]\n",
      " [   5    5    5 ...    5    5    5]]\n",
      "writeback 0.048992254996846896\n",
      "floodstep time: 2.590676860003441\n",
      "classify_wide_narrow 0.0031927189993439242\n",
      "NARROW FOUND: 65171\n",
      "extract 2d locs 0.3480608819954796\n",
      "flooding 2.302451531002589\n",
      "change count 26106\n",
      "[[ 148  148  148 ...  743  743  743]\n",
      " [ 821  821  821 ...  825  826  826]\n",
      " [ 585  586  594 ... 1380 1341 1350]\n",
      " [   6    6    6 ...    6    6    6]]\n",
      "writeback 0.04925952100165887\n",
      "floodstep time: 2.7031761440011906\n",
      "classify_wide_narrow 0.003117227999609895\n",
      "NARROW FOUND: 65171\n",
      "extract 2d locs 0.3060818340018159\n",
      "flooding 2.2410302930002217\n",
      "change count 23333\n",
      "[[ 147  147  147 ...  744  744  744]\n",
      " [ 822  822  822 ...  825  825  826]\n",
      " [ 577  578  579 ... 1364 1384 1349]\n",
      " [   7    7    7 ...    7    7    7]]\n",
      "writeback 0.04953112699877238\n",
      "floodstep time: 2.5999739969993243\n",
      "classify_wide_narrow 0.003229362999263685\n",
      "NARROW FOUND: 65171\n",
      "extract 2d locs 0.35535919099493185\n",
      "flooding 2.224659731000429\n",
      "change count 20772\n",
      "[[ 146  146  146 ...  745  745  745]\n",
      " [ 822  822  822 ...  826  826  826]\n",
      " [ 580  582  583 ... 1342 1346 1351]\n",
      " [   8    8    8 ...    8    8    8]]\n",
      "writeback 0.04932113300310448\n",
      "floodstep time: 2.6327849380031694\n",
      "classify_wide_narrow 0.003149076997942757\n",
      "NARROW FOUND: 65171\n",
      "extract 2d locs 0.3011718869965989\n",
      "flooding 2.274101827002596\n",
      "change count 17112\n",
      "[[ 145  145  145 ...  746  746  746]\n",
      " [ 822  822  822 ...  826  826  827]\n",
      " [ 581  583  584 ... 1340 1343 1345]\n",
      " [   9    9    9 ...    9    9    9]]\n",
      "writeback 0.049898924997251015\n",
      "floodstep time: 2.628538362994732\n",
      "classify_wide_narrow 0.002836779000062961\n",
      "NARROW FOUND: 65171\n",
      "extract 2d locs 0.34815140799764777\n",
      "flooding 2.2762530559994048\n",
      "change count 15249\n",
      "[[ 144  144  144 ...  747  747  747]\n",
      " [ 822  822  822 ...  825  826  826]\n",
      " [ 583  585  586 ... 1364 1341 1344]\n",
      " [  10   10   10 ...   10   10   10]]\n",
      "writeback 0.04994084400095744\n",
      "floodstep time: 2.677391910001461\n",
      "classify_wide_narrow 0.0028522830034489743\n",
      "NARROW FOUND: 65171\n",
      "extract 2d locs 0.3018953999999212\n",
      "flooding 2.360004456997558\n",
      "change count 14065\n",
      "[[ 143  143  143 ...  748  748  748]\n",
      " [ 822  822  822 ...  825  825  826]\n",
      " [ 587  588  590 ... 1364 1369 1348]\n",
      " [  11   11   11 ...   11   11   11]]\n",
      "writeback 0.04901450499892235\n",
      "floodstep time: 2.7139895539949066\n",
      "classify_wide_narrow 0.0031947150055202655\n",
      "NARROW FOUND: 65171\n",
      "extract 2d locs 0.2998896569988574\n",
      "flooding 2.2645571469984134\n",
      "change count 12989\n",
      "[[ 142  142  142 ...  749  749  749]\n",
      " [ 822  822  822 ...  825  825  826]\n",
      " [ 587  590  592 ... 1359 1364 1345]\n",
      " [  12   12   12 ...   12   12   12]]\n",
      "writeback 0.05174445600277977\n",
      "floodstep time: 2.6196039259957615\n"
     ]
    }
   ],
   "source": [
    "%matplotlib widget\n",
    "from timeit import timeit\n",
    "import time\n",
    "def floodstep():\n",
    "    # This is a very basic version of floodstep.\n",
    "    # It simply takes all NARROW points and looks through their 26 neighbors \n",
    "    # to find lowest distance to the seed\n",
    "    tic = time.perf_counter()\n",
    "#     assert np.all(np.sum(RFM,axis=2)==refl_cache)\n",
    "    oldwide=WIDE.copy()\n",
    "    classify_wide_narrow()\n",
    "    assert np.all(oldwide==WIDE)\n",
    "    toc = time.perf_counter(); print(\"classify_wide_narrow\",toc-tic); tic=toc\n",
    "    assert(not np.any(RFM[WIDE,:]&(FDIST[WIDE,:]!=0)))\n",
    "    \n",
    "#     #Set widely visible points to have dist=0\n",
    "#     xy = np.nonzero(WIDE)\n",
    "#     towers = RFM[xy[0],xy[1],:]\n",
    "#     i2, ith = np.nonzero(towers)\n",
    "#     FDIST[WIDE,:] = np.where\n",
    "    \n",
    "    xy = np.nonzero(NARROW)\n",
    "    print(\"NARROW FOUND:\",len(xy[0]))\n",
    "    towers = RFM[xy[0],xy[1],:]\n",
    "    center_samp2didx, center_thidx = np.nonzero(towers)\n",
    "    minvals = np.full(center_thidx.shape, 32767, np.int16)\n",
    "    toc = time.perf_counter(); print(\"extract 2d locs\",toc-tic); tic=toc\n",
    "    \n",
    "    # At this stage, the points that we want to flood to are \n",
    "    #    xy[0][center_samp2didx],xy[1][center_samp2didx],center_thidx\n",
    "    for xoff in [-1,0,1]:\n",
    "        for yoff in [-1,0,1]:\n",
    "            tic2 = time.perf_counter()\n",
    "            sampx, sampy = xy[0]+xoff,xy[1]+yoff\n",
    "            flat_samp_2d = np.ravel_multi_index((sampx,sampy),refl_cache.shape,'clip') #2d locs\n",
    "            # Which 2d samples are worth trying(have any ref cells)?\n",
    "            flat_samp_2d_is_ok = refl_cache.ravel()[flat_samp_2d]>0 #dims: (#2d inputs,) \n",
    "            assert np.all(refl_cache[xy[0][center_samp2didx],xy[1][center_samp2didx]]>0)\n",
    "            #Of the 3d samples we would want to try, which are ok?\n",
    "            samp3d_is_ok = flat_samp_2d_is_ok[center_samp2didx] # we want to sample these 2ds. Which to keep?\n",
    "            samp3d_is_ok = np.nonzero(samp3d_is_ok)\n",
    "            \n",
    "            #remove samples not ok from 2d info\n",
    "            idx2d_for_3dsamples = center_samp2didx[samp3d_is_ok]\n",
    "#             print(\"idx2d_for_3dsamples.shape\", idx2d_for_3dsamples.shape)\n",
    "            center_thidx_for_3dsamples = center_thidx[samp3d_is_ok]\n",
    "            # centers to flood to will be:\n",
    "            #    xy[0][idx2d_for_3dsamples],xy[1][idx2d_for_3dsamples],center_thidx_for_3dsamples\n",
    "            # and samples will be:\n",
    "            #    sampx[idx2d_for_3dsamples],sampy[idx2d_for_3dsamples],center_thidx_for_3dsamples + <some offset>\n",
    "            \n",
    "            # Now we offset in theta to get the final sample points\n",
    "            for thoff in [-1,0,1]:\n",
    "                tic3 = time.perf_counter()\n",
    "                if xoff==0 and yoff==0 and thoff==0:\n",
    "                    continue\n",
    "                samp3d_idx = np.ravel_multi_index((sampx[idx2d_for_3dsamples],\n",
    "                                                      sampy[idx2d_for_3dsamples],\n",
    "                                                      center_thidx_for_3dsamples + thoff\n",
    "                                                     ),\n",
    "                                                     RFM.shape,\n",
    "                                                     'clip')\n",
    "                np.minimum.at(minvals, samp3d_is_ok, FDIST.ravel()[samp3d_idx])\n",
    "#                 toc = time.perf_counter(); print(\"th loop\",toc-tic3)\n",
    "#             toc = time.perf_counter(); print(\"2d loop\",toc-tic2)\n",
    "    toc = time.perf_counter(); print(\"flooding\",toc-tic); tic=toc\n",
    "#     assert not np.any(FDIST[xy[0][center_samp2didx],xy[1][center_samp2didx],center_thidx]==0)\n",
    "    oldval = FDIST[xy[0][center_samp2didx],xy[1][center_samp2didx],center_thidx]\n",
    "    minvals[minvals==oldval]=32767 # if value is rising, we probably just lost our support\n",
    "    newval = minvals+(minvals<32767)\n",
    "    \n",
    "    changed = FDIST[xy[0][center_samp2didx],xy[1][center_samp2didx],center_thidx]!=newval\n",
    "    print(\"change count\", np.sum(changed))\n",
    "    FDIST[xy[0][center_samp2didx],xy[1][center_samp2didx],center_thidx]=newval\n",
    "    print(np.vstack((xy[0][center_samp2didx],xy[1][center_samp2didx],center_thidx, newval))[:,changed])\n",
    "    toc = time.perf_counter(); print(\"writeback\",toc-tic); tic=toc\n",
    "#     fdt=FDIST\n",
    "#     t=timeit('fdt[xy[0][center_samp2didx],xy[1][center_samp2didx],center_thidx]=minvals',globals=locals(),number=1)/1\n",
    "#     print(\"writeback time:\", t)\n",
    "    return minvals\n",
    "\n",
    "FDIST[FDIST<0]=32767\n",
    "\n",
    "t=timeit('classify_wide_narrow()',globals=globals(),number=1)/1\n",
    "print(\"classify_wide_narrow time:\", t)\n",
    "FDIST[:,:,:]=32767\n",
    "t=timeit('FDIST[WIDE,:]=np.where(RFM[WIDE,:]==1,0,32767)',globals=globals(),number=1)/1\n",
    "print(\"seeding time:\", t)\n",
    "t=timeit('floodstep()',globals=globals(),number=1)/1\n",
    "print(\"floodstep time:\", t)\n",
    "print(\"# wide locs\", np.sum(WIDE))\n",
    "print(\"# wide cells\", np.sum(RFM[WIDE,:]==1))\n",
    "\n",
    "for i in range(10):\n",
    "    t=timeit('floodstep()',globals=globals(),number=1)/1\n",
    "    print(\"floodstep time:\", t)\n",
    "t=timeit('floodstep()',globals=globals(),number=1)/1\n",
    "print(\"floodstep time:\", t)\n",
    "# minvals=floodstep()\n",
    "# minvals[minvals>50]=50\n",
    "# plt.hist(minvals,range(51))\n",
    "# print (floodstep()[1])"
   ]
  },
  {
   "cell_type": "code",
   "execution_count": 17,
   "metadata": {},
   "outputs": [],
   "source": [
    "keeprays=(rays0['r']<10)*(rays0['r']>0) # needed in ablations"
   ]
  },
  {
   "cell_type": "code",
   "execution_count": 18,
   "metadata": {},
   "outputs": [
    {
     "name": "stdout",
     "output_type": "stream",
     "text": [
      "Building RFM\n"
     ]
    },
    {
     "name": "stderr",
     "output_type": "stream",
     "text": [
      "  0%|          | 106/21901 [00:01<05:09, 70.38it/s]"
     ]
    },
    {
     "name": "stdout",
     "output_type": "stream",
     "text": [
      "classify_wide_narrow 0.002321910003956873\n",
      "NARROW FOUND: 1295\n",
      "extract 2d locs 0.008355778998520691\n",
      "flooding 0.008702150997123681\n",
      "change count 0\n",
      "[]\n",
      "writeback 0.0007062660006340593\n"
     ]
    },
    {
     "name": "stderr",
     "output_type": "stream",
     "text": [
      "  1%|          | 207/21901 [00:02<04:53, 73.96it/s]"
     ]
    },
    {
     "name": "stdout",
     "output_type": "stream",
     "text": [
      "classify_wide_narrow 0.002150633998098783\n",
      "NARROW FOUND: 1330\n",
      "extract 2d locs 0.007836136006517336\n",
      "flooding 0.00904885699856095\n",
      "change count 0\n",
      "[]\n",
      "writeback 0.0006964929998503067\n"
     ]
    },
    {
     "name": "stderr",
     "output_type": "stream",
     "text": [
      "  1%|▏         | 307/21901 [00:04<04:47, 75.00it/s]"
     ]
    },
    {
     "name": "stdout",
     "output_type": "stream",
     "text": [
      "classify_wide_narrow 0.00213969199830899\n",
      "NARROW FOUND: 1366\n",
      "extract 2d locs 0.007776860999001656\n",
      "flooding 0.009717524000734556\n",
      "change count 0\n",
      "[]\n",
      "writeback 0.0006995090006967075\n"
     ]
    },
    {
     "name": "stderr",
     "output_type": "stream",
     "text": [
      "  2%|▏         | 409/21901 [00:05<04:36, 77.64it/s]"
     ]
    },
    {
     "name": "stdout",
     "output_type": "stream",
     "text": [
      "classify_wide_narrow 0.002157072005502414\n",
      "NARROW FOUND: 1421\n",
      "extract 2d locs 0.008008156000869349\n",
      "flooding 0.009983848998672329\n",
      "change count 0\n",
      "[]\n",
      "writeback 0.0009920070006046444\n"
     ]
    },
    {
     "name": "stderr",
     "output_type": "stream",
     "text": [
      "  2%|▏         | 506/21901 [00:06<04:39, 76.62it/s]"
     ]
    },
    {
     "name": "stdout",
     "output_type": "stream",
     "text": [
      "classify_wide_narrow 0.002168353006709367\n",
      "NARROW FOUND: 1523\n",
      "extract 2d locs 0.008514170993294101\n",
      "flooding 0.011137053006677888\n",
      "change count 0\n",
      "[]\n",
      "writeback 0.0007284079983946867\n"
     ]
    },
    {
     "name": "stderr",
     "output_type": "stream",
     "text": [
      "  3%|▎         | 611/21901 [00:07<05:02, 70.29it/s]"
     ]
    },
    {
     "name": "stdout",
     "output_type": "stream",
     "text": [
      "classify_wide_narrow 0.0020889520019409247\n",
      "NARROW FOUND: 1616\n",
      "extract 2d locs 0.011617112999374513\n",
      "flooding 0.014995199999248143\n",
      "change count 191\n",
      "[[ 187  187  187  187  187  187  187  187  187  187  187  187  187  187\n",
      "   187  187  187  187  187  187  187  187  187  187  187  187  187  187\n",
      "   187  187  187  187  187  187  187  187  187  187  187  187  187  187\n",
      "   187  187  187  187  187  187  187  187  187  187  187  187  187  187\n",
      "   187  187  187  187  187  187  187  187  187  187  187  187  187  187\n",
      "   187  187  187  187  187  187  187  187  187  187  187  187  187  187\n",
      "   187  187  187  187  187  187  187  187  187  187  187  187  193  193\n",
      "   193  193  193  193  193  193  193  193  193  193  193  193  193  193\n",
      "   193  193  193  193  193  193  193  193  193  193  193  193  193  193\n",
      "   193  193  193  193  193  193  193  193  193  193  193  193  193  193\n",
      "   193  193  193  193  193  193  193  193  193  193  193  193  193  193\n",
      "   193  193  193  193  193  193  193  193  193  193  193  193  193  193\n",
      "   193  193  193  193  193  193  193  193  193  193  193  193  193  193\n",
      "   193  193  193  193  193  193  193  193  193]\n",
      " [ 129  129  129  129  129  129  129  129  129  129  129  129  129  129\n",
      "   129  129  129  129  129  129  129  129  129  129  129  129  129  129\n",
      "   129  129  129  129  129  129  129  129  129  129  129  129  129  129\n",
      "   129  129  129  129  129  129  129  129  129  129  129  129  129  129\n",
      "   129  129  129  129  129  129  129  129  129  129  129  129  129  129\n",
      "   129  129  129  129  129  129  129  129  129  129  129  129  129  129\n",
      "   129  129  129  129  129  129  129  129  129  129  129  129  129  129\n",
      "   129  129  129  129  129  129  129  129  129  129  129  129  129  129\n",
      "   129  129  129  129  129  129  129  129  129  129  129  129  129  129\n",
      "   129  129  129  129  129  129  129  129  129  129  129  129  129  129\n",
      "   129  129  129  129  129  129  129  129  129  129  129  129  129  129\n",
      "   129  129  129  129  129  129  129  129  129  129  129  129  129  129\n",
      "   129  129  129  129  129  129  129  129  129  129  129  129  129  129\n",
      "   129  129  129  129  129  129  129  129  129]\n",
      " [ 937  938  939  940  941  942  943  944  945  946  947  948  949  950\n",
      "   951  952  953  954  955  956  957  958  959  960  961  962  963  964\n",
      "   965  966  967  968  969  970  971  972  973  974  975  976  977  978\n",
      "   979  980  981  982  983  984  985  986  987  988  989  990  991  992\n",
      "   993  994  995  996  997  998  999 1000 1001 1002 1003 1004 1005 1006\n",
      "  1007 1008 1009 1010 1011 1012 1013 1014 1015 1016 1017 1018 1019 1029\n",
      "  1030 1031 1032 1033 1034 1035 1036 1037 1038 1039 1040 1048 1043 1044\n",
      "  1045 1046 1047 1048 1049 1050 1051 1052 1053 1054 1055 1056 1057 1058\n",
      "  1059 1060 1061 1062 1063 1064 1065 1066 1067 1068 1069 1070 1071 1072\n",
      "  1073 1074 1075 1076 1077 1078 1079 1080 1081 1082 1083 1084 1085 1086\n",
      "  1087 1088 1089 1090 1091 1092 1093 1094 1095 1096 1097 1098 1099 1100\n",
      "  1101 1102 1103 1104 1105 1106 1107 1108 1109 1110 1111 1112 1113 1114\n",
      "  1115 1116 1117 1118 1119 1120 1121 1122 1123 1129 1130 1131 1132 1133\n",
      "  1134 1135 1136 1137 1138 1139 1140 1141 1150]\n",
      " [   1    1    1    1    1    1    1    1    1    1    1    1    1    1\n",
      "     1    1    1    1    1    1    1    1    1    1    1    1    1    1\n",
      "     1    1    1    1    1    1    1    1    1    1    1    1    1    1\n",
      "     1    1    1    1    1    1    1    1    1    1    1    1    1    1\n",
      "     1    1    1    1    1    1    1    1    1    1    1    1    1    1\n",
      "     1    1    1    1    1    1    1    1    1    1    1    1    1    1\n",
      "     1    1    1    1    1    1    1    1    1    1    1    1    1    1\n",
      "     1    1    1    1    1    1    1    1    1    1    1    1    1    1\n",
      "     1    1    1    1    1    1    1    1    1    1    1    1    1    1\n",
      "     1    1    1    1    1    1    1    1    1    1    1    1    1    1\n",
      "     1    1    1    1    1    1    1    1    1    1    1    1    1    1\n",
      "     1    1    1    1    1    1    1    1    1    1    1    1    1    1\n",
      "     1    1    1    1    1    1    1    1    1    1    1    1    1    1\n",
      "     1    1    1    1    1    1    1    1    1]]\n",
      "writeback 0.0016236240044236183\n"
     ]
    },
    {
     "name": "stderr",
     "output_type": "stream",
     "text": [
      "  3%|▎         | 708/21901 [00:09<04:54, 71.90it/s]"
     ]
    },
    {
     "name": "stdout",
     "output_type": "stream",
     "text": [
      "classify_wide_narrow 0.002094893003231846\n",
      "NARROW FOUND: 1756\n",
      "extract 2d locs 0.012185949002741836\n",
      "flooding 0.02169731799949659\n",
      "change count 230\n",
      "[[ 182  182  182  182  182  182  182  182  182  182  182  182  182  182\n",
      "   182  182  182  182  182  182  182  182  182  182  182  182  182  182\n",
      "   182  182  182  182  182  182  182  182  182  182  182  182  182  182\n",
      "   182  182  182  182  182  182  182  182  182  182  182  182  182  182\n",
      "   182  182  182  182  182  182  182  182  182  182  182  182  182  182\n",
      "   182  182  182  182  182  182  182  182  182  182  182  182  182  182\n",
      "   182  182  182  182  182  182  182  182  182  182  182  182  182  182\n",
      "   182  182  183  183  183  183  183  183  183  183  183  185  185  190\n",
      "   190  197  197  197  198  198  198  198  198  198  198  198  198  198\n",
      "   199  200  200  201  201  201  201  201  201  201  201  201  201  201\n",
      "   201  201  201  201  201  201  201  201  201  201  201  201  201  201\n",
      "   201  201  201  201  201  201  201  201  201  201  201  201  201  201\n",
      "   201  201  201  201  201  201  201  201  201  201  201  201  201  201\n",
      "   201  201  201  201  201  201  201  201  201  201  201  201  201  201\n",
      "   201  201  201  201  201  201  201  201  201  201  201  201  201  201\n",
      "   201  201  201  201  201  201  201  201  201  201  201  201  201  201\n",
      "   201  201  201  201  201  201]\n",
      " [ 129  129  129  129  129  129  129  129  129  129  129  129  129  129\n",
      "   129  129  129  129  129  129  129  129  129  129  129  129  129  129\n",
      "   129  129  129  129  129  129  129  129  129  129  129  129  129  129\n",
      "   129  129  129  129  129  129  129  129  129  129  129  129  129  129\n",
      "   129  129  129  129  129  129  129  129  129  129  129  129  129  129\n",
      "   129  129  129  129  129  129  129  129  129  129  129  129  129  129\n",
      "   129  129  129  129  129  129  129  129  129  129  129  129  129  129\n",
      "   129  130  130  130  130  130  130  130  130  130  130  130  130  130\n",
      "   130  130  130  130  130  130  130  130  130  130  130  130  130  130\n",
      "   130  130  130  129  129  129  129  129  129  129  129  129  129  129\n",
      "   129  129  129  129  129  129  129  129  129  129  129  129  129  129\n",
      "   129  129  129  129  129  129  129  129  129  129  129  129  129  129\n",
      "   129  129  129  129  129  129  129  129  129  129  129  129  129  129\n",
      "   129  129  129  129  129  129  129  129  129  129  129  129  129  129\n",
      "   129  129  129  129  129  129  129  129  129  129  129  129  129  129\n",
      "   129  129  129  129  129  129  129  129  129  129  129  129  129  129\n",
      "   129  129  129  129  129  129]\n",
      " [ 847  848  849  850  851  852  853  854  855  856  857  858  859  860\n",
      "   861  862  863  864  865  866  867  868  869  870  871  872  873  874\n",
      "   875  876  877  878  879  880  881  882  883  884  885  886  887  888\n",
      "   889  890  891  892  893  894  895  896  897  898  899  900  901  902\n",
      "   903  904  905  906  907  908  909  910  911  912  913  914  915  916\n",
      "   917  918  919  920  921  922  923  924  925  926  927  928  929  930\n",
      "   931  932  933  934  935  936  943  944  945  946  947  948  949  950\n",
      "   955  921  925  926  927  928  929  930  931  932  935  951  958  941\n",
      "   942 1225 1226 1230 1232 1233 1234 1235 1236 1237 1238 1239 1240 1244\n",
      "  1254 1257 1259 1157 1158 1159 1160 1161 1162 1163 1164 1165 1166 1167\n",
      "  1168 1169 1170 1171 1172 1173 1174 1175 1176 1177 1178 1179 1180 1181\n",
      "  1182 1183 1184 1185 1186 1187 1188 1189 1190 1191 1192 1193 1194 1195\n",
      "  1196 1197 1198 1199 1200 1201 1202 1203 1204 1205 1206 1207 1208 1209\n",
      "  1210 1211 1212 1213 1214 1215 1216 1217 1218 1219 1220 1221 1222 1223\n",
      "  1224 1225 1226 1227 1228 1229 1230 1231 1232 1233 1234 1235 1236 1237\n",
      "  1238 1239 1240 1241 1242 1243 1244 1245 1246 1247 1248 1249 1250 1254\n",
      "  1255 1256 1257 1259 1260 1266]\n",
      " [   1    1    1    1    1    1    1    1    1    1    1    1    1    1\n",
      "     1    1    1    1    1    1    1    1    1    1    1    1    1    1\n",
      "     1    1    1    1    1    1    1    1    1    1    1    1    1    1\n",
      "     1    1    1    1    1    1    1    1    1    1    1    1    1    1\n",
      "     1    1    1    1    1    1    1    1    1    1    1    1    1    1\n",
      "     1    1    1    1    1    1    1    1    1    1    1    1    1    1\n",
      "     1    1    1    1    1    1    1    1    1    1    1    1    1    1\n",
      "     1    1    1    1    1    1    1    1    1    1    1    1    1    1\n",
      "     1    1    1    1    1    1    1    1    1    1    1    1    1    1\n",
      "     1    1    1    1    1    1    1    1    1    1    1    1    1    1\n",
      "     1    1    1    1    1    1    1    1    1    1    1    1    1    1\n",
      "     1    1    1    1    1    1    1    1    1    1    1    1    1    1\n",
      "     1    1    1    1    1    1    1    1    1    1    1    1    1    1\n",
      "     1    1    1    1    1    1    1    1    1    1    1    1    1    1\n",
      "     1    1    1    1    1    1    1    1    1    1    1    1    1    1\n",
      "     1    1    1    1    1    1    1    1    1    1    1    1    1    1\n",
      "     1    1    1    1    1    1]]\n",
      "writeback 0.0019067159955739044\n"
     ]
    },
    {
     "name": "stderr",
     "output_type": "stream",
     "text": [
      "  4%|▎         | 809/21901 [00:10<04:49, 72.97it/s]"
     ]
    },
    {
     "name": "stdout",
     "output_type": "stream",
     "text": [
      "classify_wide_narrow 0.002093558003252838\n",
      "NARROW FOUND: 1812\n",
      "extract 2d locs 0.01250944899948081\n",
      "flooding 0.023299833002965897\n",
      "change count 203\n",
      "[[ 181  181  181  181  181  181  181  181  181  181  181  181  181  181\n",
      "   181  181  181  181  181  181  181  181  181  181  181  181  181  181\n",
      "   181  181  181  181  181  181  181  181  181  181  181  181  181  181\n",
      "   181  181  181  181  181  181  181  181  181  181  181  181  181  181\n",
      "   181  181  181  181  181  181  181  181  181  181  181  181  181  181\n",
      "   181  181  181  181  181  181  181  181  181  181  181  181  181  181\n",
      "   181  181  181  181  181  182  182  182  190  190  197  198  198  200\n",
      "   201  201  201  201  201  201  201  201  201  201  201  202  202  202\n",
      "   202  202  202  202  202  202  202  202  202  202  202  202  202  202\n",
      "   202  202  202  202  202  202  202  202  202  202  202  202  202  202\n",
      "   202  202  202  202  202  202  202  202  202  202  202  202  202  202\n",
      "   202  202  202  202  202  202  202  202  202  202  202  202  202  202\n",
      "   202  202  202  202  202  202  202  202  202  202  202  202  202  202\n",
      "   202  202  202  202  202  202  202  202  202  202  202  202  202  202\n",
      "   202  202  202  202  202  202  202]\n",
      " [ 129  129  129  129  129  129  129  129  129  129  129  129  129  129\n",
      "   129  129  129  129  129  129  129  129  129  129  129  129  129  129\n",
      "   129  129  129  129  129  129  129  129  129  129  129  129  129  129\n",
      "   129  129  129  129  129  129  129  129  129  129  129  129  129  129\n",
      "   129  129  129  129  129  129  129  129  129  129  129  129  129  129\n",
      "   129  129  129  129  129  129  129  129  129  129  129  129  129  129\n",
      "   129  129  129  129  129  129  129  129  130  130  130  130  130  130\n",
      "   129  129  129  129  129  129  129  129  129  129  130  129  129  129\n",
      "   129  129  129  129  129  129  129  129  129  129  129  129  129  129\n",
      "   129  129  129  129  129  129  129  129  129  129  129  129  129  129\n",
      "   129  129  129  129  129  129  129  129  129  129  129  129  129  129\n",
      "   129  129  129  129  129  129  129  129  129  129  129  129  129  129\n",
      "   129  129  129  129  129  129  129  129  129  129  129  129  129  129\n",
      "   129  129  129  129  129  129  129  129  129  129  129  129  129  129\n",
      "   129  129  129  129  129  129  129]\n",
      " [ 846  847  848  849  850  851  852  853  854  855  856  857  858  859\n",
      "   860  861  862  863  864  865  866  867  868  869  870  871  872  873\n",
      "   874  875  876  877  878  879  880  881  882  883  884  885  886  887\n",
      "   888  889  890  891  892  893  894  895  896  897  898  899  900  901\n",
      "   902  903  904  905  906  907  908  909  910  911  912  913  914  915\n",
      "   916  917  918  919  920  921  922  923  928  929  930  931  932  933\n",
      "   934  935  936  937  942  846  951  954  935  936 1231 1241 1243 1258\n",
      "  1150 1151 1152 1153 1154 1155 1156 1251 1253 1258 1267 1170 1171 1172\n",
      "  1173 1174 1175 1176 1177 1178 1179 1180 1181 1182 1183 1184 1185 1186\n",
      "  1187 1188 1189 1190 1191 1192 1193 1194 1195 1196 1197 1198 1199 1200\n",
      "  1201 1202 1203 1204 1205 1206 1207 1208 1209 1210 1211 1212 1213 1214\n",
      "  1215 1216 1217 1218 1219 1220 1221 1222 1223 1224 1225 1226 1227 1228\n",
      "  1229 1230 1231 1232 1233 1234 1235 1236 1237 1238 1239 1240 1241 1242\n",
      "  1243 1244 1245 1246 1247 1248 1249 1250 1251 1253 1254 1255 1256 1257\n",
      "  1258 1259 1260 1261 1265 1266 1267]\n",
      " [   2    2    2    2    2    2    2    2    2    2    2    2    2    2\n",
      "     2    2    2    2    2    2    2    2    2    2    2    2    2    2\n",
      "     2    2    2    2    2    2    2    2    2    2    2    2    2    2\n",
      "     2    2    2    2    2    2    2    2    2    2    2    2    2    2\n",
      "     2    2    2    2    2    2    2    2    2    2    2    2    2    2\n",
      "     2    2    2    2    2    2    2    2    2    2    2    2    2    2\n",
      "     2    2    2    2    2    2    2    2    1    1    2    2    2    2\n",
      "     1    1    1    1    1    1    1    2    2    2    2    2    2    2\n",
      "     2    2    2    2    2    2    2    2    2    2    2    2    2    2\n",
      "     2    2    2    2    2    2    2    2    2    2    2    2    2    2\n",
      "     2    2    2    2    2    2    2    2    2    2    2    2    2    2\n",
      "     2    2    2    2    2    2    2    2    2    2    2    2    2    2\n",
      "     2    2    2    2    2    2    2    2    2    2    2    2    2    2\n",
      "     2    2    2    2    2    2    2    2    2    2    2    2    2    2\n",
      "     2    2    2    2    2    2    2]]\n",
      "writeback 0.001801594000426121\n"
     ]
    },
    {
     "name": "stderr",
     "output_type": "stream",
     "text": [
      "  4%|▍         | 903/21901 [00:11<05:03, 69.23it/s]"
     ]
    },
    {
     "name": "stdout",
     "output_type": "stream",
     "text": [
      "classify_wide_narrow 0.002755264998995699\n",
      "NARROW FOUND: 1872\n",
      "extract 2d locs 0.013530522999644745\n",
      "flooding 0.028221256005053874\n",
      "change count 187\n",
      "[[ 180  180  180  180  180  180  180  180  180  180  180  180  180  180\n",
      "   180  180  180  180  180  180  180  180  180  180  180  180  180  180\n",
      "   180  180  180  180  180  180  180  180  180  180  180  180  180  180\n",
      "   180  180  180  180  180  180  180  180  180  180  180  180  180  180\n",
      "   180  180  180  180  180  180  180  180  180  180  180  180  180  180\n",
      "   180  180  180  180  180  180  180  181  181  181  182  182  182  188\n",
      "   188  198  201  201  201  201  201  201  202  202  202  202  202  202\n",
      "   202  202  202  203  203  203  203  203  203  203  203  203  203  203\n",
      "   203  203  203  203  203  203  203  203  203  203  203  203  203  203\n",
      "   203  203  203  203  203  203  203  203  203  203  203  203  203  203\n",
      "   203  203  203  203  203  203  203  203  203  203  203  203  203  203\n",
      "   203  203  203  203  203  203  203  203  203  203  203  203  203  203\n",
      "   203  203  203  203  203  203  203  203  203  203  203  203  203  203\n",
      "   203  203  203  203  203]\n",
      " [ 129  129  129  129  129  129  129  129  129  129  129  129  129  129\n",
      "   129  129  129  129  129  129  129  129  129  129  129  129  129  129\n",
      "   129  129  129  129  129  129  129  129  129  129  129  129  129  129\n",
      "   129  129  129  129  129  129  129  129  129  129  129  129  129  129\n",
      "   129  129  129  129  129  129  129  129  129  129  129  129  129  129\n",
      "   129  129  129  129  129  129  129  129  129  129  129  129  129  130\n",
      "   130  130  129  129  129  129  129  130  129  129  129  129  129  129\n",
      "   129  129  129  129  129  129  129  129  129  129  129  129  129  129\n",
      "   129  129  129  129  129  129  129  129  129  129  129  129  129  129\n",
      "   129  129  129  129  129  129  129  129  129  129  129  129  129  129\n",
      "   129  129  129  129  129  129  129  129  129  129  129  129  129  129\n",
      "   129  129  129  129  129  129  129  129  129  129  129  129  129  129\n",
      "   129  129  129  129  129  129  129  129  129  129  129  129  129  129\n",
      "   129  129  129  129  129]\n",
      " [ 845  846  847  848  849  850  851  852  853  854  855  856  857  858\n",
      "   859  860  861  862  863  864  865  866  867  868  869  870  871  872\n",
      "   873  874  875  876  877  878  879  880  881  882  883  884  885  886\n",
      "   887  888  889  890  891  892  893  894  895  896  897  898  899  900\n",
      "   901  902  903  904  905  906  907  908  909  910  911  912  917  918\n",
      "   919  920  921  922  923  924  927  845  938  941  845  952  953  914\n",
      "   915 1242 1146 1147 1148 1149 1252 1268 1165 1166 1167 1168 1169 1252\n",
      "  1262 1264 1268 1182 1183 1184 1185 1186 1187 1188 1189 1190 1191 1192\n",
      "  1193 1194 1195 1196 1197 1198 1199 1200 1201 1202 1203 1204 1205 1206\n",
      "  1207 1208 1209 1210 1211 1212 1213 1214 1215 1216 1217 1218 1219 1220\n",
      "  1221 1222 1223 1224 1225 1226 1227 1228 1229 1230 1231 1232 1233 1234\n",
      "  1235 1236 1237 1238 1239 1240 1241 1242 1243 1244 1245 1246 1247 1248\n",
      "  1249 1250 1251 1252 1253 1254 1255 1256 1257 1258 1259 1260 1261 1262\n",
      "  1264 1265 1266 1267 1268]\n",
      " [   3    3    3    3    3    3    3    3    3    3    3    3    3    3\n",
      "     3    3    3    3    3    3    3    3    3    3    3    3    3    3\n",
      "     3    3    3    3    3    3    3    3    3    3    3    3    3    3\n",
      "     3    3    3    3    3    3    3    3    3    3    3    3    3    3\n",
      "     3    3    3    3    3    3    3    3    3    3    3    3    3    3\n",
      "     3    3    3    3    3    3    3    3    3    3    3    3    3    1\n",
      "     1    3    1    1    1    1    3    3    2    2    2    2    2    3\n",
      "     3    3    3    3    3    3    3    3    3    3    3    3    3    3\n",
      "     3    3    3    3    3    3    3    3    3    3    3    3    3    3\n",
      "     3    3    3    3    3    3    3    3    3    3    3    3    3    3\n",
      "     3    3    3    3    3    3    3    3    3    3    3    3    3    3\n",
      "     3    3    3    3    3    3    3    3    3    3    3    3    3    3\n",
      "     3    3    3    3    3    3    3    3    3    3    3    3    3    3\n",
      "     3    3    3    3    3]]\n",
      "writeback 0.001974407998204697\n"
     ]
    },
    {
     "name": "stderr",
     "output_type": "stream",
     "text": [
      "  5%|▍         | 1005/21901 [00:13<05:03, 68.91it/s]"
     ]
    },
    {
     "name": "stdout",
     "output_type": "stream",
     "text": [
      "classify_wide_narrow 0.0020798969999304973\n",
      "NARROW FOUND: 1967\n",
      "extract 2d locs 0.01367984900571173\n",
      "flooding 0.033180739999806974\n",
      "change count 277\n",
      "[[ 179  179  179 ...  204  204  204]\n",
      " [ 129  129  129 ...  129  129  129]\n",
      " [ 844  845  846 ... 1267 1268 1269]\n",
      " [   4    4    4 ...    4    4    4]]\n",
      "writeback 0.0015450189966941252\n"
     ]
    },
    {
     "name": "stderr",
     "output_type": "stream",
     "text": [
      "  5%|▌         | 1103/21901 [00:14<05:27, 63.53it/s]"
     ]
    },
    {
     "name": "stdout",
     "output_type": "stream",
     "text": [
      "classify_wide_narrow 0.0022124620008980855\n",
      "NARROW FOUND: 2710\n",
      "extract 2d locs 0.016960082997684367\n",
      "flooding 0.04619162800372578\n",
      "change count 5617\n",
      "[[ 166  166  166 ...  272  272  272]\n",
      " [ 172  172  172 ...  118  118  118]\n",
      " [ 570  571  572 ... 1320 1321 1324]\n",
      " [   1    1    1 ...    1    1    1]]\n",
      "writeback 0.0016200949976337142\n"
     ]
    },
    {
     "name": "stderr",
     "output_type": "stream",
     "text": [
      "  6%|▌         | 1207/21901 [00:16<05:37, 61.37it/s]"
     ]
    },
    {
     "name": "stdout",
     "output_type": "stream",
     "text": [
      "classify_wide_narrow 0.0026798120015882887\n",
      "NARROW FOUND: 4089\n",
      "extract 2d locs 0.025596968000172637\n",
      "flooding 0.08571273700363236\n",
      "change count 11377\n",
      "[[162 162 162 ... 332 332 332]\n",
      " [172 172 172 ... 181 182 183]\n",
      " [581 582 583 ... 175  82  85]\n",
      " [  1   1   1 ...   1   1   1]]\n",
      "writeback 0.0029954759957036003\n"
     ]
    },
    {
     "name": "stderr",
     "output_type": "stream",
     "text": [
      "  6%|▌         | 1299/21901 [00:17<04:27, 76.91it/s]"
     ]
    },
    {
     "name": "stdout",
     "output_type": "stream",
     "text": [
      "classify_wide_narrow 0.00233415600087028\n",
      "NARROW FOUND: 5325\n",
      "extract 2d locs 0.03400740500364918\n",
      "flooding 0.13185952200001338\n",
      "change count 16472\n",
      "[[ 159  159  159 ...  367  367  367]\n",
      " [ 172  172  172 ...  118  119  119]\n",
      " [ 575  589  590 ... 1413 1353 1365]\n",
      " [   1    1    1 ...    1    1    1]]\n",
      "writeback 0.00405295699601993\n"
     ]
    },
    {
     "name": "stderr",
     "output_type": "stream",
     "text": [
      "  6%|▋         | 1400/21901 [00:18<06:44, 50.70it/s]"
     ]
    },
    {
     "name": "stdout",
     "output_type": "stream",
     "text": [
      "classify_wide_narrow 0.0021720029981224798\n",
      "NARROW FOUND: 6348\n",
      "extract 2d locs 0.03556617600406753\n",
      "flooding 0.15546082799846772\n",
      "change count 18428\n",
      "[[ 158  158  158 ...  414  414  414]\n",
      " [ 172  172  172 ...  119  119  119]\n",
      " [ 540  591  592 ... 1401 1402 1403]\n",
      " [   2    2    2 ...    1    1    1]]\n",
      "writeback 0.004173346002062317\n"
     ]
    },
    {
     "name": "stderr",
     "output_type": "stream",
     "text": [
      "  7%|▋         | 1497/21901 [00:20<04:12, 80.79it/s]"
     ]
    },
    {
     "name": "stdout",
     "output_type": "stream",
     "text": [
      "classify_wide_narrow 0.0024631970009068027\n",
      "NARROW FOUND: 7279\n",
      "extract 2d locs 0.03950390999671072\n"
     ]
    },
    {
     "name": "stderr",
     "output_type": "stream",
     "text": [
      "  7%|▋         | 1515/21901 [00:20<06:09, 55.15it/s]"
     ]
    },
    {
     "name": "stdout",
     "output_type": "stream",
     "text": [
      "flooding 0.1942264030003571\n",
      "change count 14645\n",
      "[[157 157 157 ... 457 457 457]\n",
      " [172 172 172 ... 191 191 191]\n",
      " [574 575 576 ... 152 164 188]\n",
      " [  3   3   3 ...   1   1   1]]\n",
      "writeback 0.0052773040006286465\n"
     ]
    },
    {
     "name": "stderr",
     "output_type": "stream",
     "text": [
      "  7%|▋         | 1595/21901 [00:21<04:15, 79.50it/s]"
     ]
    },
    {
     "name": "stdout",
     "output_type": "stream",
     "text": [
      "classify_wide_narrow 0.002239629000541754\n",
      "NARROW FOUND: 8429\n",
      "extract 2d locs 0.04354239799431525\n"
     ]
    },
    {
     "name": "stderr",
     "output_type": "stream",
     "text": [
      "  7%|▋         | 1613/21901 [00:21<06:20, 53.31it/s]"
     ]
    },
    {
     "name": "stdout",
     "output_type": "stream",
     "text": [
      "flooding 0.22463645500101848\n",
      "change count 12773\n",
      "[[ 156  156  156 ...  494  494  494]\n",
      " [ 172  172  172 ...  133  133  133]\n",
      " [ 546  578  595 ... 1385 1386 1387]\n",
      " [   4    4    4 ...    1    1    1]]\n",
      "writeback 0.007896729999629315\n"
     ]
    },
    {
     "name": "stderr",
     "output_type": "stream",
     "text": [
      "  8%|▊         | 1694/21901 [00:22<04:10, 80.74it/s]"
     ]
    },
    {
     "name": "stdout",
     "output_type": "stream",
     "text": [
      "classify_wide_narrow 0.0022264999934122898\n",
      "NARROW FOUND: 9876\n",
      "extract 2d locs 0.050319354006205685\n"
     ]
    },
    {
     "name": "stderr",
     "output_type": "stream",
     "text": [
      "  8%|▊         | 1712/21901 [00:23<06:41, 50.25it/s]"
     ]
    },
    {
     "name": "stdout",
     "output_type": "stream",
     "text": [
      "flooding 0.27184732999739936\n",
      "change count 14986\n",
      "[[155 155 155 ... 565 565 565]\n",
      " [171 172 172 ... 229 229 229]\n",
      " [661 549 581 ... 218 219 222]\n",
      " [  5   5   5 ...   1   1   1]]\n",
      "writeback 0.00803946099767927\n"
     ]
    },
    {
     "name": "stderr",
     "output_type": "stream",
     "text": [
      "  8%|▊         | 1792/21901 [00:24<04:15, 78.83it/s]"
     ]
    },
    {
     "name": "stdout",
     "output_type": "stream",
     "text": [
      "classify_wide_narrow 0.002264301998366136\n",
      "NARROW FOUND: 10499\n",
      "extract 2d locs 0.05388511100318283\n"
     ]
    },
    {
     "name": "stderr",
     "output_type": "stream",
     "text": [
      "  8%|▊         | 1810/21901 [00:25<07:03, 47.42it/s]"
     ]
    },
    {
     "name": "stdout",
     "output_type": "stream",
     "text": [
      "flooding 0.30668882399913855\n",
      "change count 16897\n",
      "[[ 154  154  154 ...  568  568  568]\n",
      " [ 172  172  172 ...  125  125  125]\n",
      " [ 552  553  554 ... 1368 1372 1373]\n",
      " [   6    6    6 ...    1    1    1]]\n",
      "writeback 0.007813481999619398\n"
     ]
    },
    {
     "name": "stderr",
     "output_type": "stream",
     "text": [
      "  9%|▊         | 1896/21901 [00:26<04:10, 79.96it/s]"
     ]
    },
    {
     "name": "stdout",
     "output_type": "stream",
     "text": [
      "classify_wide_narrow 0.0022971259968471713\n",
      "NARROW FOUND: 10774\n",
      "extract 2d locs 0.06036389699875144\n"
     ]
    },
    {
     "name": "stderr",
     "output_type": "stream",
     "text": [
      "  9%|▊         | 1913/21901 [00:26<07:23, 45.11it/s]"
     ]
    },
    {
     "name": "stdout",
     "output_type": "stream",
     "text": [
      "flooding 0.3244429000042146\n",
      "change count 10885\n",
      "[[ 153  153  153 ...  586  586  586]\n",
      " [ 171  172  172 ...  125  125  125]\n",
      " [ 662  555  556 ... 1380 1384 1390]\n",
      " [   7    7    7 ...    1    1    1]]\n",
      "writeback 0.008120255995891057\n"
     ]
    },
    {
     "name": "stderr",
     "output_type": "stream",
     "text": [
      "  9%|▉         | 1996/21901 [00:27<04:19, 76.78it/s]"
     ]
    },
    {
     "name": "stdout",
     "output_type": "stream",
     "text": [
      "classify_wide_narrow 0.0022666380027658306\n",
      "NARROW FOUND: 10909\n",
      "extract 2d locs 0.057871374003298115\n"
     ]
    },
    {
     "name": "stderr",
     "output_type": "stream",
     "text": [
      "  9%|▉         | 2012/21901 [00:28<07:44, 42.80it/s]"
     ]
    },
    {
     "name": "stdout",
     "output_type": "stream",
     "text": [
      "flooding 0.32478166099463124\n",
      "change count 11606\n",
      "[[ 152  152  152 ...  608  608  608]\n",
      " [ 172  172  172 ...  125  125  125]\n",
      " [ 558  559  560 ... 1397 1399 1400]\n",
      " [   8    8    8 ...    1    1    1]]\n",
      "writeback 0.008575031002692413\n"
     ]
    },
    {
     "name": "stderr",
     "output_type": "stream",
     "text": [
      " 10%|▉         | 2092/21901 [00:29<04:35, 71.95it/s]"
     ]
    },
    {
     "name": "stdout",
     "output_type": "stream",
     "text": [
      "classify_wide_narrow 0.0021796630026074126\n",
      "NARROW FOUND: 10978\n",
      "extract 2d locs 0.05537681499845348\n"
     ]
    },
    {
     "name": "stderr",
     "output_type": "stream",
     "text": [
      " 10%|▉         | 2108/21901 [00:30<07:56, 41.51it/s]"
     ]
    },
    {
     "name": "stdout",
     "output_type": "stream",
     "text": [
      "flooding 0.3273915789977764\n",
      "change count 7391\n",
      "[[ 151  151  151 ...  620  620  620]\n",
      " [ 172  172  172 ...  125  125  125]\n",
      " [ 558  559  561 ... 1389 1391 1403]\n",
      " [   9    9    9 ...    1    1    1]]\n",
      "writeback 0.009826135006733239\n",
      "wiped count: 2\n"
     ]
    },
    {
     "name": "stderr",
     "output_type": "stream",
     "text": [
      " 10%|█         | 2196/21901 [00:31<04:29, 73.09it/s]"
     ]
    },
    {
     "name": "stdout",
     "output_type": "stream",
     "text": [
      "classify_wide_narrow 0.0022653169944533147\n",
      "NARROW FOUND: 11042\n",
      "extract 2d locs 0.05801220000284957\n"
     ]
    },
    {
     "name": "stderr",
     "output_type": "stream",
     "text": [
      " 10%|█         | 2212/21901 [00:31<08:14, 39.81it/s]"
     ]
    },
    {
     "name": "stdout",
     "output_type": "stream",
     "text": [
      "flooding 0.36972158899880014\n",
      "change count 4463\n",
      "[[ 150  150  150 ...  622  622  622]\n",
      " [ 172  172  172 ...  125  125  125]\n",
      " [ 560  561  562 ... 1383 1393 1395]\n",
      " [  10   10   10 ...    1    1    1]]\n",
      "writeback 0.008635325000796001\n"
     ]
    },
    {
     "name": "stderr",
     "output_type": "stream",
     "text": [
      " 10%|█         | 2298/21901 [00:33<04:31, 72.12it/s]"
     ]
    },
    {
     "name": "stdout",
     "output_type": "stream",
     "text": [
      "classify_wide_narrow 0.002304705005371943\n",
      "NARROW FOUND: 11372\n",
      "extract 2d locs 0.06104066099942429\n"
     ]
    },
    {
     "name": "stderr",
     "output_type": "stream",
     "text": [
      " 11%|█         | 2314/21901 [00:33<07:59, 40.81it/s]"
     ]
    },
    {
     "name": "stdout",
     "output_type": "stream",
     "text": [
      "flooding 0.34517270699871005\n",
      "change count 3883\n",
      "[[ 149  149  149 ...  623  623  623]\n",
      " [ 172  172  172 ...  125  126  126]\n",
      " [ 563  564  565 ... 1396 1371 1396]\n",
      " [  11   11   11 ...    2    2    2]]\n",
      "writeback 0.0092607449987554\n"
     ]
    },
    {
     "name": "stderr",
     "output_type": "stream",
     "text": [
      " 11%|█         | 2399/21901 [00:34<04:41, 69.39it/s]"
     ]
    },
    {
     "name": "stdout",
     "output_type": "stream",
     "text": [
      "classify_wide_narrow 0.0022917329988558777\n",
      "NARROW FOUND: 11481\n",
      "extract 2d locs 0.06004770300205564\n"
     ]
    },
    {
     "name": "stderr",
     "output_type": "stream",
     "text": [
      "\r",
      " 11%|█         | 2407/21901 [00:35<09:49, 33.08it/s]"
     ]
    },
    {
     "name": "stdout",
     "output_type": "stream",
     "text": [
      "flooding 0.35286780299793463\n",
      "change count 3591\n",
      "[[ 148  148  148 ...  626  626  626]\n",
      " [ 172  172  172 ...  125  125  125]\n",
      " [ 566  567  568 ... 1390 1391 1393]\n",
      " [  12   12   12 ...    1    1    1]]\n",
      "writeback 0.009294348004914355\n"
     ]
    },
    {
     "name": "stderr",
     "output_type": "stream",
     "text": [
      " 11%|█▏        | 2492/21901 [00:36<04:35, 70.39it/s]"
     ]
    },
    {
     "name": "stdout",
     "output_type": "stream",
     "text": [
      "classify_wide_narrow 0.0022963139999774285\n",
      "NARROW FOUND: 11558\n",
      "extract 2d locs 0.06036712000059197\n"
     ]
    },
    {
     "name": "stderr",
     "output_type": "stream",
     "text": [
      " 11%|█▏        | 2508/21901 [00:37<08:08, 39.72it/s]"
     ]
    },
    {
     "name": "stdout",
     "output_type": "stream",
     "text": [
      "flooding 0.3466963169994415\n",
      "change count 2649\n",
      "[[ 147  147  147 ...  627  627  627]\n",
      " [ 172  172  172 ...  125  125  125]\n",
      " [ 569  570  571 ... 1392 1393 1394]\n",
      " [  13   13   13 ...    2    2    2]]\n",
      "writeback 0.009110967002925463\n"
     ]
    },
    {
     "name": "stderr",
     "output_type": "stream",
     "text": [
      " 12%|█▏        | 2596/21901 [00:38<04:26, 72.38it/s]"
     ]
    },
    {
     "name": "stdout",
     "output_type": "stream",
     "text": [
      "wiped count: 1\n",
      "classify_wide_narrow 0.002130886998202186\n",
      "NARROW FOUND: 11835\n",
      "extract 2d locs 0.05859116899955552\n"
     ]
    },
    {
     "name": "stderr",
     "output_type": "stream",
     "text": [
      " 12%|█▏        | 2612/21901 [00:39<08:00, 40.10it/s]"
     ]
    },
    {
     "name": "stdout",
     "output_type": "stream",
     "text": [
      "flooding 0.3486494009994203\n",
      "change count 2344\n",
      "[[146 146 146 ... 631 631 631]\n",
      " [172 172 172 ... 162 162 162]\n",
      " [572 573 574 ... 146 147 148]\n",
      " [ 14  14  14 ...   1   1   1]]\n",
      "writeback 0.01048688699665945\n"
     ]
    },
    {
     "name": "stderr",
     "output_type": "stream",
     "text": [
      " 12%|█▏        | 2667/21901 [00:39<04:30, 71.16it/s]"
     ]
    },
    {
     "name": "stdout",
     "output_type": "stream",
     "text": [
      "wiped count: 2\n",
      "wiped count: 2\n"
     ]
    },
    {
     "name": "stderr",
     "output_type": "stream",
     "text": [
      " 12%|█▏        | 2692/21901 [00:40<04:08, 77.32it/s]"
     ]
    },
    {
     "name": "stdout",
     "output_type": "stream",
     "text": [
      "classify_wide_narrow 0.002172574997530319\n",
      "NARROW FOUND: 12026\n",
      "extract 2d locs 0.06054297400260111\n"
     ]
    },
    {
     "name": "stderr",
     "output_type": "stream",
     "text": [
      " 12%|█▏        | 2709/21901 [00:40<07:13, 44.24it/s]"
     ]
    },
    {
     "name": "stdout",
     "output_type": "stream",
     "text": [
      "flooding 0.3285229489993071\n",
      "change count 3543\n",
      "[[145 145 145 ... 636 636 636]\n",
      " [172 172 173 ... 162 162 162]\n",
      " [575 576 637 ... 135 136 137]\n",
      " [ 15  15  15 ...   1   1   1]]\n",
      "writeback 0.008899494001525454\n"
     ]
    },
    {
     "name": "stderr",
     "output_type": "stream",
     "text": [
      " 13%|█▎        | 2796/21901 [00:41<03:59, 79.90it/s]"
     ]
    },
    {
     "name": "stdout",
     "output_type": "stream",
     "text": [
      "classify_wide_narrow 0.0025574309984222054\n",
      "NARROW FOUND: 12370\n",
      "extract 2d locs 0.06193870100105414\n"
     ]
    },
    {
     "name": "stderr",
     "output_type": "stream",
     "text": [
      " 13%|█▎        | 2814/21901 [00:42<07:04, 44.93it/s]"
     ]
    },
    {
     "name": "stdout",
     "output_type": "stream",
     "text": [
      "flooding 0.34897651500068605\n",
      "change count 4627\n",
      "[[144 147 147 ... 637 637 637]\n",
      " [173 173 174 ... 162 162 162]\n",
      " [638 650 650 ... 132 133 134]\n",
      " [ 16  16  16 ...   2   2   2]]\n",
      "writeback 0.008915403996070381\n"
     ]
    },
    {
     "name": "stderr",
     "output_type": "stream",
     "text": [
      " 13%|█▎        | 2898/21901 [00:43<04:06, 76.96it/s]"
     ]
    },
    {
     "name": "stdout",
     "output_type": "stream",
     "text": [
      "classify_wide_narrow 0.0021945259941276163\n",
      "NARROW FOUND: 13066\n",
      "extract 2d locs 0.06529850600054488\n"
     ]
    },
    {
     "name": "stderr",
     "output_type": "stream",
     "text": [
      " 13%|█▎        | 2915/21901 [00:44<07:20, 43.11it/s]"
     ]
    },
    {
     "name": "stdout",
     "output_type": "stream",
     "text": [
      "flooding 0.3479864090040792\n",
      "change count 7971\n",
      "[[159 159 159 ... 638 638 638]\n",
      " [128 128 129 ... 162 162 162]\n",
      " [759 800 748 ... 130 131 132]\n",
      " [ 18  18  18 ...   3   3   3]]\n",
      "writeback 0.010139619000256062\n"
     ]
    },
    {
     "name": "stderr",
     "output_type": "stream",
     "text": [
      " 14%|█▎        | 2995/21901 [00:45<03:56, 79.94it/s]"
     ]
    },
    {
     "name": "stdout",
     "output_type": "stream",
     "text": [
      "classify_wide_narrow 0.0021629600014421158\n",
      "NARROW FOUND: 13457\n",
      "extract 2d locs 0.06564480099768844\n"
     ]
    },
    {
     "name": "stderr",
     "output_type": "stream",
     "text": [
      " 14%|█▍        | 3012/21901 [00:45<07:22, 42.69it/s]"
     ]
    },
    {
     "name": "stdout",
     "output_type": "stream",
     "text": [
      "flooding 0.3707782900019083\n",
      "change count 13455\n",
      "[[158 158 158 ... 639 639 639]\n",
      " [128 128 128 ... 162 162 162]\n",
      " [749 798 799 ... 127 128 129]\n",
      " [ 19  19  19 ...   4   4   4]]\n",
      "writeback 0.010845889999473002\n"
     ]
    },
    {
     "name": "stderr",
     "output_type": "stream",
     "text": [
      " 14%|█▍        | 3092/21901 [00:46<03:58, 78.83it/s]"
     ]
    },
    {
     "name": "stdout",
     "output_type": "stream",
     "text": [
      "classify_wide_narrow 0.002288881005370058\n",
      "NARROW FOUND: 13734\n",
      "extract 2d locs 0.06982569699903252\n"
     ]
    },
    {
     "name": "stderr",
     "output_type": "stream",
     "text": [
      " 14%|█▍        | 3110/21901 [00:47<07:12, 43.46it/s]"
     ]
    },
    {
     "name": "stdout",
     "output_type": "stream",
     "text": [
      "flooding 0.3652083889974165\n",
      "change count 11131\n",
      "[[157 157 157 ... 640 640 640]\n",
      " [128 128 128 ... 162 162 162]\n",
      " [758 795 796 ... 126 127 128]\n",
      " [ 20  20  20 ...   5   5   5]]\n",
      "writeback 0.009276586999476422\n"
     ]
    },
    {
     "name": "stderr",
     "output_type": "stream",
     "text": [
      " 15%|█▍        | 3198/21901 [00:48<04:04, 76.45it/s]"
     ]
    },
    {
     "name": "stdout",
     "output_type": "stream",
     "text": [
      "classify_wide_narrow 0.0022758859995519742\n",
      "NARROW FOUND: 14631\n",
      "extract 2d locs 0.07228220199613133\n"
     ]
    },
    {
     "name": "stderr",
     "output_type": "stream",
     "text": [
      " 15%|█▍        | 3214/21901 [00:49<08:02, 38.76it/s]"
     ]
    },
    {
     "name": "stdout",
     "output_type": "stream",
     "text": [
      "flooding 0.400704940999276\n",
      "change count 11804\n",
      "[[156 156 156 ... 641 641 641]\n",
      " [128 128 129 ... 162 162 162]\n",
      " [752 794 747 ... 124 125 126]\n",
      " [ 21  21  21 ...   6   6   6]]\n",
      "writeback 0.01052315000561066\n"
     ]
    },
    {
     "name": "stderr",
     "output_type": "stream",
     "text": [
      " 15%|█▌        | 3294/21901 [00:50<04:10, 74.14it/s]"
     ]
    },
    {
     "name": "stdout",
     "output_type": "stream",
     "text": [
      "classify_wide_narrow 0.0023322570050368086\n",
      "NARROW FOUND: 15574\n",
      "extract 2d locs 0.0794030120014213\n"
     ]
    },
    {
     "name": "stderr",
     "output_type": "stream",
     "text": [
      " 15%|█▌        | 3310/21901 [00:51<08:16, 37.45it/s]"
     ]
    },
    {
     "name": "stdout",
     "output_type": "stream",
     "text": [
      "flooding 0.4220788859965978\n",
      "change count 9314\n",
      "[[155 155 155 ... 642 642 642]\n",
      " [128 128 128 ... 162 162 162]\n",
      " [748 757 792 ... 121 122 123]\n",
      " [ 22  22  22 ...   7   7   7]]\n",
      "writeback 0.01112246199772926\n"
     ]
    },
    {
     "name": "stderr",
     "output_type": "stream",
     "text": [
      " 16%|█▌        | 3398/21901 [00:52<04:00, 76.78it/s]"
     ]
    },
    {
     "name": "stdout",
     "output_type": "stream",
     "text": [
      "classify_wide_narrow 0.002217185996414628\n",
      "NARROW FOUND: 16382\n",
      "extract 2d locs 0.08240460800152505\n"
     ]
    },
    {
     "name": "stderr",
     "output_type": "stream",
     "text": [
      " 16%|█▌        | 3414/21901 [00:52<08:22, 36.77it/s]"
     ]
    },
    {
     "name": "stdout",
     "output_type": "stream",
     "text": [
      "flooding 0.449878888000967\n",
      "change count 10610\n",
      "[[154 154 154 ... 643 643 643]\n",
      " [128 128 128 ... 162 162 162]\n",
      " [751 787 790 ... 119 120 121]\n",
      " [ 23  23  23 ...   8   8   8]]\n",
      "writeback 0.011812258999270853\n"
     ]
    },
    {
     "name": "stderr",
     "output_type": "stream",
     "text": [
      " 16%|█▌        | 3496/21901 [00:54<04:01, 76.15it/s]"
     ]
    },
    {
     "name": "stdout",
     "output_type": "stream",
     "text": [
      "classify_wide_narrow 0.0025019020031322725\n",
      "NARROW FOUND: 17325\n",
      "extract 2d locs 0.08768822599813575\n"
     ]
    },
    {
     "name": "stderr",
     "output_type": "stream",
     "text": [
      " 16%|█▌        | 3512/21901 [00:54<08:23, 36.53it/s]"
     ]
    },
    {
     "name": "stdout",
     "output_type": "stream",
     "text": [
      "flooding 0.4560846649983432\n",
      "change count 10700\n",
      "[[153 153 153 ... 644 644 644]\n",
      " [128 128 129 ... 162 162 162]\n",
      " [789 792 747 ... 117 118 119]\n",
      " [ 24  24  24 ...   9   9   9]]\n",
      "writeback 0.012840849005442578\n"
     ]
    },
    {
     "name": "stderr",
     "output_type": "stream",
     "text": [
      " 16%|█▋        | 3591/21901 [00:55<03:52, 78.69it/s]"
     ]
    },
    {
     "name": "stdout",
     "output_type": "stream",
     "text": [
      "classify_wide_narrow 0.002214817999629304\n",
      "NARROW FOUND: 18129\n",
      "extract 2d locs 0.08866068099450786\n"
     ]
    },
    {
     "name": "stderr",
     "output_type": "stream",
     "text": [
      " 16%|█▋        | 3609/21901 [00:56<08:11, 37.23it/s]"
     ]
    },
    {
     "name": "stdout",
     "output_type": "stream",
     "text": [
      "flooding 0.5149200200030464\n",
      "change count 6844\n",
      "[[152 152 152 ... 645 645 645]\n",
      " [128 128 128 ... 162 162 162]\n",
      " [747 787 788 ... 115 116 117]\n",
      " [ 25  25  25 ...  10  10  10]]\n",
      "writeback 0.01394933999836212\n"
     ]
    },
    {
     "name": "stderr",
     "output_type": "stream",
     "text": [
      " 17%|█▋        | 3698/21901 [00:57<03:57, 76.68it/s]"
     ]
    },
    {
     "name": "stdout",
     "output_type": "stream",
     "text": [
      "classify_wide_narrow 0.0021825349977007136\n",
      "NARROW FOUND: 18398\n",
      "extract 2d locs 0.08906934299739078\n"
     ]
    },
    {
     "name": "stderr",
     "output_type": "stream",
     "text": [
      "\r",
      " 17%|█▋        | 3706/21901 [00:58<10:19, 29.36it/s]"
     ]
    },
    {
     "name": "stdout",
     "output_type": "stream",
     "text": [
      "flooding 0.4550531080021756\n",
      "change count 5082\n",
      "[[151 151 151 ... 646 646 646]\n",
      " [128 128 128 ... 162 162 162]\n",
      " [750 783 786 ... 113 114 115]\n",
      " [ 26  26  26 ...  11  11  11]]\n",
      "writeback 0.012437946999853011\n"
     ]
    },
    {
     "name": "stderr",
     "output_type": "stream",
     "text": [
      " 17%|█▋        | 3799/21901 [00:59<04:07, 73.15it/s]"
     ]
    },
    {
     "name": "stdout",
     "output_type": "stream",
     "text": [
      "classify_wide_narrow 0.002587288006907329\n",
      "NARROW FOUND: 19395\n",
      "extract 2d locs 0.09434374099510023\n"
     ]
    },
    {
     "name": "stderr",
     "output_type": "stream",
     "text": [
      "\r",
      " 17%|█▋        | 3807/21901 [01:00<10:51, 27.78it/s]"
     ]
    },
    {
     "name": "stdout",
     "output_type": "stream",
     "text": [
      "flooding 0.5150949099988793\n",
      "change count 10038\n",
      "[[150 150 150 ... 647 647 647]\n",
      " [128 128 128 ... 162 162 162]\n",
      " [784 785 787 ... 112 113 114]\n",
      " [ 27  27  27 ...  12  12  12]]\n",
      "writeback 0.01488938100374071\n"
     ]
    },
    {
     "name": "stderr",
     "output_type": "stream",
     "text": [
      " 18%|█▊        | 3854/21901 [01:01<04:44, 63.39it/s]"
     ]
    },
    {
     "name": "stdout",
     "output_type": "stream",
     "text": [
      "wiped count: 7\n"
     ]
    },
    {
     "name": "stderr",
     "output_type": "stream",
     "text": [
      " 18%|█▊        | 3894/21901 [01:01<04:32, 66.06it/s]"
     ]
    },
    {
     "name": "stdout",
     "output_type": "stream",
     "text": [
      "classify_wide_narrow 0.002166549995308742\n",
      "NARROW FOUND: 20350\n",
      "extract 2d locs 0.09696361700480338\n"
     ]
    },
    {
     "name": "stderr",
     "output_type": "stream",
     "text": [
      " 18%|█▊        | 3909/21901 [01:02<09:27, 31.68it/s]"
     ]
    },
    {
     "name": "stdout",
     "output_type": "stream",
     "text": [
      "flooding 0.5410045079988777\n",
      "change count 10438\n",
      "[[149 149 149 ... 648 648 648]\n",
      " [128 128 128 ... 162 162 162]\n",
      " [783 785 786 ... 110 111 112]\n",
      " [ 28  28  28 ...  13  13  13]]\n",
      "writeback 0.014966912000090815\n"
     ]
    },
    {
     "name": "stderr",
     "output_type": "stream",
     "text": [
      " 18%|█▊        | 3996/21901 [01:03<04:33, 65.58it/s]"
     ]
    },
    {
     "name": "stdout",
     "output_type": "stream",
     "text": [
      "classify_wide_narrow 0.002130348002538085\n",
      "NARROW FOUND: 20874\n",
      "extract 2d locs 0.10233150199928787\n"
     ]
    },
    {
     "name": "stderr",
     "output_type": "stream",
     "text": [
      " 18%|█▊        | 4011/21901 [01:04<09:48, 30.41it/s]"
     ]
    },
    {
     "name": "stdout",
     "output_type": "stream",
     "text": [
      "flooding 0.5602114170033019\n",
      "change count 12149\n",
      "[[148 148 148 ... 649 649 649]\n",
      " [128 128 128 ... 162 162 162]\n",
      " [746 749 782 ... 108 109 110]\n",
      " [ 29  29  29 ...  14  14  14]]\n",
      "writeback 0.015453724998224061\n"
     ]
    },
    {
     "name": "stderr",
     "output_type": "stream",
     "text": [
      " 19%|█▊        | 4095/21901 [01:05<04:32, 65.28it/s]"
     ]
    },
    {
     "name": "stdout",
     "output_type": "stream",
     "text": [
      "classify_wide_narrow 0.002183090000471566\n",
      "NARROW FOUND: 20977\n",
      "extract 2d locs 0.10453675800090423\n"
     ]
    },
    {
     "name": "stderr",
     "output_type": "stream",
     "text": [
      " 19%|█▉        | 4110/21901 [01:06<09:47, 30.30it/s]"
     ]
    },
    {
     "name": "stdout",
     "output_type": "stream",
     "text": [
      "flooding 0.560923659002583\n",
      "change count 10671\n",
      "[[147 147 147 ... 650 650 650]\n",
      " [128 129 129 ... 162 162 162]\n",
      " [783 744 745 ... 106 107 108]\n",
      " [ 30  30  30 ...  15  15  15]]\n",
      "writeback 0.0164760510015185\n"
     ]
    },
    {
     "name": "stderr",
     "output_type": "stream",
     "text": [
      " 19%|█▉        | 4188/21901 [01:07<04:06, 71.72it/s]"
     ]
    },
    {
     "name": "stdout",
     "output_type": "stream",
     "text": [
      "wiped count: 3\n",
      "wiped count: 1\n"
     ]
    },
    {
     "name": "stderr",
     "output_type": "stream",
     "text": [
      "\r",
      " 19%|█▉        | 4196/21901 [01:07<04:43, 62.55it/s]"
     ]
    },
    {
     "name": "stdout",
     "output_type": "stream",
     "text": [
      "classify_wide_narrow 0.0023143209982663393\n",
      "NARROW FOUND: 20995\n",
      "extract 2d locs 0.10392108299856773\n"
     ]
    },
    {
     "name": "stderr",
     "output_type": "stream",
     "text": [
      " 19%|█▉        | 4211/21901 [01:08<09:54, 29.78it/s]"
     ]
    },
    {
     "name": "stdout",
     "output_type": "stream",
     "text": [
      "flooding 0.5716712200010079\n",
      "change count 5930\n",
      "[[146 146 146 ... 651 651 651]\n",
      " [128 129 129 ... 162 162 162]\n",
      " [782 743 746 ... 105 106 107]\n",
      " [ 31  31  31 ...  16  16  16]]\n",
      "writeback 0.016229624998231884\n"
     ]
    },
    {
     "name": "stderr",
     "output_type": "stream",
     "text": [
      " 20%|█▉        | 4297/21901 [01:10<04:27, 65.77it/s]"
     ]
    },
    {
     "name": "stdout",
     "output_type": "stream",
     "text": [
      "classify_wide_narrow 0.0023056110003381036\n",
      "NARROW FOUND: 21039\n",
      "extract 2d locs 0.10950349999620812\n"
     ]
    },
    {
     "name": "stderr",
     "output_type": "stream",
     "text": [
      " 20%|█▉        | 4310/21901 [01:11<10:58, 26.72it/s]"
     ]
    },
    {
     "name": "stdout",
     "output_type": "stream",
     "text": [
      "flooding 0.5933196249970933\n",
      "change count 7076\n",
      "[[145 145 145 ... 652 652 652]\n",
      " [128 128 128 ... 162 162 162]\n",
      " [745 748 750 ... 103 104 105]\n",
      " [ 32  32  32 ...  17  17  17]]\n",
      "writeback 0.01608820800174726\n"
     ]
    },
    {
     "name": "stderr",
     "output_type": "stream",
     "text": [
      " 20%|██        | 4398/21901 [01:12<04:09, 70.15it/s]"
     ]
    },
    {
     "name": "stdout",
     "output_type": "stream",
     "text": [
      "classify_wide_narrow 0.0023143239959608763\n",
      "NARROW FOUND: 21100\n",
      "extract 2d locs 0.10671998799807625\n"
     ]
    },
    {
     "name": "stderr",
     "output_type": "stream",
     "text": [
      "\r",
      " 20%|██        | 4406/21901 [01:13<12:02, 24.23it/s]"
     ]
    },
    {
     "name": "stdout",
     "output_type": "stream",
     "text": [
      "flooding 0.5993216600036249\n",
      "change count 8322\n",
      "[[144 144 144 ... 653 653 653]\n",
      " [129 129 129 ... 162 162 162]\n",
      " [744 747 750 ... 102 103 104]\n",
      " [ 33  33  33 ...  18  18  18]]\n",
      "writeback 0.01661856000282569\n",
      "wiped count: 3\n"
     ]
    },
    {
     "name": "stderr",
     "output_type": "stream",
     "text": [
      " 20%|██        | 4446/21901 [01:13<05:18, 54.81it/s]"
     ]
    },
    {
     "name": "stdout",
     "output_type": "stream",
     "text": [
      "wiped count: 5\n",
      "wiped count: 5\n"
     ]
    },
    {
     "name": "stderr",
     "output_type": "stream",
     "text": [
      " 21%|██        | 4494/21901 [01:14<04:14, 68.52it/s]"
     ]
    },
    {
     "name": "stdout",
     "output_type": "stream",
     "text": [
      "wiped count: 7\n",
      "classify_wide_narrow 0.002280360997247044\n",
      "NARROW FOUND: 21399\n",
      "extract 2d locs 0.11062710000260267\n"
     ]
    },
    {
     "name": "stderr",
     "output_type": "stream",
     "text": [
      " 21%|██        | 4510/21901 [01:15<09:38, 30.07it/s]"
     ]
    },
    {
     "name": "stdout",
     "output_type": "stream",
     "text": [
      "flooding 0.5985454879992176\n",
      "change count 7465\n",
      "[[143 143 143 ... 654 654 654]\n",
      " [128 128 129 ... 162 162 162]\n",
      " [749 752 743 ... 100 101 102]\n",
      " [ 34  34  34 ...  19  19  19]]\n",
      "writeback 0.017237574000319\n",
      "wiped count: 2\n"
     ]
    },
    {
     "name": "stderr",
     "output_type": "stream",
     "text": [
      " 21%|██        | 4550/21901 [01:15<04:53, 59.12it/s]"
     ]
    },
    {
     "name": "stdout",
     "output_type": "stream",
     "text": [
      "wiped count: 1\n"
     ]
    },
    {
     "name": "stderr",
     "output_type": "stream",
     "text": [
      " 21%|██        | 4574/21901 [01:16<04:14, 68.14it/s]"
     ]
    },
    {
     "name": "stdout",
     "output_type": "stream",
     "text": [
      "wiped count: 1\n",
      "wiped count: 2\n"
     ]
    },
    {
     "name": "stderr",
     "output_type": "stream",
     "text": [
      " 21%|██        | 4598/21901 [01:16<04:09, 69.39it/s]"
     ]
    },
    {
     "name": "stdout",
     "output_type": "stream",
     "text": [
      "classify_wide_narrow 0.002296935002959799\n",
      "NARROW FOUND: 21684\n",
      "extract 2d locs 0.1083223729947349\n"
     ]
    },
    {
     "name": "stderr",
     "output_type": "stream",
     "text": [
      "\r",
      " 21%|██        | 4606/21901 [01:17<12:09, 23.71it/s]"
     ]
    },
    {
     "name": "stdout",
     "output_type": "stream",
     "text": [
      "flooding 0.6171438500023214\n",
      "change count 7742\n",
      "[[142 142 142 ... 655 655 655]\n",
      " [129 129 129 ... 162 162 162]\n",
      " [742 743 746 ...  98  99 100]\n",
      " [ 35  35  35 ...  20  20  20]]\n",
      "writeback 0.017401484998117667\n"
     ]
    },
    {
     "name": "stderr",
     "output_type": "stream",
     "text": [
      " 21%|██        | 4630/21901 [01:17<06:42, 42.89it/s]"
     ]
    },
    {
     "name": "stdout",
     "output_type": "stream",
     "text": [
      "wiped count: 1\n"
     ]
    },
    {
     "name": "stderr",
     "output_type": "stream",
     "text": [
      " 21%|██▏       | 4694/21901 [01:18<04:01, 71.13it/s]"
     ]
    },
    {
     "name": "stdout",
     "output_type": "stream",
     "text": [
      "classify_wide_narrow 0.0023095149954315275\n",
      "NARROW FOUND: 21955\n",
      "extract 2d locs 0.11318389000371099\n"
     ]
    },
    {
     "name": "stderr",
     "output_type": "stream",
     "text": [
      " 22%|██▏       | 4710/21901 [01:19<09:41, 29.58it/s]"
     ]
    },
    {
     "name": "stdout",
     "output_type": "stream",
     "text": [
      "flooding 0.6245920439978363\n",
      "change count 11017\n",
      "[[141 141 141 ... 656 656 656]\n",
      " [128 129 129 ... 162 162 162]\n",
      " [747 741 742 ...  97  98  99]\n",
      " [ 36  36  36 ...  21  21  21]]\n",
      "writeback 0.018260902004840318\n"
     ]
    },
    {
     "name": "stderr",
     "output_type": "stream",
     "text": [
      " 22%|██▏       | 4798/21901 [01:20<03:56, 72.20it/s]"
     ]
    },
    {
     "name": "stdout",
     "output_type": "stream",
     "text": [
      "classify_wide_narrow 0.0023966349981492385\n",
      "NARROW FOUND: 22184\n",
      "extract 2d locs 0.11293299599492457\n"
     ]
    },
    {
     "name": "stderr",
     "output_type": "stream",
     "text": [
      "\r",
      " 22%|██▏       | 4806/21901 [01:21<12:09, 23.43it/s]"
     ]
    },
    {
     "name": "stdout",
     "output_type": "stream",
     "text": [
      "flooding 0.6348173690057592\n",
      "change count 16044\n",
      "[[140 140 140 ... 657 657 657]\n",
      " [128 129 129 ... 162 162 162]\n",
      " [744 745 747 ...  96  97  98]\n",
      " [ 37  37  37 ...  22  22  22]]\n",
      "writeback 0.017996482994931284\n"
     ]
    },
    {
     "name": "stderr",
     "output_type": "stream",
     "text": [
      " 22%|██▏       | 4894/21901 [01:22<03:52, 73.29it/s]"
     ]
    },
    {
     "name": "stdout",
     "output_type": "stream",
     "text": [
      "classify_wide_narrow 0.0023026419949019328\n",
      "NARROW FOUND: 22494\n",
      "extract 2d locs 0.11420049900334561\n"
     ]
    },
    {
     "name": "stderr",
     "output_type": "stream",
     "text": [
      " 22%|██▏       | 4910/21901 [01:23<09:31, 29.71it/s]"
     ]
    },
    {
     "name": "stdout",
     "output_type": "stream",
     "text": [
      "flooding 0.6465716759994393\n",
      "change count 12305\n",
      "[[139 139 139 ... 658 658 658]\n",
      " [128 129 129 ... 162 162 162]\n",
      " [748 744 745 ...  95  96  97]\n",
      " [ 38  38  38 ...  23  23  23]]\n",
      "writeback 0.017981826997129247\n",
      "wiped count: 1\n"
     ]
    },
    {
     "name": "stderr",
     "output_type": "stream",
     "text": [
      " 23%|██▎       | 4974/21901 [01:24<04:01, 70.11it/s]"
     ]
    },
    {
     "name": "stdout",
     "output_type": "stream",
     "text": [
      "wiped count: 2\n",
      "wiped count: 2\n"
     ]
    },
    {
     "name": "stderr",
     "output_type": "stream",
     "text": [
      " 23%|██▎       | 4998/21901 [01:24<03:49, 73.61it/s]"
     ]
    },
    {
     "name": "stdout",
     "output_type": "stream",
     "text": [
      "classify_wide_narrow 0.002301488995726686\n",
      "NARROW FOUND: 23032\n",
      "extract 2d locs 0.11793031100387452\n"
     ]
    },
    {
     "name": "stderr",
     "output_type": "stream",
     "text": [
      "\r",
      " 23%|██▎       | 5006/21901 [01:25<12:16, 22.94it/s]"
     ]
    },
    {
     "name": "stdout",
     "output_type": "stream",
     "text": [
      "flooding 0.6645544089988107\n",
      "change count 10645\n",
      "[[138 138 138 ... 659 659 659]\n",
      " [128 128 129 ... 162 162 162]\n",
      " [746 748 743 ...  93  94  95]\n",
      " [ 39  39  39 ...  24  24  24]]\n",
      "writeback 0.01844719200016698\n"
     ]
    },
    {
     "name": "stderr",
     "output_type": "stream",
     "text": [
      " 23%|██▎       | 5096/21901 [01:26<03:39, 76.48it/s]"
     ]
    },
    {
     "name": "stdout",
     "output_type": "stream",
     "text": [
      "classify_wide_narrow 0.0023219739960040897\n",
      "NARROW FOUND: 24006\n",
      "extract 2d locs 0.12364532700303243\n"
     ]
    },
    {
     "name": "stderr",
     "output_type": "stream",
     "text": [
      " 23%|██▎       | 5113/21901 [01:27<09:20, 29.96it/s]"
     ]
    },
    {
     "name": "stdout",
     "output_type": "stream",
     "text": [
      "flooding 0.6890057869968587\n",
      "change count 17012\n",
      "[[137 137 137 ... 660 660 660]\n",
      " [129 129 129 ... 162 162 162]\n",
      " [742 746 749 ...  92  93  94]\n",
      " [ 40  40  40 ...  25  25  25]]\n",
      "writeback 0.019555919003323652\n"
     ]
    },
    {
     "name": "stderr",
     "output_type": "stream",
     "text": [
      " 24%|██▎       | 5191/21901 [01:28<03:33, 78.40it/s]"
     ]
    },
    {
     "name": "stdout",
     "output_type": "stream",
     "text": [
      "classify_wide_narrow 0.002274940001370851\n",
      "NARROW FOUND: 25246\n",
      "extract 2d locs 0.12592142499488546\n"
     ]
    },
    {
     "name": "stderr",
     "output_type": "stream",
     "text": [
      " 24%|██▍       | 5209/21901 [01:30<09:01, 30.84it/s]"
     ]
    },
    {
     "name": "stdout",
     "output_type": "stream",
     "text": [
      "flooding 0.699946988002921\n",
      "change count 16447\n",
      "[[136 136 136 ... 661 661 661]\n",
      " [128 128 128 ... 162 162 162]\n",
      " [743 745 747 ...  91  92  93]\n",
      " [ 41  41  41 ...  26  26  26]]\n",
      "writeback 0.02083854199736379\n"
     ]
    },
    {
     "name": "stderr",
     "output_type": "stream",
     "text": [
      " 24%|██▍       | 5299/21901 [01:31<03:28, 79.80it/s]"
     ]
    },
    {
     "name": "stdout",
     "output_type": "stream",
     "text": [
      "classify_wide_narrow 0.002421541001240257\n",
      "NARROW FOUND: 27190\n",
      "extract 2d locs 0.1379776449975907\n"
     ]
    },
    {
     "name": "stderr",
     "output_type": "stream",
     "text": [
      "\r",
      " 24%|██▍       | 5308/21901 [01:32<11:52, 23.28it/s]"
     ]
    },
    {
     "name": "stdout",
     "output_type": "stream",
     "text": [
      "flooding 0.758328841002367\n",
      "change count 15232\n",
      "[[135 135 135 ... 662 662 662]\n",
      " [129 129 129 ... 162 162 162]\n",
      " [743 744 748 ...  90  91  92]\n",
      " [ 42  42  42 ...  27  27  27]]\n",
      "writeback 0.021591258002445102\n"
     ]
    },
    {
     "name": "stderr",
     "output_type": "stream",
     "text": [
      " 25%|██▍       | 5396/21901 [01:33<03:36, 76.14it/s]"
     ]
    },
    {
     "name": "stdout",
     "output_type": "stream",
     "text": [
      "classify_wide_narrow 0.002331479001441039\n",
      "NARROW FOUND: 29718\n",
      "extract 2d locs 0.14618027299729874\n"
     ]
    },
    {
     "name": "stderr",
     "output_type": "stream",
     "text": [
      " 25%|██▍       | 5414/21901 [01:34<09:57, 27.61it/s]"
     ]
    },
    {
     "name": "stdout",
     "output_type": "stream",
     "text": [
      "flooding 0.8312367460021051\n",
      "change count 13460\n",
      "[[134 134 134 ... 663 663 663]\n",
      " [128 128 129 ... 162 162 162]\n",
      " [745 747 748 ...  89  90  91]\n",
      " [ 43  43  43 ...  28  28  28]]\n",
      "writeback 0.02387225999700604\n"
     ]
    },
    {
     "name": "stderr",
     "output_type": "stream",
     "text": [
      " 25%|██▌       | 5495/21901 [01:35<03:31, 77.74it/s]"
     ]
    },
    {
     "name": "stdout",
     "output_type": "stream",
     "text": [
      "classify_wide_narrow 0.0023580429988214746\n",
      "NARROW FOUND: 31000\n",
      "extract 2d locs 0.1542575100029353\n"
     ]
    },
    {
     "name": "stderr",
     "output_type": "stream",
     "text": [
      " 25%|██▌       | 5513/21901 [01:36<10:09, 26.91it/s]"
     ]
    },
    {
     "name": "stdout",
     "output_type": "stream",
     "text": [
      "flooding 0.8814740640009404\n",
      "change count 14152\n",
      "[[133 133 133 ... 664 664 664]\n",
      " [128 128 129 ... 162 162 163]\n",
      " [749 751 745 ...  88  89  42]\n",
      " [ 44  44  44 ...  29  29  29]]\n",
      "writeback 0.030131749001157004\n"
     ]
    },
    {
     "name": "stderr",
     "output_type": "stream",
     "text": [
      " 26%|██▌       | 5594/21901 [01:37<03:25, 79.53it/s]"
     ]
    },
    {
     "name": "stdout",
     "output_type": "stream",
     "text": [
      "classify_wide_narrow 0.0024230159979197197\n",
      "NARROW FOUND: 31645\n",
      "extract 2d locs 0.156428460002644\n"
     ]
    },
    {
     "name": "stderr",
     "output_type": "stream",
     "text": [
      " 26%|██▌       | 5613/21901 [01:38<10:04, 26.95it/s]"
     ]
    },
    {
     "name": "stdout",
     "output_type": "stream",
     "text": [
      "flooding 0.9331841009989148\n",
      "change count 15025\n",
      "[[132 132 132 ... 665 665 665]\n",
      " [128 128 128 ... 162 162 162]\n",
      " [746 753 754 ...  84  86  87]\n",
      " [ 45  45  45 ...  30  30  30]]\n",
      "writeback 0.02656220200151438\n"
     ]
    },
    {
     "name": "stderr",
     "output_type": "stream",
     "text": [
      " 26%|██▌       | 5699/21901 [01:39<03:07, 86.32it/s]"
     ]
    },
    {
     "name": "stdout",
     "output_type": "stream",
     "text": [
      "classify_wide_narrow 0.0023135890005505644\n",
      "NARROW FOUND: 32290\n",
      "extract 2d locs 0.1608752249958343\n"
     ]
    },
    {
     "name": "stderr",
     "output_type": "stream",
     "text": [
      "\r",
      " 26%|██▌       | 5709/21901 [01:41<12:24, 21.75it/s]"
     ]
    },
    {
     "name": "stdout",
     "output_type": "stream",
     "text": [
      "flooding 0.9534211620048154\n",
      "change count 11452\n",
      "[[131 131 131 ... 666 666 666]\n",
      " [128 128 128 ... 161 161 162]\n",
      " [753 754 755 ...  64  67  72]\n",
      " [ 46  46  46 ...  31  31  31]]\n",
      "writeback 0.02739333299541613\n"
     ]
    },
    {
     "name": "stderr",
     "output_type": "stream",
     "text": [
      " 26%|██▋       | 5789/21901 [01:41<03:16, 81.98it/s]"
     ]
    },
    {
     "name": "stdout",
     "output_type": "stream",
     "text": [
      "classify_wide_narrow 0.002318906997970771\n",
      "NARROW FOUND: 33193\n",
      "extract 2d locs 0.1613131420017453\n"
     ]
    },
    {
     "name": "stderr",
     "output_type": "stream",
     "text": [
      " 27%|██▋       | 5811/21901 [01:43<09:14, 29.04it/s]"
     ]
    },
    {
     "name": "stdout",
     "output_type": "stream",
     "text": [
      "flooding 0.989521784002136\n",
      "change count 14045\n",
      "[[130 130 130 ... 667 667 667]\n",
      " [128 128 128 ... 161 162 162]\n",
      " [753 754 755 ...  49  49  50]\n",
      " [ 47  47  47 ...  32  32  32]]\n",
      "writeback 0.028756018000422046\n"
     ]
    },
    {
     "name": "stderr",
     "output_type": "stream",
     "text": [
      " 27%|██▋       | 5897/21901 [01:44<02:59, 88.92it/s]"
     ]
    },
    {
     "name": "stdout",
     "output_type": "stream",
     "text": [
      "classify_wide_narrow 0.002480307004589122\n",
      "NARROW FOUND: 33864\n",
      "extract 2d locs 0.16767832499317592\n"
     ]
    },
    {
     "name": "stderr",
     "output_type": "stream",
     "text": [
      "\r",
      " 27%|██▋       | 5908/21901 [01:45<11:36, 22.95it/s]"
     ]
    },
    {
     "name": "stdout",
     "output_type": "stream",
     "text": [
      "flooding 0.9933730920020025\n",
      "change count 16023\n",
      "[[129 129 129 ... 668 668 668]\n",
      " [128 128 128 ... 161 161 162]\n",
      " [752 753 754 ...  48  49  49]\n",
      " [ 48  48  48 ...  33  33  33]]\n",
      "writeback 0.028300490004767198\n"
     ]
    },
    {
     "name": "stderr",
     "output_type": "stream",
     "text": [
      " 27%|██▋       | 5991/21901 [01:46<03:11, 82.95it/s]"
     ]
    },
    {
     "name": "stdout",
     "output_type": "stream",
     "text": [
      "classify_wide_narrow 0.002311092001036741\n",
      "NARROW FOUND: 34337\n",
      "extract 2d locs 0.16600223199930042\n"
     ]
    },
    {
     "name": "stderr",
     "output_type": "stream",
     "text": [
      " 27%|██▋       | 6012/21901 [01:47<09:23, 28.19it/s]"
     ]
    },
    {
     "name": "stdout",
     "output_type": "stream",
     "text": [
      "flooding 1.017273607001698\n",
      "change count 16005\n",
      "[[ 128  128  128 ...  662  662  662]\n",
      " [ 128  128  128 ...  126  126  126]\n",
      " [ 753  754  755 ... 1410 1414 1417]\n",
      " [  49   49   49 ...   37   37   37]]\n",
      "writeback 0.029381667001871392\n"
     ]
    },
    {
     "name": "stderr",
     "output_type": "stream",
     "text": [
      " 28%|██▊       | 6092/21901 [01:48<03:05, 85.13it/s]"
     ]
    },
    {
     "name": "stdout",
     "output_type": "stream",
     "text": [
      "classify_wide_narrow 0.002420821001578588\n",
      "NARROW FOUND: 35431\n",
      "extract 2d locs 0.17372259099647636\n"
     ]
    },
    {
     "name": "stderr",
     "output_type": "stream",
     "text": [
      " 28%|██▊       | 6112/21901 [01:49<09:41, 27.15it/s]"
     ]
    },
    {
     "name": "stdout",
     "output_type": "stream",
     "text": [
      "flooding 1.0274431770012598\n",
      "change count 13811\n",
      "[[ 127  127  127 ...  663  663  663]\n",
      " [ 128  128  128 ...  127  127  127]\n",
      " [ 749  751  752 ... 1401 1408 1410]\n",
      " [  50   50   50 ...   38   38   38]]\n",
      "writeback 0.029640683998877648\n"
     ]
    },
    {
     "name": "stderr",
     "output_type": "stream",
     "text": [
      " 28%|██▊       | 6192/21901 [01:50<03:10, 82.50it/s]"
     ]
    },
    {
     "name": "stdout",
     "output_type": "stream",
     "text": [
      "classify_wide_narrow 0.0022772859956603497\n",
      "NARROW FOUND: 36648\n",
      "extract 2d locs 0.17870683000364807\n"
     ]
    },
    {
     "name": "stderr",
     "output_type": "stream",
     "text": [
      " 28%|██▊       | 6212/21901 [01:52<09:57, 26.25it/s]"
     ]
    },
    {
     "name": "stdout",
     "output_type": "stream",
     "text": [
      "flooding 1.0498929940004018\n",
      "change count 11212\n",
      "[[ 126  126  126 ...  664  664  664]\n",
      " [ 128  128  128 ...  126  126  126]\n",
      " [ 751  752  753 ... 1413 1414 1415]\n",
      " [  51   51   51 ...   39   39   39]]\n",
      "writeback 0.03128553699934855\n"
     ]
    },
    {
     "name": "stderr",
     "output_type": "stream",
     "text": [
      " 29%|██▊       | 6293/21901 [01:53<03:22, 76.95it/s]"
     ]
    },
    {
     "name": "stdout",
     "output_type": "stream",
     "text": [
      "classify_wide_narrow 0.0024164549977285787\n",
      "NARROW FOUND: 37255\n",
      "extract 2d locs 0.18705613400379661\n"
     ]
    },
    {
     "name": "stderr",
     "output_type": "stream",
     "text": [
      " 29%|██▉       | 6311/21901 [01:54<11:09, 23.30it/s]"
     ]
    },
    {
     "name": "stdout",
     "output_type": "stream",
     "text": [
      "flooding 1.0929712079960154\n",
      "change count 15689\n",
      "[[ 125  125  125 ...  665  665  665]\n",
      " [ 128  128  128 ...  126  126  126]\n",
      " [ 751  752  753 ... 1414 1415 1416]\n",
      " [  52   52   52 ...   40   40   40]]\n",
      "writeback 0.03159075199801009\n"
     ]
    },
    {
     "name": "stderr",
     "output_type": "stream",
     "text": [
      " 29%|██▉       | 6398/21901 [01:55<03:22, 76.62it/s]"
     ]
    },
    {
     "name": "stdout",
     "output_type": "stream",
     "text": [
      "classify_wide_narrow 0.0023143860016716644\n",
      "NARROW FOUND: 37479\n",
      "extract 2d locs 0.18016356199950678\n"
     ]
    },
    {
     "name": "stderr",
     "output_type": "stream",
     "text": [
      "\r",
      " 29%|██▉       | 6407/21901 [01:57<14:54, 17.33it/s]"
     ]
    },
    {
     "name": "stdout",
     "output_type": "stream",
     "text": [
      "flooding 1.113447179996001\n",
      "change count 14310\n",
      "[[ 124  124  124 ...  666  666  666]\n",
      " [ 128  128  128 ...  125  126  126]\n",
      " [ 750  751  752 ... 1413 1393 1415]\n",
      " [  53   53   53 ...   41   41   41]]\n",
      "writeback 0.032709614002669696\n"
     ]
    },
    {
     "name": "stderr",
     "output_type": "stream",
     "text": [
      " 30%|██▉       | 6496/21901 [01:58<03:31, 72.95it/s]"
     ]
    },
    {
     "name": "stdout",
     "output_type": "stream",
     "text": [
      "classify_wide_narrow 0.0023023089961498044\n",
      "NARROW FOUND: 37899\n",
      "extract 2d locs 0.18749448900052812\n"
     ]
    },
    {
     "name": "stderr",
     "output_type": "stream",
     "text": [
      " 30%|██▉       | 6512/21901 [01:59<11:58, 21.40it/s]"
     ]
    },
    {
     "name": "stdout",
     "output_type": "stream",
     "text": [
      "flooding 1.1136550290029845\n",
      "change count 10846\n",
      "[[ 123  123  123 ...  667  667  667]\n",
      " [ 128  128  128 ...  125  125  126]\n",
      " [ 748  750  751 ... 1413 1414 1416]\n",
      " [  54   54   54 ...   42   42   42]]\n",
      "writeback 0.03395913999702316\n"
     ]
    },
    {
     "name": "stderr",
     "output_type": "stream",
     "text": [
      " 30%|███       | 6592/21901 [02:01<03:37, 70.28it/s]"
     ]
    },
    {
     "name": "stdout",
     "output_type": "stream",
     "text": [
      "classify_wide_narrow 0.0023122919956222177\n",
      "NARROW FOUND: 37969\n",
      "extract 2d locs 0.18551710800238652\n"
     ]
    },
    {
     "name": "stderr",
     "output_type": "stream",
     "text": [
      " 30%|███       | 6608/21901 [02:02<12:32, 20.33it/s]"
     ]
    },
    {
     "name": "stdout",
     "output_type": "stream",
     "text": [
      "flooding 1.1364979709978797\n",
      "change count 12083\n",
      "[[ 122  122  122 ...  581  581  581]\n",
      " [ 128  128  128 ...  514  514  514]\n",
      " [ 750  751  753 ... 1320 1338 1359]\n",
      " [  55   55   55 ...   15   15   15]]\n",
      "writeback 0.03250665299856337\n"
     ]
    },
    {
     "name": "stderr",
     "output_type": "stream",
     "text": [
      " 31%|███       | 6696/21901 [02:03<03:38, 69.70it/s]"
     ]
    },
    {
     "name": "stdout",
     "output_type": "stream",
     "text": [
      "classify_wide_narrow 0.002432752000459004\n",
      "NARROW FOUND: 37978\n",
      "extract 2d locs 0.19285684100032086\n"
     ]
    },
    {
     "name": "stderr",
     "output_type": "stream",
     "text": [
      " 31%|███       | 6712/21901 [02:05<12:30, 20.24it/s]"
     ]
    },
    {
     "name": "stdout",
     "output_type": "stream",
     "text": [
      "flooding 1.1334084190020803\n",
      "change count 10301\n",
      "[[ 121  121  121 ...  582  582  582]\n",
      " [ 128  128  128 ...  514  514  514]\n",
      " [ 749  750  751 ... 1321 1339 1360]\n",
      " [  56   56   56 ...   16   16   16]]\n",
      "writeback 0.03279655899677891\n"
     ]
    },
    {
     "name": "stderr",
     "output_type": "stream",
     "text": [
      " 31%|███       | 6792/21901 [02:06<03:33, 70.90it/s]"
     ]
    },
    {
     "name": "stdout",
     "output_type": "stream",
     "text": [
      "classify_wide_narrow 0.0023035800040815957\n",
      "NARROW FOUND: 37959\n",
      "extract 2d locs 0.18635039500077255\n"
     ]
    },
    {
     "name": "stderr",
     "output_type": "stream",
     "text": [
      " 31%|███       | 6807/21901 [02:07<12:51, 19.56it/s]"
     ]
    },
    {
     "name": "stdout",
     "output_type": "stream",
     "text": [
      "flooding 1.1359469539966085\n",
      "change count 7616\n",
      "[[ 120  120  120 ...  581  581  583]\n",
      " [ 128  128  128 ...  514  515  514]\n",
      " [ 747  749  750 ... 1363 1342 1322]\n",
      " [  57   57   57 ...   17   17   17]]\n",
      "writeback 0.03860888100462034\n"
     ]
    },
    {
     "name": "stderr",
     "output_type": "stream",
     "text": [
      " 31%|███▏      | 6895/21901 [02:09<03:26, 72.81it/s]"
     ]
    },
    {
     "name": "stdout",
     "output_type": "stream",
     "text": [
      "classify_wide_narrow 0.0023511300023528747\n",
      "NARROW FOUND: 38069\n",
      "extract 2d locs 0.1902144670020789\n"
     ]
    },
    {
     "name": "stderr",
     "output_type": "stream",
     "text": [
      " 32%|███▏      | 6911/21901 [02:10<12:41, 19.69it/s]"
     ]
    },
    {
     "name": "stdout",
     "output_type": "stream",
     "text": [
      "flooding 1.1974626789960894\n",
      "change count 7640\n",
      "[[ 119  119  119 ...  580  581  582]\n",
      " [ 128  128  128 ...  616  514  514]\n",
      " [ 749  750  751 ... 1311 1324 1343]\n",
      " [  58   58   58 ...   15   18   18]]\n",
      "writeback 0.0328487180013326\n"
     ]
    },
    {
     "name": "stderr",
     "output_type": "stream",
     "text": [
      " 32%|███▏      | 6967/21901 [02:11<03:59, 62.46it/s]"
     ]
    },
    {
     "name": "stdout",
     "output_type": "stream",
     "text": [
      "wiped count: 8\n"
     ]
    },
    {
     "name": "stderr",
     "output_type": "stream",
     "text": [
      " 32%|███▏      | 6999/21901 [02:11<03:20, 74.18it/s]"
     ]
    },
    {
     "name": "stdout",
     "output_type": "stream",
     "text": [
      "wiped count: 3\n",
      "classify_wide_narrow 0.0023261170063051395\n",
      "NARROW FOUND: 38331\n",
      "extract 2d locs 0.19407371399574913\n"
     ]
    },
    {
     "name": "stderr",
     "output_type": "stream",
     "text": [
      "\r",
      " 32%|███▏      | 7007/21901 [02:13<16:37, 14.93it/s]"
     ]
    },
    {
     "name": "stdout",
     "output_type": "stream",
     "text": [
      "flooding 1.2022782269996242\n",
      "change count 7495\n",
      "[[ 118  118  118 ...  581  582  583]\n",
      " [ 128  128  128 ...  616  514  514]\n",
      " [ 748  749  750 ... 1310 1325 1344]\n",
      " [  59   59   59 ...   16   19   19]]\n",
      "writeback 0.033450260998506565\n",
      "wiped count: 4\n"
     ]
    },
    {
     "name": "stderr",
     "output_type": "stream",
     "text": [
      " 32%|███▏      | 7031/21901 [02:13<07:50, 31.62it/s]"
     ]
    },
    {
     "name": "stdout",
     "output_type": "stream",
     "text": [
      "wiped count: 4\n"
     ]
    },
    {
     "name": "stderr",
     "output_type": "stream",
     "text": [
      " 32%|███▏      | 7047/21901 [02:13<05:30, 44.88it/s]"
     ]
    },
    {
     "name": "stdout",
     "output_type": "stream",
     "text": [
      "wiped count: 5\n"
     ]
    },
    {
     "name": "stderr",
     "output_type": "stream",
     "text": [
      " 32%|███▏      | 7087/21901 [02:14<03:38, 67.65it/s]"
     ]
    },
    {
     "name": "stdout",
     "output_type": "stream",
     "text": [
      "wiped count: 1\n",
      "wiped count: 3\n"
     ]
    },
    {
     "name": "stderr",
     "output_type": "stream",
     "text": [
      "\r",
      " 32%|███▏      | 7095/21901 [02:14<03:33, 69.21it/s]"
     ]
    },
    {
     "name": "stdout",
     "output_type": "stream",
     "text": [
      "classify_wide_narrow 0.002359846002946142\n",
      "NARROW FOUND: 38341\n",
      "extract 2d locs 0.19669822899595601\n"
     ]
    },
    {
     "name": "stderr",
     "output_type": "stream",
     "text": [
      " 32%|███▏      | 7111/21901 [02:16<12:33, 19.63it/s]"
     ]
    },
    {
     "name": "stdout",
     "output_type": "stream",
     "text": [
      "flooding 1.189664432000427\n",
      "change count 6525\n",
      "[[ 117  117  117 ...  581  581  583]\n",
      " [ 128  128  128 ...  514  515  513]\n",
      " [ 749  750  751 ... 1326 1346 1326]\n",
      " [  60   60   60 ...   20   20   20]]\n",
      "writeback 0.03495164799824124\n"
     ]
    },
    {
     "name": "stderr",
     "output_type": "stream",
     "text": [
      " 33%|███▎      | 7199/21901 [02:17<03:05, 79.20it/s]"
     ]
    },
    {
     "name": "stdout",
     "output_type": "stream",
     "text": [
      "classify_wide_narrow 0.002362530998652801\n",
      "NARROW FOUND: 38457\n",
      "extract 2d locs 0.22958383600052912\n"
     ]
    },
    {
     "name": "stderr",
     "output_type": "stream",
     "text": [
      "\r",
      " 33%|███▎      | 7208/21901 [02:18<14:47, 16.56it/s]"
     ]
    },
    {
     "name": "stdout",
     "output_type": "stream",
     "text": [
      "flooding 1.1657299070066074\n",
      "change count 7059\n",
      "[[ 119  119  120 ...  581  581  581]\n",
      " [ 129  129  129 ...  616  616  616]\n",
      " [ 740  741  740 ... 1327 1328 1329]\n",
      " [  61   61   61 ...   18   18   18]]\n",
      "writeback 0.034350006993918214\n"
     ]
    },
    {
     "name": "stderr",
     "output_type": "stream",
     "text": [
      " 33%|███▎      | 7294/21901 [02:19<03:32, 68.80it/s]"
     ]
    },
    {
     "name": "stdout",
     "output_type": "stream",
     "text": [
      "classify_wide_narrow 0.0023274979976122268\n",
      "NARROW FOUND: 38717\n",
      "extract 2d locs 0.1901859860008699\n"
     ]
    },
    {
     "name": "stderr",
     "output_type": "stream",
     "text": [
      " 33%|███▎      | 7308/21901 [02:21<13:22, 18.19it/s]"
     ]
    },
    {
     "name": "stdout",
     "output_type": "stream",
     "text": [
      "flooding 1.2180067939989385\n",
      "change count 10407\n",
      "[[ 120  122  126 ...  582  582  582]\n",
      " [ 129  129  129 ...  616  616  616]\n",
      " [ 739  739  740 ... 1320 1323 1329]\n",
      " [  62   62   62 ...   19   19   19]]\n",
      "writeback 0.033620467998844106\n"
     ]
    },
    {
     "name": "stderr",
     "output_type": "stream",
     "text": [
      " 33%|███▎      | 7326/21901 [02:21<07:36, 31.92it/s]"
     ]
    },
    {
     "name": "stdout",
     "output_type": "stream",
     "text": [
      "wiped count: 1\n"
     ]
    },
    {
     "name": "stderr",
     "output_type": "stream",
     "text": [
      " 34%|███▍      | 7398/21901 [02:22<03:07, 77.35it/s]"
     ]
    },
    {
     "name": "stdout",
     "output_type": "stream",
     "text": [
      "classify_wide_narrow 0.0024582659971201792\n",
      "NARROW FOUND: 39023\n",
      "extract 2d locs 0.1961682569963159\n"
     ]
    },
    {
     "name": "stderr",
     "output_type": "stream",
     "text": [
      "\r",
      " 34%|███▍      | 7407/21901 [02:24<15:03, 16.04it/s]"
     ]
    },
    {
     "name": "stdout",
     "output_type": "stream",
     "text": [
      "flooding 1.2623976330069127\n",
      "change count 9618\n",
      "[[ 119  121  123 ...  581  581  581]\n",
      " [ 129  129  129 ...  514  616  616]\n",
      " [ 738  738  738 ... 1329 1315 1331]\n",
      " [  63   63   63 ...   23   16   20]]\n",
      "writeback 0.035415571997873485\n",
      "wiped count: 1\n"
     ]
    },
    {
     "name": "stderr",
     "output_type": "stream",
     "text": [
      " 34%|███▍      | 7474/21901 [02:25<03:36, 66.68it/s]"
     ]
    },
    {
     "name": "stdout",
     "output_type": "stream",
     "text": [
      "wiped count: 1\n",
      "wiped count: 1\n",
      "wiped count: 1\n"
     ]
    },
    {
     "name": "stderr",
     "output_type": "stream",
     "text": [
      " 34%|███▍      | 7494/21901 [02:25<03:02, 78.74it/s]"
     ]
    },
    {
     "name": "stdout",
     "output_type": "stream",
     "text": [
      "wiped count: 1\n",
      "classify_wide_narrow 0.002376140000706073\n",
      "NARROW FOUND: 39549\n",
      "extract 2d locs 0.19951614500314463\n"
     ]
    },
    {
     "name": "stderr",
     "output_type": "stream",
     "text": [
      " 34%|███▍      | 7514/21901 [02:26<10:33, 22.71it/s]"
     ]
    },
    {
     "name": "stdout",
     "output_type": "stream",
     "text": [
      "flooding 1.289221118997375\n",
      "change count 8401\n",
      "[[ 121  124  125 ...  581  581  582]\n",
      " [ 129  129  129 ...  771  771  514]\n",
      " [ 737  737  738 ... 1392 1397 1330]\n",
      " [  64   64   64 ...   18   18   24]]\n",
      "writeback 0.03621969600499142\n"
     ]
    },
    {
     "name": "stderr",
     "output_type": "stream",
     "text": [
      " 34%|███▍      | 7543/21901 [02:27<05:23, 44.32it/s]"
     ]
    },
    {
     "name": "stdout",
     "output_type": "stream",
     "text": [
      "wiped count: 1\n"
     ]
    },
    {
     "name": "stderr",
     "output_type": "stream",
     "text": [
      " 35%|███▍      | 7592/21901 [02:27<03:03, 78.05it/s]"
     ]
    },
    {
     "name": "stdout",
     "output_type": "stream",
     "text": [
      "classify_wide_narrow 0.002393456998106558\n",
      "NARROW FOUND: 39840\n",
      "extract 2d locs 0.19845415300369496\n"
     ]
    },
    {
     "name": "stderr",
     "output_type": "stream",
     "text": [
      " 35%|███▍      | 7612/21901 [02:29<10:30, 22.68it/s]"
     ]
    },
    {
     "name": "stdout",
     "output_type": "stream",
     "text": [
      "flooding 1.2873663020000095\n",
      "change count 9162\n",
      "[[ 121  122  123 ...  582  582  582]\n",
      " [ 129  129  129 ...  771  771  771]\n",
      " [ 736  736  736 ... 1385 1388 1398]\n",
      " [  65   65   65 ...   19   19   19]]\n",
      "writeback 0.0357437860002392\n"
     ]
    },
    {
     "name": "stderr",
     "output_type": "stream",
     "text": [
      " 35%|███▌      | 7692/21901 [02:30<02:57, 79.85it/s]"
     ]
    },
    {
     "name": "stdout",
     "output_type": "stream",
     "text": [
      "classify_wide_narrow 0.0023339109975495376\n",
      "NARROW FOUND: 40039\n",
      "extract 2d locs 0.2001391989979311\n"
     ]
    },
    {
     "name": "stderr",
     "output_type": "stream",
     "text": [
      " 35%|███▌      | 7711/21901 [02:32<10:45, 21.98it/s]"
     ]
    },
    {
     "name": "stdout",
     "output_type": "stream",
     "text": [
      "flooding 1.314021154998045\n",
      "change count 8754\n",
      "[[ 127  130  131 ...  583  583  583]\n",
      " [ 129  129  128 ...  771  771  771]\n",
      " [ 737  740  744 ... 1388 1389 1399]\n",
      " [  66   66   66 ...   20   20   20]]\n",
      "writeback 0.038691182002366986\n"
     ]
    },
    {
     "name": "stderr",
     "output_type": "stream",
     "text": [
      " 36%|███▌      | 7789/21901 [02:33<03:02, 77.52it/s]"
     ]
    },
    {
     "name": "stdout",
     "output_type": "stream",
     "text": [
      "wiped count: 1\n",
      "wiped count: 1\n"
     ]
    },
    {
     "name": "stderr",
     "output_type": "stream",
     "text": [
      "\r",
      " 36%|███▌      | 7799/21901 [02:33<03:05, 75.84it/s]"
     ]
    },
    {
     "name": "stdout",
     "output_type": "stream",
     "text": [
      "classify_wide_narrow 0.002215135005826596\n",
      "NARROW FOUND: 40290\n",
      "extract 2d locs 0.1922386749938596\n"
     ]
    },
    {
     "name": "stderr",
     "output_type": "stream",
     "text": [
      "\r",
      " 36%|███▌      | 7808/21901 [02:34<13:45, 17.07it/s]"
     ]
    },
    {
     "name": "stdout",
     "output_type": "stream",
     "text": [
      "flooding 1.2504917000042042\n",
      "change count 9099\n",
      "[[ 129  132  133 ...  584  584  584]\n",
      " [ 128  129  129 ...  771  771  771]\n",
      " [ 739  739  741 ... 1378 1382 1389]\n",
      " [  67   67   67 ...   21   21   21]]\n",
      "writeback 0.038322861000779085\n"
     ]
    },
    {
     "name": "stderr",
     "output_type": "stream",
     "text": [
      " 36%|███▌      | 7890/21901 [02:35<03:02, 76.59it/s]"
     ]
    },
    {
     "name": "stdout",
     "output_type": "stream",
     "text": [
      "classify_wide_narrow 0.0022542860024259426\n",
      "NARROW FOUND: 40489\n",
      "extract 2d locs 0.1900174109978252\n"
     ]
    },
    {
     "name": "stderr",
     "output_type": "stream",
     "text": [
      " 36%|███▌      | 7907/21901 [02:37<11:08, 20.92it/s]"
     ]
    },
    {
     "name": "stdout",
     "output_type": "stream",
     "text": [
      "flooding 1.3101080150008784\n",
      "change count 9078\n",
      "[[ 130  132  134 ...  585  585  585]\n",
      " [ 129  129  129 ...  771  771  771]\n",
      " [ 738  738  741 ... 1390 1393 1400]\n",
      " [  68   68   68 ...   22   22   22]]\n",
      "writeback 0.03711733400268713\n"
     ]
    },
    {
     "name": "stderr",
     "output_type": "stream",
     "text": [
      " 37%|███▋      | 7997/21901 [02:38<02:45, 83.81it/s]"
     ]
    },
    {
     "name": "stdout",
     "output_type": "stream",
     "text": [
      "classify_wide_narrow 0.0023805499949958175\n",
      "NARROW FOUND: 40686\n",
      "extract 2d locs 0.2203999589983141\n"
     ]
    },
    {
     "name": "stderr",
     "output_type": "stream",
     "text": [
      "\r",
      " 37%|███▋      | 8007/21901 [02:40<13:45, 16.84it/s]"
     ]
    },
    {
     "name": "stdout",
     "output_type": "stream",
     "text": [
      "flooding 1.3283259160016314\n",
      "change count 8731\n",
      "[[ 146  146  146 ...  586  586  586]\n",
      " [ 821  821  821 ...  771  771  771]\n",
      " [ 588  589  598 ... 1385 1391 1401]\n",
      " [  14   14   14 ...   23   23   23]]\n",
      "writeback 0.03709316900494741\n"
     ]
    },
    {
     "name": "stderr",
     "output_type": "stream",
     "text": [
      " 37%|███▋      | 8094/21901 [02:40<02:57, 77.59it/s]"
     ]
    },
    {
     "name": "stdout",
     "output_type": "stream",
     "text": [
      "classify_wide_narrow 0.002532398000766989\n",
      "NARROW FOUND: 40832\n",
      "extract 2d locs 0.2080036389961606\n"
     ]
    },
    {
     "name": "stderr",
     "output_type": "stream",
     "text": [
      " 37%|███▋      | 8114/21901 [02:42<10:34, 21.72it/s]"
     ]
    },
    {
     "name": "stdout",
     "output_type": "stream",
     "text": [
      "flooding 1.3704967720041168\n",
      "change count 7968\n",
      "[[ 145  145  145 ...  587  587  587]\n",
      " [ 820  820  821 ...  771  771  771]\n",
      " [ 613  678  590 ... 1392 1395 1402]\n",
      " [  15   15   15 ...   24   24   24]]\n",
      "writeback 0.03737390600144863\n"
     ]
    },
    {
     "name": "stderr",
     "output_type": "stream",
     "text": [
      " 37%|███▋      | 8194/21901 [02:43<02:47, 81.65it/s]"
     ]
    },
    {
     "name": "stdout",
     "output_type": "stream",
     "text": [
      "classify_wide_narrow 0.0022138849963084795\n",
      "NARROW FOUND: 41006\n",
      "extract 2d locs 0.19330403600179125\n"
     ]
    },
    {
     "name": "stderr",
     "output_type": "stream",
     "text": [
      " 38%|███▊      | 8214/21901 [02:45<09:47, 23.29it/s]"
     ]
    },
    {
     "name": "stdout",
     "output_type": "stream",
     "text": [
      "flooding 1.2897022670003935\n",
      "change count 8035\n",
      "[[ 144  144  144 ...  588  588  588]\n",
      " [ 821  821  821 ...  771  771  772]\n",
      " [ 592  593  601 ... 1390 1392 1390]\n",
      " [  16   16   16 ...   25   25   25]]\n",
      "writeback 0.03647237800032599\n"
     ]
    },
    {
     "name": "stderr",
     "output_type": "stream",
     "text": [
      " 38%|███▊      | 8295/21901 [02:46<02:47, 81.36it/s]"
     ]
    },
    {
     "name": "stdout",
     "output_type": "stream",
     "text": [
      "classify_wide_narrow 0.0024763910041656345\n",
      "NARROW FOUND: 41416\n",
      "extract 2d locs 0.20894176000001607\n"
     ]
    },
    {
     "name": "stderr",
     "output_type": "stream",
     "text": [
      " 38%|███▊      | 8316/21901 [02:47<09:40, 23.40it/s]"
     ]
    },
    {
     "name": "stdout",
     "output_type": "stream",
     "text": [
      "flooding 1.3039864059974207\n",
      "change count 8473\n",
      "[[ 143  143  143 ...  589  589  589]\n",
      " [ 821  821  821 ...  771  771  771]\n",
      " [ 594  595  608 ... 1393 1403 1423]\n",
      " [  17   17   17 ...    1    1    1]]\n",
      "writeback 0.03651451699988684\n"
     ]
    },
    {
     "name": "stderr",
     "output_type": "stream",
     "text": [
      " 38%|███▊      | 8396/21901 [02:48<02:45, 81.46it/s]"
     ]
    },
    {
     "name": "stdout",
     "output_type": "stream",
     "text": [
      "classify_wide_narrow 0.002482135001628194\n",
      "NARROW FOUND: 41734\n",
      "extract 2d locs 0.24733705499966163\n"
     ]
    },
    {
     "name": "stderr",
     "output_type": "stream",
     "text": [
      " 38%|███▊      | 8416/21901 [02:50<10:12, 22.01it/s]"
     ]
    },
    {
     "name": "stdout",
     "output_type": "stream",
     "text": [
      "flooding 1.3419663809982012\n",
      "change count 7833\n",
      "[[ 142  142  142 ...  591  591  591]\n",
      " [ 821  821  821 ...  771  771  771]\n",
      " [ 596  604  622 ... 1386 1389 1394]\n",
      " [  18   18   18 ...    1    1    1]]\n",
      "writeback 0.036616226003388874\n"
     ]
    },
    {
     "name": "stderr",
     "output_type": "stream",
     "text": [
      " 39%|███▉      | 8495/21901 [02:51<02:53, 77.12it/s]"
     ]
    },
    {
     "name": "stdout",
     "output_type": "stream",
     "text": [
      "wiped count: 3\n",
      "classify_wide_narrow 0.00250948200118728\n",
      "NARROW FOUND: 42006\n",
      "extract 2d locs 0.20896673599781934\n"
     ]
    },
    {
     "name": "stderr",
     "output_type": "stream",
     "text": [
      " 39%|███▉      | 8515/21901 [02:53<10:22, 21.51it/s]"
     ]
    },
    {
     "name": "stdout",
     "output_type": "stream",
     "text": [
      "flooding 1.4002636619989062\n",
      "change count 8858\n",
      "[[ 141  141  141 ...  592  592  592]\n",
      " [ 820  821  821 ...  771  771  771]\n",
      " [ 679  597  598 ... 1361 1362 1370]\n",
      " [  19   19   19 ...    1    1    1]]\n",
      "writeback 0.037660902002244256\n"
     ]
    },
    {
     "name": "stderr",
     "output_type": "stream",
     "text": [
      " 39%|███▉      | 8575/21901 [02:54<03:17, 67.53it/s]"
     ]
    },
    {
     "name": "stdout",
     "output_type": "stream",
     "text": [
      "wiped count: 2\n"
     ]
    },
    {
     "name": "stderr",
     "output_type": "stream",
     "text": [
      " 39%|███▉      | 8595/21901 [02:54<03:08, 70.42it/s]"
     ]
    },
    {
     "name": "stdout",
     "output_type": "stream",
     "text": [
      "classify_wide_narrow 0.00255996199848596\n",
      "NARROW FOUND: 42302\n",
      "extract 2d locs 0.21655691100022523\n"
     ]
    },
    {
     "name": "stderr",
     "output_type": "stream",
     "text": [
      " 39%|███▉      | 8614/21901 [02:56<10:43, 20.65it/s]"
     ]
    },
    {
     "name": "stdout",
     "output_type": "stream",
     "text": [
      "flooding 1.4157647870015353\n",
      "change count 11459\n",
      "[[ 140  140  140 ...  624  624  624]\n",
      " [ 821  821  821 ...  771  771  771]\n",
      " [ 599  610  619 ... 1402 1418 1427]\n",
      " [  20   20   20 ...    1    1    1]]\n",
      "writeback 0.03864277100365143\n"
     ]
    },
    {
     "name": "stderr",
     "output_type": "stream",
     "text": [
      " 40%|███▉      | 8695/21901 [02:57<02:58, 73.83it/s]"
     ]
    },
    {
     "name": "stdout",
     "output_type": "stream",
     "text": [
      "classify_wide_narrow 0.0024825459986459464\n",
      "NARROW FOUND: 43052\n",
      "extract 2d locs 0.27148766499885824\n"
     ]
    },
    {
     "name": "stderr",
     "output_type": "stream",
     "text": [
      " 40%|███▉      | 8713/21901 [02:59<11:42, 18.77it/s]"
     ]
    },
    {
     "name": "stdout",
     "output_type": "stream",
     "text": [
      "flooding 1.428790530997503\n",
      "change count 13002\n",
      "[[ 139  139  139 ...  655  655  655]\n",
      " [ 821  821  821 ...  789  789  789]\n",
      " [ 600  601  610 ... 1436 1437 1438]\n",
      " [  21   21   21 ...    1    1    1]]\n",
      "writeback 0.04093158300383948\n"
     ]
    },
    {
     "name": "stderr",
     "output_type": "stream",
     "text": [
      " 40%|████      | 8798/21901 [03:00<02:58, 73.58it/s]"
     ]
    },
    {
     "name": "stdout",
     "output_type": "stream",
     "text": [
      "classify_wide_narrow 0.002772576997813303\n",
      "NARROW FOUND: 43895\n",
      "extract 2d locs 0.21658001699688612\n"
     ]
    },
    {
     "name": "stderr",
     "output_type": "stream",
     "text": [
      "\r",
      " 40%|████      | 8807/21901 [03:02<15:50, 13.78it/s]"
     ]
    },
    {
     "name": "stdout",
     "output_type": "stream",
     "text": [
      "flooding 1.4875288430048386\n",
      "change count 14907\n",
      "[[ 138  138  138 ...  680  680  680]\n",
      " [ 820  821  821 ...  818  818  818]\n",
      " [ 680  604  611 ... 1437 1438 1439]\n",
      " [  22   22   22 ...    1    1    1]]\n",
      "writeback 0.040124911996826995\n"
     ]
    },
    {
     "name": "stderr",
     "output_type": "stream",
     "text": [
      " 41%|████      | 8895/21901 [03:03<03:05, 70.01it/s]"
     ]
    },
    {
     "name": "stdout",
     "output_type": "stream",
     "text": [
      "classify_wide_narrow 0.0022982860027696006\n",
      "NARROW FOUND: 44501\n",
      "extract 2d locs 0.21494334599992726\n"
     ]
    },
    {
     "name": "stderr",
     "output_type": "stream",
     "text": [
      " 41%|████      | 8912/21901 [03:05<12:01, 18.00it/s]"
     ]
    },
    {
     "name": "stdout",
     "output_type": "stream",
     "text": [
      "flooding 1.4947733669978334\n",
      "change count 17955\n",
      "[[137 137 137 ... 681 681 681]\n",
      " [821 821 821 ... 819 819 819]\n",
      " [612 625 628 ...  29  32  33]\n",
      " [ 23  23  23 ...   2   2   2]]\n",
      "writeback 0.04029020600137301\n"
     ]
    },
    {
     "name": "stderr",
     "output_type": "stream",
     "text": [
      " 41%|████      | 8997/21901 [03:06<03:03, 70.25it/s]"
     ]
    },
    {
     "name": "stdout",
     "output_type": "stream",
     "text": [
      "classify_wide_narrow 0.0022775440011173487\n",
      "NARROW FOUND: 44973\n",
      "extract 2d locs 0.21856074900279054\n"
     ]
    },
    {
     "name": "stderr",
     "output_type": "stream",
     "text": [
      "\r",
      " 41%|████      | 9005/21901 [03:08<17:19, 12.40it/s]"
     ]
    },
    {
     "name": "stdout",
     "output_type": "stream",
     "text": [
      "flooding 1.5750788029981777\n",
      "change count 19582\n",
      "[[ 136  136  136 ...  738  738  738]\n",
      " [ 821  821  821 ...  825  825  825]\n",
      " [ 605  611  614 ... 1419 1432 1433]\n",
      " [  24   24   24 ...    1    1    1]]\n",
      "writeback 0.04116384100052528\n"
     ]
    },
    {
     "name": "stderr",
     "output_type": "stream",
     "text": [
      " 42%|████▏     | 9097/21901 [03:09<03:03, 69.72it/s]"
     ]
    },
    {
     "name": "stdout",
     "output_type": "stream",
     "text": [
      "classify_wide_narrow 0.0023590550044900738\n",
      "NARROW FOUND: 45483\n",
      "extract 2d locs 0.22018757299520075\n"
     ]
    },
    {
     "name": "stderr",
     "output_type": "stream",
     "text": [
      "\r",
      " 42%|████▏     | 9105/21901 [03:11<17:00, 12.54it/s]"
     ]
    },
    {
     "name": "stdout",
     "output_type": "stream",
     "text": [
      "flooding 1.5371289550021174\n",
      "change count 18386\n",
      "[[ 135  135  135 ...  739  739  739]\n",
      " [ 821  821  821 ...  825  825  826]\n",
      " [ 606  612  615 ... 1397 1436 1347]\n",
      " [  25   25   25 ...    2    2    2]]\n",
      "writeback 0.04136599699995713\n"
     ]
    },
    {
     "name": "stderr",
     "output_type": "stream",
     "text": [
      " 42%|████▏     | 9192/21901 [03:12<03:06, 68.25it/s]"
     ]
    },
    {
     "name": "stdout",
     "output_type": "stream",
     "text": [
      "classify_wide_narrow 0.00231950400484493\n",
      "NARROW FOUND: 46606\n",
      "extract 2d locs 0.22525156100164168\n"
     ]
    },
    {
     "name": "stderr",
     "output_type": "stream",
     "text": [
      " 42%|████▏     | 9209/21901 [03:14<12:08, 17.41it/s]"
     ]
    },
    {
     "name": "stdout",
     "output_type": "stream",
     "text": [
      "flooding 1.5474316389954765\n",
      "change count 19778\n",
      "[[ 134  134  134 ...  740  740  740]\n",
      " [ 820  821  821 ...  825  825  826]\n",
      " [ 681  608  609 ... 1361 1422 1348]\n",
      " [  26   26   26 ...    3    3    3]]\n",
      "writeback 0.04180673800146906\n"
     ]
    },
    {
     "name": "stderr",
     "output_type": "stream",
     "text": [
      " 42%|████▏     | 9297/21901 [03:15<02:48, 74.91it/s]"
     ]
    },
    {
     "name": "stdout",
     "output_type": "stream",
     "text": [
      "classify_wide_narrow 0.0023927059955894947\n",
      "NARROW FOUND: 47551\n",
      "extract 2d locs 0.24085879800259136\n"
     ]
    },
    {
     "name": "stderr",
     "output_type": "stream",
     "text": [
      "\r",
      " 42%|████▏     | 9306/21901 [03:17<16:01, 13.10it/s]"
     ]
    },
    {
     "name": "stdout",
     "output_type": "stream",
     "text": [
      "flooding 1.6128496969977277\n",
      "change count 16493\n",
      "[[ 133  133  133 ...  741  741  741]\n",
      " [ 821  821  821 ...  825  825  825]\n",
      " [ 615  633  635 ... 1358 1360 1362]\n",
      " [  27   27   27 ...    4    4    4]]\n",
      "writeback 0.04419236400281079\n"
     ]
    },
    {
     "name": "stderr",
     "output_type": "stream",
     "text": [
      " 43%|████▎     | 9397/21901 [03:18<02:51, 72.84it/s]"
     ]
    },
    {
     "name": "stdout",
     "output_type": "stream",
     "text": [
      "classify_wide_narrow 0.002312037002411671\n",
      "NARROW FOUND: 48271\n",
      "extract 2d locs 0.23336992999975337\n"
     ]
    },
    {
     "name": "stderr",
     "output_type": "stream",
     "text": [
      "\r",
      " 43%|████▎     | 9406/21901 [03:20<15:26, 13.49it/s]"
     ]
    },
    {
     "name": "stdout",
     "output_type": "stream",
     "text": [
      "flooding 1.5565191690038773\n",
      "change count 15928\n",
      "[[ 132  132  132 ...  742  742  742]\n",
      " [ 821  821  821 ...  825  825  826]\n",
      " [ 617  618  619 ... 1361 1362 1349]\n",
      " [  28   28   28 ...    5    5    5]]\n",
      "writeback 0.04513813299854519\n"
     ]
    },
    {
     "name": "stderr",
     "output_type": "stream",
     "text": [
      " 43%|████▎     | 9496/21901 [03:21<02:44, 75.20it/s]"
     ]
    },
    {
     "name": "stdout",
     "output_type": "stream",
     "text": [
      "classify_wide_narrow 0.0023547570017399266\n",
      "NARROW FOUND: 48892\n",
      "extract 2d locs 0.24187104599695886\n"
     ]
    },
    {
     "name": "stderr",
     "output_type": "stream",
     "text": [
      "\r",
      " 43%|████▎     | 9505/21901 [03:23<15:49, 13.06it/s]"
     ]
    },
    {
     "name": "stdout",
     "output_type": "stream",
     "text": [
      "flooding 1.6249168860013015\n",
      "change count 12626\n",
      "[[ 131  131  131 ...  743  743  743]\n",
      " [ 821  821  821 ...  825  825  826]\n",
      " [ 612  620  634 ... 1363 1380 1350]\n",
      " [  29   29   29 ...    6    6    6]]\n",
      "writeback 0.04421998600446386\n"
     ]
    },
    {
     "name": "stderr",
     "output_type": "stream",
     "text": [
      " 44%|████▍     | 9595/21901 [03:24<02:43, 75.35it/s]"
     ]
    },
    {
     "name": "stdout",
     "output_type": "stream",
     "text": [
      "classify_wide_narrow 0.0023552789934910834\n",
      "NARROW FOUND: 49274\n",
      "extract 2d locs 0.2412816110008862\n"
     ]
    },
    {
     "name": "stderr",
     "output_type": "stream",
     "text": [
      " 44%|████▍     | 9613/21901 [03:26<11:44, 17.45it/s]"
     ]
    },
    {
     "name": "stdout",
     "output_type": "stream",
     "text": [
      "flooding 1.6392956510026124\n",
      "change count 9784\n",
      "[[ 130  130  130 ...  744  744  744]\n",
      " [ 820  821  821 ...  825  825  825]\n",
      " [ 682  619  621 ... 1356 1362 1364]\n",
      " [  30   30   30 ...    7    7    7]]\n",
      "writeback 0.04498555399914039\n"
     ]
    },
    {
     "name": "stderr",
     "output_type": "stream",
     "text": [
      " 44%|████▍     | 9694/21901 [03:27<02:46, 73.22it/s]"
     ]
    },
    {
     "name": "stdout",
     "output_type": "stream",
     "text": [
      "classify_wide_narrow 0.00233762500283774\n",
      "NARROW FOUND: 49949\n",
      "extract 2d locs 0.24652291100210277\n"
     ]
    },
    {
     "name": "stderr",
     "output_type": "stream",
     "text": [
      " 44%|████▍     | 9712/21901 [03:29<11:50, 17.16it/s]"
     ]
    },
    {
     "name": "stdout",
     "output_type": "stream",
     "text": [
      "flooding 1.6610402519945637\n",
      "change count 8809\n",
      "[[ 129  129  129 ...  745  745  745]\n",
      " [ 821  821  821 ...  825  825  825]\n",
      " [ 615  620  623 ... 1349 1351 1362]\n",
      " [  31   31   31 ...    8    8    8]]\n",
      "writeback 0.045542276006017346\n"
     ]
    },
    {
     "name": "stderr",
     "output_type": "stream",
     "text": [
      " 45%|████▍     | 9793/21901 [03:30<02:45, 73.36it/s]"
     ]
    },
    {
     "name": "stdout",
     "output_type": "stream",
     "text": [
      "classify_wide_narrow 0.002447361999657005\n",
      "NARROW FOUND: 50271\n",
      "extract 2d locs 0.2460671450025984\n"
     ]
    },
    {
     "name": "stderr",
     "output_type": "stream",
     "text": [
      " 45%|████▍     | 9811/21901 [03:33<11:47, 17.09it/s]"
     ]
    },
    {
     "name": "stdout",
     "output_type": "stream",
     "text": [
      "flooding 1.6743598600005498\n",
      "change count 7277\n",
      "[[ 128  128  128 ...  746  746  746]\n",
      " [ 821  821  821 ...  825  825  825]\n",
      " [ 621  640  641 ... 1357 1363 1365]\n",
      " [  32   32   32 ...    9    9    9]]\n",
      "writeback 0.045668478996958584\n"
     ]
    },
    {
     "name": "stderr",
     "output_type": "stream",
     "text": [
      " 45%|████▌     | 9892/21901 [03:33<02:42, 74.01it/s]"
     ]
    },
    {
     "name": "stdout",
     "output_type": "stream",
     "text": [
      "classify_wide_narrow 0.00228821699420223\n",
      "NARROW FOUND: 50649\n",
      "extract 2d locs 0.2490201190012158\n"
     ]
    },
    {
     "name": "stderr",
     "output_type": "stream",
     "text": [
      " 45%|████▌     | 9910/21901 [03:36<11:45, 17.00it/s]"
     ]
    },
    {
     "name": "stdout",
     "output_type": "stream",
     "text": [
      "flooding 1.6874756250035716\n",
      "change count 9306\n",
      "[[ 127  127  127 ...  747  747  747]\n",
      " [ 821  821  821 ...  825  825  825]\n",
      " [ 637  638  641 ... 1353 1358 1363]\n",
      " [  33   33   33 ...   10   10   10]]\n",
      "writeback 0.04640282299806131\n"
     ]
    },
    {
     "name": "stderr",
     "output_type": "stream",
     "text": [
      " 46%|████▌     | 9993/21901 [03:37<02:36, 76.22it/s]"
     ]
    },
    {
     "name": "stdout",
     "output_type": "stream",
     "text": [
      "classify_wide_narrow 0.0021582720000878908\n",
      "NARROW FOUND: 50831\n",
      "extract 2d locs 0.24369252799806418\n"
     ]
    },
    {
     "name": "stderr",
     "output_type": "stream",
     "text": [
      " 46%|████▌     | 10011/21901 [03:39<11:06, 17.85it/s]"
     ]
    },
    {
     "name": "stdout",
     "output_type": "stream",
     "text": [
      "flooding 1.5928716029957286\n",
      "change count 12445\n",
      "[[ 126  126  126 ...  748  748  748]\n",
      " [ 820  821  821 ...  825  825  825]\n",
      " [ 683  619  634 ... 1351 1352 1364]\n",
      " [  34   34   34 ...   11   11   11]]\n",
      "writeback 0.04649219400016591\n"
     ]
    },
    {
     "name": "stderr",
     "output_type": "stream",
     "text": [
      " 46%|████▌     | 10092/21901 [03:40<02:42, 72.67it/s]"
     ]
    },
    {
     "name": "stdout",
     "output_type": "stream",
     "text": [
      "classify_wide_narrow 0.0023221190058393404\n",
      "NARROW FOUND: 51387\n",
      "extract 2d locs 0.257514420998632\n"
     ]
    },
    {
     "name": "stderr",
     "output_type": "stream",
     "text": [
      " 46%|████▌     | 10110/21901 [03:42<11:23, 17.26it/s]"
     ]
    },
    {
     "name": "stdout",
     "output_type": "stream",
     "text": [
      "flooding 1.6297101669988479\n",
      "change count 14393\n",
      "[[ 125  125  125 ...  749  749  749]\n",
      " [ 821  821  821 ...  825  825  825]\n",
      " [ 639  640  642 ... 1354 1359 1364]\n",
      " [  35   35   35 ...   12   12   12]]\n",
      "writeback 0.04740135899919551\n"
     ]
    },
    {
     "name": "stderr",
     "output_type": "stream",
     "text": [
      " 47%|████▋     | 10191/21901 [03:43<02:39, 73.28it/s]"
     ]
    },
    {
     "name": "stdout",
     "output_type": "stream",
     "text": [
      "classify_wide_narrow 0.00233686099818442\n",
      "NARROW FOUND: 52470\n",
      "extract 2d locs 0.25425704900408164\n"
     ]
    },
    {
     "name": "stderr",
     "output_type": "stream",
     "text": [
      " 47%|████▋     | 10209/21901 [03:45<11:22, 17.14it/s]"
     ]
    },
    {
     "name": "stdout",
     "output_type": "stream",
     "text": [
      "flooding 1.6528376569985994\n",
      "change count 14903\n",
      "[[ 124  124  124 ...  750  750  750]\n",
      " [ 820  820  820 ...  825  825  825]\n",
      " [ 685  686  687 ... 1353 1354 1365]\n",
      " [  36   36   36 ...   13   13   13]]\n",
      "writeback 0.04819390099873999\n"
     ]
    },
    {
     "name": "stderr",
     "output_type": "stream",
     "text": [
      " 47%|████▋     | 10299/21901 [03:46<02:31, 76.57it/s]"
     ]
    },
    {
     "name": "stdout",
     "output_type": "stream",
     "text": [
      "classify_wide_narrow 0.002328683993255254\n",
      "NARROW FOUND: 53397\n",
      "extract 2d locs 0.2586985670059221\n"
     ]
    },
    {
     "name": "stderr",
     "output_type": "stream",
     "text": [
      "\r",
      " 47%|████▋     | 10308/21901 [03:48<15:17, 12.63it/s]"
     ]
    },
    {
     "name": "stdout",
     "output_type": "stream",
     "text": [
      "flooding 1.6940014989959309\n",
      "change count 16528\n",
      "[[ 123  123  123 ...  751  751  751]\n",
      " [ 820  820  821 ...  825  825  825]\n",
      " [ 639  687  622 ... 1360 1366 1368]\n",
      " [  37   37   37 ...   14   14   14]]\n",
      "writeback 0.04912218900426524\n"
     ]
    },
    {
     "name": "stderr",
     "output_type": "stream",
     "text": [
      " 47%|████▋     | 10398/21901 [03:49<02:39, 72.18it/s]"
     ]
    },
    {
     "name": "stdout",
     "output_type": "stream",
     "text": [
      "classify_wide_narrow 0.002357110002776608\n",
      "NARROW FOUND: 54234\n",
      "extract 2d locs 0.2659897529956652\n"
     ]
    },
    {
     "name": "stderr",
     "output_type": "stream",
     "text": [
      "\r",
      " 48%|████▊     | 10407/21901 [03:51<15:26, 12.41it/s]"
     ]
    },
    {
     "name": "stdout",
     "output_type": "stream",
     "text": [
      "flooding 1.7090432250042795\n",
      "change count 14046\n",
      "[[ 122  122  122 ...  752  752  752]\n",
      " [ 820  820  820 ...  825  825  825]\n",
      " [ 684  686  687 ... 1355 1356 1366]\n",
      " [  38   38   38 ...   15   15   15]]\n",
      "writeback 0.04901304999657441\n"
     ]
    },
    {
     "name": "stderr",
     "output_type": "stream",
     "text": [
      " 48%|████▊     | 10497/21901 [03:52<02:31, 75.39it/s]"
     ]
    },
    {
     "name": "stdout",
     "output_type": "stream",
     "text": [
      "classify_wide_narrow 0.0022515589953400195\n",
      "NARROW FOUND: 55336\n",
      "extract 2d locs 0.2668483620000188\n"
     ]
    },
    {
     "name": "stderr",
     "output_type": "stream",
     "text": [
      "\r",
      " 48%|████▊     | 10507/21901 [03:54<14:14, 13.34it/s]"
     ]
    },
    {
     "name": "stdout",
     "output_type": "stream",
     "text": [
      "flooding 1.758137937002175\n",
      "change count 12713\n",
      "[[ 121  121  121 ...  753  753  753]\n",
      " [ 820  821  821 ...  825  825  825]\n",
      " [ 685  634  642 ... 1351 1356 1361]\n",
      " [  39   39   39 ...   16   16   16]]\n",
      "writeback 0.049635301998932846\n"
     ]
    },
    {
     "name": "stderr",
     "output_type": "stream",
     "text": [
      " 48%|████▊     | 10594/21901 [03:55<02:36, 72.21it/s]"
     ]
    },
    {
     "name": "stdout",
     "output_type": "stream",
     "text": [
      "classify_wide_narrow 0.0023094849966582842\n",
      "NARROW FOUND: 56164\n",
      "extract 2d locs 0.27083009500347544\n"
     ]
    },
    {
     "name": "stderr",
     "output_type": "stream",
     "text": [
      " 48%|████▊     | 10612/21901 [03:58<11:24, 16.49it/s]"
     ]
    },
    {
     "name": "stdout",
     "output_type": "stream",
     "text": [
      "flooding 1.7785965259972727\n",
      "change count 10330\n",
      "[[ 120  120  120 ...  754  754  754]\n",
      " [ 821  821  821 ...  825  825  825]\n",
      " [ 630  649  667 ... 1367 1368 1370]\n",
      " [  40   40   40 ...   17   17   17]]\n",
      "writeback 0.05226044599839952\n"
     ]
    },
    {
     "name": "stderr",
     "output_type": "stream",
     "text": [
      " 49%|████▉     | 10693/21901 [03:59<02:30, 74.66it/s]"
     ]
    },
    {
     "name": "stdout",
     "output_type": "stream",
     "text": [
      "classify_wide_narrow 0.0023085840002750047\n",
      "NARROW FOUND: 56952\n",
      "extract 2d locs 0.2776972060019034\n"
     ]
    },
    {
     "name": "stderr",
     "output_type": "stream",
     "text": [
      " 49%|████▉     | 10711/21901 [04:01<11:29, 16.24it/s]"
     ]
    },
    {
     "name": "stdout",
     "output_type": "stream",
     "text": [
      "flooding 1.7796635260019684\n",
      "change count 12030\n",
      "[[ 119  119  119 ...  755  755  755]\n",
      " [ 820  821  821 ...  825  825  826]\n",
      " [ 688  631  641 ... 1357 1368 1353]\n",
      " [  41   41   41 ...   18   18   18]]\n",
      "writeback 0.05135237499780487\n"
     ]
    },
    {
     "name": "stderr",
     "output_type": "stream",
     "text": [
      " 49%|████▉     | 10799/21901 [04:02<02:31, 73.17it/s]"
     ]
    },
    {
     "name": "stdout",
     "output_type": "stream",
     "text": [
      "classify_wide_narrow 0.002288055999088101\n",
      "NARROW FOUND: 57628\n",
      "extract 2d locs 0.28356623600120656\n"
     ]
    },
    {
     "name": "stderr",
     "output_type": "stream",
     "text": [
      "\r",
      " 49%|████▉     | 10808/21901 [04:04<15:50, 11.67it/s]"
     ]
    },
    {
     "name": "stdout",
     "output_type": "stream",
     "text": [
      "flooding 1.813443332001043\n",
      "change count 11481\n",
      "[[ 118  118  118 ...  756  756  756]\n",
      " [ 820  820  821 ...  824  824  825]\n",
      " [ 686  688  632 ... 1373 1379 1358]\n",
      " [  42   42   42 ...   19   19   19]]\n",
      "writeback 0.052402795998204965\n"
     ]
    },
    {
     "name": "stderr",
     "output_type": "stream",
     "text": [
      " 50%|████▉     | 10898/21901 [04:05<02:37, 69.88it/s]"
     ]
    },
    {
     "name": "stdout",
     "output_type": "stream",
     "text": [
      "classify_wide_narrow 0.002322555003047455\n",
      "NARROW FOUND: 57812\n",
      "extract 2d locs 0.28117069900326896\n"
     ]
    },
    {
     "name": "stderr",
     "output_type": "stream",
     "text": [
      "\r",
      " 50%|████▉     | 10907/21901 [04:08<15:45, 11.63it/s]"
     ]
    },
    {
     "name": "stdout",
     "output_type": "stream",
     "text": [
      "flooding 1.8311725269959425\n",
      "change count 9937\n",
      "[[ 117  117  117 ...  756  757  757]\n",
      " [ 820  820  820 ...  822  824  824]\n",
      " [ 679  685  686 ... 1375 1353 1359]\n",
      " [  43   43   43 ...   20   20   20]]\n",
      "writeback 0.052348347002407536\n"
     ]
    },
    {
     "name": "stderr",
     "output_type": "stream",
     "text": [
      " 50%|█████     | 10995/21901 [04:09<02:39, 68.59it/s]"
     ]
    },
    {
     "name": "stdout",
     "output_type": "stream",
     "text": [
      "wiped count: 1\n",
      "classify_wide_narrow 0.002329911003471352\n",
      "NARROW FOUND: 57888\n",
      "extract 2d locs 0.2817049980003503\n"
     ]
    },
    {
     "name": "stderr",
     "output_type": "stream",
     "text": [
      " 50%|█████     | 11011/21901 [04:11<12:46, 14.22it/s]"
     ]
    },
    {
     "name": "stdout",
     "output_type": "stream",
     "text": [
      "flooding 1.8240325709994067\n",
      "change count 7736\n",
      "[[ 116  116  116 ...  756  756  756]\n",
      " [ 820  820  821 ...  824  824  824]\n",
      " [ 685  687  629 ... 1397 1398 1399]\n",
      " [  44   44   44 ...   21   21   21]]\n",
      "writeback 0.05192960499698529\n"
     ]
    },
    {
     "name": "stderr",
     "output_type": "stream",
     "text": [
      " 51%|█████     | 11099/21901 [04:12<02:34, 69.77it/s]"
     ]
    },
    {
     "name": "stdout",
     "output_type": "stream",
     "text": [
      "classify_wide_narrow 0.002332784999452997\n",
      "NARROW FOUND: 58000\n",
      "extract 2d locs 0.2809649260016158\n"
     ]
    },
    {
     "name": "stderr",
     "output_type": "stream",
     "text": [
      "\r",
      " 51%|█████     | 11107/21901 [04:15<16:59, 10.58it/s]"
     ]
    },
    {
     "name": "stdout",
     "output_type": "stream",
     "text": [
      "flooding 1.8136722079943866\n",
      "change count 6038\n",
      "[[ 115  115  115 ...  755  755  756]\n",
      " [ 821  821  821 ...  823  824  823]\n",
      " [ 630  635  646 ... 1401 1401 1401]\n",
      " [  45   45   45 ...   22   22   22]]\n",
      "writeback 0.05223311300505884\n"
     ]
    },
    {
     "name": "stderr",
     "output_type": "stream",
     "text": [
      " 51%|█████     | 11179/21901 [04:16<02:57, 60.45it/s]"
     ]
    },
    {
     "name": "stdout",
     "output_type": "stream",
     "text": [
      "wiped count: 2\n"
     ]
    },
    {
     "name": "stderr",
     "output_type": "stream",
     "text": [
      " 51%|█████     | 11195/21901 [04:16<02:39, 67.17it/s]"
     ]
    },
    {
     "name": "stdout",
     "output_type": "stream",
     "text": [
      "classify_wide_narrow 0.00239576800231589\n",
      "NARROW FOUND: 58140\n",
      "extract 2d locs 0.283669666001515\n"
     ]
    },
    {
     "name": "stderr",
     "output_type": "stream",
     "text": [
      " 51%|█████     | 11211/21901 [04:18<12:39, 14.07it/s]"
     ]
    },
    {
     "name": "stdout",
     "output_type": "stream",
     "text": [
      "flooding 1.8372459419988445\n",
      "change count 6082\n",
      "[[ 114  114  114 ...  751  754  755]\n",
      " [ 821  821  821 ...  822  823  824]\n",
      " [ 651  656  667 ... 1407 1402 1402]\n",
      " [  46   46   46 ...   23   23   23]]\n",
      "writeback 0.05389063600159716\n"
     ]
    },
    {
     "name": "stderr",
     "output_type": "stream",
     "text": [
      " 52%|█████▏    | 11299/21901 [04:19<02:29, 70.86it/s]"
     ]
    },
    {
     "name": "stdout",
     "output_type": "stream",
     "text": [
      "classify_wide_narrow 0.002356156997848302\n",
      "NARROW FOUND: 58523\n",
      "extract 2d locs 0.28332691700052237\n"
     ]
    },
    {
     "name": "stderr",
     "output_type": "stream",
     "text": [
      "\r",
      " 52%|█████▏    | 11307/21901 [04:22<19:32,  9.04it/s]"
     ]
    },
    {
     "name": "stdout",
     "output_type": "stream",
     "text": [
      "flooding 2.240860847996373\n",
      "change count 6408\n",
      "[[ 113  113  116 ...  738  754  755]\n",
      " [ 822  823  820 ...  786  822  824]\n",
      " [ 659  634  685 ... 1411 1403 1403]\n",
      " [  47   47   43 ...   23   24   24]]\n",
      "writeback 0.0553723160046502\n",
      "wiped count: 2\n"
     ]
    },
    {
     "name": "stderr",
     "output_type": "stream",
     "text": [
      " 52%|█████▏    | 11396/21901 [04:23<02:40, 65.40it/s]"
     ]
    },
    {
     "name": "stdout",
     "output_type": "stream",
     "text": [
      "classify_wide_narrow 0.0023308640011237003\n",
      "NARROW FOUND: 58577\n",
      "extract 2d locs 0.2805574060039362\n"
     ]
    },
    {
     "name": "stderr",
     "output_type": "stream",
     "text": [
      "\r",
      " 52%|█████▏    | 11404/21901 [04:26<17:25, 10.04it/s]"
     ]
    },
    {
     "name": "stdout",
     "output_type": "stream",
     "text": [
      "flooding 1.8693443539959844\n",
      "change count 4776\n",
      "[[ 115  115  115 ...  737  738  755]\n",
      " [ 821  821  821 ...  804  785  823]\n",
      " [ 630  635  646 ... 1405 1407 1404]\n",
      " [  44   44   44 ...   24   24   25]]\n",
      "writeback 0.05634187500254484\n"
     ]
    },
    {
     "name": "stderr",
     "output_type": "stream",
     "text": [
      " 52%|█████▏    | 11492/21901 [04:27<02:38, 65.82it/s]"
     ]
    },
    {
     "name": "stdout",
     "output_type": "stream",
     "text": [
      "classify_wide_narrow 0.0023883149988250807\n",
      "NARROW FOUND: 58629\n",
      "extract 2d locs 0.30472189700230956\n"
     ]
    },
    {
     "name": "stderr",
     "output_type": "stream",
     "text": [
      " 53%|█████▎    | 11507/21901 [04:29<13:43, 12.62it/s]"
     ]
    },
    {
     "name": "stdout",
     "output_type": "stream",
     "text": [
      "flooding 1.97490424499847\n",
      "change count 4618\n",
      "[[ 114  114  114 ...  737  737  755]\n",
      " [ 821  821  821 ...  802  803  824]\n",
      " [ 651  656  667 ... 1404 1404 1405]\n",
      " [  45   45   45 ...   25   25   26]]\n",
      "writeback 0.06323533799877623\n"
     ]
    },
    {
     "name": "stderr",
     "output_type": "stream",
     "text": [
      " 53%|█████▎    | 11596/21901 [04:31<02:41, 63.80it/s]"
     ]
    },
    {
     "name": "stdout",
     "output_type": "stream",
     "text": [
      "classify_wide_narrow 0.002468070997565519\n",
      "NARROW FOUND: 58688\n",
      "extract 2d locs 0.2968522959999973\n"
     ]
    },
    {
     "name": "stderr",
     "output_type": "stream",
     "text": [
      "\r",
      " 53%|█████▎    | 11603/21901 [04:33<18:41,  9.18it/s]"
     ]
    },
    {
     "name": "stdout",
     "output_type": "stream",
     "text": [
      "flooding 1.9679727319962694\n",
      "change count 4965\n",
      "[[ 113  113  162 ...  737  755  755]\n",
      " [ 822  823 1124 ...  804  823  824]\n",
      " [ 659  634  585 ... 1403 1406 1406]\n",
      " [  46   46    5 ...   26   27   27]]\n",
      "writeback 0.05477786300616572\n"
     ]
    },
    {
     "name": "stderr",
     "output_type": "stream",
     "text": [
      " 53%|█████▎    | 11658/21901 [04:34<03:42, 45.94it/s]"
     ]
    },
    {
     "name": "stdout",
     "output_type": "stream",
     "text": [
      "wiped count: 1\n"
     ]
    },
    {
     "name": "stderr",
     "output_type": "stream",
     "text": [
      " 53%|█████▎    | 11696/21901 [04:34<02:34, 66.25it/s]"
     ]
    },
    {
     "name": "stdout",
     "output_type": "stream",
     "text": [
      "classify_wide_narrow 0.002342890998988878\n",
      "NARROW FOUND: 58697\n",
      "extract 2d locs 0.3249802520003868\n"
     ]
    },
    {
     "name": "stderr",
     "output_type": "stream",
     "text": [
      "\r",
      " 53%|█████▎    | 11704/21901 [04:37<17:09,  9.91it/s]"
     ]
    },
    {
     "name": "stdout",
     "output_type": "stream",
     "text": [
      "flooding 1.880309447995387\n",
      "change count 3823\n",
      "[[ 161  161  161 ...  737  754  755]\n",
      " [1124 1124 1124 ...  803  823  824]\n",
      " [ 587  588  589 ... 1402 1407 1407]\n",
      " [   6    6    6 ...   27   28   28]]\n",
      "writeback 0.05450558900338365\n"
     ]
    },
    {
     "name": "stderr",
     "output_type": "stream",
     "text": [
      " 54%|█████▍    | 11796/21901 [04:38<02:34, 65.38it/s]"
     ]
    },
    {
     "name": "stdout",
     "output_type": "stream",
     "text": [
      "classify_wide_narrow 0.0025808779973885976\n",
      "NARROW FOUND: 58820\n",
      "extract 2d locs 0.29742163300397806\n"
     ]
    },
    {
     "name": "stderr",
     "output_type": "stream",
     "text": [
      "\r",
      " 54%|█████▍    | 11804/21901 [04:40<16:02, 10.49it/s]"
     ]
    },
    {
     "name": "stdout",
     "output_type": "stream",
     "text": [
      "flooding 1.8644099809971522\n",
      "change count 4169\n",
      "[[ 160  160  160 ...  753  754  756]\n",
      " [1124 1124 1124 ...  823  823  823]\n",
      " [ 591  599  600 ... 1408 1408 1408]\n",
      " [   7    7    7 ...   29   29   29]]\n",
      "writeback 0.05665106599917635\n"
     ]
    },
    {
     "name": "stderr",
     "output_type": "stream",
     "text": [
      " 54%|█████▍    | 11897/21901 [04:42<02:47, 59.79it/s]"
     ]
    },
    {
     "name": "stdout",
     "output_type": "stream",
     "text": [
      "wiped count: 1\n",
      "classify_wide_narrow 0.0030249420015024953\n",
      "NARROW FOUND: 58986\n",
      "extract 2d locs 0.34689333199639805\n"
     ]
    },
    {
     "name": "stderr",
     "output_type": "stream",
     "text": [
      "\r",
      " 54%|█████▍    | 11904/21901 [04:44<18:11,  9.16it/s]"
     ]
    },
    {
     "name": "stdout",
     "output_type": "stream",
     "text": [
      "flooding 1.8734677480024402\n",
      "change count 6405\n",
      "[[ 159  159  159 ...  738  738  756]\n",
      " [1124 1124 1124 ...  794  802  824]\n",
      " [ 592  601  602 ... 1400 1400 1409]\n",
      " [   8    8    8 ...   29   29   30]]\n",
      "writeback 0.05323886300175218\n"
     ]
    },
    {
     "name": "stderr",
     "output_type": "stream",
     "text": [
      " 55%|█████▍    | 11999/21901 [04:45<02:10, 76.08it/s]"
     ]
    },
    {
     "name": "stdout",
     "output_type": "stream",
     "text": [
      "classify_wide_narrow 0.0023682259998167865\n",
      "NARROW FOUND: 59041\n",
      "extract 2d locs 0.2883629749994725\n"
     ]
    },
    {
     "name": "stderr",
     "output_type": "stream",
     "text": [
      "\r",
      " 55%|█████▍    | 12008/21901 [04:47<13:36, 12.12it/s]"
     ]
    },
    {
     "name": "stdout",
     "output_type": "stream",
     "text": [
      "flooding 1.862780682000448\n",
      "change count 8240\n",
      "[[ 158  158  158 ...  737  738  755]\n",
      " [1124 1124 1124 ...  803  801  823]\n",
      " [ 595  604  605 ... 1399 1399 1410]\n",
      " [   9    9    9 ...   30   30   31]]\n",
      "writeback 0.055178171998704784\n"
     ]
    },
    {
     "name": "stderr",
     "output_type": "stream",
     "text": [
      " 55%|█████▌    | 12098/21901 [04:48<02:12, 74.20it/s]"
     ]
    },
    {
     "name": "stdout",
     "output_type": "stream",
     "text": [
      "classify_wide_narrow 0.002275430000736378\n",
      "NARROW FOUND: 59120\n",
      "extract 2d locs 0.28435000400349963\n"
     ]
    },
    {
     "name": "stderr",
     "output_type": "stream",
     "text": [
      "\r",
      " 55%|█████▌    | 12108/21901 [04:51<12:58, 12.58it/s]"
     ]
    },
    {
     "name": "stdout",
     "output_type": "stream",
     "text": [
      "flooding 1.8855184729982284\n",
      "change count 8713\n",
      "[[ 157  157  157 ...  754  754  756]\n",
      " [1124 1124 1124 ...  823  824  824]\n",
      " [ 597  598  606 ... 1411 1410 1411]\n",
      " [  10   10   10 ...   32   32   32]]\n",
      "writeback 0.05479720499715768\n"
     ]
    },
    {
     "name": "stderr",
     "output_type": "stream",
     "text": [
      " 56%|█████▌    | 12198/21901 [04:52<02:12, 73.37it/s]"
     ]
    },
    {
     "name": "stdout",
     "output_type": "stream",
     "text": [
      "classify_wide_narrow 0.0022873249981785193\n",
      "NARROW FOUND: 59232\n",
      "extract 2d locs 0.28653339599986793\n"
     ]
    },
    {
     "name": "stderr",
     "output_type": "stream",
     "text": [
      "\r",
      " 56%|█████▌    | 12208/21901 [04:54<13:07, 12.30it/s]"
     ]
    },
    {
     "name": "stdout",
     "output_type": "stream",
     "text": [
      "flooding 1.9355541959957918\n",
      "change count 7050\n",
      "[[ 156  156  156 ...  738  755  757]\n",
      " [1124 1124 1124 ...  800  823  823]\n",
      " [ 599  608  609 ... 1397 1412 1411]\n",
      " [  11   11   11 ...   32   33   33]]\n",
      "writeback 0.054063122006482445\n"
     ]
    },
    {
     "name": "stderr",
     "output_type": "stream",
     "text": [
      " 56%|█████▌    | 12299/21901 [04:55<02:11, 72.92it/s]"
     ]
    },
    {
     "name": "stdout",
     "output_type": "stream",
     "text": [
      "classify_wide_narrow 0.002340143000765238\n",
      "NARROW FOUND: 59275\n",
      "extract 2d locs 0.284322774001339\n"
     ]
    },
    {
     "name": "stderr",
     "output_type": "stream",
     "text": [
      "\r",
      " 56%|█████▌    | 12308/21901 [04:58<13:57, 11.45it/s]"
     ]
    },
    {
     "name": "stdout",
     "output_type": "stream",
     "text": [
      "flooding 1.8867310469941003\n",
      "change count 6947\n",
      "[[ 155  155  155 ...  754  755  755]\n",
      " [1124 1124 1124 ...  824  823  824]\n",
      " [ 601  602  610 ... 1413 1413 1413]\n",
      " [  12   12   12 ...   34   34   34]]\n",
      "writeback 0.05941467200318584\n"
     ]
    },
    {
     "name": "stderr",
     "output_type": "stream",
     "text": [
      " 57%|█████▋    | 12398/21901 [04:59<02:12, 71.70it/s]"
     ]
    },
    {
     "name": "stdout",
     "output_type": "stream",
     "text": [
      "classify_wide_narrow 0.0022829610024928115\n",
      "NARROW FOUND: 59445\n",
      "extract 2d locs 0.28739607500028796\n"
     ]
    },
    {
     "name": "stderr",
     "output_type": "stream",
     "text": [
      "\r",
      " 57%|█████▋    | 12407/21901 [05:01<13:50, 11.43it/s]"
     ]
    },
    {
     "name": "stdout",
     "output_type": "stream",
     "text": [
      "flooding 1.8801354780007387\n",
      "change count 7212\n",
      "[[ 154  154  154 ...  738  754  754]\n",
      " [1124 1124 1124 ...  800  823  824]\n",
      " [ 603  604  612 ... 1395 1414 1414]\n",
      " [  13   13   13 ...   34   35   35]]\n",
      "writeback 0.055391682995832525\n"
     ]
    },
    {
     "name": "stderr",
     "output_type": "stream",
     "text": [
      " 57%|█████▋    | 12497/21901 [05:02<02:15, 69.51it/s]"
     ]
    },
    {
     "name": "stdout",
     "output_type": "stream",
     "text": [
      "classify_wide_narrow 0.0024057379996520467\n",
      "NARROW FOUND: 59677\n",
      "extract 2d locs 0.2925762910017511\n"
     ]
    },
    {
     "name": "stderr",
     "output_type": "stream",
     "text": [
      "\r",
      " 57%|█████▋    | 12506/21901 [05:04<13:48, 11.34it/s]"
     ]
    },
    {
     "name": "stdout",
     "output_type": "stream",
     "text": [
      "flooding 1.8848393089938327\n",
      "change count 7687\n",
      "[[ 153  153  153 ...  737  738  753]\n",
      " [1124 1124 1124 ...  801  800  823]\n",
      " [ 605  606  614 ... 1394 1394 1415]\n",
      " [  14   14   14 ...   35   35   36]]\n",
      "writeback 0.055928746005520225\n"
     ]
    },
    {
     "name": "stderr",
     "output_type": "stream",
     "text": [
      " 58%|█████▊    | 12596/21901 [05:05<02:10, 71.14it/s]"
     ]
    },
    {
     "name": "stdout",
     "output_type": "stream",
     "text": [
      "classify_wide_narrow 0.0023109179965103976\n",
      "NARROW FOUND: 59822\n",
      "extract 2d locs 0.28860629300470464\n"
     ]
    },
    {
     "name": "stderr",
     "output_type": "stream",
     "text": [
      "\r",
      " 58%|█████▊    | 12605/21901 [05:08<13:46, 11.25it/s]"
     ]
    },
    {
     "name": "stdout",
     "output_type": "stream",
     "text": [
      "flooding 1.9163154880006914\n",
      "change count 7770\n",
      "[[ 152  152  152 ...  737  737  753]\n",
      " [1124 1124 1124 ...  800  801  823]\n",
      " [ 615  616  617 ... 1393 1393 1416]\n",
      " [  15   15   15 ...   36   36   37]]\n",
      "writeback 0.055683056998532265\n"
     ]
    },
    {
     "name": "stderr",
     "output_type": "stream",
     "text": [
      " 58%|█████▊    | 12693/21901 [05:09<02:17, 67.09it/s]"
     ]
    },
    {
     "name": "stdout",
     "output_type": "stream",
     "text": [
      "classify_wide_narrow 0.002387471999099944\n",
      "NARROW FOUND: 59884\n",
      "extract 2d locs 0.2926341349957511\n"
     ]
    },
    {
     "name": "stderr",
     "output_type": "stream",
     "text": [
      " 58%|█████▊    | 12710/21901 [05:11<10:45, 14.23it/s]"
     ]
    },
    {
     "name": "stdout",
     "output_type": "stream",
     "text": [
      "flooding 1.9436379210019368\n",
      "change count 7988\n",
      "[[ 151  151  151 ...  737  737  752]\n",
      " [1125 1125 1125 ...  800  801  824]\n",
      " [ 609  613  616 ... 1392 1392 1417]\n",
      " [  16   16   16 ...   37   37   38]]\n",
      "writeback 0.05911374200513819\n"
     ]
    },
    {
     "name": "stderr",
     "output_type": "stream",
     "text": [
      " 58%|█████▊    | 12793/21901 [05:12<02:20, 64.92it/s]"
     ]
    },
    {
     "name": "stdout",
     "output_type": "stream",
     "text": [
      "wiped count: 4\n",
      "classify_wide_narrow 0.0032938279982772656\n",
      "NARROW FOUND: 59890\n",
      "extract 2d locs 0.4223362039992935\n"
     ]
    },
    {
     "name": "stderr",
     "output_type": "stream",
     "text": [
      " 58%|█████▊    | 12809/21901 [05:15<12:25, 12.19it/s]"
     ]
    },
    {
     "name": "stdout",
     "output_type": "stream",
     "text": [
      "flooding 2.0947339150006883\n",
      "change count 7511\n",
      "[[ 150  150  150 ...  738  738  752]\n",
      " [1125 1125 1125 ...  796  799  824]\n",
      " [ 615  618  619 ... 1391 1391 1418]\n",
      " [  17   17   17 ...   38   38   39]]\n",
      "writeback 0.05883938699844293\n"
     ]
    },
    {
     "name": "stderr",
     "output_type": "stream",
     "text": [
      " 59%|█████▊    | 12835/21901 [05:16<05:16, 28.66it/s]"
     ]
    },
    {
     "name": "stdout",
     "output_type": "stream",
     "text": [
      "wiped count: 3\n",
      "wiped count: 3\n"
     ]
    },
    {
     "name": "stderr",
     "output_type": "stream",
     "text": [
      " 59%|█████▊    | 12852/21901 [05:16<03:38, 41.36it/s]"
     ]
    },
    {
     "name": "stdout",
     "output_type": "stream",
     "text": [
      "wiped count: 3\n"
     ]
    },
    {
     "name": "stderr",
     "output_type": "stream",
     "text": [
      " 59%|█████▉    | 12898/21901 [05:16<01:59, 75.14it/s]"
     ]
    },
    {
     "name": "stdout",
     "output_type": "stream",
     "text": [
      "classify_wide_narrow 0.002228958001069259\n",
      "NARROW FOUND: 59901\n",
      "extract 2d locs 0.2857162360014627\n"
     ]
    },
    {
     "name": "stderr",
     "output_type": "stream",
     "text": [
      "\r",
      " 59%|█████▉    | 12907/21901 [05:19<13:28, 11.13it/s]"
     ]
    },
    {
     "name": "stdout",
     "output_type": "stream",
     "text": [
      "flooding 2.0125003379944246\n",
      "change count 5026\n",
      "[[ 149  149  149 ...  738  752  753]\n",
      " [1125 1125 1125 ...  798  824  823]\n",
      " [ 654  682  689 ... 1390 1419 1419]\n",
      " [  18   18   18 ...   39   40   40]]\n",
      "writeback 0.05319334100204287\n"
     ]
    },
    {
     "name": "stderr",
     "output_type": "stream",
     "text": [
      " 59%|█████▉    | 12997/21901 [05:20<02:01, 73.31it/s]"
     ]
    },
    {
     "name": "stdout",
     "output_type": "stream",
     "text": [
      "classify_wide_narrow 0.002277619998494629\n",
      "NARROW FOUND: 60000\n",
      "extract 2d locs 0.2891085439987364\n"
     ]
    },
    {
     "name": "stderr",
     "output_type": "stream",
     "text": [
      "\r",
      " 59%|█████▉    | 13006/21901 [05:22<13:26, 11.03it/s]"
     ]
    },
    {
     "name": "stdout",
     "output_type": "stream",
     "text": [
      "flooding 1.952342533004412\n",
      "change count 4943\n",
      "[[ 148  148  148 ...  751  754  754]\n",
      " [1125 1126 1126 ...  824  824  824]\n",
      " [ 689  608  609 ... 1420 1419 1420]\n",
      " [  19   19   19 ...   41   41   41]]\n",
      "writeback 0.05353827100043418\n"
     ]
    },
    {
     "name": "stderr",
     "output_type": "stream",
     "text": [
      " 60%|█████▉    | 13094/21901 [05:23<02:09, 67.97it/s]"
     ]
    },
    {
     "name": "stdout",
     "output_type": "stream",
     "text": [
      "classify_wide_narrow 0.002269418000651058\n",
      "NARROW FOUND: 60265\n",
      "extract 2d locs 0.28823427900351817\n"
     ]
    },
    {
     "name": "stderr",
     "output_type": "stream",
     "text": [
      " 60%|█████▉    | 13112/21901 [05:26<09:49, 14.91it/s]"
     ]
    },
    {
     "name": "stdout",
     "output_type": "stream",
     "text": [
      "flooding 2.0587046180007746\n",
      "change count 4160\n",
      "[[ 147  147  147 ...  737  755  755]\n",
      " [1126 1126 1126 ...  800  823  824]\n",
      " [ 608  610  611 ... 1388 1421 1419]\n",
      " [  20   20   20 ...   41   42   42]]\n",
      "writeback 0.05674908199580386\n"
     ]
    },
    {
     "name": "stderr",
     "output_type": "stream",
     "text": [
      " 60%|██████    | 13197/21901 [05:27<02:29, 58.32it/s]"
     ]
    },
    {
     "name": "stdout",
     "output_type": "stream",
     "text": [
      "classify_wide_narrow 0.0035706920025404543\n",
      "NARROW FOUND: 60361\n",
      "extract 2d locs 0.41470978999859653\n"
     ]
    },
    {
     "name": "stderr",
     "output_type": "stream",
     "text": [
      "\r",
      " 60%|██████    | 13204/21901 [05:30<16:01,  9.04it/s]"
     ]
    },
    {
     "name": "stdout",
     "output_type": "stream",
     "text": [
      "flooding 2.0061592780039064\n",
      "change count 3498\n",
      "[[ 146  146  146 ...  756  756  756]\n",
      " [1126 1126 1126 ...  823  824  824]\n",
      " [ 610  612  621 ... 1421 1418 1421]\n",
      " [  21   21   21 ...   43   43   43]]\n",
      "writeback 0.055162421995191835\n"
     ]
    },
    {
     "name": "stderr",
     "output_type": "stream",
     "text": [
      " 61%|██████    | 13297/21901 [05:31<02:08, 66.93it/s]"
     ]
    },
    {
     "name": "stdout",
     "output_type": "stream",
     "text": [
      "classify_wide_narrow 0.002417872005025856\n",
      "NARROW FOUND: 60564\n",
      "extract 2d locs 0.3032883439955185\n"
     ]
    },
    {
     "name": "stderr",
     "output_type": "stream",
     "text": [
      "\r",
      " 61%|██████    | 13305/21901 [05:33<13:49, 10.36it/s]"
     ]
    },
    {
     "name": "stdout",
     "output_type": "stream",
     "text": [
      "flooding 1.8751205220032716\n",
      "change count 2784\n",
      "[[ 145  145  145 ...  756  757  757]\n",
      " [1126 1126 1126 ...  824  824  824]\n",
      " [ 612  613  614 ... 1417 1419 1420]\n",
      " [  22   22   22 ...   44   44   44]]\n",
      "writeback 0.054523742001038045\n"
     ]
    },
    {
     "name": "stderr",
     "output_type": "stream",
     "text": [
      " 61%|██████    | 13396/21901 [05:34<01:54, 73.99it/s]"
     ]
    },
    {
     "name": "stdout",
     "output_type": "stream",
     "text": [
      "classify_wide_narrow 0.00229065099847503\n",
      "NARROW FOUND: 60646\n",
      "extract 2d locs 0.29199807399709243\n"
     ]
    },
    {
     "name": "stderr",
     "output_type": "stream",
     "text": [
      "\r",
      " 61%|██████    | 13405/21901 [05:37<12:20, 11.48it/s]"
     ]
    },
    {
     "name": "stdout",
     "output_type": "stream",
     "text": [
      "flooding 1.8765135680005187\n",
      "change count 3061\n",
      "[[ 144  144  144 ...  755  756  756]\n",
      " [1126 1126 1126 ...  824  823  824]\n",
      " [ 613  615  640 ... 1424 1416 1424]\n",
      " [  23   23   23 ...   45   45   45]]\n",
      "writeback 0.05461096900398843\n"
     ]
    },
    {
     "name": "stderr",
     "output_type": "stream",
     "text": [
      " 62%|██████▏   | 13496/21901 [05:38<01:53, 73.94it/s]"
     ]
    },
    {
     "name": "stdout",
     "output_type": "stream",
     "text": [
      "classify_wide_narrow 0.0022450670003308915\n",
      "NARROW FOUND: 60739\n",
      "extract 2d locs 0.29341512500104727\n"
     ]
    },
    {
     "name": "stderr",
     "output_type": "stream",
     "text": [
      "\r",
      " 62%|██████▏   | 13505/21901 [05:40<12:11, 11.48it/s]"
     ]
    },
    {
     "name": "stdout",
     "output_type": "stream",
     "text": [
      "flooding 1.8755573899979936\n",
      "change count 3314\n",
      "[[ 143  143  143 ...  755  757  757]\n",
      " [1126 1126 1126 ...  823  823  824]\n",
      " [ 614  615  616 ... 1425 1425 1415]\n",
      " [  24   24   24 ...   46   46   46]]\n",
      "writeback 0.055698005999147426\n"
     ]
    },
    {
     "name": "stderr",
     "output_type": "stream",
     "text": [
      " 62%|██████▏   | 13595/21901 [05:41<01:53, 72.87it/s]"
     ]
    },
    {
     "name": "stdout",
     "output_type": "stream",
     "text": [
      "classify_wide_narrow 0.0023145399973145686\n",
      "NARROW FOUND: 61082\n",
      "extract 2d locs 0.2939566190034384\n"
     ]
    },
    {
     "name": "stderr",
     "output_type": "stream",
     "text": [
      "\r",
      " 62%|██████▏   | 13604/21901 [05:43<12:08, 11.39it/s]"
     ]
    },
    {
     "name": "stdout",
     "output_type": "stream",
     "text": [
      "flooding 1.885727009997936\n",
      "change count 4153\n",
      "[[ 142  142  142 ...  753  754  757]\n",
      " [1126 1126 1126 ...  823  824  824]\n",
      " [ 616  618  627 ... 1426 1426 1426]\n",
      " [  25   25   25 ...   47   47   47]]\n",
      "writeback 0.05588706900016405\n"
     ]
    },
    {
     "name": "stderr",
     "output_type": "stream",
     "text": [
      " 63%|██████▎   | 13694/21901 [05:44<01:52, 73.03it/s]"
     ]
    },
    {
     "name": "stdout",
     "output_type": "stream",
     "text": [
      "classify_wide_narrow 0.002312914999492932\n",
      "NARROW FOUND: 61312\n",
      "extract 2d locs 0.29277426300541265\n"
     ]
    },
    {
     "name": "stderr",
     "output_type": "stream",
     "text": [
      " 63%|██████▎   | 13712/21901 [05:47<09:30, 14.35it/s]"
     ]
    },
    {
     "name": "stdout",
     "output_type": "stream",
     "text": [
      "flooding 2.094874122994952\n",
      "change count 3491\n",
      "[[ 141  141  141 ...  737  738  756]\n",
      " [1126 1126 1126 ...  798  784  823]\n",
      " [ 627  628  629 ... 1382 1382 1427]\n",
      " [  26   26   26 ...   47   47   48]]\n",
      "writeback 0.056393402999674436\n"
     ]
    },
    {
     "name": "stderr",
     "output_type": "stream",
     "text": [
      " 63%|██████▎   | 13793/21901 [05:48<01:50, 73.25it/s]"
     ]
    },
    {
     "name": "stdout",
     "output_type": "stream",
     "text": [
      "classify_wide_narrow 0.002271599994855933\n",
      "NARROW FOUND: 61555\n",
      "extract 2d locs 0.3417047420007293\n"
     ]
    },
    {
     "name": "stderr",
     "output_type": "stream",
     "text": [
      "\r",
      " 63%|██████▎   | 13802/21901 [05:50<12:17, 10.99it/s]"
     ]
    },
    {
     "name": "stdout",
     "output_type": "stream",
     "text": [
      "flooding 1.929041560004407\n",
      "change count 5702\n",
      "[[ 140  140  140 ...  737  738  755]\n",
      " [1126 1126 1126 ...  798  784  824]\n",
      " [ 619  621  629 ... 1381 1381 1428]\n",
      " [  27   27   27 ...   48   48   49]]\n",
      "writeback 0.10068730299826711\n"
     ]
    },
    {
     "name": "stderr",
     "output_type": "stream",
     "text": [
      " 63%|██████▎   | 13892/21901 [05:52<02:05, 63.81it/s]"
     ]
    },
    {
     "name": "stdout",
     "output_type": "stream",
     "text": [
      "classify_wide_narrow 0.0023045109992381185\n",
      "NARROW FOUND: 61870\n",
      "extract 2d locs 0.2945004749999498\n"
     ]
    },
    {
     "name": "stderr",
     "output_type": "stream",
     "text": [
      " 64%|██████▎   | 13909/21901 [05:54<09:18, 14.31it/s]"
     ]
    },
    {
     "name": "stdout",
     "output_type": "stream",
     "text": [
      "flooding 1.9972979459998896\n",
      "change count 7751\n",
      "[[ 139  139  139 ...  754  754  756]\n",
      " [1126 1126 1126 ...  824  825  823]\n",
      " [ 620  622  630 ... 1428 1429 1429]\n",
      " [  28   28   28 ...   50   50   50]]\n",
      "writeback 0.055718767005600967\n"
     ]
    },
    {
     "name": "stderr",
     "output_type": "stream",
     "text": [
      " 64%|██████▎   | 13945/21901 [05:55<03:24, 39.00it/s]"
     ]
    },
    {
     "name": "stdout",
     "output_type": "stream",
     "text": [
      "wiped count: 2\n"
     ]
    },
    {
     "name": "stderr",
     "output_type": "stream",
     "text": [
      " 64%|██████▍   | 13998/21901 [05:55<01:50, 71.41it/s]"
     ]
    },
    {
     "name": "stdout",
     "output_type": "stream",
     "text": [
      "classify_wide_narrow 0.002289124000526499\n",
      "NARROW FOUND: 62069\n",
      "extract 2d locs 0.29514960500091547\n"
     ]
    },
    {
     "name": "stderr",
     "output_type": "stream",
     "text": [
      "\r",
      " 64%|██████▍   | 14007/21901 [05:58<12:12, 10.78it/s]"
     ]
    },
    {
     "name": "stdout",
     "output_type": "stream",
     "text": [
      "flooding 2.0034880329985754\n",
      "change count 11320\n",
      "[[ 138  138  138 ...  738  756  757]\n",
      " [1126 1126 1126 ...  797  823  823]\n",
      " [ 622  624  631 ... 1379 1430 1429]\n",
      " [  29   29   29 ...   50   51   51]]\n",
      "writeback 0.059248751000268385\n"
     ]
    },
    {
     "name": "stderr",
     "output_type": "stream",
     "text": [
      " 64%|██████▍   | 14048/21901 [05:58<03:29, 37.52it/s]"
     ]
    },
    {
     "name": "stdout",
     "output_type": "stream",
     "text": [
      "wiped count: 5\n",
      "wiped count: 2\n"
     ]
    },
    {
     "name": "stderr",
     "output_type": "stream",
     "text": [
      " 64%|██████▍   | 14093/21901 [05:59<01:53, 68.73it/s]"
     ]
    },
    {
     "name": "stdout",
     "output_type": "stream",
     "text": [
      "classify_wide_narrow 0.0023141909987316467\n",
      "NARROW FOUND: 62402\n",
      "extract 2d locs 0.29988963700452587\n"
     ]
    },
    {
     "name": "stderr",
     "output_type": "stream",
     "text": [
      " 64%|██████▍   | 14110/21901 [06:01<08:53, 14.59it/s]"
     ]
    },
    {
     "name": "stdout",
     "output_type": "stream",
     "text": [
      "flooding 1.912215896001726\n",
      "change count 11348\n",
      "[[ 137  137  137 ...  738  755  756]\n",
      " [1126 1126 1126 ...  797  824  824]\n",
      " [ 623  624  625 ... 1378 1431 1431]\n",
      " [  30   30   30 ...   51   52   52]]\n",
      "writeback 0.05578372099989792\n"
     ]
    },
    {
     "name": "stderr",
     "output_type": "stream",
     "text": [
      " 65%|██████▍   | 14169/21901 [06:02<02:15, 56.96it/s]"
     ]
    },
    {
     "name": "stdout",
     "output_type": "stream",
     "text": [
      "wiped count: 5\n"
     ]
    },
    {
     "name": "stderr",
     "output_type": "stream",
     "text": [
      " 65%|██████▍   | 14195/21901 [06:02<01:49, 70.69it/s]"
     ]
    },
    {
     "name": "stdout",
     "output_type": "stream",
     "text": [
      "classify_wide_narrow 0.0022872350018587895\n",
      "NARROW FOUND: 62617\n",
      "extract 2d locs 0.2973300380035653\n"
     ]
    },
    {
     "name": "stderr",
     "output_type": "stream",
     "text": [
      "\r",
      " 65%|██████▍   | 14203/21901 [06:05<12:23, 10.35it/s]"
     ]
    },
    {
     "name": "stdout",
     "output_type": "stream",
     "text": [
      "flooding 1.9692277289941558\n",
      "change count 11414\n",
      "[[ 136  136  136 ...  757  757  758]\n",
      " [1126 1126 1126 ...  823  825  823]\n",
      " [ 624  626  633 ... 1432 1431 1353]\n",
      " [  31   31   31 ...   53   53   21]]\n",
      "writeback 0.056257789001392666\n"
     ]
    },
    {
     "name": "stderr",
     "output_type": "stream",
     "text": [
      " 65%|██████▌   | 14266/21901 [06:06<02:21, 53.87it/s]"
     ]
    },
    {
     "name": "stdout",
     "output_type": "stream",
     "text": [
      "wiped count: 2\n"
     ]
    },
    {
     "name": "stderr",
     "output_type": "stream",
     "text": [
      " 65%|██████▌   | 14293/21901 [06:06<01:48, 70.09it/s]"
     ]
    },
    {
     "name": "stdout",
     "output_type": "stream",
     "text": [
      "classify_wide_narrow 0.0023573900034534745\n",
      "NARROW FOUND: 62751\n",
      "extract 2d locs 0.31764623199705966\n"
     ]
    },
    {
     "name": "stderr",
     "output_type": "stream",
     "text": [
      " 65%|██████▌   | 14310/21901 [06:08<08:57, 14.13it/s]"
     ]
    },
    {
     "name": "stdout",
     "output_type": "stream",
     "text": [
      "flooding 1.992774897000345\n",
      "change count 12651\n",
      "[[ 135  135  135 ...  756  757  759]\n",
      " [1126 1126 1126 ...  826  822  824]\n",
      " [ 625  626  627 ... 1351 1375 1353]\n",
      " [  32   32   32 ...   19   20   22]]\n",
      "writeback 0.057970214998931624\n"
     ]
    },
    {
     "name": "stderr",
     "output_type": "stream",
     "text": [
      " 66%|██████▌   | 14399/21901 [06:10<01:41, 73.62it/s]"
     ]
    },
    {
     "name": "stdout",
     "output_type": "stream",
     "text": [
      "classify_wide_narrow 0.002298993000295013\n",
      "NARROW FOUND: 63017\n",
      "extract 2d locs 0.3031905719981296\n"
     ]
    },
    {
     "name": "stderr",
     "output_type": "stream",
     "text": [
      "\r",
      " 66%|██████▌   | 14408/21901 [06:12<11:20, 11.01it/s]"
     ]
    },
    {
     "name": "stdout",
     "output_type": "stream",
     "text": [
      "flooding 1.9707857300018077\n",
      "change count 15618\n",
      "[[ 134  134  134 ...  756  756  757]\n",
      " [1125 1125 1125 ...  825  825  824]\n",
      " [ 635  636  637 ... 1360 1432 1363]\n",
      " [  33   33   33 ...   19   53   20]]\n",
      "writeback 0.0570363320002798\n"
     ]
    },
    {
     "name": "stderr",
     "output_type": "stream",
     "text": [
      " 66%|██████▌   | 14463/21901 [06:13<02:32, 48.73it/s]"
     ]
    },
    {
     "name": "stdout",
     "output_type": "stream",
     "text": [
      "wiped count: 2\n",
      "wiped count: 1\n",
      "wiped count: 1\n"
     ]
    },
    {
     "name": "stderr",
     "output_type": "stream",
     "text": [
      " 66%|██████▌   | 14493/21901 [06:13<01:43, 71.57it/s]"
     ]
    },
    {
     "name": "stdout",
     "output_type": "stream",
     "text": [
      "classify_wide_narrow 0.0022755320023861714\n",
      "NARROW FOUND: 63322\n",
      "extract 2d locs 0.30233963100181427\n"
     ]
    },
    {
     "name": "stderr",
     "output_type": "stream",
     "text": [
      " 66%|██████▋   | 14512/21901 [06:15<07:46, 15.83it/s]"
     ]
    },
    {
     "name": "stdout",
     "output_type": "stream",
     "text": [
      "flooding 1.9789271530025871\n",
      "change count 14011\n",
      "[[ 133  133  133 ...  755  755  756]\n",
      " [1124 1124 1124 ...  825  826  823]\n",
      " [ 634  635  643 ... 1433 1433 1403]\n",
      " [  34   34   34 ...   54   54   23]]\n",
      "writeback 0.05714008499489864\n"
     ]
    },
    {
     "name": "stderr",
     "output_type": "stream",
     "text": [
      " 66%|██████▋   | 14552/21901 [06:16<02:46, 44.10it/s]"
     ]
    },
    {
     "name": "stdout",
     "output_type": "stream",
     "text": [
      "wiped count: 1\n"
     ]
    },
    {
     "name": "stderr",
     "output_type": "stream",
     "text": [
      " 67%|██████▋   | 14593/21901 [06:16<01:36, 75.63it/s]"
     ]
    },
    {
     "name": "stdout",
     "output_type": "stream",
     "text": [
      "classify_wide_narrow 0.002272536999953445\n",
      "NARROW FOUND: 63383\n",
      "extract 2d locs 0.30255585300619714\n"
     ]
    },
    {
     "name": "stderr",
     "output_type": "stream",
     "text": [
      "\r",
      " 67%|██████▋   | 14603/21901 [06:19<09:55, 12.26it/s]"
     ]
    },
    {
     "name": "stdout",
     "output_type": "stream",
     "text": [
      "flooding 1.9630864629943972\n",
      "change count 13179\n",
      "[[ 132  132  132 ...  756  756  756]\n",
      " [1124 1124 1124 ...  823  823  825]\n",
      " [ 634  636  644 ... 1403 1408 1434]\n",
      " [  35   35   35 ...   21   24   55]]\n",
      "writeback 0.05912271400302416\n"
     ]
    },
    {
     "name": "stderr",
     "output_type": "stream",
     "text": [
      " 67%|██████▋   | 14652/21901 [06:19<02:44, 44.02it/s]"
     ]
    },
    {
     "name": "stdout",
     "output_type": "stream",
     "text": [
      "wiped count: 4\n"
     ]
    },
    {
     "name": "stderr",
     "output_type": "stream",
     "text": [
      " 67%|██████▋   | 14696/21901 [06:20<01:30, 79.44it/s]"
     ]
    },
    {
     "name": "stdout",
     "output_type": "stream",
     "text": [
      "wiped count: 1\n",
      "wiped count: 1\n",
      "classify_wide_narrow 0.002279783999256324\n",
      "NARROW FOUND: 63551\n",
      "extract 2d locs 0.3108764130010968\n"
     ]
    },
    {
     "name": "stderr",
     "output_type": "stream",
     "text": [
      "\r",
      " 67%|██████▋   | 14706/21901 [06:22<09:21, 12.82it/s]"
     ]
    },
    {
     "name": "stdout",
     "output_type": "stream",
     "text": [
      "flooding 1.9495535800015205\n",
      "change count 11813\n",
      "[[ 131  131  131 ...  756  756  757]\n",
      " [1124 1124 1124 ...  823  824  824]\n",
      " [ 635  637  644 ... 1409 1409 1434]\n",
      " [  36   36   36 ...   25   25   56]]\n",
      "writeback 0.05826137099938933\n"
     ]
    },
    {
     "name": "stderr",
     "output_type": "stream",
     "text": [
      " 67%|██████▋   | 14780/21901 [06:23<01:51, 63.61it/s]"
     ]
    },
    {
     "name": "stdout",
     "output_type": "stream",
     "text": [
      "wiped count: 1\n"
     ]
    },
    {
     "name": "stderr",
     "output_type": "stream",
     "text": [
      "\r",
      " 68%|██████▊   | 14790/21901 [06:23<01:41, 70.20it/s]"
     ]
    },
    {
     "name": "stdout",
     "output_type": "stream",
     "text": [
      "classify_wide_narrow 0.0024866480016498826\n",
      "NARROW FOUND: 63614\n",
      "extract 2d locs 0.32188724499428645\n"
     ]
    },
    {
     "name": "stderr",
     "output_type": "stream",
     "text": [
      " 68%|██████▊   | 14810/21901 [06:26<07:21, 16.05it/s]"
     ]
    },
    {
     "name": "stdout",
     "output_type": "stream",
     "text": [
      "flooding 2.0197834390055505\n",
      "change count 8617\n",
      "[[ 130  130  130 ...  756  756  756]\n",
      " [1124 1124 1124 ...  823  823  824]\n",
      " [ 636  638  646 ... 1395 1434 1395]\n",
      " [  37   37   37 ...   19   57   19]]\n",
      "writeback 0.05763868899521185\n"
     ]
    },
    {
     "name": "stderr",
     "output_type": "stream",
     "text": [
      " 68%|██████▊   | 14860/21901 [06:26<02:14, 52.27it/s]"
     ]
    },
    {
     "name": "stdout",
     "output_type": "stream",
     "text": [
      "wiped count: 1\n"
     ]
    },
    {
     "name": "stderr",
     "output_type": "stream",
     "text": [
      " 68%|██████▊   | 14890/21901 [06:26<01:35, 73.37it/s]"
     ]
    },
    {
     "name": "stdout",
     "output_type": "stream",
     "text": [
      "wiped count: 1\n",
      "classify_wide_narrow 0.0022657689987681806\n",
      "NARROW FOUND: 63801\n",
      "extract 2d locs 0.30246773100225255\n"
     ]
    },
    {
     "name": "stderr",
     "output_type": "stream",
     "text": [
      " 68%|██████▊   | 14910/21901 [06:29<07:10, 16.24it/s]"
     ]
    },
    {
     "name": "stdout",
     "output_type": "stream",
     "text": [
      "flooding 1.9999780950020067\n",
      "change count 8358\n",
      "[[ 129  129  129 ...  755  756  756]\n",
      " [1124 1124 1124 ...  823  824  824]\n",
      " [ 637  639  640 ... 1435 1396 1411]\n",
      " [  38   38   38 ...   58   20   27]]\n",
      "writeback 0.05739202800032217\n",
      "wiped count: 1\n",
      "wiped count: 1\n"
     ]
    },
    {
     "name": "stderr",
     "output_type": "stream",
     "text": [
      " 68%|██████▊   | 14940/21901 [06:29<03:15, 35.60it/s]"
     ]
    },
    {
     "name": "stdout",
     "output_type": "stream",
     "text": [
      "wiped count: 2\n"
     ]
    },
    {
     "name": "stderr",
     "output_type": "stream",
     "text": [
      " 68%|██████▊   | 14958/21901 [06:30<02:18, 50.18it/s]"
     ]
    },
    {
     "name": "stdout",
     "output_type": "stream",
     "text": [
      "wiped count: 2\n",
      "wiped count: 1\n"
     ]
    },
    {
     "name": "stderr",
     "output_type": "stream",
     "text": [
      " 68%|██████▊   | 14998/21901 [06:30<01:29, 77.24it/s]"
     ]
    },
    {
     "name": "stdout",
     "output_type": "stream",
     "text": [
      "wiped count: 2\n",
      "classify_wide_narrow 0.0023947599984239787\n",
      "NARROW FOUND: 63924\n",
      "extract 2d locs 0.32263883099949453\n"
     ]
    },
    {
     "name": "stderr",
     "output_type": "stream",
     "text": [
      "\r",
      " 69%|██████▊   | 15008/21901 [06:32<09:55, 11.57it/s]"
     ]
    },
    {
     "name": "stdout",
     "output_type": "stream",
     "text": [
      "flooding 2.0656662800029153\n",
      "change count 6915\n",
      "[[ 128  128  128 ...  755  756  757]\n",
      " [1124 1124 1124 ...  824  823  823]\n",
      " [ 638  648  655 ... 1406 1412 1411]\n",
      " [  39   39   39 ...   20   28   28]]\n",
      "writeback 0.05712753500120016\n",
      "wiped count: 2\n"
     ]
    },
    {
     "name": "stderr",
     "output_type": "stream",
     "text": [
      " 69%|██████▊   | 15036/21901 [06:33<04:21, 26.27it/s]"
     ]
    },
    {
     "name": "stdout",
     "output_type": "stream",
     "text": [
      "wiped count: 1\n"
     ]
    },
    {
     "name": "stderr",
     "output_type": "stream",
     "text": [
      " 69%|██████▉   | 15099/21901 [06:34<01:34, 71.69it/s]"
     ]
    },
    {
     "name": "stdout",
     "output_type": "stream",
     "text": [
      "classify_wide_narrow 0.0026899209988187067\n",
      "NARROW FOUND: 63940\n",
      "extract 2d locs 0.3096383899974171\n"
     ]
    },
    {
     "name": "stderr",
     "output_type": "stream",
     "text": [
      "\r",
      " 69%|██████▉   | 15108/21901 [06:36<10:39, 10.61it/s]"
     ]
    },
    {
     "name": "stdout",
     "output_type": "stream",
     "text": [
      "flooding 2.065073695004685\n",
      "change count 6483\n",
      "[[ 118  119  121 ...  755  755  755]\n",
      " [ 822  822  823 ...  823  824  824]\n",
      " [ 677  674  673 ... 1413 1407 1413]\n",
      " [  41   40   38 ...   29   21   29]]\n",
      "writeback 0.05752118300006259\n"
     ]
    },
    {
     "name": "stderr",
     "output_type": "stream",
     "text": [
      " 69%|██████▉   | 15198/21901 [06:37<01:34, 70.67it/s]"
     ]
    },
    {
     "name": "stdout",
     "output_type": "stream",
     "text": [
      "classify_wide_narrow 0.0024652680003782734\n",
      "NARROW FOUND: 63941\n",
      "extract 2d locs 0.32563324700458907\n"
     ]
    },
    {
     "name": "stderr",
     "output_type": "stream",
     "text": [
      "\r",
      " 69%|██████▉   | 15207/21901 [06:40<10:36, 10.52it/s]"
     ]
    },
    {
     "name": "stdout",
     "output_type": "stream",
     "text": [
      "flooding 2.0644875729994965\n",
      "change count 7238\n",
      "[[ 114  115  115 ...  754  755  756]\n",
      " [ 822  822  823 ...  824  823  823]\n",
      " [ 672  666  669 ... 1414 1414 1408]\n",
      " [  45   44   44 ...   30   30   22]]\n",
      "writeback 0.0576031799937482\n"
     ]
    },
    {
     "name": "stderr",
     "output_type": "stream",
     "text": [
      " 70%|██████▉   | 15296/21901 [06:41<01:36, 68.16it/s]"
     ]
    },
    {
     "name": "stdout",
     "output_type": "stream",
     "text": [
      "classify_wide_narrow 0.0023139650002121925\n",
      "NARROW FOUND: 63932\n",
      "extract 2d locs 0.3097007659962401\n"
     ]
    },
    {
     "name": "stderr",
     "output_type": "stream",
     "text": [
      "\r",
      " 70%|██████▉   | 15305/21901 [06:43<10:35, 10.38it/s]"
     ]
    },
    {
     "name": "stdout",
     "output_type": "stream",
     "text": [
      "flooding 2.0610569330019644\n",
      "change count 6337\n",
      "[[ 114  114  114 ...  755  756  756]\n",
      " [ 822  822  822 ...  822  823  824]\n",
      " [ 654  660  662 ... 1409 1409 1409]\n",
      " [  45   45   45 ...   23   23   23]]\n",
      "writeback 0.057653750001918525\n"
     ]
    },
    {
     "name": "stderr",
     "output_type": "stream",
     "text": [
      " 70%|███████   | 15395/21901 [06:44<01:36, 67.76it/s]"
     ]
    },
    {
     "name": "stdout",
     "output_type": "stream",
     "text": [
      "wiped count: 2\n",
      "classify_wide_narrow 0.0022191720054252073\n",
      "NARROW FOUND: 63936\n",
      "extract 2d locs 0.3028447929973481\n"
     ]
    },
    {
     "name": "stderr",
     "output_type": "stream",
     "text": [
      " 70%|███████   | 15411/21901 [06:47<07:52, 13.74it/s]"
     ]
    },
    {
     "name": "stdout",
     "output_type": "stream",
     "text": [
      "flooding 2.0240764310001396\n",
      "change count 4856\n",
      "[[ 113  113  113 ...  755  755  755]\n",
      " [ 823  823  823 ...  824  824  825]\n",
      " [ 635  637  638 ... 1405 1406 1410]\n",
      " [  46   46   46 ...   18   18   24]]\n",
      "writeback 0.05769800899724942\n"
     ]
    },
    {
     "name": "stderr",
     "output_type": "stream",
     "text": [
      " 71%|███████   | 15493/21901 [06:48<01:32, 69.06it/s]"
     ]
    },
    {
     "name": "stdout",
     "output_type": "stream",
     "text": [
      "classify_wide_narrow 0.002290555006766226\n",
      "NARROW FOUND: 63931\n",
      "extract 2d locs 0.3086142469983315\n"
     ]
    },
    {
     "name": "stderr",
     "output_type": "stream",
     "text": [
      " 71%|███████   | 15510/21901 [06:51<07:49, 13.61it/s]"
     ]
    },
    {
     "name": "stdout",
     "output_type": "stream",
     "text": [
      "flooding 2.006706109001243\n",
      "change count 4309\n",
      "[[ 112  113  113 ...  756  756  756]\n",
      " [ 823  823  823 ...  824  824  824]\n",
      " [ 634  630  633 ... 1398 1399 1411]\n",
      " [  47   46   46 ...   19   19   25]]\n",
      "writeback 0.05809315999795217\n"
     ]
    },
    {
     "name": "stderr",
     "output_type": "stream",
     "text": [
      " 71%|███████   | 15551/21901 [06:51<02:24, 43.91it/s]"
     ]
    },
    {
     "name": "stdout",
     "output_type": "stream",
     "text": [
      "wiped count: 2\n"
     ]
    },
    {
     "name": "stderr",
     "output_type": "stream",
     "text": [
      " 71%|███████   | 15599/21901 [06:52<01:28, 71.35it/s]"
     ]
    },
    {
     "name": "stdout",
     "output_type": "stream",
     "text": [
      "classify_wide_narrow 0.002365795000514481\n",
      "NARROW FOUND: 63929\n",
      "extract 2d locs 0.3088083620023099\n"
     ]
    },
    {
     "name": "stderr",
     "output_type": "stream",
     "text": [
      "\r",
      " 71%|███████▏  | 15607/21901 [06:54<10:42,  9.80it/s]"
     ]
    },
    {
     "name": "stdout",
     "output_type": "stream",
     "text": [
      "flooding 1.9976544339951943\n",
      "change count 3863\n",
      "[[ 113  114  114 ...  756  756  757]\n",
      " [ 823  822  822 ...  823  823  823]\n",
      " [ 628  627  628 ... 1408 1412 1411]\n",
      " [  46   45   45 ...   20   26   26]]\n",
      "writeback 0.05697599500126671\n"
     ]
    },
    {
     "name": "stderr",
     "output_type": "stream",
     "text": [
      " 71%|███████▏  | 15631/21901 [06:55<04:32, 22.99it/s]"
     ]
    },
    {
     "name": "stdout",
     "output_type": "stream",
     "text": [
      "wiped count: 2\n"
     ]
    },
    {
     "name": "stderr",
     "output_type": "stream",
     "text": [
      " 72%|███████▏  | 15691/21901 [06:55<01:30, 68.35it/s]"
     ]
    },
    {
     "name": "stdout",
     "output_type": "stream",
     "text": [
      "classify_wide_narrow 0.0022696180021739565\n",
      "NARROW FOUND: 64064\n",
      "extract 2d locs 0.3102999509937945\n"
     ]
    },
    {
     "name": "stderr",
     "output_type": "stream",
     "text": [
      " 72%|███████▏  | 15709/21901 [06:58<07:21, 14.04it/s]"
     ]
    },
    {
     "name": "stdout",
     "output_type": "stream",
     "text": [
      "flooding 2.0732773760028067\n",
      "change count 5600\n",
      "[[ 113  114  114 ...  755  756  756]\n",
      " [ 821  821  821 ...  824  823  824]\n",
      " [ 668  662  663 ... 1413 1409 1409]\n",
      " [  46   45   45 ...   27   21   21]]\n",
      "writeback 0.05982300599862356\n"
     ]
    },
    {
     "name": "stderr",
     "output_type": "stream",
     "text": [
      " 72%|███████▏  | 15775/21901 [06:59<01:40, 61.12it/s]"
     ]
    },
    {
     "name": "stdout",
     "output_type": "stream",
     "text": [
      "wiped count: 5\n"
     ]
    },
    {
     "name": "stderr",
     "output_type": "stream",
     "text": [
      " 72%|███████▏  | 15799/21901 [06:59<01:25, 71.16it/s]"
     ]
    },
    {
     "name": "stdout",
     "output_type": "stream",
     "text": [
      "classify_wide_narrow 0.002458347000356298\n",
      "NARROW FOUND: 64071\n",
      "extract 2d locs 0.30784341099933954\n"
     ]
    },
    {
     "name": "stderr",
     "output_type": "stream",
     "text": [
      "\r",
      " 72%|███████▏  | 15807/21901 [07:02<10:37,  9.56it/s]"
     ]
    },
    {
     "name": "stdout",
     "output_type": "stream",
     "text": [
      "flooding 2.0658393560006516\n",
      "change count 5333\n",
      "[[ 113  113  113 ...  755  755  755]\n",
      " [ 822  823  823 ...  823  823  825]\n",
      " [ 660  632  639 ... 1410 1414 1410]\n",
      " [  46   46   46 ...   22   28   22]]\n",
      "writeback 0.057029048999538645\n"
     ]
    },
    {
     "name": "stderr",
     "output_type": "stream",
     "text": [
      " 73%|███████▎  | 15895/21901 [07:03<01:27, 68.40it/s]"
     ]
    },
    {
     "name": "stdout",
     "output_type": "stream",
     "text": [
      "classify_wide_narrow 0.002420261000224855\n",
      "NARROW FOUND: 64064\n",
      "extract 2d locs 0.3256810829989263\n"
     ]
    },
    {
     "name": "stderr",
     "output_type": "stream",
     "text": [
      " 73%|███████▎  | 15911/21901 [07:05<07:46, 12.84it/s]"
     ]
    },
    {
     "name": "stdout",
     "output_type": "stream",
     "text": [
      "flooding 2.0644299359992146\n",
      "change count 4149\n",
      "[[ 113  113  113 ...  755  755  756]\n",
      " [ 823  823  823 ...  823  824  824]\n",
      " [ 621  624  626 ... 1421 1419 1411]\n",
      " [  46   46   46 ...   37   37   23]]\n",
      "writeback 0.056781949002470355\n"
     ]
    },
    {
     "name": "stderr",
     "output_type": "stream",
     "text": [
      " 73%|███████▎  | 15995/21901 [07:06<01:23, 70.41it/s]"
     ]
    },
    {
     "name": "stdout",
     "output_type": "stream",
     "text": [
      "classify_wide_narrow 0.002398254997387994\n",
      "NARROW FOUND: 64057\n",
      "extract 2d locs 0.3072862550034188\n"
     ]
    },
    {
     "name": "stderr",
     "output_type": "stream",
     "text": [
      "\r",
      " 73%|███████▎  | 16003/21901 [07:09<09:53,  9.93it/s]"
     ]
    },
    {
     "name": "stdout",
     "output_type": "stream",
     "text": [
      "flooding 2.071791734000726\n",
      "change count 4230\n",
      "[[ 113  113  114 ...  756  756  757]\n",
      " [ 823  824  824 ...  824  824  823]\n",
      " [ 631  626  618 ... 1418 1421 1411]\n",
      " [  46   46   45 ...   38   38   24]]\n",
      "writeback 0.05697277499712072\n"
     ]
    },
    {
     "name": "stderr",
     "output_type": "stream",
     "text": [
      " 73%|███████▎  | 16092/21901 [07:10<01:23, 69.19it/s]"
     ]
    },
    {
     "name": "stdout",
     "output_type": "stream",
     "text": [
      "classify_wide_narrow 0.0022557640040758997\n",
      "NARROW FOUND: 64053\n",
      "extract 2d locs 0.3151575179945212\n"
     ]
    },
    {
     "name": "stderr",
     "output_type": "stream",
     "text": [
      " 74%|███████▎  | 16110/21901 [07:13<06:45, 14.26it/s]"
     ]
    },
    {
     "name": "stdout",
     "output_type": "stream",
     "text": [
      "flooding 2.062708878002013\n",
      "change count 4893\n",
      "[[ 114  114  114 ...  756  757  757]\n",
      " [ 822  823  823 ...  824  824  824]\n",
      " [ 647  645  646 ... 1417 1419 1420]\n",
      " [  45   45   45 ...   39   39   39]]\n",
      "writeback 0.05766068000230007\n"
     ]
    },
    {
     "name": "stderr",
     "output_type": "stream",
     "text": [
      " 74%|███████▍  | 16193/21901 [07:14<01:17, 73.70it/s]"
     ]
    },
    {
     "name": "stdout",
     "output_type": "stream",
     "text": [
      "classify_wide_narrow 0.0022835300042061135\n",
      "NARROW FOUND: 64056\n",
      "extract 2d locs 0.3080354729972896\n"
     ]
    },
    {
     "name": "stderr",
     "output_type": "stream",
     "text": [
      " 74%|███████▍  | 16212/21901 [07:16<06:13, 15.24it/s]"
     ]
    },
    {
     "name": "stdout",
     "output_type": "stream",
     "text": [
      "flooding 2.061213264001708\n",
      "change count 4452\n",
      "[[ 113  114  114 ...  755  756  756]\n",
      " [ 824  824  824 ...  824  823  824]\n",
      " [ 645  614  615 ... 1424 1416 1424]\n",
      " [  46   45   45 ...   40   40   40]]\n",
      "writeback 0.05733019499893999\n"
     ]
    },
    {
     "name": "stderr",
     "output_type": "stream",
     "text": [
      " 74%|███████▍  | 16290/21901 [07:17<01:17, 72.35it/s]"
     ]
    },
    {
     "name": "stdout",
     "output_type": "stream",
     "text": [
      "classify_wide_narrow 0.002413501999399159\n",
      "NARROW FOUND: 64185\n",
      "extract 2d locs 0.31243931900098687\n"
     ]
    },
    {
     "name": "stderr",
     "output_type": "stream",
     "text": [
      " 74%|███████▍  | 16310/21901 [07:20<05:59, 15.57it/s]"
     ]
    },
    {
     "name": "stdout",
     "output_type": "stream",
     "text": [
      "flooding 2.0871787920041243\n",
      "change count 4390\n",
      "[[ 115  115  115 ...  755  757  757]\n",
      " [ 825  825  826 ...  824  823  824]\n",
      " [ 612  613  612 ... 1425 1425 1415]\n",
      " [  44   44   44 ...   41   41   41]]\n",
      "writeback 0.05812956299632788\n"
     ]
    },
    {
     "name": "stderr",
     "output_type": "stream",
     "text": [
      " 75%|███████▍  | 16390/21901 [07:21<01:12, 75.52it/s]"
     ]
    },
    {
     "name": "stdout",
     "output_type": "stream",
     "text": [
      "classify_wide_narrow 0.0024138789958669804\n",
      "NARROW FOUND: 64300\n",
      "extract 2d locs 0.3119984650038532\n"
     ]
    },
    {
     "name": "stderr",
     "output_type": "stream",
     "text": [
      " 75%|███████▍  | 16410/21901 [07:23<05:48, 15.76it/s]"
     ]
    },
    {
     "name": "stdout",
     "output_type": "stream",
     "text": [
      "flooding 2.087545513000805\n",
      "change count 6493\n",
      "[[ 114  114  114 ...  755  755  757]\n",
      " [1124 1124 1124 ...  822  823  824]\n",
      " [ 650  652  659 ... 1426 1426 1426]\n",
      " [  53   53   53 ...   42   42   42]]\n",
      "writeback 0.058840518999204505\n"
     ]
    },
    {
     "name": "stderr",
     "output_type": "stream",
     "text": [
      " 75%|███████▌  | 16496/21901 [07:24<01:09, 77.85it/s]"
     ]
    },
    {
     "name": "stdout",
     "output_type": "stream",
     "text": [
      "classify_wide_narrow 0.002334519005671609\n",
      "NARROW FOUND: 64304\n",
      "extract 2d locs 0.3116979359983816\n"
     ]
    },
    {
     "name": "stderr",
     "output_type": "stream",
     "text": [
      "\r",
      " 75%|███████▌  | 16506/21901 [07:27<07:22, 12.18it/s]"
     ]
    },
    {
     "name": "stdout",
     "output_type": "stream",
     "text": [
      "flooding 2.078899416999775\n",
      "change count 4530\n",
      "[[ 113  113  113 ...  755  755  756]\n",
      " [1124 1124 1124 ...  823  824  823]\n",
      " [ 651  653  659 ... 1421 1419 1427]\n",
      " [  54   54   54 ...   35   35   43]]\n",
      "writeback 0.058591093998984434\n"
     ]
    },
    {
     "name": "stderr",
     "output_type": "stream",
     "text": [
      " 76%|███████▌  | 16599/21901 [07:28<01:10, 75.71it/s]"
     ]
    },
    {
     "name": "stdout",
     "output_type": "stream",
     "text": [
      "wiped count: 1\n",
      "classify_wide_narrow 0.002278337997267954\n",
      "NARROW FOUND: 64358\n",
      "extract 2d locs 0.3102055350027513\n"
     ]
    },
    {
     "name": "stderr",
     "output_type": "stream",
     "text": [
      "\r",
      " 76%|███████▌  | 16609/21901 [07:30<07:31, 11.71it/s]"
     ]
    },
    {
     "name": "stdout",
     "output_type": "stream",
     "text": [
      "flooding 2.0776315569964936\n",
      "change count 5405\n",
      "[[ 112  112  112 ...  756  756  756]\n",
      " [1124 1124 1124 ...  823  824  824]\n",
      " [ 651  654  660 ... 1421 1418 1421]\n",
      " [  55   55   55 ...   36   36   36]]\n",
      "writeback 0.061395461998472456\n"
     ]
    },
    {
     "name": "stderr",
     "output_type": "stream",
     "text": [
      " 76%|███████▌  | 16698/21901 [07:31<01:08, 75.59it/s]"
     ]
    },
    {
     "name": "stdout",
     "output_type": "stream",
     "text": [
      "wiped count: 16\n",
      "classify_wide_narrow 0.002284823996888008\n",
      "NARROW FOUND: 64530\n",
      "extract 2d locs 0.32775860400579404\n"
     ]
    },
    {
     "name": "stderr",
     "output_type": "stream",
     "text": [
      "\r",
      " 76%|███████▋  | 16708/21901 [07:34<07:34, 11.43it/s]"
     ]
    },
    {
     "name": "stdout",
     "output_type": "stream",
     "text": [
      "flooding 2.113077378999151\n",
      "change count 5437\n",
      "[[ 111  111  111 ...  756  757  757]\n",
      " [1124 1124 1124 ...  824  824  824]\n",
      " [ 652  654  660 ... 1417 1419 1420]\n",
      " [  56   56   56 ...   37   37   37]]\n",
      "writeback 0.05774827699497109\n",
      "wiped count: 12\n"
     ]
    },
    {
     "name": "stderr",
     "output_type": "stream",
     "text": [
      " 76%|███████▋  | 16738/21901 [07:34<03:09, 27.28it/s]"
     ]
    },
    {
     "name": "stdout",
     "output_type": "stream",
     "text": [
      "wiped count: 4\n"
     ]
    },
    {
     "name": "stderr",
     "output_type": "stream",
     "text": [
      " 77%|███████▋  | 16790/21901 [07:35<01:14, 68.91it/s]"
     ]
    },
    {
     "name": "stdout",
     "output_type": "stream",
     "text": [
      "wiped count: 6\n",
      "classify_wide_narrow 0.0023547659948235378\n",
      "NARROW FOUND: 65119\n",
      "extract 2d locs 0.314294821000658\n"
     ]
    },
    {
     "name": "stderr",
     "output_type": "stream",
     "text": [
      " 77%|███████▋  | 16810/21901 [07:37<05:26, 15.58it/s]"
     ]
    },
    {
     "name": "stdout",
     "output_type": "stream",
     "text": [
      "flooding 2.111073550004221\n",
      "change count 9591\n",
      "[[ 110  110  110 ...  756  756  757]\n",
      " [1124 1124 1124 ...  823  824  823]\n",
      " [ 653  655  661 ... 1430 1424 1429]\n",
      " [  57   57   57 ...   46   38   46]]\n",
      "writeback 0.05855214799521491\n"
     ]
    },
    {
     "name": "stderr",
     "output_type": "stream",
     "text": [
      " 77%|███████▋  | 16893/21901 [07:38<01:08, 73.24it/s]"
     ]
    },
    {
     "name": "stdout",
     "output_type": "stream",
     "text": [
      "classify_wide_narrow 0.002575201004219707\n",
      "NARROW FOUND: 65395\n",
      "extract 2d locs 0.3224962959939148\n"
     ]
    },
    {
     "name": "stderr",
     "output_type": "stream",
     "text": [
      " 77%|███████▋  | 16911/21901 [07:41<05:51, 14.21it/s]"
     ]
    },
    {
     "name": "stdout",
     "output_type": "stream",
     "text": [
      "flooding 2.115278898003453\n",
      "change count 10667\n",
      "[[ 109  109  109 ...  756  757  757]\n",
      " [1124 1124 1124 ...  824  823  824]\n",
      " [ 652  656  662 ... 1431 1425 1415]\n",
      " [  58   58   58 ...   47   39   39]]\n",
      "writeback 0.058636795001802966\n"
     ]
    },
    {
     "name": "stderr",
     "output_type": "stream",
     "text": [
      " 78%|███████▊  | 16992/21901 [07:42<01:13, 66.76it/s]"
     ]
    },
    {
     "name": "stdout",
     "output_type": "stream",
     "text": [
      "classify_wide_narrow 0.0024441119967377745\n",
      "NARROW FOUND: 65704\n",
      "extract 2d locs 0.37443158300447976\n"
     ]
    },
    {
     "name": "stderr",
     "output_type": "stream",
     "text": [
      " 78%|███████▊  | 17009/21901 [07:45<06:18, 12.93it/s]"
     ]
    },
    {
     "name": "stdout",
     "output_type": "stream",
     "text": [
      "flooding 2.227057188996696\n",
      "change count 14747\n",
      "[[ 108  108  108 ...  757  757  757]\n",
      " [1124 1124 1124 ...  823  824  825]\n",
      " [ 653  654  656 ... 1432 1426 1431]\n",
      " [  59   59   59 ...   48   40   48]]\n",
      "writeback 0.05881674600095721\n"
     ]
    },
    {
     "name": "stderr",
     "output_type": "stream",
     "text": [
      " 78%|███████▊  | 17079/21901 [07:46<01:15, 63.57it/s]"
     ]
    },
    {
     "name": "stdout",
     "output_type": "stream",
     "text": [
      "wiped count: 1\n"
     ]
    },
    {
     "name": "stderr",
     "output_type": "stream",
     "text": [
      " 78%|███████▊  | 17097/21901 [07:46<01:06, 72.37it/s]"
     ]
    },
    {
     "name": "stdout",
     "output_type": "stream",
     "text": [
      "wiped count: 1\n",
      "classify_wide_narrow 0.002216291999502573\n",
      "NARROW FOUND: 66036\n",
      "extract 2d locs 0.3153799169958802\n"
     ]
    },
    {
     "name": "stderr",
     "output_type": "stream",
     "text": [
      "\r",
      " 78%|███████▊  | 17106/21901 [07:49<08:27,  9.45it/s]"
     ]
    },
    {
     "name": "stdout",
     "output_type": "stream",
     "text": [
      "flooding 2.353927370000747\n",
      "change count 17382\n",
      "[[ 107  107  107 ...  756  757  757]\n",
      " [1124 1124 1124 ...  824  824  824]\n",
      " [ 655  657  663 ... 1417 1419 1420]\n",
      " [  60   60   60 ...   35   35   35]]\n",
      "writeback 0.07526977000088664\n"
     ]
    },
    {
     "name": "stderr",
     "output_type": "stream",
     "text": [
      " 79%|███████▊  | 17198/21901 [07:50<01:05, 71.83it/s]"
     ]
    },
    {
     "name": "stdout",
     "output_type": "stream",
     "text": [
      "classify_wide_narrow 0.0022464010035037063\n",
      "NARROW FOUND: 66444\n",
      "extract 2d locs 0.31892896899807965\n"
     ]
    },
    {
     "name": "stderr",
     "output_type": "stream",
     "text": [
      "\r",
      " 79%|███████▊  | 17207/21901 [07:53<07:37, 10.26it/s]"
     ]
    },
    {
     "name": "stdout",
     "output_type": "stream",
     "text": [
      "flooding 2.112959794001654\n",
      "change count 17681\n",
      "[[ 106  106  106 ...  756  756  756]\n",
      " [1124 1124 1124 ...  823  824  825]\n",
      " [ 654  655  663 ... 1416 1424 1434]\n",
      " [  61   61   61 ...   36   36   50]]\n",
      "writeback 0.059637487000145484\n"
     ]
    },
    {
     "name": "stderr",
     "output_type": "stream",
     "text": [
      " 79%|███████▉  | 17297/21901 [07:54<01:04, 71.32it/s]"
     ]
    },
    {
     "name": "stdout",
     "output_type": "stream",
     "text": [
      "classify_wide_narrow 0.002317382997716777\n",
      "NARROW FOUND: 66765\n",
      "extract 2d locs 0.3212950980014284\n"
     ]
    },
    {
     "name": "stderr",
     "output_type": "stream",
     "text": [
      "\r",
      " 79%|███████▉  | 17306/21901 [07:56<07:12, 10.61it/s]"
     ]
    },
    {
     "name": "stdout",
     "output_type": "stream",
     "text": [
      "flooding 2.042384120999486\n",
      "change count 21056\n",
      "[[ 105  105  105 ...  757  757  757]\n",
      " [1124 1124 1124 ...  823  824  824]\n",
      " [ 656  658  661 ... 1425 1415 1434]\n",
      " [  62   62   62 ...   37   37   51]]\n",
      "writeback 0.061887133997515775\n"
     ]
    },
    {
     "name": "stderr",
     "output_type": "stream",
     "text": [
      " 79%|███████▉  | 17396/21901 [07:57<01:03, 71.20it/s]"
     ]
    },
    {
     "name": "stdout",
     "output_type": "stream",
     "text": [
      "classify_wide_narrow 0.0022655830034636892\n",
      "NARROW FOUND: 66911\n",
      "extract 2d locs 0.3212609379988862\n"
     ]
    },
    {
     "name": "stderr",
     "output_type": "stream",
     "text": [
      "\r",
      " 79%|███████▉  | 17405/21901 [08:00<07:27, 10.04it/s]"
     ]
    },
    {
     "name": "stdout",
     "output_type": "stream",
     "text": [
      "flooding 2.149021340002946\n",
      "change count 18836\n",
      "[[ 104  104  104 ...  756  757  757]\n",
      " [1124 1124 1124 ...  823  823  824]\n",
      " [ 655  665  666 ... 1434 1429 1426]\n",
      " [  63   63   63 ...   52   44   38]]\n",
      "writeback 0.07654479800112313\n"
     ]
    },
    {
     "name": "stderr",
     "output_type": "stream",
     "text": [
      " 80%|███████▉  | 17493/21901 [08:01<01:04, 68.52it/s]"
     ]
    },
    {
     "name": "stdout",
     "output_type": "stream",
     "text": [
      "classify_wide_narrow 0.002303458997630514\n",
      "NARROW FOUND: 67100\n",
      "extract 2d locs 0.3352665490019717\n"
     ]
    },
    {
     "name": "stderr",
     "output_type": "stream",
     "text": [
      " 80%|███████▉  | 17509/21901 [08:04<06:11, 11.81it/s]"
     ]
    },
    {
     "name": "stdout",
     "output_type": "stream",
     "text": [
      "flooding 2.319966299997759\n",
      "change count 19032\n",
      "[[ 103  103  103 ...  755  756  756]\n",
      " [1123 1124 1124 ...  824  823  824]\n",
      " [ 692  656  657 ... 1431 1427 1431]\n",
      " [  64   64   64 ...   45   39   45]]\n",
      "writeback 0.06524042000091868\n"
     ]
    },
    {
     "name": "stderr",
     "output_type": "stream",
     "text": [
      " 80%|████████  | 17597/21901 [08:05<01:01, 69.92it/s]"
     ]
    },
    {
     "name": "stdout",
     "output_type": "stream",
     "text": [
      "classify_wide_narrow 0.002329584000108298\n",
      "NARROW FOUND: 67154\n",
      "extract 2d locs 0.322415030997945\n"
     ]
    },
    {
     "name": "stderr",
     "output_type": "stream",
     "text": [
      "\r",
      " 80%|████████  | 17605/21901 [08:08<07:42,  9.28it/s]"
     ]
    },
    {
     "name": "stdout",
     "output_type": "stream",
     "text": [
      "flooding 2.1429128189993207\n",
      "change count 14365\n",
      "[[ 102  102  102 ...  756  757  757]\n",
      " [1123 1123 1124 ...  825  823  825]\n",
      " [ 668  694  660 ... 1432 1432 1431]\n",
      " [  65   65   65 ...   46   46   46]]\n",
      "writeback 0.06413466000230983\n"
     ]
    },
    {
     "name": "stderr",
     "output_type": "stream",
     "text": [
      " 81%|████████  | 17694/21901 [08:09<01:03, 66.58it/s]"
     ]
    },
    {
     "name": "stdout",
     "output_type": "stream",
     "text": [
      "wiped count: 2\n",
      "classify_wide_narrow 0.002279018997796811\n",
      "NARROW FOUND: 67193\n",
      "extract 2d locs 0.3384804330053157\n"
     ]
    },
    {
     "name": "stderr",
     "output_type": "stream",
     "text": [
      " 81%|████████  | 17710/21901 [08:12<05:51, 11.92it/s]"
     ]
    },
    {
     "name": "stdout",
     "output_type": "stream",
     "text": [
      "flooding 2.269723202996829\n",
      "change count 13574\n",
      "[[ 101  101  101 ...  755  755  756]\n",
      " [1123 1124 1124 ...  825  826  823]\n",
      " [ 661  658  665 ... 1433 1433 1429]\n",
      " [  66   66   66 ...   47   47   41]]\n",
      "writeback 0.06037350500264438\n"
     ]
    },
    {
     "name": "stderr",
     "output_type": "stream",
     "text": [
      " 81%|████████▏ | 17798/21901 [08:13<01:03, 64.78it/s]"
     ]
    },
    {
     "name": "stdout",
     "output_type": "stream",
     "text": [
      "classify_wide_narrow 0.0025069479961530305\n",
      "NARROW FOUND: 67262\n",
      "extract 2d locs 0.3414871220011264\n"
     ]
    },
    {
     "name": "stderr",
     "output_type": "stream",
     "text": [
      "\r",
      " 81%|████████▏ | 17806/21901 [08:16<07:20,  9.30it/s]"
     ]
    },
    {
     "name": "stdout",
     "output_type": "stream",
     "text": [
      "flooding 2.0643694570026128\n",
      "change count 13743\n",
      "[[ 100  100  100 ...  756  756  757]\n",
      " [1123 1123 1124 ...  823  825  823]\n",
      " [ 662  694  659 ... 1430 1434 1429]\n",
      " [  67   67   67 ...   42   48   42]]\n",
      "writeback 0.06112473500252236\n"
     ]
    },
    {
     "name": "stderr",
     "output_type": "stream",
     "text": [
      " 82%|████████▏ | 17854/21901 [08:16<01:37, 41.61it/s]"
     ]
    },
    {
     "name": "stdout",
     "output_type": "stream",
     "text": [
      "wiped count: 2\n"
     ]
    },
    {
     "name": "stderr",
     "output_type": "stream",
     "text": [
      " 82%|████████▏ | 17886/21901 [08:17<01:03, 63.59it/s]"
     ]
    },
    {
     "name": "stdout",
     "output_type": "stream",
     "text": [
      "wiped count: 2\n"
     ]
    },
    {
     "name": "stderr",
     "output_type": "stream",
     "text": [
      "\r",
      " 82%|████████▏ | 17894/21901 [08:17<01:00, 66.49it/s]"
     ]
    },
    {
     "name": "stdout",
     "output_type": "stream",
     "text": [
      "classify_wide_narrow 0.002380749996518716\n",
      "NARROW FOUND: 67383\n",
      "extract 2d locs 0.3435010309985955\n"
     ]
    },
    {
     "name": "stderr",
     "output_type": "stream",
     "text": [
      " 82%|████████▏ | 17910/21901 [08:20<05:17, 12.57it/s]"
     ]
    },
    {
     "name": "stdout",
     "output_type": "stream",
     "text": [
      "flooding 2.0850631480061566\n",
      "change count 13964\n",
      "[[  99   99   99 ...  755  756  757]\n",
      " [1123 1124 1124 ...  826  824  824]\n",
      " [ 695  659  666 ... 1435 1431 1434]\n",
      " [  68   68   68 ...   49   43   49]]\n",
      "writeback 0.0600425640004687\n"
     ]
    },
    {
     "name": "stderr",
     "output_type": "stream",
     "text": [
      " 82%|████████▏ | 17961/21901 [08:20<01:20, 48.65it/s]"
     ]
    },
    {
     "name": "stdout",
     "output_type": "stream",
     "text": [
      "wiped count: 2\n"
     ]
    },
    {
     "name": "stderr",
     "output_type": "stream",
     "text": [
      " 82%|████████▏ | 17996/21901 [08:21<01:01, 63.53it/s]"
     ]
    },
    {
     "name": "stdout",
     "output_type": "stream",
     "text": [
      "classify_wide_narrow 0.0024999620000016876\n",
      "NARROW FOUND: 67442\n",
      "extract 2d locs 0.33680039700266207\n"
     ]
    },
    {
     "name": "stderr",
     "output_type": "stream",
     "text": [
      "\r",
      " 82%|████████▏ | 18003/21901 [08:24<08:15,  7.87it/s]"
     ]
    },
    {
     "name": "stdout",
     "output_type": "stream",
     "text": [
      "flooding 2.2094005389953963\n",
      "change count 12279\n",
      "[[  98   98   98 ...  756  757  757]\n",
      " [1123 1124 1124 ...  825  823  825]\n",
      " [ 670  660  662 ... 1432 1432 1431]\n",
      " [  69   69   69 ...   44   44   44]]\n",
      "writeback 0.063166578001983\n"
     ]
    },
    {
     "name": "stderr",
     "output_type": "stream",
     "text": [
      " 83%|████████▎ | 18094/21901 [08:25<01:00, 62.69it/s]"
     ]
    },
    {
     "name": "stdout",
     "output_type": "stream",
     "text": [
      "classify_wide_narrow 0.002418310999928508\n",
      "NARROW FOUND: 67480\n",
      "extract 2d locs 0.33774827500019455\n"
     ]
    },
    {
     "name": "stderr",
     "output_type": "stream",
     "text": [
      " 83%|████████▎ | 18108/21901 [08:28<05:51, 10.79it/s]"
     ]
    },
    {
     "name": "stdout",
     "output_type": "stream",
     "text": [
      "flooding 2.155342889003805\n",
      "change count 8985\n",
      "[[  97   97   97 ...  755  755  755]\n",
      " [1124 1124 1124 ...  823  825  826]\n",
      " [ 660  668  669 ... 1435 1433 1433]\n",
      " [  70   70   70 ...   51   45   45]]\n",
      "writeback 0.06896246299584163\n"
     ]
    },
    {
     "name": "stderr",
     "output_type": "stream",
     "text": [
      " 83%|████████▎ | 18152/21901 [08:28<01:27, 42.85it/s]"
     ]
    },
    {
     "name": "stdout",
     "output_type": "stream",
     "text": [
      "wiped count: 2\n"
     ]
    },
    {
     "name": "stderr",
     "output_type": "stream",
     "text": [
      " 83%|████████▎ | 18192/21901 [08:29<00:57, 64.49it/s]"
     ]
    },
    {
     "name": "stdout",
     "output_type": "stream",
     "text": [
      "classify_wide_narrow 0.0028224009947734885\n",
      "NARROW FOUND: 67486\n",
      "extract 2d locs 0.3472659290055162\n"
     ]
    },
    {
     "name": "stderr",
     "output_type": "stream",
     "text": [
      " 83%|████████▎ | 18208/21901 [08:32<05:20, 11.52it/s]"
     ]
    },
    {
     "name": "stdout",
     "output_type": "stream",
     "text": [
      "flooding 2.312122825998813\n",
      "change count 7541\n",
      "[[  96   96   96 ...  738  755  756]\n",
      " [1123 1123 1123 ...  788  823  825]\n",
      " [ 671  694  695 ... 1357 1436 1434]\n",
      " [  71   71   71 ...   39   52   46]]\n",
      "writeback 0.06276212299417239\n"
     ]
    },
    {
     "name": "stderr",
     "output_type": "stream",
     "text": [
      " 83%|████████▎ | 18281/21901 [08:33<01:00, 60.32it/s]"
     ]
    },
    {
     "name": "stdout",
     "output_type": "stream",
     "text": [
      "wiped count: 9\n"
     ]
    },
    {
     "name": "stderr",
     "output_type": "stream",
     "text": [
      " 84%|████████▎ | 18295/21901 [08:33<00:56, 63.96it/s]"
     ]
    },
    {
     "name": "stdout",
     "output_type": "stream",
     "text": [
      "classify_wide_narrow 0.0023939960010466166\n",
      "NARROW FOUND: 67485\n",
      "extract 2d locs 0.3327395649976097\n"
     ]
    },
    {
     "name": "stderr",
     "output_type": "stream",
     "text": [
      " 84%|████████▎ | 18310/21901 [08:36<05:23, 11.09it/s]"
     ]
    },
    {
     "name": "stdout",
     "output_type": "stream",
     "text": [
      "flooding 2.2550206820014864\n",
      "change count 6291\n",
      "[[  95   95   95 ...  738  755  757]\n",
      " [1123 1123 1124 ...  787  826  824]\n",
      " [ 664  695  660 ... 1356 1435 1434]\n",
      " [  72   72   72 ...   40   47   47]]\n",
      "writeback 0.062080014002276585\n"
     ]
    },
    {
     "name": "stderr",
     "output_type": "stream",
     "text": [
      " 84%|████████▍ | 18374/21901 [08:37<01:03, 55.57it/s]"
     ]
    },
    {
     "name": "stdout",
     "output_type": "stream",
     "text": [
      "wiped count: 1\n"
     ]
    },
    {
     "name": "stderr",
     "output_type": "stream",
     "text": [
      " 84%|████████▍ | 18397/21901 [08:37<00:57, 60.99it/s]"
     ]
    },
    {
     "name": "stdout",
     "output_type": "stream",
     "text": [
      "classify_wide_narrow 0.0034002129978034645\n",
      "NARROW FOUND: 67482\n",
      "extract 2d locs 0.3831155840016436\n"
     ]
    },
    {
     "name": "stderr",
     "output_type": "stream",
     "text": [
      "\r",
      " 84%|████████▍ | 18404/21901 [08:40<07:01,  8.30it/s]"
     ]
    },
    {
     "name": "stdout",
     "output_type": "stream",
     "text": [
      "flooding 2.146805882002809\n",
      "change count 5839\n",
      "[[  94   94   94 ...  754  755  756]\n",
      " [1124 1124 1124 ...  825  826  823]\n",
      " [ 662  664  670 ... 1436 1436 1434]\n",
      " [  73   73   73 ...   48   48   48]]\n",
      "writeback 0.06302864199824398\n"
     ]
    },
    {
     "name": "stderr",
     "output_type": "stream",
     "text": [
      " 84%|████████▍ | 18492/21901 [08:41<00:53, 64.05it/s]"
     ]
    },
    {
     "name": "stdout",
     "output_type": "stream",
     "text": [
      "classify_wide_narrow 0.002351833005377557\n",
      "NARROW FOUND: 67488\n",
      "extract 2d locs 0.323431773998891\n"
     ]
    },
    {
     "name": "stderr",
     "output_type": "stream",
     "text": [
      " 85%|████████▍ | 18508/21901 [08:44<04:29, 12.60it/s]"
     ]
    },
    {
     "name": "stdout",
     "output_type": "stream",
     "text": [
      "flooding 2.0808277890027966\n",
      "change count 7708\n",
      "[[  93   93   93 ...  738  738  755]\n",
      " [1123 1123 1124 ...  785  786  823]\n",
      " [ 665  682  661 ... 1354 1354 1435]\n",
      " [  74   74   74 ...   42   42   49]]\n",
      "writeback 0.06038009399344446\n"
     ]
    },
    {
     "name": "stderr",
     "output_type": "stream",
     "text": [
      " 85%|████████▍ | 18596/21901 [08:45<00:50, 65.21it/s]"
     ]
    },
    {
     "name": "stdout",
     "output_type": "stream",
     "text": [
      "classify_wide_narrow 0.0024095460030366667\n",
      "NARROW FOUND: 67487\n",
      "extract 2d locs 0.3330846729950281\n"
     ]
    },
    {
     "name": "stderr",
     "output_type": "stream",
     "text": [
      "\r",
      " 85%|████████▍ | 18604/21901 [08:48<05:54,  9.29it/s]"
     ]
    },
    {
     "name": "stdout",
     "output_type": "stream",
     "text": [
      "flooding 2.0703738119991613\n",
      "change count 5448\n",
      "[[  92   92   92 ...  738  738  755]\n",
      " [1123 1124 1124 ...  783  785  823]\n",
      " [ 666  663  665 ... 1353 1353 1436]\n",
      " [  75   75   75 ...   43   43   50]]\n",
      "writeback 0.061552170001959894\n"
     ]
    },
    {
     "name": "stderr",
     "output_type": "stream",
     "text": [
      " 85%|████████▌ | 18692/21901 [08:49<00:49, 64.44it/s]"
     ]
    },
    {
     "name": "stdout",
     "output_type": "stream",
     "text": [
      "classify_wide_narrow 0.0023225120021379553\n",
      "NARROW FOUND: 67485\n",
      "extract 2d locs 0.32441455200023483\n"
     ]
    },
    {
     "name": "stderr",
     "output_type": "stream",
     "text": [
      " 85%|████████▌ | 18708/21901 [08:52<04:13, 12.60it/s]"
     ]
    },
    {
     "name": "stdout",
     "output_type": "stream",
     "text": [
      "flooding 2.076053722994402\n",
      "change count 4974\n",
      "[[  91   91   91 ...  738  738  738]\n",
      " [1123 1124 1124 ...  782  783  784]\n",
      " [ 694  662  663 ... 1332 1352 1352]\n",
      " [  76   76   76 ...   97   44   44]]\n",
      "writeback 0.06151119800051674\n"
     ]
    },
    {
     "name": "stderr",
     "output_type": "stream",
     "text": [
      " 86%|████████▌ | 18794/21901 [08:53<00:51, 60.35it/s]"
     ]
    },
    {
     "name": "stdout",
     "output_type": "stream",
     "text": [
      "wiped count: 1\n",
      "classify_wide_narrow 0.002440269003272988\n",
      "NARROW FOUND: 67507\n",
      "extract 2d locs 0.33281310799793573\n"
     ]
    },
    {
     "name": "stderr",
     "output_type": "stream",
     "text": [
      " 86%|████████▌ | 18809/21901 [08:56<04:23, 11.72it/s]"
     ]
    },
    {
     "name": "stdout",
     "output_type": "stream",
     "text": [
      "flooding 2.117105862002063\n",
      "change count 4468\n",
      "[[  90   90   90 ...  738  738  738]\n",
      " [1123 1124 1124 ...  783  784  788]\n",
      " [ 694  664  671 ... 1351 1351 1351]\n",
      " [  77   77   77 ...   45   45   45]]\n",
      "writeback 0.061425464002240915\n"
     ]
    },
    {
     "name": "stderr",
     "output_type": "stream",
     "text": [
      " 86%|████████▋ | 18895/21901 [08:57<00:45, 65.44it/s]"
     ]
    },
    {
     "name": "stdout",
     "output_type": "stream",
     "text": [
      "classify_wide_narrow 0.002407325999229215\n",
      "NARROW FOUND: 67582\n",
      "extract 2d locs 0.3275334310019389\n"
     ]
    },
    {
     "name": "stderr",
     "output_type": "stream",
     "text": [
      "\r",
      " 86%|████████▋ | 18903/21901 [08:59<05:25,  9.21it/s]"
     ]
    },
    {
     "name": "stdout",
     "output_type": "stream",
     "text": [
      "flooding 2.098556026998267\n",
      "change count 4065\n",
      "[[  89   89   89 ...  738  738  738]\n",
      " [1123 1123 1124 ...  783  783  784]\n",
      " [ 683  695  664 ... 1330 1350 1350]\n",
      " [  78   78   78 ...   99   46   46]]\n",
      "writeback 0.061019360000500455\n"
     ]
    },
    {
     "name": "stderr",
     "output_type": "stream",
     "text": [
      " 87%|████████▋ | 18975/21901 [09:00<00:52, 56.03it/s]"
     ]
    },
    {
     "name": "stdout",
     "output_type": "stream",
     "text": [
      "wiped count: 3\n"
     ]
    },
    {
     "name": "stderr",
     "output_type": "stream",
     "text": [
      " 87%|████████▋ | 18999/21901 [09:01<00:43, 66.41it/s]"
     ]
    },
    {
     "name": "stdout",
     "output_type": "stream",
     "text": [
      "classify_wide_narrow 0.0023071350005920976\n",
      "NARROW FOUND: 67672\n",
      "extract 2d locs 0.3306282779958565\n"
     ]
    },
    {
     "name": "stderr",
     "output_type": "stream",
     "text": [
      "\r",
      " 87%|████████▋ | 19007/21901 [09:03<05:11,  9.28it/s]"
     ]
    },
    {
     "name": "stdout",
     "output_type": "stream",
     "text": [
      "flooding 2.0919539740061737\n",
      "change count 6668\n",
      "[[  88   88   88 ...  738  738  738]\n",
      " [1123 1124 1124 ...  782  782  787]\n",
      " [ 693  673  681 ... 1329 1349 1349]\n",
      " [  79   79   79 ...  100   47   47]]\n",
      "writeback 0.06205375799618196\n"
     ]
    },
    {
     "name": "stderr",
     "output_type": "stream",
     "text": [
      " 87%|████████▋ | 19039/21901 [09:04<01:42, 27.81it/s]"
     ]
    },
    {
     "name": "stdout",
     "output_type": "stream",
     "text": [
      "wiped count: 2\n"
     ]
    },
    {
     "name": "stderr",
     "output_type": "stream",
     "text": [
      " 87%|████████▋ | 19063/21901 [09:04<00:59, 47.55it/s]"
     ]
    },
    {
     "name": "stdout",
     "output_type": "stream",
     "text": [
      "wiped count: 1\n"
     ]
    },
    {
     "name": "stderr",
     "output_type": "stream",
     "text": [
      " 87%|████████▋ | 19095/21901 [09:04<00:41, 67.27it/s]"
     ]
    },
    {
     "name": "stdout",
     "output_type": "stream",
     "text": [
      "classify_wide_narrow 0.0023753480054438114\n",
      "NARROW FOUND: 67710\n",
      "extract 2d locs 0.3367735799984075\n"
     ]
    },
    {
     "name": "stderr",
     "output_type": "stream",
     "text": [
      "\r",
      " 87%|████████▋ | 19103/21901 [09:07<05:04,  9.18it/s]"
     ]
    },
    {
     "name": "stdout",
     "output_type": "stream",
     "text": [
      "flooding 2.125207188000786\n",
      "change count 8522\n",
      "[[  87   87   87 ...  738  738  738]\n",
      " [1123 1123 1124 ...  782  782  786]\n",
      " [ 673  693  664 ... 1328 1348 1348]\n",
      " [  80   80   80 ...  101   48   48]]\n",
      "writeback 0.062246631998277735\n",
      "wiped count: 4\n"
     ]
    },
    {
     "name": "stderr",
     "output_type": "stream",
     "text": [
      " 87%|████████▋ | 19145/21901 [09:08<01:19, 34.82it/s]"
     ]
    },
    {
     "name": "stdout",
     "output_type": "stream",
     "text": [
      "wiped count: 3\n"
     ]
    },
    {
     "name": "stderr",
     "output_type": "stream",
     "text": [
      " 88%|████████▊ | 19193/21901 [09:08<00:40, 67.52it/s]"
     ]
    },
    {
     "name": "stdout",
     "output_type": "stream",
     "text": [
      "wiped count: 4\n",
      "classify_wide_narrow 0.0024774399935267866\n",
      "NARROW FOUND: 67817\n",
      "extract 2d locs 0.3411288780043833\n"
     ]
    },
    {
     "name": "stderr",
     "output_type": "stream",
     "text": [
      " 88%|████████▊ | 19209/21901 [09:11<03:43, 12.04it/s]"
     ]
    },
    {
     "name": "stdout",
     "output_type": "stream",
     "text": [
      "flooding 2.233298373997968\n",
      "change count 9534\n",
      "[[  86   86   86 ...  738  738  738]\n",
      " [1123 1124 1124 ...  783  784  786]\n",
      " [ 693  672  673 ... 1327 1347 1347]\n",
      " [  81   81   81 ...  102   49   49]]\n",
      "writeback 0.06572992300061742\n"
     ]
    },
    {
     "name": "stderr",
     "output_type": "stream",
     "text": [
      " 88%|████████▊ | 19273/21901 [09:12<00:45, 57.62it/s]"
     ]
    },
    {
     "name": "stdout",
     "output_type": "stream",
     "text": [
      "wiped count: 3\n"
     ]
    },
    {
     "name": "stderr",
     "output_type": "stream",
     "text": [
      " 88%|████████▊ | 19297/21901 [09:12<00:37, 68.66it/s]"
     ]
    },
    {
     "name": "stdout",
     "output_type": "stream",
     "text": [
      "classify_wide_narrow 0.0023034879995975643\n",
      "NARROW FOUND: 67917\n",
      "extract 2d locs 0.33916948000114644\n"
     ]
    },
    {
     "name": "stderr",
     "output_type": "stream",
     "text": [
      "\r",
      " 88%|████████▊ | 19305/21901 [09:15<04:49,  8.97it/s]"
     ]
    },
    {
     "name": "stdout",
     "output_type": "stream",
     "text": [
      "flooding 2.181140957000025\n",
      "change count 7837\n",
      "[[  85   85   85 ...  738  738  738]\n",
      " [1123 1124 1124 ...  781  782  785]\n",
      " [ 673  666  673 ... 1326 1326 1346]\n",
      " [  82   82   82 ...  103  103   50]]\n",
      "writeback 0.07005700700392481\n"
     ]
    },
    {
     "name": "stderr",
     "output_type": "stream",
     "text": [
      " 89%|████████▊ | 19393/21901 [09:16<00:39, 64.28it/s]"
     ]
    },
    {
     "name": "stdout",
     "output_type": "stream",
     "text": [
      "classify_wide_narrow 0.002420261000224855\n",
      "NARROW FOUND: 68135\n",
      "extract 2d locs 0.3420907109975815\n"
     ]
    },
    {
     "name": "stderr",
     "output_type": "stream",
     "text": [
      " 89%|████████▊ | 19409/21901 [09:19<03:27, 12.03it/s]"
     ]
    },
    {
     "name": "stdout",
     "output_type": "stream",
     "text": [
      "flooding 2.213415452002664\n",
      "change count 7594\n",
      "[[  84   84   84 ...  738  738  738]\n",
      " [1123 1123 1123 ...  781  782  784]\n",
      " [ 674  687  695 ... 1325 1325 1345]\n",
      " [  83   83   83 ...  104  104   51]]\n",
      "writeback 0.06303593999473378\n"
     ]
    },
    {
     "name": "stderr",
     "output_type": "stream",
     "text": [
      " 89%|████████▉ | 19497/21901 [09:20<00:35, 66.84it/s]"
     ]
    },
    {
     "name": "stdout",
     "output_type": "stream",
     "text": [
      "classify_wide_narrow 0.0025687110028229654\n",
      "NARROW FOUND: 68163\n",
      "extract 2d locs 0.3584680119965924\n"
     ]
    },
    {
     "name": "stderr",
     "output_type": "stream",
     "text": [
      "\r",
      " 89%|████████▉ | 19505/21901 [09:23<04:37,  8.64it/s]"
     ]
    },
    {
     "name": "stdout",
     "output_type": "stream",
     "text": [
      "flooding 2.271049196002423\n",
      "change count 6103\n",
      "[[  83   83   83 ...  738  738  738]\n",
      " [1123 1124 1124 ...  781  783  784]\n",
      " [ 678  667  674 ... 1324 1344 1344]\n",
      " [  84   84   84 ...  105   52   52]]\n",
      "writeback 0.0657147910023923\n"
     ]
    },
    {
     "name": "stderr",
     "output_type": "stream",
     "text": [
      " 89%|████████▉ | 19593/21901 [09:24<00:38, 60.65it/s]"
     ]
    },
    {
     "name": "stdout",
     "output_type": "stream",
     "text": [
      "classify_wide_narrow 0.0023996569943847135\n",
      "NARROW FOUND: 68150\n",
      "extract 2d locs 0.3368436520031537\n"
     ]
    },
    {
     "name": "stderr",
     "output_type": "stream",
     "text": [
      " 90%|████████▉ | 19608/21901 [09:27<03:14, 11.82it/s]"
     ]
    },
    {
     "name": "stdout",
     "output_type": "stream",
     "text": [
      "flooding 2.1939777189982124\n",
      "change count 4758\n",
      "[[  82   82   82 ...  738  738  738]\n",
      " [1123 1123 1123 ...  778  780  783]\n",
      " [ 674  675  694 ... 1343 1323 1343]\n",
      " [  85   85   85 ...   53  106   53]]\n",
      "writeback 0.061543697003799025\n"
     ]
    },
    {
     "name": "stderr",
     "output_type": "stream",
     "text": [
      " 90%|████████▉ | 19695/21901 [09:28<00:31, 69.38it/s]"
     ]
    },
    {
     "name": "stdout",
     "output_type": "stream",
     "text": [
      "classify_wide_narrow 0.0023539950052509084\n",
      "NARROW FOUND: 68171\n",
      "extract 2d locs 0.32876226599910296\n"
     ]
    },
    {
     "name": "stderr",
     "output_type": "stream",
     "text": [
      "\r",
      " 90%|████████▉ | 19703/21901 [09:31<03:59,  9.17it/s]"
     ]
    },
    {
     "name": "stdout",
     "output_type": "stream",
     "text": [
      "flooding 2.1389846120000584\n",
      "change count 4371\n",
      "[[  81   81   81 ...  738  738  738]\n",
      " [1123 1124 1124 ...  781  782  784]\n",
      " [ 694  675  676 ... 1322 1342 1342]\n",
      " [  86   86   86 ...  107   54   54]]\n",
      "writeback 0.06352276999677997\n"
     ]
    },
    {
     "name": "stderr",
     "output_type": "stream",
     "text": [
      " 90%|█████████ | 19720/21901 [09:31<02:07, 17.07it/s]"
     ]
    },
    {
     "name": "stdout",
     "output_type": "stream",
     "text": [
      "wiped count: 1\n"
     ]
    },
    {
     "name": "stderr",
     "output_type": "stream",
     "text": [
      " 90%|█████████ | 19794/21901 [09:32<00:30, 68.60it/s]"
     ]
    },
    {
     "name": "stdout",
     "output_type": "stream",
     "text": [
      "classify_wide_narrow 0.002486252000380773\n",
      "NARROW FOUND: 68188\n",
      "extract 2d locs 0.3375050529939472\n"
     ]
    },
    {
     "name": "stderr",
     "output_type": "stream",
     "text": [
      " 90%|█████████ | 19811/21901 [09:35<02:40, 13.03it/s]"
     ]
    },
    {
     "name": "stdout",
     "output_type": "stream",
     "text": [
      "flooding 2.113100263006345\n",
      "change count 4443\n",
      "[[  80   80   80 ...  738  738  738]\n",
      " [1123 1124 1124 ...  781  783  784]\n",
      " [ 694  667  668 ... 1341 1341 1341]\n",
      " [  87   87   87 ...   55   55   55]]\n",
      "writeback 0.06206638999719871\n"
     ]
    },
    {
     "name": "stderr",
     "output_type": "stream",
     "text": [
      " 91%|█████████ | 19844/21901 [09:35<00:57, 35.50it/s]"
     ]
    },
    {
     "name": "stdout",
     "output_type": "stream",
     "text": [
      "wiped count: 1\n"
     ]
    },
    {
     "name": "stderr",
     "output_type": "stream",
     "text": [
      " 91%|█████████ | 19884/21901 [09:36<00:32, 62.52it/s]"
     ]
    },
    {
     "name": "stdout",
     "output_type": "stream",
     "text": [
      "wiped count: 1\n"
     ]
    },
    {
     "name": "stderr",
     "output_type": "stream",
     "text": [
      "\r",
      " 91%|█████████ | 19892/21901 [09:36<00:30, 65.50it/s]"
     ]
    },
    {
     "name": "stdout",
     "output_type": "stream",
     "text": [
      "classify_wide_narrow 0.0025064139990718104\n",
      "NARROW FOUND: 68271\n",
      "extract 2d locs 0.3842464839981403\n"
     ]
    },
    {
     "name": "stderr",
     "output_type": "stream",
     "text": [
      " 91%|█████████ | 19908/21901 [09:39<02:47, 11.87it/s]"
     ]
    },
    {
     "name": "stdout",
     "output_type": "stream",
     "text": [
      "flooding 2.225622245998238\n",
      "change count 4341\n",
      "[[  79   79   79 ...  738  738  738]\n",
      " [1123 1123 1123 ...  776  778  783]\n",
      " [ 675  676  688 ... 1340 1320 1340]\n",
      " [  88   88   88 ...   56  109   56]]\n",
      "writeback 0.06095441500656307\n"
     ]
    },
    {
     "name": "stderr",
     "output_type": "stream",
     "text": [
      " 91%|█████████ | 19976/21901 [09:39<00:31, 61.85it/s]"
     ]
    },
    {
     "name": "stdout",
     "output_type": "stream",
     "text": [
      "wiped count: 1\n"
     ]
    },
    {
     "name": "stderr",
     "output_type": "stream",
     "text": [
      " 91%|█████████▏| 19992/21901 [09:40<00:27, 68.71it/s]"
     ]
    },
    {
     "name": "stdout",
     "output_type": "stream",
     "text": [
      "classify_wide_narrow 0.0022944969969103113\n",
      "NARROW FOUND: 68321\n",
      "extract 2d locs 0.3374882260031882\n"
     ]
    },
    {
     "name": "stderr",
     "output_type": "stream",
     "text": [
      " 91%|█████████▏| 20009/21901 [09:42<02:25, 12.99it/s]"
     ]
    },
    {
     "name": "stdout",
     "output_type": "stream",
     "text": [
      "flooding 2.1585665340026026\n",
      "change count 3490\n",
      "[[  78   78   78 ...  738  738  738]\n",
      " [1123 1124 1124 ...  775  778  782]\n",
      " [ 672  668  676 ... 1339 1319 1339]\n",
      " [  89   89   89 ...   57  110   57]]\n",
      "writeback 0.06225346099381568\n"
     ]
    },
    {
     "name": "stderr",
     "output_type": "stream",
     "text": [
      " 92%|█████████▏| 20065/21901 [09:43<00:34, 53.96it/s]"
     ]
    },
    {
     "name": "stdout",
     "output_type": "stream",
     "text": [
      "wiped count: 1\n"
     ]
    },
    {
     "name": "stderr",
     "output_type": "stream",
     "text": [
      " 92%|█████████▏| 20097/21901 [09:44<00:25, 69.71it/s]"
     ]
    },
    {
     "name": "stdout",
     "output_type": "stream",
     "text": [
      "classify_wide_narrow 0.0023610030038980767\n",
      "NARROW FOUND: 68332\n",
      "extract 2d locs 0.3318207759948564\n"
     ]
    },
    {
     "name": "stderr",
     "output_type": "stream",
     "text": [
      "\r",
      " 92%|█████████▏| 20105/21901 [09:46<03:16,  9.13it/s]"
     ]
    },
    {
     "name": "stdout",
     "output_type": "stream",
     "text": [
      "flooding 2.153110168001149\n",
      "change count 2996\n",
      "[[  77   77   77 ...  738  738  738]\n",
      " [1123 1124 1124 ...  782  783  784]\n",
      " [ 677  671  674 ... 1338 1338 1338]\n",
      " [  90   90   90 ...   58   58   58]]\n",
      "writeback 0.06280243799847085\n"
     ]
    },
    {
     "name": "stderr",
     "output_type": "stream",
     "text": [
      " 92%|█████████▏| 20193/21901 [09:47<00:26, 64.05it/s]"
     ]
    },
    {
     "name": "stdout",
     "output_type": "stream",
     "text": [
      "wiped count: 1\n",
      "classify_wide_narrow 0.0023624629975529388\n",
      "NARROW FOUND: 68348\n",
      "extract 2d locs 0.33755105399905005\n"
     ]
    },
    {
     "name": "stderr",
     "output_type": "stream",
     "text": [
      " 92%|█████████▏| 20208/21901 [09:50<02:25, 11.66it/s]"
     ]
    },
    {
     "name": "stdout",
     "output_type": "stream",
     "text": [
      "flooding 2.195394042006228\n",
      "change count 2467\n",
      "[[  76   76   76 ...  738  738  738]\n",
      " [1124 1124 1124 ...  781  782  783]\n",
      " [ 676  677  678 ... 1337 1337 1337]\n",
      " [  91   91   91 ...   59   59   59]]\n",
      "writeback 0.06353060599940363\n"
     ]
    },
    {
     "name": "stderr",
     "output_type": "stream",
     "text": [
      " 93%|█████████▎| 20293/21901 [09:51<00:24, 65.18it/s]"
     ]
    },
    {
     "name": "stdout",
     "output_type": "stream",
     "text": [
      "classify_wide_narrow 0.0024558549994253553\n",
      "NARROW FOUND: 68435\n",
      "extract 2d locs 0.34353891300270334\n"
     ]
    },
    {
     "name": "stderr",
     "output_type": "stream",
     "text": [
      " 93%|█████████▎| 20309/21901 [09:54<02:10, 12.23it/s]"
     ]
    },
    {
     "name": "stdout",
     "output_type": "stream",
     "text": [
      "flooding 2.1494272759955493\n",
      "change count 2393\n",
      "[[  75   75   75 ...  738  738  738]\n",
      " [1124 1124 1124 ...  780  782  783]\n",
      " [ 669  670  672 ... 1336 1336 1336]\n",
      " [  92   92   92 ...   60   60   60]]\n",
      "writeback 0.06081001100392314\n",
      "wiped count: 1\n"
     ]
    },
    {
     "name": "stderr",
     "output_type": "stream",
     "text": [
      " 93%|█████████▎| 20397/21901 [09:55<00:22, 67.99it/s]"
     ]
    },
    {
     "name": "stdout",
     "output_type": "stream",
     "text": [
      "classify_wide_narrow 0.002312074000656139\n",
      "NARROW FOUND: 68536\n",
      "extract 2d locs 0.333799355001247\n"
     ]
    },
    {
     "name": "stderr",
     "output_type": "stream",
     "text": [
      "\r",
      " 93%|█████████▎| 20405/21901 [09:58<02:44,  9.07it/s]"
     ]
    },
    {
     "name": "stdout",
     "output_type": "stream",
     "text": [
      "flooding 2.156193775997963\n",
      "change count 2911\n",
      "[[  74   74   74 ...  738  738  738]\n",
      " [1123 1123 1124 ...  782  783  784]\n",
      " [ 678  689  677 ... 1335 1335 1335]\n",
      " [  93   93   93 ...   61   61   61]]\n",
      "writeback 0.0633414360054303\n"
     ]
    },
    {
     "name": "stderr",
     "output_type": "stream",
     "text": [
      " 94%|█████████▎| 20493/21901 [09:59<00:21, 65.21it/s]"
     ]
    },
    {
     "name": "stdout",
     "output_type": "stream",
     "text": [
      "classify_wide_narrow 0.002347310000914149\n",
      "NARROW FOUND: 68546\n",
      "extract 2d locs 0.33064777300023707\n"
     ]
    },
    {
     "name": "stderr",
     "output_type": "stream",
     "text": [
      " 94%|█████████▎| 20509/21901 [10:02<01:51, 12.44it/s]"
     ]
    },
    {
     "name": "stdout",
     "output_type": "stream",
     "text": [
      "flooding 2.121577148005599\n",
      "change count 2573\n",
      "[[  73   73   73 ...  738  738  738]\n",
      " [1124 1124 1124 ...  780  781  783]\n",
      " [ 677  678  679 ... 1334 1334 1334]\n",
      " [  94   94   94 ...   62   62   62]]\n",
      "writeback 0.06223743699956685\n"
     ]
    },
    {
     "name": "stderr",
     "output_type": "stream",
     "text": [
      " 94%|█████████▍| 20597/21901 [10:03<00:20, 62.14it/s]"
     ]
    },
    {
     "name": "stdout",
     "output_type": "stream",
     "text": [
      "classify_wide_narrow 0.0022442359986598603\n",
      "NARROW FOUND: 68596\n",
      "extract 2d locs 0.3266336449960363\n"
     ]
    },
    {
     "name": "stderr",
     "output_type": "stream",
     "text": [
      "\r",
      " 94%|█████████▍| 20604/21901 [10:06<02:30,  8.63it/s]"
     ]
    },
    {
     "name": "stdout",
     "output_type": "stream",
     "text": [
      "flooding 2.189938016999804\n",
      "change count 2494\n",
      "[[  72   72   72 ...  738  738  738]\n",
      " [1124 1124 1124 ...  781  782  783]\n",
      " [ 670  671  674 ... 1333 1333 1333]\n",
      " [  95   95   95 ...   63   63   63]]\n",
      "writeback 0.06183028600207763\n"
     ]
    },
    {
     "name": "stderr",
     "output_type": "stream",
     "text": [
      " 94%|█████████▍| 20693/21901 [10:07<00:18, 66.77it/s]"
     ]
    },
    {
     "name": "stdout",
     "output_type": "stream",
     "text": [
      "classify_wide_narrow 0.0022747429975424893\n",
      "NARROW FOUND: 68725\n",
      "extract 2d locs 0.3324358129975735\n"
     ]
    },
    {
     "name": "stderr",
     "output_type": "stream",
     "text": [
      " 95%|█████████▍| 20709/21901 [10:10<01:35, 12.50it/s]"
     ]
    },
    {
     "name": "stdout",
     "output_type": "stream",
     "text": [
      "flooding 2.1193702230011695\n",
      "change count 3698\n",
      "[[  71   71   71 ...  738  738  738]\n",
      " [1123 1124 1124 ...  780  781  782]\n",
      " [ 679  671  678 ... 1332 1332 1332]\n",
      " [  96   96   96 ...   64   64   64]]\n",
      "writeback 0.06351891600206727\n"
     ]
    },
    {
     "name": "stderr",
     "output_type": "stream",
     "text": [
      " 95%|█████████▍| 20797/21901 [10:11<00:15, 69.93it/s]"
     ]
    },
    {
     "name": "stdout",
     "output_type": "stream",
     "text": [
      "wiped count: 1\n",
      "classify_wide_narrow 0.002504676995158661\n",
      "NARROW FOUND: 68830\n",
      "extract 2d locs 0.34692717299913056\n"
     ]
    },
    {
     "name": "stderr",
     "output_type": "stream",
     "text": [
      "\r",
      " 95%|█████████▍| 20805/21901 [10:13<01:58,  9.26it/s]"
     ]
    },
    {
     "name": "stdout",
     "output_type": "stream",
     "text": [
      "flooding 2.1032646790044964\n",
      "change count 6440\n",
      "[[  70   70   70 ...  738  738  738]\n",
      " [1123 1124 1124 ...  778  779  781]\n",
      " [ 682  671  678 ... 1331 1331 1331]\n",
      " [  97   97   97 ...   65   65   65]]\n",
      "writeback 0.06285585799923865\n"
     ]
    },
    {
     "name": "stderr",
     "output_type": "stream",
     "text": [
      " 95%|█████████▌| 20894/21901 [10:15<00:14, 69.02it/s]"
     ]
    },
    {
     "name": "stdout",
     "output_type": "stream",
     "text": [
      "classify_wide_narrow 0.0023423129969160073\n",
      "NARROW FOUND: 69073\n",
      "extract 2d locs 0.33690103299886687\n"
     ]
    },
    {
     "name": "stderr",
     "output_type": "stream",
     "text": [
      "\r",
      " 95%|█████████▌| 20903/21901 [10:17<01:37, 10.23it/s]"
     ]
    },
    {
     "name": "stdout",
     "output_type": "stream",
     "text": [
      "flooding 2.1053690370026743\n",
      "change count 7692\n",
      "[[  69   69   69 ...  738  738  739]\n",
      " [1123 1124 1124 ...  781  783  775]\n",
      " [ 679  672  677 ... 1330 1330 1310]\n",
      " [  98   98   98 ...   66   66  119]]\n",
      "writeback 0.06268644199735718\n"
     ]
    },
    {
     "name": "stderr",
     "output_type": "stream",
     "text": [
      " 96%|█████████▌| 20988/21901 [10:18<00:14, 64.50it/s]"
     ]
    },
    {
     "name": "stdout",
     "output_type": "stream",
     "text": [
      "wiped count: 2\n"
     ]
    },
    {
     "name": "stderr",
     "output_type": "stream",
     "text": [
      "\r",
      " 96%|█████████▌| 20996/21901 [10:18<00:13, 68.07it/s]"
     ]
    },
    {
     "name": "stdout",
     "output_type": "stream",
     "text": [
      "classify_wide_narrow 0.002355937998800073\n",
      "NARROW FOUND: 69394\n",
      "extract 2d locs 0.3362530770027661\n"
     ]
    },
    {
     "name": "stderr",
     "output_type": "stream",
     "text": [
      "\r",
      " 96%|█████████▌| 21004/21901 [10:21<01:37,  9.24it/s]"
     ]
    },
    {
     "name": "stdout",
     "output_type": "stream",
     "text": [
      "flooding 2.1331465499970363\n",
      "change count 9314\n",
      "[[  68   68   68 ...  738  738  738]\n",
      " [1123 1124 1124 ...  779  780  782]\n",
      " [ 679  679  680 ... 1329 1329 1329]\n",
      " [  99   99   99 ...   67   67   67]]\n",
      "writeback 0.06379598800413078\n"
     ]
    },
    {
     "name": "stderr",
     "output_type": "stream",
     "text": [
      " 96%|█████████▋| 21093/21901 [10:22<00:11, 67.98it/s]"
     ]
    },
    {
     "name": "stdout",
     "output_type": "stream",
     "text": [
      "classify_wide_narrow 0.002325696994375903\n",
      "NARROW FOUND: 69755\n",
      "extract 2d locs 0.3351806620048592\n"
     ]
    },
    {
     "name": "stderr",
     "output_type": "stream",
     "text": [
      " 96%|█████████▋| 21109/21901 [10:25<01:03, 12.55it/s]"
     ]
    },
    {
     "name": "stdout",
     "output_type": "stream",
     "text": [
      "flooding 2.115175109996926\n",
      "change count 9474\n",
      "[[  67   67   67 ...  738  738  738]\n",
      " [1123 1124 1124 ...  776  779  782]\n",
      " [ 680  672  680 ... 1308 1328 1328]\n",
      " [ 100  100  100 ...  121   68   68]]\n",
      "writeback 0.06319184400490485\n"
     ]
    },
    {
     "name": "stderr",
     "output_type": "stream",
     "text": [
      " 97%|█████████▋| 21197/21901 [10:26<00:09, 70.76it/s]"
     ]
    },
    {
     "name": "stdout",
     "output_type": "stream",
     "text": [
      "classify_wide_narrow 0.0023491230022045784\n",
      "NARROW FOUND: 70045\n",
      "extract 2d locs 0.33987490700383205\n"
     ]
    },
    {
     "name": "stderr",
     "output_type": "stream",
     "text": [
      "\r",
      " 97%|█████████▋| 21205/21901 [10:29<01:15,  9.21it/s]"
     ]
    },
    {
     "name": "stdout",
     "output_type": "stream",
     "text": [
      "flooding 2.126278801995795\n",
      "change count 11830\n",
      "[[  66   66   66 ...  738  738  738]\n",
      " [1123 1124 1124 ...  778  781  783]\n",
      " [ 683  673  680 ... 1327 1327 1327]\n",
      " [ 101  101  101 ...   69   69   69]]\n",
      "writeback 0.06336624899995513\n"
     ]
    },
    {
     "name": "stderr",
     "output_type": "stream",
     "text": [
      " 97%|█████████▋| 21298/21901 [10:30<00:08, 67.87it/s]"
     ]
    },
    {
     "name": "stdout",
     "output_type": "stream",
     "text": [
      "classify_wide_narrow 0.002502678005839698\n",
      "NARROW FOUND: 70310\n",
      "extract 2d locs 0.35159894999378594\n"
     ]
    },
    {
     "name": "stderr",
     "output_type": "stream",
     "text": [
      "\r",
      " 97%|█████████▋| 21306/21901 [10:33<01:06,  8.95it/s]"
     ]
    },
    {
     "name": "stdout",
     "output_type": "stream",
     "text": [
      "flooding 2.2214457310037687\n",
      "change count 12918\n",
      "[[  65   65   65 ...  738  738  738]\n",
      " [1123 1124 1124 ...  778  781  782]\n",
      " [ 680  673  679 ... 1326 1326 1326]\n",
      " [ 102  102  102 ...   70   70   70]]\n",
      "writeback 0.06506492700282251\n"
     ]
    },
    {
     "name": "stderr",
     "output_type": "stream",
     "text": [
      " 98%|█████████▊| 21378/21901 [10:33<00:09, 57.82it/s]"
     ]
    },
    {
     "name": "stdout",
     "output_type": "stream",
     "text": [
      "wiped count: 4\n"
     ]
    },
    {
     "name": "stderr",
     "output_type": "stream",
     "text": [
      " 98%|█████████▊| 21394/21901 [10:34<00:07, 65.09it/s]"
     ]
    },
    {
     "name": "stdout",
     "output_type": "stream",
     "text": [
      "classify_wide_narrow 0.002348647998587694\n",
      "NARROW FOUND: 70479\n",
      "extract 2d locs 0.33859409599972423\n"
     ]
    },
    {
     "name": "stderr",
     "output_type": "stream",
     "text": [
      " 98%|█████████▊| 21410/21901 [10:36<00:39, 12.28it/s]"
     ]
    },
    {
     "name": "stdout",
     "output_type": "stream",
     "text": [
      "flooding 2.1509797199978493\n",
      "change count 14020\n",
      "[[  64   64   64 ...  738  738  738]\n",
      " [1123 1124 1124 ...  773  781  782]\n",
      " [ 682  673  680 ... 1305 1325 1325]\n",
      " [ 103  103  103 ...  124   71   71]]\n",
      "writeback 0.06417245799821103\n"
     ]
    },
    {
     "name": "stderr",
     "output_type": "stream",
     "text": [
      " 98%|█████████▊| 21496/21901 [10:38<00:06, 62.55it/s]"
     ]
    },
    {
     "name": "stdout",
     "output_type": "stream",
     "text": [
      "wiped count: 1\n",
      "classify_wide_narrow 0.002452885004458949\n",
      "NARROW FOUND: 70681\n",
      "extract 2d locs 0.3600065149948932\n"
     ]
    },
    {
     "name": "stderr",
     "output_type": "stream",
     "text": [
      "\r",
      " 98%|█████████▊| 21503/21901 [10:40<00:48,  8.20it/s]"
     ]
    },
    {
     "name": "stdout",
     "output_type": "stream",
     "text": [
      "flooding 2.1771748320024926\n",
      "change count 9523\n",
      "[[  63   63   63 ...  738  738  738]\n",
      " [1123 1123 1124 ...  773  774  781]\n",
      " [ 681  702  680 ... 1304 1304 1324]\n",
      " [ 104  104  104 ...  125  125   72]]\n",
      "writeback 0.06872147799731465\n"
     ]
    },
    {
     "name": "stderr",
     "output_type": "stream",
     "text": [
      " 98%|█████████▊| 21540/21901 [10:41<00:11, 30.40it/s]"
     ]
    },
    {
     "name": "stdout",
     "output_type": "stream",
     "text": [
      "wiped count: 2\n"
     ]
    },
    {
     "name": "stderr",
     "output_type": "stream",
     "text": [
      " 99%|█████████▊| 21595/21901 [10:42<00:04, 66.83it/s]"
     ]
    },
    {
     "name": "stdout",
     "output_type": "stream",
     "text": [
      "classify_wide_narrow 0.002397412004938815\n",
      "NARROW FOUND: 70744\n",
      "extract 2d locs 0.34444805499515496\n"
     ]
    },
    {
     "name": "stderr",
     "output_type": "stream",
     "text": [
      "\r",
      " 99%|█████████▊| 21603/21901 [10:44<00:33,  8.80it/s]"
     ]
    },
    {
     "name": "stdout",
     "output_type": "stream",
     "text": [
      "flooding 2.206090106003103\n",
      "change count 6445\n",
      "[[  62   62   62 ...  738  738  738]\n",
      " [1123 1123 1124 ...  773  778  780]\n",
      " [ 681  702  679 ... 1303 1323 1323]\n",
      " [ 105  105  105 ...  126   73   73]]\n",
      "writeback 0.06597048699768493\n"
     ]
    },
    {
     "name": "stderr",
     "output_type": "stream",
     "text": [
      " 99%|█████████▉| 21699/21901 [10:46<00:03, 66.34it/s]"
     ]
    },
    {
     "name": "stdout",
     "output_type": "stream",
     "text": [
      "classify_wide_narrow 0.0024321759992744774\n",
      "NARROW FOUND: 70846\n",
      "extract 2d locs 0.3464161140000215\n"
     ]
    },
    {
     "name": "stderr",
     "output_type": "stream",
     "text": [
      "\r",
      " 99%|█████████▉| 21707/21901 [10:48<00:21,  8.89it/s]"
     ]
    },
    {
     "name": "stdout",
     "output_type": "stream",
     "text": [
      "flooding 2.1934664500004146\n",
      "change count 5155\n",
      "[[  61   61   61 ...  738  738  738]\n",
      " [1123 1123 1124 ...  774  780  781]\n",
      " [ 681  706  683 ... 1302 1322 1322]\n",
      " [ 106  106  106 ...  127   74   74]]\n",
      "writeback 0.06664557800104376\n"
     ]
    },
    {
     "name": "stderr",
     "output_type": "stream",
     "text": [
      "100%|█████████▉| 21795/21901 [10:50<00:01, 62.94it/s]"
     ]
    },
    {
     "name": "stdout",
     "output_type": "stream",
     "text": [
      "classify_wide_narrow 0.0023401239959639497\n",
      "NARROW FOUND: 70894\n",
      "extract 2d locs 0.3466116410054383\n"
     ]
    },
    {
     "name": "stderr",
     "output_type": "stream",
     "text": [
      "\r",
      "100%|█████████▉| 21803/21901 [10:52<00:11,  8.85it/s]"
     ]
    },
    {
     "name": "stdout",
     "output_type": "stream",
     "text": [
      "flooding 2.1924900879967026\n",
      "change count 3860\n",
      "[[  60   60   60 ...  738  738  738]\n",
      " [1124 1124 1125 ...  773  777  779]\n",
      " [ 682  683  681 ... 1301 1321 1321]\n",
      " [ 107  107  107 ...  128   75   75]]\n",
      "writeback 0.06448835300398059\n"
     ]
    },
    {
     "name": "stderr",
     "output_type": "stream",
     "text": [
      "100%|█████████▉| 21899/21901 [10:54<00:00, 65.46it/s]"
     ]
    },
    {
     "name": "stdout",
     "output_type": "stream",
     "text": [
      "classify_wide_narrow 0.00238574299874017\n",
      "NARROW FOUND: 70922\n",
      "extract 2d locs 0.3480932969978312\n"
     ]
    },
    {
     "name": "stderr",
     "output_type": "stream",
     "text": [
      "\r",
      "100%|██████████| 21901/21901 [10:56<00:00, 33.35it/s]"
     ]
    },
    {
     "name": "stdout",
     "output_type": "stream",
     "text": [
      "flooding 2.1689423019997776\n",
      "change count 3247\n",
      "[[  59   59   59 ...  738  738  738]\n",
      " [1123 1125 1125 ...  771  773  778]\n",
      " [ 681  681  682 ... 1300 1300 1320]\n",
      " [ 108  108  108 ...  129  129   76]]\n",
      "writeback 0.0643893350061262\n"
     ]
    },
    {
     "name": "stderr",
     "output_type": "stream",
     "text": [
      "\n"
     ]
    },
    {
     "data": {
      "application/vnd.jupyter.widget-view+json": {
       "model_id": "f05a4ab3b36b4a309ff8f1de22fc948f",
       "version_major": 2,
       "version_minor": 0
      },
      "text/plain": [
       "Canvas(toolbar=Toolbar(toolitems=[('Home', 'Reset original view', 'home', 'home'), ('Back', 'Back to previous …"
      ]
     },
     "metadata": {},
     "output_type": "display_data"
    }
   ],
   "source": [
    "doRFM()"
   ]
  },
  {
   "cell_type": "code",
   "execution_count": null,
   "metadata": {},
   "outputs": [],
   "source": [
    "# vox_refl[...] = HIT/(np.float32(0.1)+HIT+MISS)\n",
    "# CLASSIFIED_RFM = vox_refl>REF_BLOCK_THRESH\n",
    "# refl_cache = np.sum(CLASSIFIED_RFM, axis=2)\n",
    "# HIGHLY_VISIBLE = (np.sum(CLASSIFIED_RFM, axis=2)>wide_threshold)\n",
    "floodstep()"
   ]
  },
  {
   "cell_type": "code",
   "execution_count": 110,
   "metadata": {
    "scrolled": true
   },
   "outputs": [
    {
     "data": {
      "application/vnd.jupyter.widget-view+json": {
       "model_id": "30bde28adacf44cba41e8792b3518df2",
       "version_major": 2,
       "version_minor": 0
      },
      "text/plain": [
       "Canvas(toolbar=Toolbar(toolitems=[('Home', 'Reset original view', 'home', 'home'), ('Back', 'Back to previous …"
      ]
     },
     "metadata": {},
     "output_type": "display_data"
    },
    {
     "data": {
      "text/plain": [
       "<matplotlib.image.AxesImage at 0x7f2a67eb07c0>"
      ]
     },
     "execution_count": 110,
     "metadata": {},
     "output_type": "execute_result"
    }
   ],
   "source": [
    "%matplotlib widget\n",
    "plt.imshow(np.clip(np.min(FDIST,axis=2),0,255))"
   ]
  },
  {
   "cell_type": "markdown",
   "metadata": {
    "tags": []
   },
   "source": [
    "## Draw Figures\n",
    "The following calculates the basic RFM in bulk (Faster in Python and good for prototyping).\n",
    "Then we take a slice out though the glass to make the figure.\n",
    "\n",
    "We don't discuss it in the paper, due to lack of space, but this also shows several other visualizations good for exploring the RFM\n"
   ]
  },
  {
   "cell_type": "code",
   "execution_count": null,
   "metadata": {},
   "outputs": [],
   "source": [
    "# # Specialized debug cell\n",
    "# %matplotlib widget\n",
    "# vox_refl=HIT/(np.float32(0.1)+HIT+MISS)\n",
    "# RFM=HIT*w_HIT-MISS*w_MISS\n",
    "# sud=HIT+MISS\n",
    "# # del vox_refl\n",
    "# del sud\n",
    "# # del vox_refl\n",
    "# plt.figure(1)\n",
    "# ax=plt.subplot(221)\n",
    "# # plt.imshow(np.clip(np.max((HIT),axis=2).T,-3,15))\n",
    "# plt.imshow(np.clip(np.max((HIT),axis=2).T,-10,10))\n",
    "# plt.title('Max HIT [0,10]')\n",
    "# plt.subplot(222,sharex=ax,sharey=ax)\n",
    "# mean_active = (np.sum(MISS,axis=2,dtype=np.float32)\n",
    "#               /\n",
    "#               (np.sum(MISS>0,axis=2)+np.float32(.0001)))[:,:,np.newaxis]\n",
    "# plt.imshow(np.clip(mean_active[:,:,0].T,-1,10))\n",
    "# plt.title(\"Average RFM probes [0,10]\")\n",
    "# plt.subplot(223,sharex=ax,sharey=ax)\n",
    "# plt.imshow(np.clip(np.max(HIT/(mean_active+0.01),axis=2).T,-1,3))\n",
    "# plt.title('Normalized Max HIT')\n",
    "\n",
    "# plt.subplot(224,sharex=ax,sharey=ax)\n",
    "# plt.imshow(np.clip(np.max(HIT/(mean_active+0.01),axis=2).T,-1,3))\n",
    "# plt.title('Example RFM Slice Line')\n",
    "# plt.plot([340,360],[142,142],'r')\n",
    "\n",
    "# del mean_active\n",
    "\n",
    "\n",
    "# plt.figure(4)\n",
    "# plt.title(\"H Shapes Figure, Option 1\")\n",
    "# # Need to take max of neighboring slices due to aliasing\n",
    "# plt.imshow(np.clip(np.sum(HIT[:,845:855,:],axis=1).T,0,2),aspect='auto') \n",
    "# plt.xlim(320,540)\n",
    "# # plt.ylim(0,700)\n",
    "# # plt.imshow(np.clip(np.sum(vox_refl[:,:,:],axis=0).T,0,2))\n",
    "# plt.xlabel('x [1 unit = 5cm]')\n",
    "# plt.ylabel('theta [720 units = 180deg]')\n",
    "\n",
    "# plt.figure(5)\n",
    "# plt.title(\"H Shapes Figure,Option 2\")\n",
    "# plt.imshow(np.clip(np.max(RFM[:,142:143,:],axis=1).T,-2,2),aspect='auto',cmap='bwr_r')\n",
    "# plt.xlabel('x [1 unit = 5cm]')\n",
    "# plt.ylabel('theta [720 units = 180deg]')\n",
    "# plt.xlim(295,425)\n",
    "\n",
    "\n",
    "\n"
   ]
  },
  {
   "cell_type": "markdown",
   "metadata": {},
   "source": [
    "**Figure captions** \\\n",
    "*Option 1:* Glass panes are easily detectable in the Reflectance Field Map by their distinctive H shape. \n",
    "Shown here is a slice through the RFM along a wall made of several panes of glass, producing the repeated H patterns seen here.\n",
    "The arms of the H are formed by the edges of the glass or its frame which scatter light in many angles,\n",
    "and the cross bar is caused by the smooth face of the glass reflecting mostly perpendicularly.\n",
    "Note that despite the wide variation in visibility between different pieces of glass, and the gaps \n",
    "in some of the H arms due to occlusions, this wall is reliably detectable at 91deg = 364 units \\\n",
    "[TODO: figure out how to make Figure scale show degrees] \\\n",
    "Unlike intensity or multiecho methods, our's does not require a bright specular peak, or an object behind to be detected.\n",
    "And unlike Foster et al 2013[Cite], the gaps and secondary detection angles shown here do not confuse our detector.\n",
    "Even an occluder directly blocking the view of the glass only causes the loss of the blocked part.\n",
    "\n",
    "*Option 2:*: Similar text to Option 1, but mention Blue is reflective, Red is transparent, and white is areas of the \n",
    "reflectance field not probed, due to occlusions or the sensor path. \\\n",
    "Option two is made available to demostrate ability to show alternate color scheme, an alternate target with more regular \n",
    "(but less interesting!) pieces of glass, "
   ]
  },
  {
   "cell_type": "code",
   "execution_count": null,
   "metadata": {
    "tags": []
   },
   "outputs": [],
   "source": [
    "# Classify reflective/transparent per voxel\n",
    "# Dead, but kept for interest. For some reason this was considered better than the ratio thing at some point\n",
    "# Now I rememeber. Its because glass has a low visibility ratio, but a high ratio at a cell level\n",
    "# but it may have few misses, so being > a randomly hit cell s \n",
    "# basically a cell with 1 hit and no misses on an unseen location is better than 1 hit and no miss on a heavily seen locaiton \n",
    "\n",
    "# def classify_cells_bulk():\n",
    "#     # Justification: mean_active is an approximation of how many times we should have seen a cell.\n",
    "#     # It is generated by looking at the mean of HIT+MISS for cells that have ever had either, meaned along the theta axis\n",
    "#     # Note that if there is a huge variation in the HIT+MISS sum, this could be inaccurate(i.e. if we take different paths \n",
    "#     # near the point.)\n",
    "#     # The score is how many times we saw/expected attempts. We take the max score over angles to represent the most opaque\n",
    "#     # direction. Scores significantly above 1.0 indicate a bad condition\n",
    "#     #\n",
    "#     fullcount=MISS+HIT\n",
    "#     mean_active = (np.sum(fullcount,axis=2,dtype=np.float32)\n",
    "#                   /\n",
    "#                   (np.sum(fullcount>0,axis=2)+np.float32(.0001)))[:,:,np.newaxis]\n",
    "#     score = np.max(HIT/(mean_active+np.float32(.0001)),axis=2)\n",
    "#     refl_cache[1:-1,1:-1]=(score>REF_BLOCK_THRESH)[1:-1,1:-1]\n",
    "#     return score\n",
    "# classify_cells_bulk()"
   ]
  },
  {
   "cell_type": "code",
   "execution_count": null,
   "metadata": {},
   "outputs": [],
   "source": [
    "%matplotlib widget\n",
    "plt.imshow(refl_cache.T)\n",
    "plt.title('Cells that stop rays for reflectance calculations')"
   ]
  },
  {
   "cell_type": "code",
   "execution_count": null,
   "metadata": {},
   "outputs": [],
   "source": [
    "# Hstore=[]\n",
    "# Mstore=[]"
   ]
  },
  {
   "cell_type": "markdown",
   "metadata": {},
   "source": [
    "# Show Stabiliation of Reflection Removal:"
   ]
  },
  {
   "cell_type": "code",
   "execution_count": null,
   "metadata": {},
   "outputs": [],
   "source": [
    "# %matplotlib widget\n",
    "\n",
    "# from tqdm import tqdm\n",
    "# plt.imshow(refl_cache.T)\n",
    "\n",
    "# for refitr in range(2):\n",
    "#     Hstore.append(HIT)\n",
    "#     Mstore.append(MISS)\n",
    "    \n",
    "#     classify_cells_bulk()\n",
    "    \n",
    "#     arays=outrays.copy()\n",
    "#     arays,notref = classify(arays)\n",
    "\n",
    "#     HIT = np.zeros((W,H,th_bins),'int16')\n",
    "#     MISS = np.zeros((W,H,th_bins),'int16')\n",
    "#     ls=0\n",
    "#     keep=(rays0['r']<30)*(rays0['r']>0)\n",
    "#     CHUNK_SIZE = 1081\n",
    "\n",
    "#     for s in tqdm(range(CHUNK_SIZE,arays.shape[1]+1,CHUNK_SIZE)):\n",
    "#         tmprays=arays[:,ls:s][:,keep[ls:s]]\n",
    "#         nrtemp=notref[ls:s][keep[ls:s]]\n",
    "#         accumulate(tmprays, nrtemp)\n",
    "#         ls=s\n",
    "        \n",
    "#     plt.figure()\n",
    "#     plt.imshow(refl_cache.T)"
   ]
  },
  {
   "cell_type": "code",
   "execution_count": null,
   "metadata": {},
   "outputs": [],
   "source": [
    "# # Visualize the 2d occupancy score\n",
    "# %matplotlib widget\n",
    "# score=classify_cells_bulk()\n",
    "# # plt.imshow(np.clip(score,-5,5).T)\n",
    "# plt.imshow((score>0.0).T)\n",
    "\n",
    "# plt.figure()\n",
    "# plt.imshow(np.clip(np.max(HIT,axis=2),0,10).T)\n",
    "# print(np.sum(HIT>0))"
   ]
  },
  {
   "cell_type": "code",
   "execution_count": null,
   "metadata": {},
   "outputs": [],
   "source": [
    "# This cell produces a label array rfmcomps, that labels everything that is connected in RFM space, accounting for the wraparound of theta\n",
    "# It works by labelling connected components, rolling Pi around, relabelling, and then merging the resulting label set\n",
    "\n",
    "from scipy.ndimage import label\n",
    "from scipy.ndimage import generate_binary_structure\n",
    "# help(generate_binary_structure)\n",
    "\n",
    "%matplotlib widget\n",
    "vox_refl[...] = HIT/(np.float32(0.1)+HIT+MISS)\n",
    "structure=generate_binary_structure(3,3)\n",
    "rfmcomps, count = label(vox_refl>0.3, structure)\n",
    "\n",
    "roll_vox_refl=np.roll(vox_refl, int(vox_refl.shape[2]//2), axis=2)\n",
    "rfmcomps2, count = label(roll_vox_refl>0.3, structure)\n",
    "del roll_vox_refl\n",
    "offset=np.max(rfmcomps)+1\n",
    "rfmcomps2=np.roll(rfmcomps2, -int(rfmcomps2.shape[2]//2), axis=2)+offset\n",
    "rfmcomps2[rfmcomps2==offset]=0\n",
    "rfmcomps = unify_labels(rfmcomps, rfmcomps2)\n",
    "del rfmcomps2"
   ]
  },
  {
   "cell_type": "code",
   "execution_count": null,
   "metadata": {
    "tags": []
   },
   "outputs": [],
   "source": [
    "# # Visualize the connected components in RFM space\n",
    "# import numpy as np\n",
    "# # to_show=np.random.rand(3,100)\n",
    "# to_show=np.nonzero(rfmcomps!=rfmcomps[-3,-3,-3])\n",
    "# per=np.random.permutation(int(np.max(rfmcomps))+1)\n",
    "# %gui qt\n",
    "\n",
    "# import mayavi.mlab\n",
    "# mayavi.mlab.close(all=True)\n",
    "\n",
    "# mayavi.mlab.points3d(to_show[0], to_show[1], to_show[2],per[rfmcomps[to_show].astype(int)], colormap='spectral', mode = 'points')"
   ]
  },
  {
   "cell_type": "code",
   "execution_count": null,
   "metadata": {},
   "outputs": [],
   "source": [
    "import sys\n",
    "def sizeof_fmt(num, suffix='B'):\n",
    "    ''' by Fred Cirera,  https://stackoverflow.com/a/1094933/1870254, modified'''\n",
    "    for unit in ['','Ki','Mi','Gi','Ti','Pi','Ei','Zi']:\n",
    "        if abs(num) < 1024.0:\n",
    "            return \"%3.1f %s%s\" % (num, unit, suffix)\n",
    "        num /= 1024.0\n",
    "    return \"%.1f %s%s\" % (num, 'Yi', suffix)\n",
    "\n",
    "for name, size in sorted(((name, sys.getsizeof(value)) for name, value in locals().items()),\n",
    "                         key= lambda x: -x[1])[:20]:\n",
    "    print(\"{:>30}: {:>8}\".format(name, sizeof_fmt(size)))\n"
   ]
  },
  {
   "cell_type": "code",
   "execution_count": null,
   "metadata": {},
   "outputs": [],
   "source": [
    "# This cell removes motion from RFM, given a label array for connected components\n",
    "HIGHLY_VISIBLE = (countvis>wide_threshold)\n",
    "selection_color = np.max(rfmcomps)+1\n",
    "\n",
    "%matplotlib widget\n",
    "plt.imshow(HIGHLY_VISIBLE.T)\n",
    "\n",
    "# Build an array that has the selection_color on highly visible items, and the old color on everythng else\n",
    "rfmcomps2 = (rfmcomps > 0)*HIGHLY_VISIBLE[:,:,np.newaxis]*selection_color\n",
    "rfmcomps2[rfmcomps2==0]=rfmcomps[rfmcomps2==0]\n",
    "\n",
    "# # Debug: check the selelection array\n",
    "# to_show=np.nonzero(rfmcomps2!=rfmcomps2[-3,-3,-3])\n",
    "# per=np.random.permutation(int(np.max(rfmcomps2))+1)\n",
    "# %gui qt\n",
    "# import mayavi.mlab\n",
    "# mayavi.mlab.points3d(to_show[0], to_show[1], to_show[2],per[rfmcomps2[to_show].astype(int)], colormap='spectral',mode= 'point')\n",
    "\n",
    "# Flood from the seeds\n",
    "rfmcomps = unify_labels(rfmcomps, rfmcomps2)"
   ]
  },
  {
   "cell_type": "code",
   "execution_count": null,
   "metadata": {},
   "outputs": [],
   "source": [
    "# Visualize after flood fill\n",
    "%matplotlib widget\n",
    "print(rfmcomps.shape)\n",
    "newselcolor=np.max(rfmcomps[HIGHLY_VISIBLE,:])\n",
    "selected = np.sum(rfmcomps==newselcolor,axis=2)\n",
    "\n",
    "nevermissed = ((np.sum(HIT,axis=2)>0)&(np.sum(MISS,axis=2)==0))\n",
    "allkept = 0.5*nevermissed+selected\n",
    "\n",
    "plt.imshow(np.clip(selected.T,0,15))"
   ]
  },
  {
   "cell_type": "code",
   "execution_count": null,
   "metadata": {},
   "outputs": [],
   "source": [
    "to_show=np.nonzero(rfmcomps!=rfmcomps[-3,-3,-3])\n",
    "# per=np.random.permutation(int(np.max(rfmcomps2))+1)\n",
    "%gui qt\n",
    "\n",
    "newselcolor=np.max(rfmcomps[HIGHLY_VISIBLE,:])\n",
    "\n",
    "# import mayavi.mlab\n",
    "# to_show=np.array(to_show).reshape(3,-1)\n",
    "# print(to_show.shape)\n",
    "# to_show=to_show[:,to_show[1]>=106]\n",
    "# to_show=to_show[:,to_show[1]<=121]\n",
    "# to_show=to_show[:,to_show[0]>=218]\n",
    "# to_show=to_show[:,to_show[0]<=475]\n",
    "# to_show=to_show[:,rfmcomps[tuple(to_show)]==newselcolor]\n",
    "\n",
    "# print(to_show.shape)\n",
    "# # to_show=to_show[:,to_show[1]>106]\n",
    "# color = np.sum(vox_refl>0.3,axis=2)[tuple(to_show[:2])]\n",
    "# # color=score[tuple(to_show[:2])]\n",
    "\n",
    "# # color=per[rfmcomps[tuple(to_show)].astype(int)]\n",
    "# mayavi.mlab.close(all=True)\n",
    "# mayavi.mlab.points3d(to_show[0], to_show[1], to_show[2], color, colormap='spectral', mode= 'point')"
   ]
  },
  {
   "cell_type": "code",
   "execution_count": null,
   "metadata": {},
   "outputs": [],
   "source": [
    "# Show cells that are default kept\n",
    "%matplotlib widget\n",
    "\n",
    "\n",
    "my_dpi=100\n",
    "sc=1.*1.11*.9825\n",
    "print(sc)\n",
    "plt.figure(figsize=(nevermissed.shape[0]/my_dpi*sc, nevermissed.shape[1]/my_dpi*sc), dpi=my_dpi)\n",
    "# nevermissed[:,1::2]=1\n",
    "plt.imshow(nevermissed.T)\n",
    "plt.tight_layout()\n",
    "\n",
    "plt.title(\"Cells seen but never missed. Keep by default:\")"
   ]
  },
  {
   "cell_type": "code",
   "execution_count": null,
   "metadata": {},
   "outputs": [],
   "source": [
    "%matplotlib widget\n",
    "\n",
    "\n",
    "plt.imshow(allkept.T>0)\n",
    "# plt.plot(notref,'b,')\n",
    "# plt.imshow(refl_cache.T>0)\n"
   ]
  },
  {
   "cell_type": "markdown",
   "metadata": {},
   "source": [
    "# Now we have a nice view. \n",
    "# Time to remove reflections and do it all over again"
   ]
  },
  {
   "cell_type": "code",
   "execution_count": null,
   "metadata": {},
   "outputs": [],
   "source": [
    "# Hstore=[HIT]\n",
    "# Mstore=[MISS]\n",
    "refl_cache[...] = (allkept!=0)"
   ]
  },
  {
   "cell_type": "code",
   "execution_count": null,
   "metadata": {},
   "outputs": [],
   "source": [
    "keeprays=(rays0['r']<10)*(rays0['r']>0)\n",
    "\n",
    "arays,notref = classify(outrays)\n",
    "doRFM()\n",
    "#countvis[...] \n",
    "#counttrans[...] \n",
    "#countratio[...] \n",
    "#refl_cache[...]"
   ]
  },
  {
   "cell_type": "code",
   "execution_count": null,
   "metadata": {},
   "outputs": [],
   "source": [
    "from scipy.ndimage import label\n",
    "from scipy.ndimage import generate_binary_structure\n",
    "\n",
    "vox_refl=HIT/(np.float32(0.1)+HIT+MISS)\n",
    "structure=generate_binary_structure(3,3)\n",
    "rfmcomps, count = label(vox_refl>0.3, structure)\n",
    "\n",
    "roll_vox_refl=np.roll(vox_refl, int(vox_refl.shape[2]//2), axis=2)\n",
    "rfmcomps2, count = label(roll_vox_refl>0.3, structure)\n",
    "del roll_vox_refl\n",
    "offset=np.max(rfmcomps)+1\n",
    "rfmcomps2=np.roll(rfmcomps2, -int(rfmcomps2.shape[2]//2), axis=2)+offset\n",
    "rfmcomps2[rfmcomps2==offset]=0\n",
    "rfmcomps = unify_labels(rfmcomps, rfmcomps2)\n",
    "del rfmcomps2\n",
    "\n",
    "# This cell removes motion from RFM, given a label array for connected components\n",
    "wide_threshold = 1/12 * HIT.shape[2]\n",
    "CLASSIFIED_RFM = vox_refl>REF_BLOCK_THRESH\n",
    "HIGHLY_VISIBLE = (np.sum(CLASSIFIED_RFM, axis=2)>wide_threshold)\n",
    "selection_color = np.max(rfmcomps)+1\n",
    "\n",
    "%matplotlib widget\n",
    "plt.imshow(HIGHLY_VISIBLE.T)\n",
    "plt.title('Highly Visible Locations')\n",
    "\n",
    "# Build an array that has the selection_color on highly visible items, and the old color on everythng else\n",
    "rfmcomps2 = (rfmcomps > 0)*HIGHLY_VISIBLE[:,:,np.newaxis]*selection_color\n",
    "rfmcomps2[rfmcomps2==0]=rfmcomps[rfmcomps2==0]\n",
    "\n",
    "# Flood from the seeds\n",
    "rfmcomps = unify_labels(rfmcomps, rfmcomps2)\n",
    "\n",
    "# # Debug\n",
    "# to_show=np.nonzero(rfmcomps!=rfmcomps[-3,-3,-3])\n",
    "# per=np.random.permutation(int(np.max(rfmcomps2))+1)\n",
    "# %gui qt\n",
    "# import mayavi.mlab\n",
    "# mayavi.mlab.close(all=True)\n",
    "# mayavi.mlab.points3d(to_show[0], to_show[1], to_show[2],per[rfmcomps[to_show].astype(int)], colormap='spectral', mode= 'point')"
   ]
  },
  {
   "cell_type": "code",
   "execution_count": null,
   "metadata": {
    "tags": []
   },
   "outputs": [],
   "source": [
    "# Show cells that are default kept\n",
    "%matplotlib widget\n",
    "\n",
    "nevermissed = ((np.sum(HIT,axis=2)>0)&(np.sum(MISS,axis=2)==0))\n",
    "my_dpi=100\n",
    "sc=1.*1.11*.9825\n",
    "print(sc)\n",
    "plt.figure(figsize=(nevermissed.shape[0]/my_dpi*sc, nevermissed.shape[1]/my_dpi*sc), dpi=my_dpi)\n",
    "plt.imshow(nevermissed.T)\n",
    "plt.tight_layout()\n",
    "\n",
    "plt.title(\"Cells seen but never missed. Keep by default:\")\n",
    "\n",
    "# Visualize after flood fill\n",
    "newselcolor=np.max(rfmcomps[HIGHLY_VISIBLE,:])\n",
    "selected = np.sum(rfmcomps==newselcolor,axis=2)\n",
    "\n",
    "plt.figure(figsize=(refl_cache.shape[0]/my_dpi*sc, refl_cache.shape[1]/my_dpi*sc), dpi=my_dpi)\n",
    "plt.imshow(np.clip(selected.T,0,15))\n",
    "\n",
    "# Everything We Keep\n",
    "plt.figure(figsize=(refl_cache.shape[0]/my_dpi*sc, refl_cache.shape[1]/my_dpi*sc), dpi=my_dpi)\n",
    "allkept = 0.5*nevermissed+selected\n",
    "plt.imshow(allkept.T)\n",
    "\n"
   ]
  },
  {
   "cell_type": "code",
   "execution_count": null,
   "metadata": {},
   "outputs": [],
   "source": [
    "# Build Ratio Metric for Occupancy \n",
    "countvis = np.sum(CLASSIFIED_RFM, axis=2).astype(np.uint16)\n",
    "counttrans = np.sum((CLASSIFIED_RFM==0)&(MISS>0), axis=2).astype(np.uint16)\n",
    "countratio = np.float32(1.0*countvis/(countvis+counttrans+0.0000000001))\n",
    "\n",
    "markedrfc = (rfmcomps>0)*countratio[:,:,np.newaxis]"
   ]
  },
  {
   "cell_type": "code",
   "execution_count": null,
   "metadata": {},
   "outputs": [],
   "source": [
    "infofile = str(round(rays0['ts'][0]*1e6))+\"_\"+str(round(rays0['ts'][-1]*1e6))+\".info\"\n",
    "print(\"Saving to:\",infofile)\n",
    "print()\n",
    "\n",
    "original_stdout = sys.stdout # Save a reference to the original standard output\n",
    "\n",
    "with open(infofile, 'w') as f:\n",
    "    sys.stdout = f # Change the standard output to the file we created.\n",
    "    print(\"# Transform between map and pixels (opengl flooring convention):\")\n",
    "    print(\"T_px_f=\",T_px_f.tolist())\n",
    "    print(\"# Image info\")\n",
    "    print(\"W,H,th_bins=\",(W,H,th_bins))\n",
    "    print(\"# Which rays were used:\")\n",
    "    print(\"start_time=\", str(np.min(rays0['ts'])))\n",
    "    print(\"end_time=\", str(np.max(rays0['ts'])))\n",
    "    print(\"# Base dataset:\")\n",
    "    print(\"rayfile=\",str(rayfile))\n",
    "    sys.stdout = original_stdout \n",
    "with open(infofile, 'r') as f:\n",
    "    print(f.read())\n",
    "import cv2\n",
    "\n",
    "def writeim(name, IM):\n",
    "    # storage format is 16 bit unsigned\n",
    "    layers=[IM[:,:,layer] for layer in range(IM.shape[2])]\n",
    "    batches=[np.hstack(layers[off:off+40]) for off in range(0,IM.shape[2],40)]\n",
    "    rearranged = np.vstack(batches)\n",
    "    cv2.imwrite(name,rearranged.astype(np.uint16))\n",
    "writeim(\"MISS.png\", MISS)\n",
    "writeim(\"HIT.png\", HIT)\n",
    "cv2.imwrite(\"refl_cache.png\",refl_cache)\n",
    "cv2.imwrite(\"allkept.png\" , ((allkept>0)*255).astype(np.uint8))\n",
    "countvis = np.sum(CLASSIFIED_RFM, axis=2).astype(np.uint16)\n",
    "counttrans = np.sum((CLASSIFIED_RFM==0)&(MISS>0), axis=2).astype(np.uint16)\n",
    "cv2.imwrite(\"countvis.png\" , countvis)\n",
    "cv2.imwrite(\"counttrans.png\" , counttrans)\n",
    "cv2.imwrite(\"countratio.png\" , (countvis*1.0/(counttrans+countvis)*255).astype('uint8'))"
   ]
  },
  {
   "cell_type": "markdown",
   "metadata": {},
   "source": [
    "# GENERATE FIGURES"
   ]
  },
  {
   "cell_type": "markdown",
   "metadata": {
    "tags": []
   },
   "source": [
    "### H Figure (RUN BEFORE REMOVALS)"
   ]
  },
  {
   "cell_type": "code",
   "execution_count": null,
   "metadata": {
    "tags": []
   },
   "outputs": [],
   "source": [
    "# ## H figure from North Wall, with background removed\n",
    "# # Colors show how widely visible the cell is\n",
    "# # Requires \"/bbb3_glass_eval_111716.rays\" dataset, with\n",
    "# #   substart=0\n",
    "# #   subend=int(2.0e6)\n",
    "# %matplotlib widget\n",
    "# plt.imshow(np.clip(np.sum(vox_refl,axis=2),0,15).T, cmap='gray')\n",
    "# # plt.imshow(allkept.T>0)\n",
    "# plt.ylim(250,0)\n",
    "# plt.xlim(200,500)\n",
    "# # y=[106:121]\n",
    "# # x=[218:475]\n",
    "# plt.plot([218,218,475,475,218],[106,121,121,106,106],'c')\n",
    "\n",
    "# to_show=np.nonzero(rfmcomps!=rfmcomps[-3,-3,-3])\n",
    "# # per=np.random.permutation(int(np.max(rfmcomps2))+1)\n",
    "# %gui qt\n",
    "\n",
    "# newselcolor=np.max(rfmcomps[HIGHLY_VISIBLE,:])\n",
    "\n",
    "# import mayavi.mlab\n",
    "# to_show=np.array(to_show).reshape(3,-1)\n",
    "# print(to_show.shape)\n",
    "# to_show=to_show[:,to_show[1]>=106]\n",
    "# to_show=to_show[:,to_show[1]<=121]\n",
    "# to_show=to_show[:,to_show[0]>=218]\n",
    "# to_show=to_show[:,to_show[0]<=475]\n",
    "# to_show=to_show[:,rfmcomps[tuple(to_show)]==newselcolor]\n",
    "\n",
    "# print(to_show.shape)\n",
    "# # to_show=to_show[:,to_show[1]>106]\n",
    "# # color = np.sum(vox_refl>0.3,axis=2)[tuple(to_show[:2])]\n",
    "# color=(HIT+MISS)[tuple(to_show)]\n",
    "# # color=score[tuple(to_show[:2])]\n",
    "\n",
    "# # color=per[rfmcomps[tuple(to_show)].astype(int)]\n",
    "# mayavi.mlab.close(all=True)\n",
    "# mayavi.mlab.points3d(to_show[0], to_show[1], to_show[2], color, colormap='spectral', mode= 'point')"
   ]
  },
  {
   "cell_type": "code",
   "execution_count": null,
   "metadata": {
    "tags": []
   },
   "outputs": [],
   "source": [
    "## H figure from 2a, with background removed\n",
    "# Colors show how widely visible the cell is\n",
    "# Requires \"/bbb3_glass_eval_111716.rays\" dataset, with\n",
    "#   substart=0\n",
    "#   subend=int(2.0e6)\n",
    "%matplotlib widget\n",
    "plt.imshow(np.clip(np.sum(vox_refl,axis=2),0,15).T, cmap='gray')\n",
    "# plt.imshow(allkept.T>0)\n",
    "# plt.ylim(250,0)\n",
    "# plt.xlim(200,500)\n",
    "# y=[106:121]\n",
    "# x=[218:475]\n",
    "plt.plot([218,218,475,475,218],[106,121,121,106,106],'c')\n",
    "\n",
    "to_show=np.nonzero(HIT!=HIT[-3,-3,-3])\n",
    "# per=np.random.permutation(int(np.max(rfmcomps2))+1)\n",
    "%gui qt\n",
    "\n",
    "# newselcolor=np.max(rfmcomps[HIGHLY_VISIBLE,:])\n",
    "\n",
    "import mayavi.mlab\n",
    "to_show=np.array(to_show).reshape(3,-1)\n",
    "# print(to_show.shape)\n",
    "to_show=to_show[:,to_show[1]>=1087.5]\n",
    "to_show=to_show[:,to_show[1]<=1092.5]\n",
    "# to_show=to_show[:,to_show[0]>=218]\n",
    "to_show=to_show[:,to_show[0]>464]\n",
    "to_show=to_show[:,to_show[0]<519]\n",
    "# to_show=to_show[:,rfmcomps[tuple(to_show)]==newselcolor]\n",
    "\n",
    "# print(to_show.shape)\n",
    "# # to_show=to_show[:,to_show[1]>106]\n",
    "# # color = np.sum(vox_refl>0.3,axis=2)[tuple(to_show[:2])]\n",
    "color=(HIT+MISS)[tuple(to_show)]\n",
    "# # color=score[tuple(to_show[:2])]\n",
    "\n",
    "# # color=per[rfmcomps[tuple(to_show)].astype(int)]\n",
    "mayavi.mlab.close(all=True)\n",
    "mayavi.mlab.points3d(to_show[0], to_show[1], to_show[2]/10, color, colormap='spectral', mode= 'point')"
   ]
  },
  {
   "cell_type": "code",
   "execution_count": null,
   "metadata": {
    "tags": []
   },
   "outputs": [],
   "source": [
    "# ## H figure from circle region, with background removed ------------------------------\n",
    "# # Colors show how widely visible the cell is\n",
    "# # Requires \"/bbb3_glass_eval_111716.rays\" dataset, with\n",
    "# #   substart=int(8e6)\n",
    "# #   subend=int(11e6)\n",
    "# %matplotlib widget\n",
    "# plt.imshow(np.clip(np.sum(vox_refl,axis=2),0,15).T, cmap='gray_r')\n",
    "# # plt.imshow(allkept.T>0)\n",
    "# plt.ylim(450,150)\n",
    "# plt.xlim(350,500)\n",
    "# # y=[106:121]\n",
    "# # x=[218:475]\n",
    "# plt.plot([218,218,475,475,218],[106,121,121,106,106],'c')\n",
    "# th=np.linspace(0,2*np.pi)\n",
    "# r=58\n",
    "# plt.plot(r*np.cos(th)+407,r*np.sin(th)+291,\"g\")\n",
    "# r=63\n",
    "# plt.plot(r*np.cos(th)+407,r*np.sin(th)+291,\"g\")\n",
    "\n",
    "# plt.plot(px_ept[:,0][notref==0]-0.5,px_ept[:,1][notref==0]-0.5,'b,')\n",
    "\n",
    "# plt.figure()\n",
    "# plt.imshow(counttrans+countvis*10)\n",
    "\n",
    "\n",
    "# ## 3D half --------------------------------------------------------------------------\n",
    "# to_show=np.nonzero(rfmcomps!=rfmcomps[-3,-3,-3])\n",
    "\n",
    "# # per=np.random.permutation(int(np.max(rfmcomps2))+1)\n",
    "# %gui qt\n",
    "\n",
    "# newselcolor=np.max(rfmcomps[HIGHLY_VISIBLE,:])\n",
    "\n",
    "# import mayavi.mlab\n",
    "# to_show=np.array(to_show).reshape(3,-1)\n",
    "# print(to_show.shape)\n",
    "# r=np.sqrt((to_show[0]-407)**2+(to_show[1]-291)**2)\n",
    "# keep = (r>58) & (r<63)\n",
    "# to_show=to_show[:,keep]\n",
    "# to_show=to_show[:,rfmcomps[tuple(to_show)]==newselcolor]\n",
    "\n",
    "# print(to_show.shape)\n",
    "# # to_show=to_show[:,to_show[1]>106]\n",
    "\n",
    "# color = np.clip((np.sum(vox_refl>0.3,axis=2)[tuple(to_show[:2])])/4,0,wide_threshold/4*2)\n",
    "# color = countratio[tuple(to_show[:2])]\n",
    "\n",
    "# # color=(HIT+MISS)[tuple(to_show)]\n",
    "# # color=score[tuple(to_show[:2])]\n",
    "\n",
    "# # color=per[rfmcomps[tuple(to_show)].astype(int)]\n",
    "# mayavi.mlab.close(all=True)\n",
    "\n",
    "# mayavi.mlab.points3d(to_show[0], -to_show[1], to_show[2]/4, color*100, colormap='spectral', mode= 'point')\n",
    "# f = mayavi.mlab.gcf()\n",
    "# camera = f.scene.camera\n",
    "\n",
    "# camera.position=[407,-291,400]\n",
    "# camera.view_up=[0,1,0]\n",
    "# camera.focal_point = [407,-291,180]\n",
    "# camera.view_angle=70\n",
    "\n",
    "# # Need to roll mouse to rerender\n",
    "# # 1. Enable legend\n",
    "# # 2. set ticks to 11\n",
    "# # 3. set legend actor to tick format %-#6.1g\n",
    "# # 4. label %reflective\n",
    "# # 5. set legend actor Vertical Title Separation to 5\n",
    "\n",
    "# # Try:\n",
    "# # Whiter background for color contrast\n",
    "# # Red for walls\n",
    "# # Blue for glass\n",
    "# # "
   ]
  },
  {
   "cell_type": "code",
   "execution_count": null,
   "metadata": {
    "tags": []
   },
   "outputs": [],
   "source": [
    "# ## H figure from circle region, with background removed Fig 1 version ------------------------------\n",
    "# # Colors show how widely visible the cell is\n",
    "# # Requires \"/bbb3_glass_eval_111716.rays\" dataset, with\n",
    "# #   substart=int(8e6)\n",
    "# #   subend=int(11e6)\n",
    "# %matplotlib widget\n",
    "# plt.imshow(np.clip(np.sum(vox_refl,axis=2),0,15).T, cmap='gray_r')\n",
    "# # plt.imshow(allkept.T>0)\n",
    "# xc=234\n",
    "# yc=304\n",
    "# plt.ylim(450-291+yc,150-291+yc)\n",
    "# plt.xlim(350-407+xc,500-407+xc)\n",
    "# # y=[106:121]\n",
    "# # x=[218:475]\n",
    "# plt.plot([218,218,475,475,218],[106,121,121,106,106],'c')\n",
    "\n",
    "# th=np.linspace(0,2*np.pi)\n",
    "# r=58\n",
    "# plt.plot(r*np.cos(th)+xc,r*np.sin(th)+yc,\"g\")\n",
    "# r=63\n",
    "# plt.plot(r*np.cos(th)+xc,r*np.sin(th)+yc,\"g\")\n",
    "\n",
    "# plt.plot(px_ept[:,0][notref==0]-0.5,px_ept[:,1][notref==0]-0.5,'b,')\n",
    "\n",
    "# plt.figure()\n",
    "# plt.imshow(counttrans+countvis*10)\n",
    "\n",
    "# ## 3D half --------------------------------------------------------------------------\n",
    "# to_show=np.nonzero(rfmcomps!=rfmcomps[-3,-3,-3])\n",
    "\n",
    "# # per=np.random.permutation(int(np.max(rfmcomps2))+1)\n",
    "# %gui qt\n",
    "\n",
    "# newselcolor=np.max(rfmcomps[HIGHLY_VISIBLE,:])\n",
    "\n",
    "# import mayavi.mlab\n",
    "# to_show=np.array(to_show).reshape(3,-1)\n",
    "# print(to_show.shape)\n",
    "\n",
    "# r=np.sqrt((to_show[0]-xc)**2+(to_show[1]-yc)**2)\n",
    "# keep = (r>58) & (r<63)\n",
    "# to_show=to_show[:,keep]\n",
    "# to_show=to_show[:,rfmcomps[tuple(to_show)]==newselcolor]\n",
    "\n",
    "# print(to_show.shape)\n",
    "# # to_show=to_show[:,to_show[1]>106]\n",
    "\n",
    "# color = np.clip((np.sum(vox_refl>0.3,axis=2)[tuple(to_show[:2])])/4,0,wide_threshold/4*2)\n",
    "# color = countratio[tuple(to_show[:2])]\n",
    "\n",
    "# # color=(HIT+MISS)[tuple(to_show)]\n",
    "# # color=score[tuple(to_show[:2])]\n",
    "\n",
    "# # color=per[rfmcomps[tuple(to_show)].astype(int)]\n",
    "# mayavi.mlab.close(all=True)\n",
    "\n",
    "# mayavi.mlab.points3d(to_show[0], -to_show[1], to_show[2]/4, color*100, colormap='spectral', mode= 'point')\n",
    "# f = mayavi.mlab.gcf()\n",
    "# camera = f.scene.camera\n",
    "\n",
    "# camera.position=[xc,-yc,400]\n",
    "# camera.view_up=[0,1,0]\n",
    "# camera.focal_point = [xc,-yc,180]\n",
    "# camera.view_angle=70\n",
    "\n",
    "# # Need to roll mouse to rerender\n",
    "# # 1. Enable legend\n",
    "# # 2. set ticks to 11\n",
    "# # 3. set legend actor to tick format %-#6.1g\n",
    "# # 4. label %reflective\n",
    "# # 5. set legend actor Vertical Title Separation to 5\n",
    "\n",
    "# # Try:\n",
    "# # Whiter background for color contrast\n",
    "# # Red for walls\n",
    "# # Blue for glass\n",
    "# # "
   ]
  },
  {
   "cell_type": "markdown",
   "metadata": {},
   "source": [
    "# Do GT work"
   ]
  },
  {
   "cell_type": "markdown",
   "metadata": {},
   "source": [
    "# Stages and Inputs:\n",
    "1. Base RFM\n",
    "      1. Require: rays, Optional: is_ref_rays\n",
    "      2. % visible\n",
    "      3. countref\n",
    "      4. vox_refl\n",
    "      5. [not really done] update flood_cache\n",
    "      6. update high_viz_seeds\n",
    "      7. update refl_cache <- threshhold %visible \n",
    "2. Motion Removal\n",
    "      1. Requires: vox_refl, high_viz_seeds\n",
    "      2. conncomps <- before flood\n",
    "      3. floodcomps <- after flood\n",
    "      4. update refl_cache\n",
    "3. Reflection Removal\n",
    "      1. Requires: rays, refl_cache\n",
    "      2. is_ref_rays\n",
    "4. RFM #2\n",
    "5. Motion Removal #2\n",
    "\n",
    "\n",
    "\n",
    "Strategies\n",
    "[assume all reflection removal immediately followed by RFM]\n",
    "\n",
    "0. OCC GRID\n",
    "\n",
    "1. \n",
    "RFM\n",
    "\n",
    "2. \n",
    "RFM\n",
    "MOT\n",
    "\n",
    "3. \n",
    "RFM\n",
    "MOT\n",
    "REF\n",
    "\n",
    "4. \n",
    "RFM\n",
    "REF\n",
    "REF\n",
    "REF\n",
    "REF\n",
    "\n",
    "5. \n",
    "RFM\n",
    "MOT\n",
    "REF\n",
    "MOT\n",
    "\n",
    "6. \n",
    "RFM\n",
    "REF\n",
    "MOT\n",
    "REF\n",
    "MOT\n",
    "REF\n",
    "MOT\n",
    "REF\n",
    "MOT\n",
    "...\n",
    "\n",
    "\n",
    "      \n",
    "      "
   ]
  },
  {
   "cell_type": "code",
   "execution_count": null,
   "metadata": {},
   "outputs": [],
   "source": [
    "%matplotlib widget\n",
    "\n",
    "# load_gt()\n",
    "# convert to points\n",
    "# Kd tree for DNN\n",
    "import cv2\n",
    "gti = cv2.imread(\"bbb3_glass_eval_111716-gt.png\")\n",
    "\n",
    "# Detect ablations and fill in \n",
    "try: allkept\n",
    "except NameError: allkept = refl_cache.copy()\n",
    "try: sc\n",
    "except NameError: sc = 1.090575\n",
    "try: selected\n",
    "except NameError: selected = (refl_cache!=0)\n",
    "\n",
    "\n",
    "# plt.imshow(gti)\n",
    "empty = np.min(gti,axis=2)[2::5,2::5].T\n",
    "plt.imshow((empty + (allkept>0)*500), cmap='gray')\n",
    "\n",
    "bounds=(np.max(gti,axis=2).T==255)&(np.min(gti,axis=2).T==0)\n",
    "gtglass = (gti[:,:,0]==255).T&(np.min(gti,axis=2).T==0)\n",
    "gtmetal = (gti[:,:,2]==255).T&(np.min(gti,axis=2).T==0)\n",
    "gtdiffuse = (gti[:,:,1]==255).T&(np.min(gti,axis=2).T==0)\n",
    "gtwall = np.nonzero(bounds)\n",
    "gtwall[0][:] = gtwall[0]/5\n",
    "gtwall[1][:] = gtwall[1]/5\n",
    "\n",
    "plt.figure()\n",
    "plt.imshow(np.dstack([gtmetal,gtdiffuse,gtglass])*1.0)\n",
    "\n",
    "assert(np.sum(gtmetal&gtdiffuse)==0)\n",
    "assert(np.sum(gtmetal&gtglass)==0)\n",
    "assert(np.sum(gtglass&gtdiffuse)==0)\n",
    "assert(np.all((gtmetal|gtglass|gtdiffuse)==bounds))\n",
    "\n",
    "\n",
    "\n",
    "gtrefbarrier = np.zeros_like(refl_cache, bool)\n",
    "gtrefbarrier[gtwall[0],gtwall[1]] = True\n",
    "\n",
    "wide_bar = cv2.dilate(((gtrefbarrier!=0)*255).astype('uint8'),np.ones((3,3),np.uint8))\n",
    "assert(not np.any((wide_bar==0)&(gtrefbarrier!=0)))\n",
    "print(np.sum(gtwall[0]))\n",
    "plt.figure()\n",
    "plt.imshow(gtrefbarrier.T)"
   ]
  },
  {
   "cell_type": "markdown",
   "metadata": {},
   "source": [
    "Get GT reflection classes"
   ]
  },
  {
   "cell_type": "code",
   "execution_count": null,
   "metadata": {},
   "outputs": [],
   "source": [
    "## Cell loads the stored data from the next cell, that would otherwise take forever\n",
    "import pickle\n",
    "with open('dump.pickle','rb') as f:\n",
    "    ret=pickle.load(f)\n",
    "closenref=ret['closenref']\n",
    "realclass=ret['realclass']\n",
    "inzone=ret['inzone']\n",
    "lim=len(keeprays)"
   ]
  },
  {
   "cell_type": "code",
   "execution_count": null,
   "metadata": {},
   "outputs": [],
   "source": [
    "lim=len(keeprays)\n",
    "\n",
    "\n",
    "# VERY EXPENSIVE: touched barrier, got near barrier, went way through barrier\n",
    "refl_cache[...] = gtrefbarrier\n",
    "keptrays, realclass = classify(outrays[:,:lim].copy(),pen_depth=0.3)\n",
    "\n",
    "\n",
    "refl_cache[...] = wide_bar\n",
    "keptrays, closenref = classify(outrays[:,:lim].copy(),pen_depth=0.0)\n",
    "\n",
    "refl_cache[...] = (empty==0)\n",
    "keptrays, inzone = classify(outrays[:,:lim].copy(),pen_depth=0.0)"
   ]
  },
  {
   "cell_type": "code",
   "execution_count": null,
   "metadata": {},
   "outputs": [],
   "source": [
    "%matplotlib widget\n",
    "plt.close('all')\n",
    "my_dpi=100\n",
    "plt.figure(figsize=(refl_cache.shape[0]/my_dpi*sc, refl_cache.shape[1]/my_dpi*sc), dpi=my_dpi)\n",
    "\n",
    "closeref = (closenref==0)\n",
    "\n",
    "# something is definitely a reflection if it touches a barrier, goes well through it, and ends not near the barrier\n",
    "\n",
    "# Base state\n",
    "# plt.plot(px_ept[:lim][keeprays,0], px_ept[:lim][keeprays,1] , 'w,')\n",
    "\n",
    "# Reflection\n",
    "intept = px_ept.astype(int)\n",
    "inrange = np.clip(px_ept.T, loclip[:2], hiclip[:2]).astype(int)\n",
    "endfar = (wide_bar[inrange[0],inrange[1]]==0)&keeprays\n",
    "outer = endfar[:lim]&(realclass==0)\n",
    "defref = outer&keeprays\n",
    "\n",
    "plt.plot(px_ept[:lim][defref,0], px_ept[:lim][defref,1] , 'c,')\n",
    "\n",
    "# Motion\n",
    "zone=empty\n",
    "defnotref = inzone&(closeref==0)&keeprays[:lim]\n",
    "print(\"defnotref:\",np.sum(defnotref))\n",
    "# plt.imshow(((empty==0).T))\n",
    "# plt.imshow((gtrefbarrier.T))\n",
    "import matplotlib as mpl\n",
    "vimg=np.dstack([gtmetal.T,gtdiffuse.T,gtglass.T])*1.0\n",
    "# import cv\n",
    "for i in range(1):\n",
    "    strel=cv2.getStructuringElement(cv2.MORPH_ELLIPSE, (2 * 5 + 1, 2 * 5 + 1),\n",
    "                                       (5, 5))\n",
    "    vimg=cv2.dilate(vimg.astype(np.float32),strel)\n",
    "imgplot= plt.imshow(vimg*0,extent=(0,W,H,0))\n",
    "\n",
    "def fatten(img):\n",
    "    strel=cv2.getStructuringElement(cv2.MORPH_ELLIPSE, (2 * 5 + 1, 2 * 5 + 1),\n",
    "                                       (5, 5))\n",
    "    vimg=cv2.dilate(img.astype(np.float32),strel)\n",
    "    return vimg.astype(img.dtype)\n",
    "\n",
    "# imgplot= plt.imshow(np.clip(selected.T,0,30)*0,cmap='gray',vmin=-10, vmax=30)\n",
    "transform = mpl.transforms.Affine2D().translate(0.5, 0.5)\n",
    "imgplot.set_transform(transform + plt.gca().transData)\n",
    "\n",
    "plt.plot(px_ept[:lim][defnotref,0], px_ept[:lim][defnotref,1] , 'm,')\n",
    "\n",
    "# Wall core\n",
    "inrange5 = np.clip(px_ept.T*5, loclip[:2]*5, hiclip[:2]*5).astype(int)\n",
    "keepcore = (bounds[inrange5[0],inrange5[1]]!=0)&keeprays\n",
    "# plt.plot(px_ept[:lim][keepcore,0], px_ept[:lim][keepcore,1] , 'y,')\n",
    "\n",
    "def easy_read_fig():\n",
    "    inrange5 = np.clip(px_ept.T*5, loclip[:2]*5, hiclip[:2]*5).astype(int)\n",
    "    glasscore = (fatten(gtglass)[inrange5[0],inrange5[1]]!=0)&keeprays&(defref==0)\n",
    "    plt.plot(px_ept[:lim][glasscore,0], px_ept[:lim][glasscore,1] , 'b,',markersize=1)\n",
    "\n",
    "    inrange5 = np.clip(px_ept.T*5, loclip[:2]*5, hiclip[:2]*5).astype(int)\n",
    "    metalcore = (fatten(gtmetal)[inrange5[0],inrange5[1]]!=0)&keeprays\n",
    "    plt.plot(px_ept[:lim][metalcore,0], px_ept[:lim][metalcore,1] , 'r,')\n",
    "\n",
    "    inrange5 = np.clip(px_ept.T*5, loclip[:2]*5, hiclip[:2]*5).astype(int)\n",
    "    diffusecore = (fatten(gtdiffuse)[inrange5[0],inrange5[1]]!=0)&keeprays\n",
    "    plt.plot(px_ept[:lim][diffusecore,0], px_ept[:lim][diffusecore,1] , 'g,',markersize=1)\n",
    "easy_read_fig()\n",
    "\n",
    "inrange5 = np.clip(px_ept.T*5, loclip[:2]*5, hiclip[:2]*5).astype(int)\n",
    "glasscore = (gtglass[inrange5[0],inrange5[1]]!=0)&keeprays\n",
    "# plt.plot(px_ept[:lim][glasscore,0], px_ept[:lim][glasscore,1] , 'b,',markersize=1)\n",
    "\n",
    "inrange5 = np.clip(px_ept.T*5, loclip[:2]*5, hiclip[:2]*5).astype(int)\n",
    "metalcore = (gtmetal[inrange5[0],inrange5[1]]!=0)&keeprays\n",
    "# plt.plot(px_ept[:lim][metalcore,0], px_ept[:lim][metalcore,1] , 'r,')\n",
    "\n",
    "inrange5 = np.clip(px_ept.T*5, loclip[:2]*5, hiclip[:2]*5).astype(int)\n",
    "diffusecore = (gtdiffuse[inrange5[0],inrange5[1]]!=0)&keeprays\n",
    "# plt.plot(px_ept[:lim][diffusecore,0], px_ept[:lim][diffusecore,1] , 'g,',markersize=1)\n",
    "\n",
    "\n",
    "plt.plot(px_spt[:lim][:,0][rays['pad']==1], px_spt[:lim][:,1][rays['pad']==1] , 'y') #forgot to swap pad and idx\n",
    "plt.plot(px_spt[:lim][:,0][rays['pad']==0], px_spt[:lim][:,1][rays['pad']==0] , 'y')\n",
    "\n",
    "plt.gca().legend(['Reflections', 'Motion','Glass','_nolegend_','Diffuse','Sensors Path'])\n",
    "\n",
    "plt.ylim(1000,700)\n",
    "plt.xlim(520,710)\n",
    "assert(np.sum(diffusecore&endfar)==0)\n",
    "eval_set = np.zeros_like(keeprays)\n",
    "classes = [defref, defnotref, glasscore, metalcore, diffusecore]\n",
    "for i in range(len(classes)):\n",
    "    eval_set |= classes[i]\n",
    "    for j in range(len(classes)):\n",
    "        if i==j:\n",
    "            continue\n",
    "        print(i,j)\n",
    "        assert(not np.any(classes[i]&classes[j]))\n",
    "assert(np.all((glasscore| metalcore|diffusecore)==(keepcore)))\n",
    "\n",
    "print(\"Measurable verse:\", np.sum(np.vstack(classes)))\n",
    "print(\"TP refl:\", np.sum(defref&(notref==0)))\n",
    "\n",
    "if input(\"Do you want to save the figure (\\\"yes\\\" for save)\")=='yes':\n",
    "    plt.savefig('GT Program.png')"
   ]
  },
  {
   "cell_type": "code",
   "execution_count": null,
   "metadata": {
    "tags": []
   },
   "outputs": [],
   "source": [
    "# %matplotlib widget\n",
    "\n",
    "\n",
    "# plt.imshow(wide_bar.T,extent=(0,W,H,0))\n",
    "# # # transform = mpl.transforms.Affine2D().translate(0.5, 0.5)\n",
    "# # # imgplot.set_transform(transform + plt.gca().transData)\n",
    "\n",
    "\n",
    "# # overlapped=defref&diffusecore\n",
    "\n",
    "# plt.plot(px_ept[:lim][overlapped,0],px_ept[:lim][overlapped,1],'b.')\n",
    "\n",
    "# wide_bar[700,864]"
   ]
  },
  {
   "cell_type": "code",
   "execution_count": null,
   "metadata": {},
   "outputs": [],
   "source": [
    "%matplotlib widget\n",
    "plt.close('all')\n",
    "plt.figure(figsize=(refl_cache.shape[0]/my_dpi*sc, refl_cache.shape[1]/my_dpi*sc), dpi=my_dpi)\n",
    "\n",
    "imgplot= plt.imshow(np.clip(selected.T,0,30),cmap='gray_r',vmin=-5, vmax=5, extent=(0,W,H,0))\n",
    "plt.ylim(1000,700)\n",
    "plt.xlim(520,710)\n",
    "\n",
    "plt.savefig('Program Output.png')\n",
    "# plt.plot(px_ept[:lim][(notref==0),0], px_ept[:lim][(notref==0),1] , 'w,')"
   ]
  },
  {
   "cell_type": "code",
   "execution_count": null,
   "metadata": {},
   "outputs": [],
   "source": [
    "gtgkept=(gtglass[inrange5[0],inrange5[1]]!=0)&(allkept[inrange[0],inrange[1]]!=0)\n",
    "scratch=np.zeros_like(gtglass)\n",
    "scratch[inrange5[0,gtgkept],inrange5[1,gtgkept]]=1\n",
    "print(\"glass cells kept\", np.sum(scratch))\n",
    "# %matplotlib widget\n",
    "# plt.imshow(allkept)\n",
    "gtgkept=(gtglass[inrange5[0],inrange5[1]]!=0)\n",
    "scratch=np.zeros_like(gtglass)\n",
    "scratch[inrange5[0,gtgkept],inrange5[1,gtgkept]]=1\n",
    "print(\"glass cells in gt\", np.sum(scratch))\n",
    "\n",
    "gtgkept=(gtdiffuse[inrange5[0],inrange5[1]]!=0)&(allkept[inrange[0],inrange[1]]!=0)\n",
    "scratch=np.zeros_like(gtdiffuse)\n",
    "scratch[inrange5[0,gtgkept],inrange5[1,gtgkept]]=1\n",
    "print(\"diff cells kept\", np.sum(scratch))\n",
    "# %matplotlib widget\n",
    "# plt.imshow(allkept)\n",
    "gtgkept=(gtdiffuse[inrange5[0],inrange5[1]]!=0)\n",
    "scratch=np.zeros_like(gtglass)\n",
    "scratch[inrange5[0,gtgkept],inrange5[1,gtgkept]]=1\n",
    "print(\"diff cells in gt\", np.sum(scratch))\n",
    "\n",
    "gtgkept=(gtmetal[inrange5[0],inrange5[1]]!=0)&(allkept[inrange[0],inrange[1]]!=0)\n",
    "scratch=np.zeros_like(gtmetal)\n",
    "scratch[inrange5[0,gtgkept],inrange5[1,gtgkept]]=1\n",
    "print(\"metal cells kept\", np.sum(scratch))\n",
    "# %matplotlib widget\n",
    "# plt.imshow(allkept)\n",
    "gtgkept=(gtmetal[inrange5[0],inrange5[1]]!=0)\n",
    "scratch=np.zeros_like(gtglass)\n",
    "scratch[inrange5[0,gtgkept],inrange5[1,gtgkept]]=1\n",
    "print(\"metal cells in gt\", np.sum(scratch))\n",
    "\n",
    "\n",
    "\n",
    "pred_ref = (notref == False)&eval_set\n",
    "pred_motion = (notref != False)&(allkept[inrange[0],inrange[1]]==0)&eval_set\n",
    "pred_static = (notref != False)&(allkept[inrange[0],inrange[1]]!=0)&eval_set\n",
    "\n",
    "print(\"Real ref:\", np.sum((pred_motion|pred_ref)&defref),\"(Pred Remove), \", np.sum(pred_static&defref), \"(Pred Keep)\")\n",
    "# print(\"total ref:\",np.sum(defref))\n",
    "print(\"Real motion:\", np.sum((pred_ref|pred_motion)&defnotref),\"(Pred Remove), \", np.sum(defnotref&pred_static), \"(Pred Keep)\")\n",
    "# print(\"total real motion:\",np.sum(defnotref))\n",
    "print()\n",
    "\n",
    "\n",
    "\n",
    "kept_solids = (allkept[inrange[0],inrange[1]]!=0)&keeprays&notref&eval_set\n",
    "removed_solids = (allkept[inrange[0],inrange[1]]==0)&keeprays&notref&eval_set\n",
    "removed_refl = (notref==0) & eval_set\n",
    "\n",
    "import inspect, re\n",
    "\n",
    "def varname(p):\n",
    "    for line in inspect.getframeinfo(inspect.currentframe().f_back)[3]:\n",
    "        m = re.search(r'\\bvarname\\s*\\(\\s*([A-Za-z_][A-Za-z0-9_]*)\\s*\\)', line)\n",
    "        if m:\n",
    "            return m.group(1)\n",
    "total=0\n",
    "# actual ['defref', 'defnotref', 'glasscore', 'metalcore', 'diffusecore'] -> \n",
    "for c,cn in zip(classes[2:],['glass', 'metal', 'diffuse']):\n",
    "    print('Actual', cn,'&', \n",
    "          np.sum(c&pred_static),'(Pred Keep) &',\n",
    "          np.sum((c&pred_motion)), '(Pred Remove)',\n",
    "          \"\"\"\\\\ \\hhline{~*\\items{|-}|}\"\"\")\n",
    "    \n",
    "# print(\"total attempted:\" , np.sum(keepcore)) # remainder is unclear reflection or wall\n",
    "\n",
    "\n",
    "\n",
    "\n",
    "total_ref = np.sum(defref)\n",
    "print(\"Total Reflection\", total_ref)\n",
    "TP_reflection = np.sum((notref==0)*defref)\n",
    "print(\"TP Reflection\", TP_reflection)\n",
    "print(\"Reflection removed\", TP_reflection/total_ref)\n",
    "\n",
    "# total_not_ref = np.sum(defnotref\n",
    "FP_reflection = np.sum((notref==1)*defnotref)\n",
    "print(\"TP Reflection\", TP_reflection)\n",
    "print(\"Reflection removed\", TP_reflection/total_ref)"
   ]
  }
 ],
 "metadata": {
  "kernelspec": {
   "display_name": "Python 3",
   "language": "python",
   "name": "python3"
  },
  "language_info": {
   "codemirror_mode": {
    "name": "ipython",
    "version": 3
   },
   "file_extension": ".py",
   "mimetype": "text/x-python",
   "name": "python",
   "nbconvert_exporter": "python",
   "pygments_lexer": "ipython3",
   "version": "3.8.10"
  }
 },
 "nbformat": 4,
 "nbformat_minor": 4
}
