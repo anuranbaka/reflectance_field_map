{
 "cells": [
  {
   "cell_type": "code",
   "execution_count": null,
   "metadata": {},
   "outputs": [],
   "source": [
    "# I never finshed this, but I was receating the 2013 paper for comparison with the 2023 paper. \n",
    "# Despite being unfinished, the comments and pseudocode here describe what might be the very simplest way to \n",
    "# recreate the 2013 paper.\n",
    "class image:\n",
    "    active\n",
    "    stored.center\n",
    "    stored.width\n",
    "    center\n",
    "    width\n",
    "\n",
    "def classic(rays):\n",
    "    # Do the paper in VisAGGE 2013, but in batch mode, since I'm not feeling like bothering doing it online\n",
    "    # The basic update is:\n",
    "    # 1. The first ray in a cell sets the center angle, and width becomes the min_width (1/2**19 is a good min_width)\n",
    "    # 2. Subsequent rays check if they are more than width away from the center angle \n",
    "    #    2.a. if so, they update by splitting the difference between moving the center and increasing the width, and adding min_width\n",
    "    # 3. Cells with a width > stored.width are copied to stored\n",
    "    # 4. Cells without a hit within a certain time are reset to 0 width\n",
    "    allx = np.hstack((rays['ex'].ravel(),rays['sx'].ravel()))\n",
    "    ally = np.hstack((rays['ex'].ravel(),rays['sx'].ravel()))\n",
    "    xmin = np.min(allx)\n",
    "    xmax = np.max(allx)\n",
    "    ymin = np.min(ally)\n",
    "    ymax = np.max(ally)\n",
    "    image = make_image(xmin,xmax,ymin,ymax)\n",
    "    T_px_w = make_transform(xmin,xmax,ymin,ymax)\n",
    "    \n"
   ]
  }
 ],
 "metadata": {
  "kernelspec": {
   "display_name": "Python 3",
   "language": "python",
   "name": "python3"
  },
  "language_info": {
   "codemirror_mode": {
    "name": "ipython",
    "version": 3
   },
   "file_extension": ".py",
   "mimetype": "text/x-python",
   "name": "python",
   "nbconvert_exporter": "python",
   "pygments_lexer": "ipython3",
   "version": "3.8.10"
  }
 },
 "nbformat": 4,
 "nbformat_minor": 4
}
